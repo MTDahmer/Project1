{
 "cells": [
  {
   "cell_type": "code",
   "execution_count": 61,
   "metadata": {},
   "outputs": [
    {
     "name": "stdout",
     "output_type": "stream",
     "text": [
      "2865\n",
      "2288\n",
      "     State  Year      Month  Total Deaths  Drug Deaths\n",
      "0       AK  2015    January          4034          126\n",
      "1       AK  2015   February          4084          127\n",
      "2       AK  2015      March          4101          125\n",
      "3       NM  2018    January         18147          489\n",
      "4       AK  2015      April          4133          126\n",
      "5       AK  2015        May          4196          125\n",
      "6       NM  2018   February         18148          486\n",
      "7       NM  2018      March         18178          485\n",
      "8       NM  2018      April         18162          482\n",
      "9       AK  2015       June          4201          121\n",
      "10      NM  2018        May         18028          478\n",
      "11      NM  2018       June         18143          498\n",
      "12      AK  2015       July          4220          117\n",
      "13      AK  2015     August          4222          124\n",
      "14      AK  2015  September          4242          125\n",
      "15      AK  2015    October          4241          120\n",
      "16      AK  2015   November          4219          115\n",
      "17      AK  2015   December          4193          121\n",
      "18      AK  2016    January          4213          126\n",
      "19      AK  2016   February          4198          128\n",
      "20      AK  2016      March          4230          125\n",
      "21      AK  2016      April          4262          132\n",
      "22      AK  2016        May          4241          140\n",
      "23      AK  2016       June          4261          138\n",
      "24      AK  2016       July          4269          143\n",
      "25      AK  2016     August          4276          138\n",
      "26      AK  2016  September          4256          131\n",
      "27      AK  2016    October          4291          131\n",
      "28      AK  2016   November          4289          133\n",
      "29      AK  2016   December          4355          129\n",
      "...    ...   ...        ...           ...          ...\n",
      "2258    WY  2016        May          4404           94\n",
      "2259    WY  2016       June          4430          101\n",
      "2260    WY  2016       July          4387           99\n",
      "2261    WY  2016     August          4395           95\n",
      "2262    WY  2016  September          4358           93\n",
      "2263    WY  2016    October          4365           94\n",
      "2264    WY  2016   November          4337           94\n",
      "2265    WY  2016   December          4347           93\n",
      "2266    WY  2017    January          4352           91\n",
      "2267    WY  2017   February          4339           90\n",
      "2268    WY  2017      March          4346           82\n",
      "2269    WY  2017      April          4380           80\n",
      "2270    WY  2017        May          4383           73\n",
      "2271    WY  2017       June          4323           64\n",
      "2272    WY  2017       July          4321           62\n",
      "2273    WY  2017     August          4297           64\n",
      "2274    WY  2017  September          4332           62\n",
      "2275    WY  2017    October          4354           66\n",
      "2276    WY  2017   November          4380           71\n",
      "2277    WY  2017   December          4374           66\n",
      "2278    WY  2018    January          4425           63\n",
      "2279    WY  2018   February          4431           64\n",
      "2280    WY  2018      March          4456           65\n",
      "2281    WY  2018      April          4447           66\n",
      "2282    WY  2018        May          4447           64\n",
      "2283    VA  2018     August         68066         1400\n",
      "2284    WA  2018     August         56989         1082\n",
      "2285    WI  2018     August         53631         1075\n",
      "2286    WV  2018     August         23046          776\n",
      "2287    WY  2018     August          4512           64\n",
      "\n",
      "[2288 rows x 5 columns]\n"
     ]
    }
   ],
   "source": [
    "import pandas as pd\n",
    "import csv\n",
    "import matplotlib.pyplot as plt\n",
    "import os\n",
    "import sys\n",
    "import numpy as np\n",
    "\n",
    "csv1 = '../Presentation/clean/cleaned_overdose.csv'\n",
    "csv2 = '../Presentation/clean/op_final_15.csv'\n",
    "csv3 = '../Presentation/clean/op_final_16.csv'\n",
    "csv4 = '../Presentation/clean/pcgroup_15.csv'\n",
    "csv5 = '../Presentation/clean/pcgroup_16.csv'\n",
    "\n",
    "clean_od = pd.read_csv(csv1)\n",
    "op_final_15 = pd.read_csv(csv2)\n",
    "op_final_16 = pd.read_csv(csv3)\n",
    "pcgroup_15 = pd.read_csv(csv4)\n",
    "pcgroup_16 = pd.read_csv(csv5)\n",
    "print(len(clean_od))\n",
    "clean_od = clean_od.drop_duplicates(subset = ['State' , 'Year' , 'Month'])\n",
    "tester =  clean_od.set_index('State')\n",
    "tester2 = tester.drop(labels = 'YC' , axis = 0)\n",
    "print(len(tester2))\n",
    "clean_od = tester2.reset_index()\n",
    "print(clean_od)"
   ]
  },
  {
   "cell_type": "code",
   "execution_count": null,
   "metadata": {},
   "outputs": [],
   "source": []
  },
  {
   "cell_type": "code",
   "execution_count": 62,
   "metadata": {},
   "outputs": [
    {
     "data": {
      "text/plain": [
       "624"
      ]
     },
     "execution_count": 62,
     "metadata": {},
     "output_type": "execute_result"
    }
   ],
   "source": [
    "clean_od = clean_od.set_index(clean_od['Year'])\n",
    "od2015 = clean_od.loc[2015]\n",
    "od2016 = clean_od.loc[2016]\n",
    "od2015 = pd.DataFrame(od2015)\n",
    "od2016 = pd.DataFrame(od2016)\n",
    "od2015.to_csv(path_or_buf = '../Presentation/clean/clean_od15.csv')\n",
    "od2016.to_csv(path_or_buf = '../Presentation/clean/clean_od16.csv')\n",
    "od2015 = od2015.drop_duplicates()\n",
    "test = od2015.groupby('State').sum()\n",
    "len(od2015)"
   ]
  }
 ],
 "metadata": {
  "kernelspec": {
   "display_name": "Python 3",
   "language": "python",
   "name": "python3"
  },
  "language_info": {
   "codemirror_mode": {
    "name": "ipython",
    "version": 3
   },
   "file_extension": ".py",
   "mimetype": "text/x-python",
   "name": "python",
   "nbconvert_exporter": "python",
   "pygments_lexer": "ipython3",
   "version": "3.7.1"
  }
 },
 "nbformat": 4,
 "nbformat_minor": 2
}

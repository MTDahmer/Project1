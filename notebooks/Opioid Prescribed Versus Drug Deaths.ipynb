{
 "cells": [
  {
   "cell_type": "code",
   "execution_count": 1,
   "metadata": {},
   "outputs": [],
   "source": [
    "import pandas as pd\n",
    "import csv\n",
    "import matplotlib.pyplot as plt\n",
    "import os\n",
    "import sys\n",
    "import numpy as np\n",
    "import seaborn as sns\n",
    "\n",
    "csv0 = '../Presentation/clean/clean_od15.csv'\n",
    "clean_od_2015 = pd.read_csv(csv0)\n",
    "\n",
    "csv1 = '../Presentation/clean/clean_od16.csv'\n",
    "clean_od_2016 = pd.read_csv(csv1)\n",
    "\n",
    "csv2 = '../Presentation/clean/op_final_15.csv'\n",
    "op_final_15 = pd.read_csv(csv2)\n",
    "\n",
    "csv3 = '../Presentation/clean/op_final_16.csv'\n",
    "op_final_16 = pd.read_csv(csv3)\n",
    "\n",
    "csv4 = '../Presentation/clean/PAC_Scores_2015.csv'\n",
    "PAC_Scores_2015 = pd.read_csv(csv4)\n",
    "\n",
    "csv5 = '../Presentation/clean/PAC_Scores_2016_f.csv'\n",
    "PAC_Scores_2016 = pd.read_csv(csv5)\n",
    "\n",
    "csv6 = '../Presentation/clean/PAC_Scores_2016_f.csv'\n",
    "PAC_Scores_2016 = pd.read_csv(csv6)\n",
    "\n",
    "csv7 = '../Presentation/clean/op_pac_final_15.csv'\n",
    "op_pac_final_15 = pd.read_csv(csv7)\n",
    "\n",
    "csv8 = '../Presentation/clean/op_pac_final_16.csv'\n",
    "op_pac_final_16 = pd.read_csv(csv8)\n",
    "\n",
    "csv9 = '../Presentation/clean/state_op_final_15.csv'\n",
    "state_op_final_15 = pd.read_csv(csv9)\n",
    "\n",
    "csv10 = '../Presentation/clean/state_op_final_16.csv'\n",
    "state_op_final_16 = pd.read_csv(csv10)\n",
    "\n",
    "csv11 = '../Presentation/Clean/physician_ratings_bypac_15'\n",
    "phys_ratings15_pac = pd.read_csv(csv11)\n",
    "\n",
    "csv12 = '../Presentation/Clean/physician_ratings_bypac_16'\n",
    "phys_ratings16_pac = pd.read_csv(csv12)"
   ]
  },
  {
   "cell_type": "code",
   "execution_count": 2,
   "metadata": {},
   "outputs": [],
   "source": [
    "output1 = '../Presentation/Clean/merged_ratings_prescribed_15'\n",
    "output2 = '../Presentation/Clean/merged_ratings_prescribed_16'"
   ]
  },
  {
   "cell_type": "code",
   "execution_count": 3,
   "metadata": {},
   "outputs": [
    {
     "data": {
      "text/html": [
       "<div>\n",
       "<style scoped>\n",
       "    .dataframe tbody tr th:only-of-type {\n",
       "        vertical-align: middle;\n",
       "    }\n",
       "\n",
       "    .dataframe tbody tr th {\n",
       "        vertical-align: top;\n",
       "    }\n",
       "\n",
       "    .dataframe thead th {\n",
       "        text-align: right;\n",
       "    }\n",
       "</style>\n",
       "<table border=\"1\" class=\"dataframe\">\n",
       "  <thead>\n",
       "    <tr style=\"text-align: right;\">\n",
       "      <th></th>\n",
       "      <th>Group PAC ID</th>\n",
       "      <th>Measure Performance Rate</th>\n",
       "      <th>Year</th>\n",
       "      <th>State</th>\n",
       "    </tr>\n",
       "  </thead>\n",
       "  <tbody>\n",
       "    <tr>\n",
       "      <th>0</th>\n",
       "      <td>42105678</td>\n",
       "      <td>65.875</td>\n",
       "      <td>2015</td>\n",
       "      <td>PA</td>\n",
       "    </tr>\n",
       "    <tr>\n",
       "      <th>1</th>\n",
       "      <td>42111981</td>\n",
       "      <td>60.750</td>\n",
       "      <td>2015</td>\n",
       "      <td>MN</td>\n",
       "    </tr>\n",
       "    <tr>\n",
       "      <th>2</th>\n",
       "      <td>42128548</td>\n",
       "      <td>65.125</td>\n",
       "      <td>2015</td>\n",
       "      <td>TX</td>\n",
       "    </tr>\n",
       "    <tr>\n",
       "      <th>3</th>\n",
       "      <td>143378117</td>\n",
       "      <td>67.375</td>\n",
       "      <td>2015</td>\n",
       "      <td>NC</td>\n",
       "    </tr>\n",
       "    <tr>\n",
       "      <th>4</th>\n",
       "      <td>244133494</td>\n",
       "      <td>65.625</td>\n",
       "      <td>2015</td>\n",
       "      <td>MA</td>\n",
       "    </tr>\n",
       "  </tbody>\n",
       "</table>\n",
       "</div>"
      ],
      "text/plain": [
       "   Group PAC ID  Measure Performance Rate  Year State\n",
       "0      42105678                    65.875  2015    PA\n",
       "1      42111981                    60.750  2015    MN\n",
       "2      42128548                    65.125  2015    TX\n",
       "3     143378117                    67.375  2015    NC\n",
       "4     244133494                    65.625  2015    MA"
      ]
     },
     "execution_count": 3,
     "metadata": {},
     "output_type": "execute_result"
    }
   ],
   "source": [
    "PAC_Scores_2015.head()"
   ]
  },
  {
   "cell_type": "code",
   "execution_count": 4,
   "metadata": {},
   "outputs": [],
   "source": [
    "#rename the PAC ID column to match with op_pac_final\n",
    "PAC_Scores_2015 = PAC_Scores_2015.rename(columns={\"Group PAC ID\":\"PAC ID\"})\n",
    "#rename the PAC ID column for the 2016 file as well\n",
    "PAC_Scores_2016 = PAC_Scores_2016.rename(columns={\"Group PAC ID\":\"PAC ID\"})"
   ]
  },
  {
   "cell_type": "code",
   "execution_count": 5,
   "metadata": {},
   "outputs": [
    {
     "data": {
      "text/html": [
       "<div>\n",
       "<style scoped>\n",
       "    .dataframe tbody tr th:only-of-type {\n",
       "        vertical-align: middle;\n",
       "    }\n",
       "\n",
       "    .dataframe tbody tr th {\n",
       "        vertical-align: top;\n",
       "    }\n",
       "\n",
       "    .dataframe thead th {\n",
       "        text-align: right;\n",
       "    }\n",
       "</style>\n",
       "<table border=\"1\" class=\"dataframe\">\n",
       "  <thead>\n",
       "    <tr style=\"text-align: right;\">\n",
       "      <th></th>\n",
       "      <th>PAC ID</th>\n",
       "      <th>Measure Performance Rate</th>\n",
       "      <th>Year</th>\n",
       "      <th>State</th>\n",
       "    </tr>\n",
       "  </thead>\n",
       "  <tbody>\n",
       "    <tr>\n",
       "      <th>0</th>\n",
       "      <td>42105678</td>\n",
       "      <td>65.875</td>\n",
       "      <td>2015</td>\n",
       "      <td>PA</td>\n",
       "    </tr>\n",
       "    <tr>\n",
       "      <th>1</th>\n",
       "      <td>42111981</td>\n",
       "      <td>60.750</td>\n",
       "      <td>2015</td>\n",
       "      <td>MN</td>\n",
       "    </tr>\n",
       "    <tr>\n",
       "      <th>2</th>\n",
       "      <td>42128548</td>\n",
       "      <td>65.125</td>\n",
       "      <td>2015</td>\n",
       "      <td>TX</td>\n",
       "    </tr>\n",
       "    <tr>\n",
       "      <th>3</th>\n",
       "      <td>143378117</td>\n",
       "      <td>67.375</td>\n",
       "      <td>2015</td>\n",
       "      <td>NC</td>\n",
       "    </tr>\n",
       "    <tr>\n",
       "      <th>4</th>\n",
       "      <td>244133494</td>\n",
       "      <td>65.625</td>\n",
       "      <td>2015</td>\n",
       "      <td>MA</td>\n",
       "    </tr>\n",
       "  </tbody>\n",
       "</table>\n",
       "</div>"
      ],
      "text/plain": [
       "      PAC ID  Measure Performance Rate  Year State\n",
       "0   42105678                    65.875  2015    PA\n",
       "1   42111981                    60.750  2015    MN\n",
       "2   42128548                    65.125  2015    TX\n",
       "3  143378117                    67.375  2015    NC\n",
       "4  244133494                    65.625  2015    MA"
      ]
     },
     "execution_count": 5,
     "metadata": {},
     "output_type": "execute_result"
    }
   ],
   "source": [
    "PAC_Scores_2015.head()"
   ]
  },
  {
   "cell_type": "code",
   "execution_count": 6,
   "metadata": {},
   "outputs": [
    {
     "data": {
      "text/html": [
       "<div>\n",
       "<style scoped>\n",
       "    .dataframe tbody tr th:only-of-type {\n",
       "        vertical-align: middle;\n",
       "    }\n",
       "\n",
       "    .dataframe tbody tr th {\n",
       "        vertical-align: top;\n",
       "    }\n",
       "\n",
       "    .dataframe thead th {\n",
       "        text-align: right;\n",
       "    }\n",
       "</style>\n",
       "<table border=\"1\" class=\"dataframe\">\n",
       "  <thead>\n",
       "    <tr style=\"text-align: right;\">\n",
       "      <th></th>\n",
       "      <th>PAC ID</th>\n",
       "      <th>Measure Performance Rate</th>\n",
       "    </tr>\n",
       "  </thead>\n",
       "  <tbody>\n",
       "    <tr>\n",
       "      <th>0</th>\n",
       "      <td>42105678</td>\n",
       "      <td>65.875</td>\n",
       "    </tr>\n",
       "    <tr>\n",
       "      <th>1</th>\n",
       "      <td>42111981</td>\n",
       "      <td>60.750</td>\n",
       "    </tr>\n",
       "    <tr>\n",
       "      <th>2</th>\n",
       "      <td>42128548</td>\n",
       "      <td>65.125</td>\n",
       "    </tr>\n",
       "    <tr>\n",
       "      <th>3</th>\n",
       "      <td>143378117</td>\n",
       "      <td>67.375</td>\n",
       "    </tr>\n",
       "    <tr>\n",
       "      <th>4</th>\n",
       "      <td>244133494</td>\n",
       "      <td>65.625</td>\n",
       "    </tr>\n",
       "  </tbody>\n",
       "</table>\n",
       "</div>"
      ],
      "text/plain": [
       "      PAC ID  Measure Performance Rate\n",
       "0   42105678                    65.875\n",
       "1   42111981                    60.750\n",
       "2   42128548                    65.125\n",
       "3  143378117                    67.375\n",
       "4  244133494                    65.625"
      ]
     },
     "execution_count": 6,
     "metadata": {},
     "output_type": "execute_result"
    }
   ],
   "source": [
    "#clean PAC '15 scores to only include PAC ID for merge\n",
    "pac_ratings_15 = PAC_Scores_2015[[\"PAC ID\",\"Measure Performance Rate\"]]\n",
    "#clean PAC '16 scores to only include PAC ID of merge\n",
    "pac_ratings_16 = PAC_Scores_2016[[\"PAC ID\",\"Measure Performance Rate\"]]\n",
    "\n",
    "\n",
    "pac_ratings_15.head()"
   ]
  },
  {
   "cell_type": "code",
   "execution_count": 7,
   "metadata": {},
   "outputs": [],
   "source": [
    "#pac_ratings_15.sort_values(\"Measure Performance Rate\", ascending=False)"
   ]
  },
  {
   "cell_type": "code",
   "execution_count": 8,
   "metadata": {},
   "outputs": [
    {
     "data": {
      "text/plain": [
       "PAC ID                        int64\n",
       "Measure Performance Rate    float64\n",
       "dtype: object"
      ]
     },
     "execution_count": 8,
     "metadata": {},
     "output_type": "execute_result"
    }
   ],
   "source": [
    "pac_ratings_15.dtypes"
   ]
  },
  {
   "cell_type": "code",
   "execution_count": 9,
   "metadata": {},
   "outputs": [
    {
     "data": {
      "text/html": [
       "<div>\n",
       "<style scoped>\n",
       "    .dataframe tbody tr th:only-of-type {\n",
       "        vertical-align: middle;\n",
       "    }\n",
       "\n",
       "    .dataframe tbody tr th {\n",
       "        vertical-align: top;\n",
       "    }\n",
       "\n",
       "    .dataframe thead th {\n",
       "        text-align: right;\n",
       "    }\n",
       "</style>\n",
       "<table border=\"1\" class=\"dataframe\">\n",
       "  <thead>\n",
       "    <tr style=\"text-align: right;\">\n",
       "      <th></th>\n",
       "      <th>PAC ID</th>\n",
       "      <th>Total Claim Count</th>\n",
       "      <th>Opioid Claim Count</th>\n",
       "      <th>Opioid Prescribing Rate</th>\n",
       "      <th>State</th>\n",
       "    </tr>\n",
       "  </thead>\n",
       "  <tbody>\n",
       "    <tr>\n",
       "      <th>0</th>\n",
       "      <td>42100190.0</td>\n",
       "      <td>241.0</td>\n",
       "      <td>68.0</td>\n",
       "      <td>28.22</td>\n",
       "      <td>MI</td>\n",
       "    </tr>\n",
       "    <tr>\n",
       "      <th>1</th>\n",
       "      <td>42100273.0</td>\n",
       "      <td>232.0</td>\n",
       "      <td>22.0</td>\n",
       "      <td>9.48</td>\n",
       "      <td>TX</td>\n",
       "    </tr>\n",
       "    <tr>\n",
       "      <th>2</th>\n",
       "      <td>42101156.0</td>\n",
       "      <td>620.0</td>\n",
       "      <td>38.0</td>\n",
       "      <td>6.13</td>\n",
       "      <td>NV</td>\n",
       "    </tr>\n",
       "    <tr>\n",
       "      <th>3</th>\n",
       "      <td>42101164.0</td>\n",
       "      <td>336.0</td>\n",
       "      <td>56.0</td>\n",
       "      <td>16.67</td>\n",
       "      <td>MI</td>\n",
       "    </tr>\n",
       "    <tr>\n",
       "      <th>4</th>\n",
       "      <td>42101446.0</td>\n",
       "      <td>682.0</td>\n",
       "      <td>228.0</td>\n",
       "      <td>33.43</td>\n",
       "      <td>IL</td>\n",
       "    </tr>\n",
       "  </tbody>\n",
       "</table>\n",
       "</div>"
      ],
      "text/plain": [
       "       PAC ID  Total Claim Count  Opioid Claim Count  Opioid Prescribing Rate  \\\n",
       "0  42100190.0              241.0                68.0                    28.22   \n",
       "1  42100273.0              232.0                22.0                     9.48   \n",
       "2  42101156.0              620.0                38.0                     6.13   \n",
       "3  42101164.0              336.0                56.0                    16.67   \n",
       "4  42101446.0              682.0               228.0                    33.43   \n",
       "\n",
       "  State  \n",
       "0    MI  \n",
       "1    TX  \n",
       "2    NV  \n",
       "3    MI  \n",
       "4    IL  "
      ]
     },
     "execution_count": 9,
     "metadata": {},
     "output_type": "execute_result"
    }
   ],
   "source": [
    "op_pac_final_15.head()"
   ]
  },
  {
   "cell_type": "code",
   "execution_count": 10,
   "metadata": {},
   "outputs": [],
   "source": [
    "#change the PAC ID data type from a float to int64 to match for 2015\n",
    "op_pac_final_15[\"PAC ID\"] = op_pac_final_15[\"PAC ID\"].astype(np.int64)\n",
    "#change the PAC ID data type from a float to int64 to match for 2016\n",
    "op_pac_final_16[\"PAC ID\"] = op_pac_final_16[\"PAC ID\"].astype(np.int64)"
   ]
  },
  {
   "cell_type": "code",
   "execution_count": 11,
   "metadata": {},
   "outputs": [
    {
     "data": {
      "text/plain": [
       "PAC ID                       int64\n",
       "Total Claim Count          float64\n",
       "Opioid Claim Count         float64\n",
       "Opioid Prescribing Rate    float64\n",
       "State                       object\n",
       "dtype: object"
      ]
     },
     "execution_count": 11,
     "metadata": {},
     "output_type": "execute_result"
    }
   ],
   "source": [
    "op_pac_final_15.dtypes"
   ]
  },
  {
   "cell_type": "code",
   "execution_count": 12,
   "metadata": {},
   "outputs": [
    {
     "data": {
      "text/html": [
       "<div>\n",
       "<style scoped>\n",
       "    .dataframe tbody tr th:only-of-type {\n",
       "        vertical-align: middle;\n",
       "    }\n",
       "\n",
       "    .dataframe tbody tr th {\n",
       "        vertical-align: top;\n",
       "    }\n",
       "\n",
       "    .dataframe thead th {\n",
       "        text-align: right;\n",
       "    }\n",
       "</style>\n",
       "<table border=\"1\" class=\"dataframe\">\n",
       "  <thead>\n",
       "    <tr style=\"text-align: right;\">\n",
       "      <th></th>\n",
       "      <th>PAC ID</th>\n",
       "      <th>Total Claim Count</th>\n",
       "      <th>Opioid Claim Count</th>\n",
       "      <th>Opioid Prescribing Rate</th>\n",
       "      <th>State</th>\n",
       "    </tr>\n",
       "  </thead>\n",
       "  <tbody>\n",
       "    <tr>\n",
       "      <th>0</th>\n",
       "      <td>42100190</td>\n",
       "      <td>241.0</td>\n",
       "      <td>68.0</td>\n",
       "      <td>28.22</td>\n",
       "      <td>MI</td>\n",
       "    </tr>\n",
       "    <tr>\n",
       "      <th>1</th>\n",
       "      <td>42100273</td>\n",
       "      <td>232.0</td>\n",
       "      <td>22.0</td>\n",
       "      <td>9.48</td>\n",
       "      <td>TX</td>\n",
       "    </tr>\n",
       "    <tr>\n",
       "      <th>2</th>\n",
       "      <td>42101156</td>\n",
       "      <td>620.0</td>\n",
       "      <td>38.0</td>\n",
       "      <td>6.13</td>\n",
       "      <td>NV</td>\n",
       "    </tr>\n",
       "    <tr>\n",
       "      <th>3</th>\n",
       "      <td>42101164</td>\n",
       "      <td>336.0</td>\n",
       "      <td>56.0</td>\n",
       "      <td>16.67</td>\n",
       "      <td>MI</td>\n",
       "    </tr>\n",
       "    <tr>\n",
       "      <th>4</th>\n",
       "      <td>42101446</td>\n",
       "      <td>682.0</td>\n",
       "      <td>228.0</td>\n",
       "      <td>33.43</td>\n",
       "      <td>IL</td>\n",
       "    </tr>\n",
       "  </tbody>\n",
       "</table>\n",
       "</div>"
      ],
      "text/plain": [
       "     PAC ID  Total Claim Count  Opioid Claim Count  Opioid Prescribing Rate  \\\n",
       "0  42100190              241.0                68.0                    28.22   \n",
       "1  42100273              232.0                22.0                     9.48   \n",
       "2  42101156              620.0                38.0                     6.13   \n",
       "3  42101164              336.0                56.0                    16.67   \n",
       "4  42101446              682.0               228.0                    33.43   \n",
       "\n",
       "  State  \n",
       "0    MI  \n",
       "1    TX  \n",
       "2    NV  \n",
       "3    MI  \n",
       "4    IL  "
      ]
     },
     "execution_count": 12,
     "metadata": {},
     "output_type": "execute_result"
    }
   ],
   "source": [
    "op_pac_final_15.head()"
   ]
  },
  {
   "cell_type": "code",
   "execution_count": 13,
   "metadata": {},
   "outputs": [
    {
     "data": {
      "text/html": [
       "<div>\n",
       "<style scoped>\n",
       "    .dataframe tbody tr th:only-of-type {\n",
       "        vertical-align: middle;\n",
       "    }\n",
       "\n",
       "    .dataframe tbody tr th {\n",
       "        vertical-align: top;\n",
       "    }\n",
       "\n",
       "    .dataframe thead th {\n",
       "        text-align: right;\n",
       "    }\n",
       "</style>\n",
       "<table border=\"1\" class=\"dataframe\">\n",
       "  <thead>\n",
       "    <tr style=\"text-align: right;\">\n",
       "      <th></th>\n",
       "      <th>PAC ID</th>\n",
       "      <th>Total Claim Count</th>\n",
       "      <th>Opioid Claim Count</th>\n",
       "      <th>Opioid Prescribing Rate</th>\n",
       "      <th>State</th>\n",
       "      <th>Measure Performance Rate</th>\n",
       "    </tr>\n",
       "  </thead>\n",
       "  <tbody>\n",
       "    <tr>\n",
       "      <th>0</th>\n",
       "      <td>42100190</td>\n",
       "      <td>241.0</td>\n",
       "      <td>68.0</td>\n",
       "      <td>28.22</td>\n",
       "      <td>MI</td>\n",
       "      <td>NaN</td>\n",
       "    </tr>\n",
       "    <tr>\n",
       "      <th>1</th>\n",
       "      <td>42100273</td>\n",
       "      <td>232.0</td>\n",
       "      <td>22.0</td>\n",
       "      <td>9.48</td>\n",
       "      <td>TX</td>\n",
       "      <td>NaN</td>\n",
       "    </tr>\n",
       "    <tr>\n",
       "      <th>2</th>\n",
       "      <td>42101156</td>\n",
       "      <td>620.0</td>\n",
       "      <td>38.0</td>\n",
       "      <td>6.13</td>\n",
       "      <td>NV</td>\n",
       "      <td>NaN</td>\n",
       "    </tr>\n",
       "    <tr>\n",
       "      <th>3</th>\n",
       "      <td>42101164</td>\n",
       "      <td>336.0</td>\n",
       "      <td>56.0</td>\n",
       "      <td>16.67</td>\n",
       "      <td>MI</td>\n",
       "      <td>NaN</td>\n",
       "    </tr>\n",
       "    <tr>\n",
       "      <th>4</th>\n",
       "      <td>42101446</td>\n",
       "      <td>682.0</td>\n",
       "      <td>228.0</td>\n",
       "      <td>33.43</td>\n",
       "      <td>IL</td>\n",
       "      <td>NaN</td>\n",
       "    </tr>\n",
       "  </tbody>\n",
       "</table>\n",
       "</div>"
      ],
      "text/plain": [
       "     PAC ID  Total Claim Count  Opioid Claim Count  Opioid Prescribing Rate  \\\n",
       "0  42100190              241.0                68.0                    28.22   \n",
       "1  42100273              232.0                22.0                     9.48   \n",
       "2  42101156              620.0                38.0                     6.13   \n",
       "3  42101164              336.0                56.0                    16.67   \n",
       "4  42101446              682.0               228.0                    33.43   \n",
       "\n",
       "  State  Measure Performance Rate  \n",
       "0    MI                       NaN  \n",
       "1    TX                       NaN  \n",
       "2    NV                       NaN  \n",
       "3    MI                       NaN  \n",
       "4    IL                       NaN  "
      ]
     },
     "execution_count": 13,
     "metadata": {},
     "output_type": "execute_result"
    }
   ],
   "source": [
    "#merge our pac '15 data with our 2015 Opioid data by PAC\n",
    "merged_pac_15 = op_pac_final_15.merge(pac_ratings_15, on=\"PAC ID\", how=\"outer\")\n",
    "merged_pac_15.head()"
   ]
  },
  {
   "cell_type": "code",
   "execution_count": 14,
   "metadata": {},
   "outputs": [
    {
     "data": {
      "text/html": [
       "<div>\n",
       "<style scoped>\n",
       "    .dataframe tbody tr th:only-of-type {\n",
       "        vertical-align: middle;\n",
       "    }\n",
       "\n",
       "    .dataframe tbody tr th {\n",
       "        vertical-align: top;\n",
       "    }\n",
       "\n",
       "    .dataframe thead th {\n",
       "        text-align: right;\n",
       "    }\n",
       "</style>\n",
       "<table border=\"1\" class=\"dataframe\">\n",
       "  <thead>\n",
       "    <tr style=\"text-align: right;\">\n",
       "      <th></th>\n",
       "      <th>PAC ID</th>\n",
       "      <th>Total Claim Count</th>\n",
       "      <th>Opioid Claim Count</th>\n",
       "      <th>Opioid Prescribing Rate</th>\n",
       "      <th>State</th>\n",
       "      <th>Measure Performance Rate</th>\n",
       "    </tr>\n",
       "  </thead>\n",
       "  <tbody>\n",
       "    <tr>\n",
       "      <th>0</th>\n",
       "      <td>42100190</td>\n",
       "      <td>241.0</td>\n",
       "      <td>68.0</td>\n",
       "      <td>28.22</td>\n",
       "      <td>MI</td>\n",
       "      <td>NaN</td>\n",
       "    </tr>\n",
       "    <tr>\n",
       "      <th>1</th>\n",
       "      <td>42100273</td>\n",
       "      <td>232.0</td>\n",
       "      <td>22.0</td>\n",
       "      <td>9.48</td>\n",
       "      <td>TX</td>\n",
       "      <td>NaN</td>\n",
       "    </tr>\n",
       "    <tr>\n",
       "      <th>2</th>\n",
       "      <td>42101156</td>\n",
       "      <td>620.0</td>\n",
       "      <td>38.0</td>\n",
       "      <td>6.13</td>\n",
       "      <td>NV</td>\n",
       "      <td>NaN</td>\n",
       "    </tr>\n",
       "    <tr>\n",
       "      <th>3</th>\n",
       "      <td>42101164</td>\n",
       "      <td>336.0</td>\n",
       "      <td>56.0</td>\n",
       "      <td>16.67</td>\n",
       "      <td>MI</td>\n",
       "      <td>NaN</td>\n",
       "    </tr>\n",
       "    <tr>\n",
       "      <th>4</th>\n",
       "      <td>42101446</td>\n",
       "      <td>682.0</td>\n",
       "      <td>228.0</td>\n",
       "      <td>33.43</td>\n",
       "      <td>IL</td>\n",
       "      <td>NaN</td>\n",
       "    </tr>\n",
       "  </tbody>\n",
       "</table>\n",
       "</div>"
      ],
      "text/plain": [
       "     PAC ID  Total Claim Count  Opioid Claim Count  Opioid Prescribing Rate  \\\n",
       "0  42100190              241.0                68.0                    28.22   \n",
       "1  42100273              232.0                22.0                     9.48   \n",
       "2  42101156              620.0                38.0                     6.13   \n",
       "3  42101164              336.0                56.0                    16.67   \n",
       "4  42101446              682.0               228.0                    33.43   \n",
       "\n",
       "  State  Measure Performance Rate  \n",
       "0    MI                       NaN  \n",
       "1    TX                       NaN  \n",
       "2    NV                       NaN  \n",
       "3    MI                       NaN  \n",
       "4    IL                       NaN  "
      ]
     },
     "execution_count": 14,
     "metadata": {},
     "output_type": "execute_result"
    }
   ],
   "source": [
    "merged_pac_15.head()"
   ]
  },
  {
   "cell_type": "code",
   "execution_count": 15,
   "metadata": {},
   "outputs": [
    {
     "data": {
      "text/plain": [
       "14853"
      ]
     },
     "execution_count": 15,
     "metadata": {},
     "output_type": "execute_result"
    }
   ],
   "source": [
    "len(op_pac_final_15)"
   ]
  },
  {
   "cell_type": "code",
   "execution_count": 16,
   "metadata": {},
   "outputs": [
    {
     "data": {
      "text/plain": [
       "15282"
      ]
     },
     "execution_count": 16,
     "metadata": {},
     "output_type": "execute_result"
    }
   ],
   "source": [
    "len(merged_pac_15)"
   ]
  },
  {
   "cell_type": "code",
   "execution_count": 17,
   "metadata": {},
   "outputs": [
    {
     "data": {
      "text/html": [
       "<div>\n",
       "<style scoped>\n",
       "    .dataframe tbody tr th:only-of-type {\n",
       "        vertical-align: middle;\n",
       "    }\n",
       "\n",
       "    .dataframe tbody tr th {\n",
       "        vertical-align: top;\n",
       "    }\n",
       "\n",
       "    .dataframe thead th {\n",
       "        text-align: right;\n",
       "    }\n",
       "</style>\n",
       "<table border=\"1\" class=\"dataframe\">\n",
       "  <thead>\n",
       "    <tr style=\"text-align: right;\">\n",
       "      <th></th>\n",
       "      <th>PAC ID</th>\n",
       "      <th>Total Claim Count</th>\n",
       "      <th>Opioid Claim Count</th>\n",
       "      <th>Opioid Prescribing Rate</th>\n",
       "      <th>State</th>\n",
       "      <th>Measure Performance Rate</th>\n",
       "    </tr>\n",
       "  </thead>\n",
       "  <tbody>\n",
       "  </tbody>\n",
       "</table>\n",
       "</div>"
      ],
      "text/plain": [
       "Empty DataFrame\n",
       "Columns: [PAC ID, Total Claim Count, Opioid Claim Count, Opioid Prescribing Rate, State, Measure Performance Rate]\n",
       "Index: []"
      ]
     },
     "execution_count": 17,
     "metadata": {},
     "output_type": "execute_result"
    }
   ],
   "source": [
    "#drop NA values from our file\n",
    "merged_pac_15clean = merged_pac_15.dropna(axis=0, how='any')\n",
    "merged_pac_15clean.head()"
   ]
  },
  {
   "cell_type": "code",
   "execution_count": 18,
   "metadata": {},
   "outputs": [
    {
     "data": {
      "text/html": [
       "<div>\n",
       "<style scoped>\n",
       "    .dataframe tbody tr th:only-of-type {\n",
       "        vertical-align: middle;\n",
       "    }\n",
       "\n",
       "    .dataframe tbody tr th {\n",
       "        vertical-align: top;\n",
       "    }\n",
       "\n",
       "    .dataframe thead th {\n",
       "        text-align: right;\n",
       "    }\n",
       "</style>\n",
       "<table border=\"1\" class=\"dataframe\">\n",
       "  <thead>\n",
       "    <tr style=\"text-align: right;\">\n",
       "      <th></th>\n",
       "      <th>PAC ID</th>\n",
       "      <th>Total Claim Count</th>\n",
       "      <th>Opioid Claim Count</th>\n",
       "      <th>Opioid Prescribing Rate</th>\n",
       "      <th>State</th>\n",
       "      <th>Measure Performance Rate</th>\n",
       "    </tr>\n",
       "  </thead>\n",
       "  <tbody>\n",
       "    <tr>\n",
       "      <th>0</th>\n",
       "      <td>42100190</td>\n",
       "      <td>241.0</td>\n",
       "      <td>77.0</td>\n",
       "      <td>31.95</td>\n",
       "      <td>MI</td>\n",
       "      <td>NaN</td>\n",
       "    </tr>\n",
       "    <tr>\n",
       "      <th>1</th>\n",
       "      <td>42102618</td>\n",
       "      <td>491.0</td>\n",
       "      <td>226.0</td>\n",
       "      <td>46.03</td>\n",
       "      <td>CA</td>\n",
       "      <td>NaN</td>\n",
       "    </tr>\n",
       "    <tr>\n",
       "      <th>2</th>\n",
       "      <td>42104168</td>\n",
       "      <td>5891.0</td>\n",
       "      <td>216.0</td>\n",
       "      <td>3.67</td>\n",
       "      <td>MN</td>\n",
       "      <td>NaN</td>\n",
       "    </tr>\n",
       "    <tr>\n",
       "      <th>3</th>\n",
       "      <td>42115404</td>\n",
       "      <td>9227.0</td>\n",
       "      <td>30.0</td>\n",
       "      <td>0.33</td>\n",
       "      <td>KY</td>\n",
       "      <td>NaN</td>\n",
       "    </tr>\n",
       "    <tr>\n",
       "      <th>4</th>\n",
       "      <td>42120784</td>\n",
       "      <td>30441.0</td>\n",
       "      <td>988.0</td>\n",
       "      <td>3.25</td>\n",
       "      <td>GA</td>\n",
       "      <td>NaN</td>\n",
       "    </tr>\n",
       "  </tbody>\n",
       "</table>\n",
       "</div>"
      ],
      "text/plain": [
       "     PAC ID  Total Claim Count  Opioid Claim Count  Opioid Prescribing Rate  \\\n",
       "0  42100190              241.0                77.0                    31.95   \n",
       "1  42102618              491.0               226.0                    46.03   \n",
       "2  42104168             5891.0               216.0                     3.67   \n",
       "3  42115404             9227.0                30.0                     0.33   \n",
       "4  42120784            30441.0               988.0                     3.25   \n",
       "\n",
       "  State  Measure Performance Rate  \n",
       "0    MI                       NaN  \n",
       "1    CA                       NaN  \n",
       "2    MN                       NaN  \n",
       "3    KY                       NaN  \n",
       "4    GA                       NaN  "
      ]
     },
     "execution_count": 18,
     "metadata": {},
     "output_type": "execute_result"
    }
   ],
   "source": [
    "#merge our pac '16 data with our 2016 Opioid data by PAC\n",
    "merged_pac_16 = op_pac_final_16.merge(pac_ratings_15, on=\"PAC ID\", how=\"outer\")\n",
    "merged_pac_16.head()"
   ]
  },
  {
   "cell_type": "code",
   "execution_count": 19,
   "metadata": {},
   "outputs": [
    {
     "data": {
      "text/html": [
       "<div>\n",
       "<style scoped>\n",
       "    .dataframe tbody tr th:only-of-type {\n",
       "        vertical-align: middle;\n",
       "    }\n",
       "\n",
       "    .dataframe tbody tr th {\n",
       "        vertical-align: top;\n",
       "    }\n",
       "\n",
       "    .dataframe thead th {\n",
       "        text-align: right;\n",
       "    }\n",
       "</style>\n",
       "<table border=\"1\" class=\"dataframe\">\n",
       "  <thead>\n",
       "    <tr style=\"text-align: right;\">\n",
       "      <th></th>\n",
       "      <th>PAC ID</th>\n",
       "      <th>Total Claim Count</th>\n",
       "      <th>Opioid Claim Count</th>\n",
       "      <th>Opioid Prescribing Rate</th>\n",
       "      <th>State</th>\n",
       "      <th>Measure Performance Rate</th>\n",
       "    </tr>\n",
       "  </thead>\n",
       "  <tbody>\n",
       "  </tbody>\n",
       "</table>\n",
       "</div>"
      ],
      "text/plain": [
       "Empty DataFrame\n",
       "Columns: [PAC ID, Total Claim Count, Opioid Claim Count, Opioid Prescribing Rate, State, Measure Performance Rate]\n",
       "Index: []"
      ]
     },
     "execution_count": 19,
     "metadata": {},
     "output_type": "execute_result"
    }
   ],
   "source": [
    "#drop NA values from our file\n",
    "merged_pac_16clean = merged_pac_16.dropna(axis=0, how='any')\n",
    "merged_pac_16clean.head()"
   ]
  },
  {
   "cell_type": "code",
   "execution_count": 20,
   "metadata": {},
   "outputs": [
    {
     "data": {
      "text/html": [
       "<div>\n",
       "<style scoped>\n",
       "    .dataframe tbody tr th:only-of-type {\n",
       "        vertical-align: middle;\n",
       "    }\n",
       "\n",
       "    .dataframe tbody tr th {\n",
       "        vertical-align: top;\n",
       "    }\n",
       "\n",
       "    .dataframe thead th {\n",
       "        text-align: right;\n",
       "    }\n",
       "</style>\n",
       "<table border=\"1\" class=\"dataframe\">\n",
       "  <thead>\n",
       "    <tr style=\"text-align: right;\">\n",
       "      <th></th>\n",
       "      <th>PAC ID</th>\n",
       "      <th>Measure Performance Rate</th>\n",
       "      <th>Year</th>\n",
       "    </tr>\n",
       "  </thead>\n",
       "  <tbody>\n",
       "    <tr>\n",
       "      <th>0</th>\n",
       "      <td>42100117</td>\n",
       "      <td>47.29</td>\n",
       "      <td>2015</td>\n",
       "    </tr>\n",
       "    <tr>\n",
       "      <th>1</th>\n",
       "      <td>42100190</td>\n",
       "      <td>85.00</td>\n",
       "      <td>2015</td>\n",
       "    </tr>\n",
       "    <tr>\n",
       "      <th>2</th>\n",
       "      <td>42100323</td>\n",
       "      <td>64.60</td>\n",
       "      <td>2015</td>\n",
       "    </tr>\n",
       "    <tr>\n",
       "      <th>3</th>\n",
       "      <td>42100968</td>\n",
       "      <td>100.00</td>\n",
       "      <td>2015</td>\n",
       "    </tr>\n",
       "    <tr>\n",
       "      <th>4</th>\n",
       "      <td>42101156</td>\n",
       "      <td>86.00</td>\n",
       "      <td>2015</td>\n",
       "    </tr>\n",
       "  </tbody>\n",
       "</table>\n",
       "</div>"
      ],
      "text/plain": [
       "     PAC ID  Measure Performance Rate  Year\n",
       "0  42100117                     47.29  2015\n",
       "1  42100190                     85.00  2015\n",
       "2  42100323                     64.60  2015\n",
       "3  42100968                    100.00  2015\n",
       "4  42101156                     86.00  2015"
      ]
     },
     "execution_count": 20,
     "metadata": {},
     "output_type": "execute_result"
    }
   ],
   "source": [
    "#In this exercise we are seeing if our phys_ratings data grouped by PAC ID is able to merge, this data took different measurements than the group ratings above\n",
    "phys_ratings15_pac.head()"
   ]
  },
  {
   "cell_type": "code",
   "execution_count": 21,
   "metadata": {},
   "outputs": [
    {
     "data": {
      "text/html": [
       "<div>\n",
       "<style scoped>\n",
       "    .dataframe tbody tr th:only-of-type {\n",
       "        vertical-align: middle;\n",
       "    }\n",
       "\n",
       "    .dataframe tbody tr th {\n",
       "        vertical-align: top;\n",
       "    }\n",
       "\n",
       "    .dataframe thead th {\n",
       "        text-align: right;\n",
       "    }\n",
       "</style>\n",
       "<table border=\"1\" class=\"dataframe\">\n",
       "  <thead>\n",
       "    <tr style=\"text-align: right;\">\n",
       "      <th></th>\n",
       "      <th>PAC ID</th>\n",
       "      <th>Measure Performance Rate</th>\n",
       "    </tr>\n",
       "  </thead>\n",
       "  <tbody>\n",
       "    <tr>\n",
       "      <th>0</th>\n",
       "      <td>42100117</td>\n",
       "      <td>47.29</td>\n",
       "    </tr>\n",
       "    <tr>\n",
       "      <th>1</th>\n",
       "      <td>42100190</td>\n",
       "      <td>85.00</td>\n",
       "    </tr>\n",
       "    <tr>\n",
       "      <th>2</th>\n",
       "      <td>42100323</td>\n",
       "      <td>64.60</td>\n",
       "    </tr>\n",
       "    <tr>\n",
       "      <th>3</th>\n",
       "      <td>42100968</td>\n",
       "      <td>100.00</td>\n",
       "    </tr>\n",
       "    <tr>\n",
       "      <th>4</th>\n",
       "      <td>42101156</td>\n",
       "      <td>86.00</td>\n",
       "    </tr>\n",
       "  </tbody>\n",
       "</table>\n",
       "</div>"
      ],
      "text/plain": [
       "     PAC ID  Measure Performance Rate\n",
       "0  42100117                     47.29\n",
       "1  42100190                     85.00\n",
       "2  42100323                     64.60\n",
       "3  42100968                    100.00\n",
       "4  42101156                     86.00"
      ]
     },
     "execution_count": 21,
     "metadata": {},
     "output_type": "execute_result"
    }
   ],
   "source": [
    "#Drop the Year column for merge of 2015 data\n",
    "phys_ratings15_pac = phys_ratings15_pac.drop(columns=[\"Year\"])\n",
    "phys_ratings15_pac.head()"
   ]
  },
  {
   "cell_type": "code",
   "execution_count": 22,
   "metadata": {},
   "outputs": [
    {
     "data": {
      "text/html": [
       "<div>\n",
       "<style scoped>\n",
       "    .dataframe tbody tr th:only-of-type {\n",
       "        vertical-align: middle;\n",
       "    }\n",
       "\n",
       "    .dataframe tbody tr th {\n",
       "        vertical-align: top;\n",
       "    }\n",
       "\n",
       "    .dataframe thead th {\n",
       "        text-align: right;\n",
       "    }\n",
       "</style>\n",
       "<table border=\"1\" class=\"dataframe\">\n",
       "  <thead>\n",
       "    <tr style=\"text-align: right;\">\n",
       "      <th></th>\n",
       "      <th>PAC ID</th>\n",
       "      <th>Total Claim Count</th>\n",
       "      <th>Opioid Claim Count</th>\n",
       "      <th>Opioid Prescribing Rate</th>\n",
       "      <th>State</th>\n",
       "      <th>Measure Performance Rate</th>\n",
       "    </tr>\n",
       "  </thead>\n",
       "  <tbody>\n",
       "    <tr>\n",
       "      <th>0</th>\n",
       "      <td>42100190</td>\n",
       "      <td>241.0</td>\n",
       "      <td>68.0</td>\n",
       "      <td>28.22</td>\n",
       "      <td>MI</td>\n",
       "      <td>85.0</td>\n",
       "    </tr>\n",
       "    <tr>\n",
       "      <th>1</th>\n",
       "      <td>42100273</td>\n",
       "      <td>232.0</td>\n",
       "      <td>22.0</td>\n",
       "      <td>9.48</td>\n",
       "      <td>TX</td>\n",
       "      <td>NaN</td>\n",
       "    </tr>\n",
       "    <tr>\n",
       "      <th>2</th>\n",
       "      <td>42101156</td>\n",
       "      <td>620.0</td>\n",
       "      <td>38.0</td>\n",
       "      <td>6.13</td>\n",
       "      <td>NV</td>\n",
       "      <td>86.0</td>\n",
       "    </tr>\n",
       "    <tr>\n",
       "      <th>3</th>\n",
       "      <td>42101164</td>\n",
       "      <td>336.0</td>\n",
       "      <td>56.0</td>\n",
       "      <td>16.67</td>\n",
       "      <td>MI</td>\n",
       "      <td>NaN</td>\n",
       "    </tr>\n",
       "    <tr>\n",
       "      <th>4</th>\n",
       "      <td>42101446</td>\n",
       "      <td>682.0</td>\n",
       "      <td>228.0</td>\n",
       "      <td>33.43</td>\n",
       "      <td>IL</td>\n",
       "      <td>NaN</td>\n",
       "    </tr>\n",
       "  </tbody>\n",
       "</table>\n",
       "</div>"
      ],
      "text/plain": [
       "     PAC ID  Total Claim Count  Opioid Claim Count  Opioid Prescribing Rate  \\\n",
       "0  42100190              241.0                68.0                    28.22   \n",
       "1  42100273              232.0                22.0                     9.48   \n",
       "2  42101156              620.0                38.0                     6.13   \n",
       "3  42101164              336.0                56.0                    16.67   \n",
       "4  42101446              682.0               228.0                    33.43   \n",
       "\n",
       "  State  Measure Performance Rate  \n",
       "0    MI                      85.0  \n",
       "1    TX                       NaN  \n",
       "2    NV                      86.0  \n",
       "3    MI                       NaN  \n",
       "4    IL                       NaN  "
      ]
     },
     "execution_count": 22,
     "metadata": {},
     "output_type": "execute_result"
    }
   ],
   "source": [
    "#merge the phy_ratings for 2015 by PAC with our Opioid Prescriber data from 2015\n",
    "new_merged_2015 = op_pac_final_15.merge(phys_ratings15_pac, on=\"PAC ID\", how=\"outer\")\n",
    "new_merged_2015.head()"
   ]
  },
  {
   "cell_type": "code",
   "execution_count": 23,
   "metadata": {},
   "outputs": [
    {
     "data": {
      "text/html": [
       "<div>\n",
       "<style scoped>\n",
       "    .dataframe tbody tr th:only-of-type {\n",
       "        vertical-align: middle;\n",
       "    }\n",
       "\n",
       "    .dataframe tbody tr th {\n",
       "        vertical-align: top;\n",
       "    }\n",
       "\n",
       "    .dataframe thead th {\n",
       "        text-align: right;\n",
       "    }\n",
       "</style>\n",
       "<table border=\"1\" class=\"dataframe\">\n",
       "  <thead>\n",
       "    <tr style=\"text-align: right;\">\n",
       "      <th></th>\n",
       "      <th>PAC ID</th>\n",
       "      <th>Total Claim Count</th>\n",
       "      <th>Opioid Claim Count</th>\n",
       "      <th>Opioid Prescribing Rate</th>\n",
       "      <th>State</th>\n",
       "      <th>Measure Performance Rate</th>\n",
       "    </tr>\n",
       "  </thead>\n",
       "  <tbody>\n",
       "    <tr>\n",
       "      <th>0</th>\n",
       "      <td>42100190</td>\n",
       "      <td>241.0</td>\n",
       "      <td>68.0</td>\n",
       "      <td>28.22</td>\n",
       "      <td>MI</td>\n",
       "      <td>85.0</td>\n",
       "    </tr>\n",
       "    <tr>\n",
       "      <th>2</th>\n",
       "      <td>42101156</td>\n",
       "      <td>620.0</td>\n",
       "      <td>38.0</td>\n",
       "      <td>6.13</td>\n",
       "      <td>NV</td>\n",
       "      <td>86.0</td>\n",
       "    </tr>\n",
       "    <tr>\n",
       "      <th>6</th>\n",
       "      <td>42102618</td>\n",
       "      <td>496.0</td>\n",
       "      <td>231.0</td>\n",
       "      <td>46.57</td>\n",
       "      <td>CA</td>\n",
       "      <td>100.0</td>\n",
       "    </tr>\n",
       "    <tr>\n",
       "      <th>9</th>\n",
       "      <td>42104929</td>\n",
       "      <td>11309.0</td>\n",
       "      <td>346.0</td>\n",
       "      <td>3.06</td>\n",
       "      <td>FL</td>\n",
       "      <td>100.0</td>\n",
       "    </tr>\n",
       "    <tr>\n",
       "      <th>20</th>\n",
       "      <td>42200099</td>\n",
       "      <td>2141.0</td>\n",
       "      <td>67.0</td>\n",
       "      <td>3.13</td>\n",
       "      <td>FL</td>\n",
       "      <td>100.0</td>\n",
       "    </tr>\n",
       "  </tbody>\n",
       "</table>\n",
       "</div>"
      ],
      "text/plain": [
       "      PAC ID  Total Claim Count  Opioid Claim Count  Opioid Prescribing Rate  \\\n",
       "0   42100190              241.0                68.0                    28.22   \n",
       "2   42101156              620.0                38.0                     6.13   \n",
       "6   42102618              496.0               231.0                    46.57   \n",
       "9   42104929            11309.0               346.0                     3.06   \n",
       "20  42200099             2141.0                67.0                     3.13   \n",
       "\n",
       "   State  Measure Performance Rate  \n",
       "0     MI                      85.0  \n",
       "2     NV                      86.0  \n",
       "6     CA                     100.0  \n",
       "9     FL                     100.0  \n",
       "20    FL                     100.0  "
      ]
     },
     "execution_count": 23,
     "metadata": {},
     "output_type": "execute_result"
    }
   ],
   "source": [
    "#Important to note that the measure performance rates are ratings from Medicare from the data set that has physican ratings\n",
    "#Whereas the data set we were trying to merged above was a different data set from patient ratings by Groups(PAC IDs)\n",
    "#When we developed our opioid prescriber data frame , we used the PAC IDs from the Medicare Physican Ratings data sets, not the grouped data set\n",
    "#drop NA values from our new merged file \n",
    "new_merged_2015clean = new_merged_2015.dropna(axis=0, how='any')\n",
    "new_merged_2015clean.head()"
   ]
  },
  {
   "cell_type": "code",
   "execution_count": 24,
   "metadata": {},
   "outputs": [
    {
     "data": {
      "text/plain": [
       "3961"
      ]
     },
     "execution_count": 24,
     "metadata": {},
     "output_type": "execute_result"
    }
   ],
   "source": [
    "#Check the length of the new data set\n",
    "len(new_merged_2015clean)"
   ]
  },
  {
   "cell_type": "code",
   "execution_count": 25,
   "metadata": {},
   "outputs": [],
   "source": [
    "#export file\n",
    "new_merged_2015clean.to_csv(output1, encoding=\"utf-8\", index=False)"
   ]
  },
  {
   "cell_type": "code",
   "execution_count": 26,
   "metadata": {},
   "outputs": [
    {
     "data": {
      "text/html": [
       "<div>\n",
       "<style scoped>\n",
       "    .dataframe tbody tr th:only-of-type {\n",
       "        vertical-align: middle;\n",
       "    }\n",
       "\n",
       "    .dataframe tbody tr th {\n",
       "        vertical-align: top;\n",
       "    }\n",
       "\n",
       "    .dataframe thead th {\n",
       "        text-align: right;\n",
       "    }\n",
       "</style>\n",
       "<table border=\"1\" class=\"dataframe\">\n",
       "  <thead>\n",
       "    <tr style=\"text-align: right;\">\n",
       "      <th></th>\n",
       "      <th>PAC ID</th>\n",
       "      <th>Measure Performance Rate</th>\n",
       "      <th>Year</th>\n",
       "    </tr>\n",
       "  </thead>\n",
       "  <tbody>\n",
       "    <tr>\n",
       "      <th>0</th>\n",
       "      <td>42100117</td>\n",
       "      <td>42.22</td>\n",
       "      <td>2016</td>\n",
       "    </tr>\n",
       "    <tr>\n",
       "      <th>1</th>\n",
       "      <td>42100133</td>\n",
       "      <td>68.50</td>\n",
       "      <td>2016</td>\n",
       "    </tr>\n",
       "    <tr>\n",
       "      <th>2</th>\n",
       "      <td>42100190</td>\n",
       "      <td>96.00</td>\n",
       "      <td>2016</td>\n",
       "    </tr>\n",
       "    <tr>\n",
       "      <th>3</th>\n",
       "      <td>42100273</td>\n",
       "      <td>1.00</td>\n",
       "      <td>2016</td>\n",
       "    </tr>\n",
       "    <tr>\n",
       "      <th>4</th>\n",
       "      <td>42100323</td>\n",
       "      <td>73.83</td>\n",
       "      <td>2016</td>\n",
       "    </tr>\n",
       "  </tbody>\n",
       "</table>\n",
       "</div>"
      ],
      "text/plain": [
       "     PAC ID  Measure Performance Rate  Year\n",
       "0  42100117                     42.22  2016\n",
       "1  42100133                     68.50  2016\n",
       "2  42100190                     96.00  2016\n",
       "3  42100273                      1.00  2016\n",
       "4  42100323                     73.83  2016"
      ]
     },
     "execution_count": 26,
     "metadata": {},
     "output_type": "execute_result"
    }
   ],
   "source": [
    "#In this exercise we are seeing if our 2016 phys_ratings data grouped by PAC ID is able to merge, this data took different measurements than the group ratings above\n",
    "phys_ratings16_pac.head()"
   ]
  },
  {
   "cell_type": "code",
   "execution_count": 27,
   "metadata": {},
   "outputs": [
    {
     "data": {
      "text/html": [
       "<div>\n",
       "<style scoped>\n",
       "    .dataframe tbody tr th:only-of-type {\n",
       "        vertical-align: middle;\n",
       "    }\n",
       "\n",
       "    .dataframe tbody tr th {\n",
       "        vertical-align: top;\n",
       "    }\n",
       "\n",
       "    .dataframe thead th {\n",
       "        text-align: right;\n",
       "    }\n",
       "</style>\n",
       "<table border=\"1\" class=\"dataframe\">\n",
       "  <thead>\n",
       "    <tr style=\"text-align: right;\">\n",
       "      <th></th>\n",
       "      <th>PAC ID</th>\n",
       "      <th>Measure Performance Rate</th>\n",
       "    </tr>\n",
       "  </thead>\n",
       "  <tbody>\n",
       "    <tr>\n",
       "      <th>0</th>\n",
       "      <td>42100117</td>\n",
       "      <td>42.22</td>\n",
       "    </tr>\n",
       "    <tr>\n",
       "      <th>1</th>\n",
       "      <td>42100133</td>\n",
       "      <td>68.50</td>\n",
       "    </tr>\n",
       "    <tr>\n",
       "      <th>2</th>\n",
       "      <td>42100190</td>\n",
       "      <td>96.00</td>\n",
       "    </tr>\n",
       "    <tr>\n",
       "      <th>3</th>\n",
       "      <td>42100273</td>\n",
       "      <td>1.00</td>\n",
       "    </tr>\n",
       "    <tr>\n",
       "      <th>4</th>\n",
       "      <td>42100323</td>\n",
       "      <td>73.83</td>\n",
       "    </tr>\n",
       "  </tbody>\n",
       "</table>\n",
       "</div>"
      ],
      "text/plain": [
       "     PAC ID  Measure Performance Rate\n",
       "0  42100117                     42.22\n",
       "1  42100133                     68.50\n",
       "2  42100190                     96.00\n",
       "3  42100273                      1.00\n",
       "4  42100323                     73.83"
      ]
     },
     "execution_count": 27,
     "metadata": {},
     "output_type": "execute_result"
    }
   ],
   "source": [
    "#Drop the Year column for merge of 2016 data\n",
    "phys_ratings16_pac = phys_ratings16_pac.drop(columns=[\"Year\"])\n",
    "phys_ratings16_pac.head()"
   ]
  },
  {
   "cell_type": "code",
   "execution_count": 28,
   "metadata": {},
   "outputs": [
    {
     "data": {
      "text/html": [
       "<div>\n",
       "<style scoped>\n",
       "    .dataframe tbody tr th:only-of-type {\n",
       "        vertical-align: middle;\n",
       "    }\n",
       "\n",
       "    .dataframe tbody tr th {\n",
       "        vertical-align: top;\n",
       "    }\n",
       "\n",
       "    .dataframe thead th {\n",
       "        text-align: right;\n",
       "    }\n",
       "</style>\n",
       "<table border=\"1\" class=\"dataframe\">\n",
       "  <thead>\n",
       "    <tr style=\"text-align: right;\">\n",
       "      <th></th>\n",
       "      <th>PAC ID</th>\n",
       "      <th>Total Claim Count</th>\n",
       "      <th>Opioid Claim Count</th>\n",
       "      <th>Opioid Prescribing Rate</th>\n",
       "      <th>State</th>\n",
       "      <th>Measure Performance Rate</th>\n",
       "    </tr>\n",
       "  </thead>\n",
       "  <tbody>\n",
       "    <tr>\n",
       "      <th>0</th>\n",
       "      <td>42100190</td>\n",
       "      <td>241.0</td>\n",
       "      <td>77.0</td>\n",
       "      <td>31.95</td>\n",
       "      <td>MI</td>\n",
       "      <td>96.0</td>\n",
       "    </tr>\n",
       "    <tr>\n",
       "      <th>1</th>\n",
       "      <td>42102618</td>\n",
       "      <td>491.0</td>\n",
       "      <td>226.0</td>\n",
       "      <td>46.03</td>\n",
       "      <td>CA</td>\n",
       "      <td>100.0</td>\n",
       "    </tr>\n",
       "    <tr>\n",
       "      <th>2</th>\n",
       "      <td>42104168</td>\n",
       "      <td>5891.0</td>\n",
       "      <td>216.0</td>\n",
       "      <td>3.67</td>\n",
       "      <td>MN</td>\n",
       "      <td>NaN</td>\n",
       "    </tr>\n",
       "    <tr>\n",
       "      <th>3</th>\n",
       "      <td>42115404</td>\n",
       "      <td>9227.0</td>\n",
       "      <td>30.0</td>\n",
       "      <td>0.33</td>\n",
       "      <td>KY</td>\n",
       "      <td>100.0</td>\n",
       "    </tr>\n",
       "    <tr>\n",
       "      <th>4</th>\n",
       "      <td>42120784</td>\n",
       "      <td>30441.0</td>\n",
       "      <td>988.0</td>\n",
       "      <td>3.25</td>\n",
       "      <td>GA</td>\n",
       "      <td>NaN</td>\n",
       "    </tr>\n",
       "  </tbody>\n",
       "</table>\n",
       "</div>"
      ],
      "text/plain": [
       "     PAC ID  Total Claim Count  Opioid Claim Count  Opioid Prescribing Rate  \\\n",
       "0  42100190              241.0                77.0                    31.95   \n",
       "1  42102618              491.0               226.0                    46.03   \n",
       "2  42104168             5891.0               216.0                     3.67   \n",
       "3  42115404             9227.0                30.0                     0.33   \n",
       "4  42120784            30441.0               988.0                     3.25   \n",
       "\n",
       "  State  Measure Performance Rate  \n",
       "0    MI                      96.0  \n",
       "1    CA                     100.0  \n",
       "2    MN                       NaN  \n",
       "3    KY                     100.0  \n",
       "4    GA                       NaN  "
      ]
     },
     "execution_count": 28,
     "metadata": {},
     "output_type": "execute_result"
    }
   ],
   "source": [
    "#merge the phy_ratings for 2016 by PAC with our Opioid Prescriber data from 2016\n",
    "new_merged_2016 = op_pac_final_16.merge(phys_ratings16_pac, on=\"PAC ID\", how=\"outer\")\n",
    "new_merged_2016.head()"
   ]
  },
  {
   "cell_type": "code",
   "execution_count": 29,
   "metadata": {
    "scrolled": true
   },
   "outputs": [
    {
     "data": {
      "text/html": [
       "<div>\n",
       "<style scoped>\n",
       "    .dataframe tbody tr th:only-of-type {\n",
       "        vertical-align: middle;\n",
       "    }\n",
       "\n",
       "    .dataframe tbody tr th {\n",
       "        vertical-align: top;\n",
       "    }\n",
       "\n",
       "    .dataframe thead th {\n",
       "        text-align: right;\n",
       "    }\n",
       "</style>\n",
       "<table border=\"1\" class=\"dataframe\">\n",
       "  <thead>\n",
       "    <tr style=\"text-align: right;\">\n",
       "      <th></th>\n",
       "      <th>PAC ID</th>\n",
       "      <th>Total Claim Count</th>\n",
       "      <th>Opioid Claim Count</th>\n",
       "      <th>Opioid Prescribing Rate</th>\n",
       "      <th>State</th>\n",
       "      <th>Measure Performance Rate</th>\n",
       "    </tr>\n",
       "  </thead>\n",
       "  <tbody>\n",
       "    <tr>\n",
       "      <th>0</th>\n",
       "      <td>42100190</td>\n",
       "      <td>241.0</td>\n",
       "      <td>77.0</td>\n",
       "      <td>31.95</td>\n",
       "      <td>MI</td>\n",
       "      <td>96.00</td>\n",
       "    </tr>\n",
       "    <tr>\n",
       "      <th>1</th>\n",
       "      <td>42102618</td>\n",
       "      <td>491.0</td>\n",
       "      <td>226.0</td>\n",
       "      <td>46.03</td>\n",
       "      <td>CA</td>\n",
       "      <td>100.00</td>\n",
       "    </tr>\n",
       "    <tr>\n",
       "      <th>3</th>\n",
       "      <td>42115404</td>\n",
       "      <td>9227.0</td>\n",
       "      <td>30.0</td>\n",
       "      <td>0.33</td>\n",
       "      <td>KY</td>\n",
       "      <td>100.00</td>\n",
       "    </tr>\n",
       "    <tr>\n",
       "      <th>5</th>\n",
       "      <td>42123713</td>\n",
       "      <td>4353.0</td>\n",
       "      <td>114.0</td>\n",
       "      <td>2.62</td>\n",
       "      <td>MN</td>\n",
       "      <td>45.67</td>\n",
       "    </tr>\n",
       "    <tr>\n",
       "      <th>8</th>\n",
       "      <td>42209470</td>\n",
       "      <td>6638.0</td>\n",
       "      <td>136.0</td>\n",
       "      <td>2.05</td>\n",
       "      <td>WI</td>\n",
       "      <td>95.00</td>\n",
       "    </tr>\n",
       "  </tbody>\n",
       "</table>\n",
       "</div>"
      ],
      "text/plain": [
       "     PAC ID  Total Claim Count  Opioid Claim Count  Opioid Prescribing Rate  \\\n",
       "0  42100190              241.0                77.0                    31.95   \n",
       "1  42102618              491.0               226.0                    46.03   \n",
       "3  42115404             9227.0                30.0                     0.33   \n",
       "5  42123713             4353.0               114.0                     2.62   \n",
       "8  42209470             6638.0               136.0                     2.05   \n",
       "\n",
       "  State  Measure Performance Rate  \n",
       "0    MI                     96.00  \n",
       "1    CA                    100.00  \n",
       "3    KY                    100.00  \n",
       "5    MN                     45.67  \n",
       "8    WI                     95.00  "
      ]
     },
     "execution_count": 29,
     "metadata": {},
     "output_type": "execute_result"
    }
   ],
   "source": [
    "#Important to note that the measure performance rates are ratings from Medicare from the data set that has physican ratings\n",
    "#Whereas the data set we were trying to merged above was a different data set from patient ratings by Groups(PAC IDs)\n",
    "#When we developed our opioid prescriber data frame , we used the PAC IDs from the Medicare Physican Ratings data sets, not the grouped data set\n",
    "#drop NA values from our new merged file \n",
    "new_merged_2016clean = new_merged_2016.dropna(axis=0, how='any')\n",
    "new_merged_2016clean.head()"
   ]
  },
  {
   "cell_type": "code",
   "execution_count": 30,
   "metadata": {},
   "outputs": [
    {
     "data": {
      "text/plain": [
       "4550"
      ]
     },
     "execution_count": 30,
     "metadata": {},
     "output_type": "execute_result"
    }
   ],
   "source": [
    "len(new_merged_2016clean)"
   ]
  },
  {
   "cell_type": "code",
   "execution_count": 31,
   "metadata": {},
   "outputs": [],
   "source": [
    "#export file\n",
    "new_merged_2016clean.to_csv(output2, encoding=\"utf-8\",index=False)"
   ]
  },
  {
   "cell_type": "code",
   "execution_count": 32,
   "metadata": {},
   "outputs": [
    {
     "data": {
      "image/png": "[encoded data removed]",
      "text/plain": [
       "<Figure size 432x288 with 1 Axes>"
      ]
     },
     "metadata": {
      "needs_background": "light"
     },
     "output_type": "display_data"
    }
   ],
   "source": [
    "#Scatter Plot Example\n",
    "new_merged_2016clean.plot.scatter(x=\"Measure Performance Rate\", y='Opioid Prescribing Rate', color='LightCoral', \n",
    "                                           grid=True, alpha=0.5, edgecolors = 'black', label='PAC Group')\n",
    "#Add title to our scatter plot along with an x-axis and y-axis title\n",
    "plt.title(\"Opioid Prescribing Rate vs. Performance Rate\")\n",
    "plt.xlabel(\"Performance Rate\")\n",
    "plt.ylabel(\"Opioid Prescribing Rate\")\n",
    "\n",
    "plt.show()"
   ]
  },
  {
   "cell_type": "code",
   "execution_count": null,
   "metadata": {},
   "outputs": [],
   "source": []
  },
  {
   "cell_type": "code",
   "execution_count": 33,
   "metadata": {},
   "outputs": [
    {
     "data": {
      "text/html": [
       "<div>\n",
       "<style scoped>\n",
       "    .dataframe tbody tr th:only-of-type {\n",
       "        vertical-align: middle;\n",
       "    }\n",
       "\n",
       "    .dataframe tbody tr th {\n",
       "        vertical-align: top;\n",
       "    }\n",
       "\n",
       "    .dataframe thead th {\n",
       "        text-align: right;\n",
       "    }\n",
       "</style>\n",
       "<table border=\"1\" class=\"dataframe\">\n",
       "  <thead>\n",
       "    <tr style=\"text-align: right;\">\n",
       "      <th></th>\n",
       "      <th>Opioid Claim Count</th>\n",
       "    </tr>\n",
       "    <tr>\n",
       "      <th>State</th>\n",
       "      <th></th>\n",
       "    </tr>\n",
       "  </thead>\n",
       "  <tbody>\n",
       "    <tr>\n",
       "      <th>AK</th>\n",
       "      <td>433.0</td>\n",
       "    </tr>\n",
       "    <tr>\n",
       "      <th>AL</th>\n",
       "      <td>64247.0</td>\n",
       "    </tr>\n",
       "    <tr>\n",
       "      <th>AR</th>\n",
       "      <td>30750.0</td>\n",
       "    </tr>\n",
       "    <tr>\n",
       "      <th>AZ</th>\n",
       "      <td>43630.0</td>\n",
       "    </tr>\n",
       "    <tr>\n",
       "      <th>CA</th>\n",
       "      <td>179709.0</td>\n",
       "    </tr>\n",
       "  </tbody>\n",
       "</table>\n",
       "</div>"
      ],
      "text/plain": [
       "       Opioid Claim Count\n",
       "State                    \n",
       "AK                  433.0\n",
       "AL                64247.0\n",
       "AR                30750.0\n",
       "AZ                43630.0\n",
       "CA               179709.0"
      ]
     },
     "execution_count": 33,
     "metadata": {},
     "output_type": "execute_result"
    }
   ],
   "source": [
    "#Analyze information grouped by state doing a sum of Opioid Claim Count 2016\n",
    "state_opclaims_16 = pd.DataFrame(new_merged_2016.groupby([\"State\"])[\"Opioid Claim Count\"].sum())\n",
    "state_opclaims_16.head()"
   ]
  },
  {
   "cell_type": "code",
   "execution_count": 34,
   "metadata": {},
   "outputs": [
    {
     "data": {
      "text/html": [
       "<div>\n",
       "<style scoped>\n",
       "    .dataframe tbody tr th:only-of-type {\n",
       "        vertical-align: middle;\n",
       "    }\n",
       "\n",
       "    .dataframe tbody tr th {\n",
       "        vertical-align: top;\n",
       "    }\n",
       "\n",
       "    .dataframe thead th {\n",
       "        text-align: right;\n",
       "    }\n",
       "</style>\n",
       "<table border=\"1\" class=\"dataframe\">\n",
       "  <thead>\n",
       "    <tr style=\"text-align: right;\">\n",
       "      <th></th>\n",
       "      <th>Opioid Claim Count</th>\n",
       "    </tr>\n",
       "    <tr>\n",
       "      <th>State</th>\n",
       "      <th></th>\n",
       "    </tr>\n",
       "  </thead>\n",
       "  <tbody>\n",
       "    <tr>\n",
       "      <th>AK</th>\n",
       "      <td>1560.0</td>\n",
       "    </tr>\n",
       "    <tr>\n",
       "      <th>AL</th>\n",
       "      <td>145984.0</td>\n",
       "    </tr>\n",
       "    <tr>\n",
       "      <th>AP</th>\n",
       "      <td>21.0</td>\n",
       "    </tr>\n",
       "    <tr>\n",
       "      <th>AR</th>\n",
       "      <td>52842.0</td>\n",
       "    </tr>\n",
       "    <tr>\n",
       "      <th>AZ</th>\n",
       "      <td>50874.0</td>\n",
       "    </tr>\n",
       "  </tbody>\n",
       "</table>\n",
       "</div>"
      ],
      "text/plain": [
       "       Opioid Claim Count\n",
       "State                    \n",
       "AK                 1560.0\n",
       "AL               145984.0\n",
       "AP                   21.0\n",
       "AR                52842.0\n",
       "AZ                50874.0"
      ]
     },
     "execution_count": 34,
     "metadata": {},
     "output_type": "execute_result"
    }
   ],
   "source": [
    "#Analyze information grouped by state doing a sum of Opioid Claim Count 2015\n",
    "state_opclaims_15 = pd.DataFrame(new_merged_2015.groupby([\"State\"])[\"Opioid Claim Count\"].sum())\n",
    "state_opclaims_15.head()"
   ]
  },
  {
   "cell_type": "code",
   "execution_count": 35,
   "metadata": {},
   "outputs": [
    {
     "data": {
      "text/html": [
       "<div>\n",
       "<style scoped>\n",
       "    .dataframe tbody tr th:only-of-type {\n",
       "        vertical-align: middle;\n",
       "    }\n",
       "\n",
       "    .dataframe tbody tr th {\n",
       "        vertical-align: top;\n",
       "    }\n",
       "\n",
       "    .dataframe thead th {\n",
       "        text-align: right;\n",
       "    }\n",
       "</style>\n",
       "<table border=\"1\" class=\"dataframe\">\n",
       "  <thead>\n",
       "    <tr style=\"text-align: right;\">\n",
       "      <th></th>\n",
       "      <th>Year</th>\n",
       "      <th>State</th>\n",
       "      <th>Year.1</th>\n",
       "      <th>Month</th>\n",
       "      <th>Total Deaths</th>\n",
       "      <th>Drug Deaths</th>\n",
       "    </tr>\n",
       "  </thead>\n",
       "  <tbody>\n",
       "    <tr>\n",
       "      <th>0</th>\n",
       "      <td>2016</td>\n",
       "      <td>AK</td>\n",
       "      <td>2016</td>\n",
       "      <td>January</td>\n",
       "      <td>4213</td>\n",
       "      <td>126</td>\n",
       "    </tr>\n",
       "    <tr>\n",
       "      <th>1</th>\n",
       "      <td>2016</td>\n",
       "      <td>AK</td>\n",
       "      <td>2016</td>\n",
       "      <td>February</td>\n",
       "      <td>4198</td>\n",
       "      <td>128</td>\n",
       "    </tr>\n",
       "    <tr>\n",
       "      <th>2</th>\n",
       "      <td>2016</td>\n",
       "      <td>AK</td>\n",
       "      <td>2016</td>\n",
       "      <td>March</td>\n",
       "      <td>4230</td>\n",
       "      <td>125</td>\n",
       "    </tr>\n",
       "    <tr>\n",
       "      <th>3</th>\n",
       "      <td>2016</td>\n",
       "      <td>AK</td>\n",
       "      <td>2016</td>\n",
       "      <td>April</td>\n",
       "      <td>4262</td>\n",
       "      <td>132</td>\n",
       "    </tr>\n",
       "    <tr>\n",
       "      <th>4</th>\n",
       "      <td>2016</td>\n",
       "      <td>AK</td>\n",
       "      <td>2016</td>\n",
       "      <td>May</td>\n",
       "      <td>4241</td>\n",
       "      <td>140</td>\n",
       "    </tr>\n",
       "  </tbody>\n",
       "</table>\n",
       "</div>"
      ],
      "text/plain": [
       "   Year State  Year.1     Month  Total Deaths  Drug Deaths\n",
       "0  2016    AK    2016   January          4213          126\n",
       "1  2016    AK    2016  February          4198          128\n",
       "2  2016    AK    2016     March          4230          125\n",
       "3  2016    AK    2016     April          4262          132\n",
       "4  2016    AK    2016       May          4241          140"
      ]
     },
     "execution_count": 35,
     "metadata": {},
     "output_type": "execute_result"
    }
   ],
   "source": [
    "#Compare info with OD Death for 16\n",
    "clean_od_2016.head()"
   ]
  },
  {
   "cell_type": "code",
   "execution_count": 36,
   "metadata": {},
   "outputs": [
    {
     "data": {
      "text/html": [
       "<div>\n",
       "<style scoped>\n",
       "    .dataframe tbody tr th:only-of-type {\n",
       "        vertical-align: middle;\n",
       "    }\n",
       "\n",
       "    .dataframe tbody tr th {\n",
       "        vertical-align: top;\n",
       "    }\n",
       "\n",
       "    .dataframe thead th {\n",
       "        text-align: right;\n",
       "    }\n",
       "</style>\n",
       "<table border=\"1\" class=\"dataframe\">\n",
       "  <thead>\n",
       "    <tr style=\"text-align: right;\">\n",
       "      <th></th>\n",
       "      <th>Drug Deaths</th>\n",
       "    </tr>\n",
       "    <tr>\n",
       "      <th>State</th>\n",
       "      <th></th>\n",
       "    </tr>\n",
       "  </thead>\n",
       "  <tbody>\n",
       "    <tr>\n",
       "      <th>AK</th>\n",
       "      <td>1594</td>\n",
       "    </tr>\n",
       "    <tr>\n",
       "      <th>AL</th>\n",
       "      <td>8324</td>\n",
       "    </tr>\n",
       "    <tr>\n",
       "      <th>AR</th>\n",
       "      <td>4513</td>\n",
       "    </tr>\n",
       "    <tr>\n",
       "      <th>AZ</th>\n",
       "      <td>16403</td>\n",
       "    </tr>\n",
       "    <tr>\n",
       "      <th>CA</th>\n",
       "      <td>57154</td>\n",
       "    </tr>\n",
       "  </tbody>\n",
       "</table>\n",
       "</div>"
      ],
      "text/plain": [
       "       Drug Deaths\n",
       "State             \n",
       "AK            1594\n",
       "AL            8324\n",
       "AR            4513\n",
       "AZ           16403\n",
       "CA           57154"
      ]
     },
     "execution_count": 36,
     "metadata": {},
     "output_type": "execute_result"
    }
   ],
   "source": [
    "#Create data frame for state OD deaths 2016\n",
    "state_od_2016 = pd.DataFrame(clean_od_2016.groupby([\"State\"])[\"Drug Deaths\"].sum())\n",
    "state_od_2016.head()"
   ]
  },
  {
   "cell_type": "code",
   "execution_count": 37,
   "metadata": {},
   "outputs": [
    {
     "data": {
      "text/html": [
       "<div>\n",
       "<style scoped>\n",
       "    .dataframe tbody tr th:only-of-type {\n",
       "        vertical-align: middle;\n",
       "    }\n",
       "\n",
       "    .dataframe tbody tr th {\n",
       "        vertical-align: top;\n",
       "    }\n",
       "\n",
       "    .dataframe thead th {\n",
       "        text-align: right;\n",
       "    }\n",
       "</style>\n",
       "<table border=\"1\" class=\"dataframe\">\n",
       "  <thead>\n",
       "    <tr style=\"text-align: right;\">\n",
       "      <th></th>\n",
       "      <th>Drug Deaths</th>\n",
       "    </tr>\n",
       "    <tr>\n",
       "      <th>State</th>\n",
       "      <th></th>\n",
       "    </tr>\n",
       "  </thead>\n",
       "  <tbody>\n",
       "    <tr>\n",
       "      <th>AK</th>\n",
       "      <td>1472</td>\n",
       "    </tr>\n",
       "    <tr>\n",
       "      <th>AL</th>\n",
       "      <td>8818</td>\n",
       "    </tr>\n",
       "    <tr>\n",
       "      <th>AR</th>\n",
       "      <td>4616</td>\n",
       "    </tr>\n",
       "    <tr>\n",
       "      <th>AZ</th>\n",
       "      <td>14590</td>\n",
       "    </tr>\n",
       "    <tr>\n",
       "      <th>CA</th>\n",
       "      <td>56001</td>\n",
       "    </tr>\n",
       "  </tbody>\n",
       "</table>\n",
       "</div>"
      ],
      "text/plain": [
       "       Drug Deaths\n",
       "State             \n",
       "AK            1472\n",
       "AL            8818\n",
       "AR            4616\n",
       "AZ           14590\n",
       "CA           56001"
      ]
     },
     "execution_count": 37,
     "metadata": {},
     "output_type": "execute_result"
    }
   ],
   "source": [
    "#Create data frame for state OD deaths 2015\n",
    "state_od_2015 = pd.DataFrame(clean_od_2015.groupby([\"State\"])[\"Drug Deaths\"].sum())\n",
    "state_od_2015.head()"
   ]
  },
  {
   "cell_type": "code",
   "execution_count": 38,
   "metadata": {},
   "outputs": [
    {
     "data": {
      "text/html": [
       "<div>\n",
       "<style scoped>\n",
       "    .dataframe tbody tr th:only-of-type {\n",
       "        vertical-align: middle;\n",
       "    }\n",
       "\n",
       "    .dataframe tbody tr th {\n",
       "        vertical-align: top;\n",
       "    }\n",
       "\n",
       "    .dataframe thead th {\n",
       "        text-align: right;\n",
       "    }\n",
       "</style>\n",
       "<table border=\"1\" class=\"dataframe\">\n",
       "  <thead>\n",
       "    <tr style=\"text-align: right;\">\n",
       "      <th></th>\n",
       "      <th>Opioid Claim Count</th>\n",
       "      <th>Drug Deaths</th>\n",
       "    </tr>\n",
       "    <tr>\n",
       "      <th>State</th>\n",
       "      <th></th>\n",
       "      <th></th>\n",
       "    </tr>\n",
       "  </thead>\n",
       "  <tbody>\n",
       "    <tr>\n",
       "      <th>AK</th>\n",
       "      <td>433.0</td>\n",
       "      <td>1594.0</td>\n",
       "    </tr>\n",
       "    <tr>\n",
       "      <th>AL</th>\n",
       "      <td>64247.0</td>\n",
       "      <td>8324.0</td>\n",
       "    </tr>\n",
       "    <tr>\n",
       "      <th>AR</th>\n",
       "      <td>30750.0</td>\n",
       "      <td>4513.0</td>\n",
       "    </tr>\n",
       "    <tr>\n",
       "      <th>AZ</th>\n",
       "      <td>43630.0</td>\n",
       "      <td>16403.0</td>\n",
       "    </tr>\n",
       "    <tr>\n",
       "      <th>CA</th>\n",
       "      <td>179709.0</td>\n",
       "      <td>57154.0</td>\n",
       "    </tr>\n",
       "  </tbody>\n",
       "</table>\n",
       "</div>"
      ],
      "text/plain": [
       "       Opioid Claim Count  Drug Deaths\n",
       "State                                 \n",
       "AK                  433.0       1594.0\n",
       "AL                64247.0       8324.0\n",
       "AR                30750.0       4513.0\n",
       "AZ                43630.0      16403.0\n",
       "CA               179709.0      57154.0"
      ]
     },
     "execution_count": 38,
     "metadata": {},
     "output_type": "execute_result"
    }
   ],
   "source": [
    "#create a data frame that merges 2016 OD Deaths and State OP Claims\n",
    "merged_oddeaths_opclaims2016 = state_opclaims_16.merge(state_od_2016, on=\"State\", how=\"outer\")\n",
    "merged_oddeaths_opclaims2016.head()\n"
   ]
  },
  {
   "cell_type": "code",
   "execution_count": 39,
   "metadata": {},
   "outputs": [
    {
     "data": {
      "text/html": [
       "<div>\n",
       "<style scoped>\n",
       "    .dataframe tbody tr th:only-of-type {\n",
       "        vertical-align: middle;\n",
       "    }\n",
       "\n",
       "    .dataframe tbody tr th {\n",
       "        vertical-align: top;\n",
       "    }\n",
       "\n",
       "    .dataframe thead th {\n",
       "        text-align: right;\n",
       "    }\n",
       "</style>\n",
       "<table border=\"1\" class=\"dataframe\">\n",
       "  <thead>\n",
       "    <tr style=\"text-align: right;\">\n",
       "      <th></th>\n",
       "      <th>Opioid Claim Count</th>\n",
       "      <th>Drug Deaths</th>\n",
       "    </tr>\n",
       "    <tr>\n",
       "      <th>State</th>\n",
       "      <th></th>\n",
       "      <th></th>\n",
       "    </tr>\n",
       "  </thead>\n",
       "  <tbody>\n",
       "    <tr>\n",
       "      <th>AK</th>\n",
       "      <td>1560.0</td>\n",
       "      <td>1472.0</td>\n",
       "    </tr>\n",
       "    <tr>\n",
       "      <th>AL</th>\n",
       "      <td>145984.0</td>\n",
       "      <td>8818.0</td>\n",
       "    </tr>\n",
       "    <tr>\n",
       "      <th>AP</th>\n",
       "      <td>21.0</td>\n",
       "      <td>NaN</td>\n",
       "    </tr>\n",
       "    <tr>\n",
       "      <th>AR</th>\n",
       "      <td>52842.0</td>\n",
       "      <td>4616.0</td>\n",
       "    </tr>\n",
       "    <tr>\n",
       "      <th>AZ</th>\n",
       "      <td>50874.0</td>\n",
       "      <td>14590.0</td>\n",
       "    </tr>\n",
       "  </tbody>\n",
       "</table>\n",
       "</div>"
      ],
      "text/plain": [
       "       Opioid Claim Count  Drug Deaths\n",
       "State                                 \n",
       "AK                 1560.0       1472.0\n",
       "AL               145984.0       8818.0\n",
       "AP                   21.0          NaN\n",
       "AR                52842.0       4616.0\n",
       "AZ                50874.0      14590.0"
      ]
     },
     "execution_count": 39,
     "metadata": {},
     "output_type": "execute_result"
    }
   ],
   "source": [
    "#create a data frame that merges 2015 OD Deaths and State OP Claims\n",
    "merged_oddeaths_opclaims2015 = state_opclaims_15.merge(state_od_2015, on=\"State\", how=\"outer\")\n",
    "merged_oddeaths_opclaims2015.head()"
   ]
  },
  {
   "cell_type": "code",
   "execution_count": 40,
   "metadata": {},
   "outputs": [
    {
     "data": {
      "text/plain": [
       "55"
      ]
     },
     "execution_count": 40,
     "metadata": {},
     "output_type": "execute_result"
    }
   ],
   "source": [
    "len(merged_oddeaths_opclaims2016)"
   ]
  },
  {
   "cell_type": "code",
   "execution_count": 41,
   "metadata": {},
   "outputs": [
    {
     "data": {
      "text/plain": [
       "56"
      ]
     },
     "execution_count": 41,
     "metadata": {},
     "output_type": "execute_result"
    }
   ],
   "source": [
    "len(merged_oddeaths_opclaims2015)"
   ]
  },
  {
   "cell_type": "code",
   "execution_count": 42,
   "metadata": {},
   "outputs": [],
   "source": [
    "#drop NA values from our 2016 Opioid Claim and OD Deaths Charts\n",
    "merged_oddeaths_opclaims2016 = merged_oddeaths_opclaims2016.dropna(axis = 0 , how='any')"
   ]
  },
  {
   "cell_type": "code",
   "execution_count": 43,
   "metadata": {},
   "outputs": [],
   "source": [
    "#drop NA values from our 2015 Opioid Claim and OD Deaths Charts\n",
    "merged_oddeaths_opclaims2015 = merged_oddeaths_opclaims2015.dropna(axis = 0 , how='any')"
   ]
  },
  {
   "cell_type": "code",
   "execution_count": 44,
   "metadata": {},
   "outputs": [
    {
     "data": {
      "text/plain": [
       "51"
      ]
     },
     "execution_count": 44,
     "metadata": {},
     "output_type": "execute_result"
    }
   ],
   "source": [
    "len(merged_oddeaths_opclaims2016)"
   ]
  },
  {
   "cell_type": "code",
   "execution_count": 45,
   "metadata": {},
   "outputs": [
    {
     "data": {
      "text/plain": [
       "51"
      ]
     },
     "execution_count": 45,
     "metadata": {},
     "output_type": "execute_result"
    }
   ],
   "source": [
    "len(merged_oddeaths_opclaims2015)"
   ]
  },
  {
   "cell_type": "code",
   "execution_count": 46,
   "metadata": {},
   "outputs": [
    {
     "name": "stderr",
     "output_type": "stream",
     "text": [
      "/Users/HeatherTrinh/anaconda3/lib/python3.7/site-packages/scipy/stats/stats.py:1713: FutureWarning: Using a non-tuple sequence for multidimensional indexing is deprecated; use `arr[tuple(seq)]` instead of `arr[seq]`. In the future this will be interpreted as an array index, `arr[np.array(seq)]`, which will result either in an error or a different result.\n",
      "  return np.add.reduce(sorted[indexer] * weights, axis=axis) / sumval\n"
     ]
    },
    {
     "data": {
      "image/png": "[encoded data removed]",
      "text/plain": [
       "<Figure size 432x288 with 1 Axes>"
      ]
     },
     "metadata": {
      "needs_background": "light"
     },
     "output_type": "display_data"
    }
   ],
   "source": [
    "#Scatter Plot Example for our 2016 data comparint State Opioid Claim Counts vs. Drug Deaths\n",
    "merged_oddeaths_opclaims2016.plot.scatter(x=\"Opioid Claim Count\", y='Drug Deaths', color='LightCoral', \n",
    "                                           grid=True, alpha=0.5, edgecolors = 'black', label='States')\n",
    "#Add title to our scatter plot along with an x-axis and y-axis title\n",
    "#plt.title(\"State Opioid Claim Counts vs. Drug Deaths for 2016\")\n",
    "#plt.xlabel(\"Opioid Claim Count\")\n",
    "#plt.ylabel(\"Drug Deaths\")\n",
    "\n",
    "#plt.savefig(\"../Presentation/graphs/opioidclaims_versus_drugdeaths_16.png\")\n",
    "\n",
    "#plt.show()\n",
    "sns.set_style('darkgrid')\n",
    "plt.title(\"State Opioid Claim Counts vs. Drug Deaths for 2016\")\n",
    "sns.regplot(x='Opioid Claim Count',y='Drug Deaths',data=merged_oddeaths_opclaims2016)\n",
    "plt.savefig(\"../Presentation/graphs/opioidclaims_versus_drugdeaths_16.png\")\n"
   ]
  },
  {
   "cell_type": "code",
   "execution_count": 63,
   "metadata": {},
   "outputs": [
    {
     "name": "stderr",
     "output_type": "stream",
     "text": [
      "/Users/HeatherTrinh/anaconda3/lib/python3.7/site-packages/scipy/stats/stats.py:1713: FutureWarning: Using a non-tuple sequence for multidimensional indexing is deprecated; use `arr[tuple(seq)]` instead of `arr[seq]`. In the future this will be interpreted as an array index, `arr[np.array(seq)]`, which will result either in an error or a different result.\n",
      "  return np.add.reduce(sorted[indexer] * weights, axis=axis) / sumval\n"
     ]
    },
    {
     "data": {
      "image/png": "[encoded data removed]",
      "text/plain": [
       "<Figure size 432x288 with 1 Axes>"
      ]
     },
     "metadata": {},
     "output_type": "display_data"
    }
   ],
   "source": [
    "sns.set_style('darkgrid')\n",
    "plt.title(\"State Opioid Claim Counts vs. Drug Deaths for 2015\")\n",
    "sns.regplot(x='Opioid Claim Count',y='Drug Deaths',data=merged_oddeaths_opclaims2015)\n",
    "plt.savefig(\"../Presentation/graphs/opioidclaims_versus_drugdeaths_15.png\")"
   ]
  },
  {
   "cell_type": "code",
   "execution_count": 48,
   "metadata": {},
   "outputs": [],
   "source": [
    "#Scatter Plot Example for our 2015 data comparint State Opioid Claim Counts vs. Drug Deaths\n",
    "#merged_oddeaths_opclaims2015.plot.scatter(x=\"Opioid Claim Count\", y='Drug Deaths', color='LightCoral', \n",
    "                                           #grid=True, alpha=0.5, edgecolors = 'black', label='States')\n",
    "#Add title to our scatter plot along with an x-axis and y-axis title\n",
    "#plt.title(\"State Opioid Claim Counts vs. Drug Deaths for 2015\")\n",
    "#plt.xlabel(\"Opioid Claim Count\")\n",
    "#plt.ylabel(\"Drug Deaths\")\n",
    "\n",
    "#plt.savefig(\"../Presentation/graphs/opioidclaims_versus_drugdeaths_15.png\")\n",
    "#plt.show()"
   ]
  },
  {
   "cell_type": "code",
   "execution_count": 49,
   "metadata": {},
   "outputs": [
    {
     "data": {
      "text/html": [
       "<div>\n",
       "<style scoped>\n",
       "    .dataframe tbody tr th:only-of-type {\n",
       "        vertical-align: middle;\n",
       "    }\n",
       "\n",
       "    .dataframe tbody tr th {\n",
       "        vertical-align: top;\n",
       "    }\n",
       "\n",
       "    .dataframe thead th {\n",
       "        text-align: right;\n",
       "    }\n",
       "</style>\n",
       "<table border=\"1\" class=\"dataframe\">\n",
       "  <thead>\n",
       "    <tr style=\"text-align: right;\">\n",
       "      <th></th>\n",
       "      <th>Opioid Prescribing Rate</th>\n",
       "    </tr>\n",
       "    <tr>\n",
       "      <th>State</th>\n",
       "      <th></th>\n",
       "    </tr>\n",
       "  </thead>\n",
       "  <tbody>\n",
       "    <tr>\n",
       "      <th>AK</th>\n",
       "      <td>5.876667</td>\n",
       "    </tr>\n",
       "    <tr>\n",
       "      <th>AL</th>\n",
       "      <td>6.589167</td>\n",
       "    </tr>\n",
       "    <tr>\n",
       "      <th>AR</th>\n",
       "      <td>6.616901</td>\n",
       "    </tr>\n",
       "    <tr>\n",
       "      <th>AZ</th>\n",
       "      <td>8.041884</td>\n",
       "    </tr>\n",
       "    <tr>\n",
       "      <th>CA</th>\n",
       "      <td>7.689108</td>\n",
       "    </tr>\n",
       "  </tbody>\n",
       "</table>\n",
       "</div>"
      ],
      "text/plain": [
       "       Opioid Prescribing Rate\n",
       "State                         \n",
       "AK                    5.876667\n",
       "AL                    6.589167\n",
       "AR                    6.616901\n",
       "AZ                    8.041884\n",
       "CA                    7.689108"
      ]
     },
     "execution_count": 49,
     "metadata": {},
     "output_type": "execute_result"
    }
   ],
   "source": [
    "#Analyze information grouped by state doing and grabbing the mean prescribed rates 2016\n",
    "state_prescribedrates_16 = pd.DataFrame(new_merged_2016.groupby([\"State\"])[\"Opioid Prescribing Rate\"].mean())\n",
    "state_prescribedrates_16.head()"
   ]
  },
  {
   "cell_type": "code",
   "execution_count": 50,
   "metadata": {},
   "outputs": [
    {
     "data": {
      "text/html": [
       "<div>\n",
       "<style scoped>\n",
       "    .dataframe tbody tr th:only-of-type {\n",
       "        vertical-align: middle;\n",
       "    }\n",
       "\n",
       "    .dataframe tbody tr th {\n",
       "        vertical-align: top;\n",
       "    }\n",
       "\n",
       "    .dataframe thead th {\n",
       "        text-align: right;\n",
       "    }\n",
       "</style>\n",
       "<table border=\"1\" class=\"dataframe\">\n",
       "  <thead>\n",
       "    <tr style=\"text-align: right;\">\n",
       "      <th></th>\n",
       "      <th>Opioid Prescribing Rate</th>\n",
       "    </tr>\n",
       "    <tr>\n",
       "      <th>State</th>\n",
       "      <th></th>\n",
       "    </tr>\n",
       "  </thead>\n",
       "  <tbody>\n",
       "    <tr>\n",
       "      <th>AK</th>\n",
       "      <td>15.743929</td>\n",
       "    </tr>\n",
       "    <tr>\n",
       "      <th>AL</th>\n",
       "      <td>12.365728</td>\n",
       "    </tr>\n",
       "    <tr>\n",
       "      <th>AP</th>\n",
       "      <td>20.390000</td>\n",
       "    </tr>\n",
       "    <tr>\n",
       "      <th>AR</th>\n",
       "      <td>13.359554</td>\n",
       "    </tr>\n",
       "    <tr>\n",
       "      <th>AZ</th>\n",
       "      <td>14.224116</td>\n",
       "    </tr>\n",
       "  </tbody>\n",
       "</table>\n",
       "</div>"
      ],
      "text/plain": [
       "       Opioid Prescribing Rate\n",
       "State                         \n",
       "AK                   15.743929\n",
       "AL                   12.365728\n",
       "AP                   20.390000\n",
       "AR                   13.359554\n",
       "AZ                   14.224116"
      ]
     },
     "execution_count": 50,
     "metadata": {},
     "output_type": "execute_result"
    }
   ],
   "source": [
    "#Analyze information grouped by state doing and grabbing the mean prescribed rates 2015\n",
    "state_prescribedrates_15 = pd.DataFrame(new_merged_2015.groupby([\"State\"])[\"Opioid Prescribing Rate\"].mean())\n",
    "state_prescribedrates_15.head()"
   ]
  },
  {
   "cell_type": "code",
   "execution_count": 51,
   "metadata": {},
   "outputs": [
    {
     "data": {
      "text/html": [
       "<div>\n",
       "<style scoped>\n",
       "    .dataframe tbody tr th:only-of-type {\n",
       "        vertical-align: middle;\n",
       "    }\n",
       "\n",
       "    .dataframe tbody tr th {\n",
       "        vertical-align: top;\n",
       "    }\n",
       "\n",
       "    .dataframe thead th {\n",
       "        text-align: right;\n",
       "    }\n",
       "</style>\n",
       "<table border=\"1\" class=\"dataframe\">\n",
       "  <thead>\n",
       "    <tr style=\"text-align: right;\">\n",
       "      <th></th>\n",
       "      <th>Opioid Prescribing Rate</th>\n",
       "      <th>Drug Deaths</th>\n",
       "    </tr>\n",
       "    <tr>\n",
       "      <th>State</th>\n",
       "      <th></th>\n",
       "      <th></th>\n",
       "    </tr>\n",
       "  </thead>\n",
       "  <tbody>\n",
       "    <tr>\n",
       "      <th>AK</th>\n",
       "      <td>5.876667</td>\n",
       "      <td>1594.0</td>\n",
       "    </tr>\n",
       "    <tr>\n",
       "      <th>AL</th>\n",
       "      <td>6.589167</td>\n",
       "      <td>8324.0</td>\n",
       "    </tr>\n",
       "    <tr>\n",
       "      <th>AR</th>\n",
       "      <td>6.616901</td>\n",
       "      <td>4513.0</td>\n",
       "    </tr>\n",
       "    <tr>\n",
       "      <th>AZ</th>\n",
       "      <td>8.041884</td>\n",
       "      <td>16403.0</td>\n",
       "    </tr>\n",
       "    <tr>\n",
       "      <th>CA</th>\n",
       "      <td>7.689108</td>\n",
       "      <td>57154.0</td>\n",
       "    </tr>\n",
       "  </tbody>\n",
       "</table>\n",
       "</div>"
      ],
      "text/plain": [
       "       Opioid Prescribing Rate  Drug Deaths\n",
       "State                                      \n",
       "AK                    5.876667       1594.0\n",
       "AL                    6.589167       8324.0\n",
       "AR                    6.616901       4513.0\n",
       "AZ                    8.041884      16403.0\n",
       "CA                    7.689108      57154.0"
      ]
     },
     "execution_count": 51,
     "metadata": {},
     "output_type": "execute_result"
    }
   ],
   "source": [
    "#merge this information with the OD Deaths by state for 2016\n",
    "merged_oddeaths_oprates2016 = state_prescribedrates_16.merge(state_od_2016, on=\"State\", how=\"outer\")\n",
    "merged_oddeaths_oprates2016.head()"
   ]
  },
  {
   "cell_type": "code",
   "execution_count": 52,
   "metadata": {},
   "outputs": [
    {
     "data": {
      "text/html": [
       "<div>\n",
       "<style scoped>\n",
       "    .dataframe tbody tr th:only-of-type {\n",
       "        vertical-align: middle;\n",
       "    }\n",
       "\n",
       "    .dataframe tbody tr th {\n",
       "        vertical-align: top;\n",
       "    }\n",
       "\n",
       "    .dataframe thead th {\n",
       "        text-align: right;\n",
       "    }\n",
       "</style>\n",
       "<table border=\"1\" class=\"dataframe\">\n",
       "  <thead>\n",
       "    <tr style=\"text-align: right;\">\n",
       "      <th></th>\n",
       "      <th>Opioid Prescribing Rate</th>\n",
       "      <th>Drug Deaths</th>\n",
       "    </tr>\n",
       "    <tr>\n",
       "      <th>State</th>\n",
       "      <th></th>\n",
       "      <th></th>\n",
       "    </tr>\n",
       "  </thead>\n",
       "  <tbody>\n",
       "    <tr>\n",
       "      <th>AK</th>\n",
       "      <td>15.743929</td>\n",
       "      <td>1472.0</td>\n",
       "    </tr>\n",
       "    <tr>\n",
       "      <th>AL</th>\n",
       "      <td>12.365728</td>\n",
       "      <td>8818.0</td>\n",
       "    </tr>\n",
       "    <tr>\n",
       "      <th>AP</th>\n",
       "      <td>20.390000</td>\n",
       "      <td>NaN</td>\n",
       "    </tr>\n",
       "    <tr>\n",
       "      <th>AR</th>\n",
       "      <td>13.359554</td>\n",
       "      <td>4616.0</td>\n",
       "    </tr>\n",
       "    <tr>\n",
       "      <th>AZ</th>\n",
       "      <td>14.224116</td>\n",
       "      <td>14590.0</td>\n",
       "    </tr>\n",
       "  </tbody>\n",
       "</table>\n",
       "</div>"
      ],
      "text/plain": [
       "       Opioid Prescribing Rate  Drug Deaths\n",
       "State                                      \n",
       "AK                   15.743929       1472.0\n",
       "AL                   12.365728       8818.0\n",
       "AP                   20.390000          NaN\n",
       "AR                   13.359554       4616.0\n",
       "AZ                   14.224116      14590.0"
      ]
     },
     "execution_count": 52,
     "metadata": {},
     "output_type": "execute_result"
    }
   ],
   "source": [
    "#merge this information with the OD Deaths by state for 2015\n",
    "merged_oddeaths_oprates2015 = state_prescribedrates_15.merge(state_od_2015, on=\"State\", how=\"outer\")\n",
    "merged_oddeaths_oprates2015.head()"
   ]
  },
  {
   "cell_type": "code",
   "execution_count": 53,
   "metadata": {},
   "outputs": [
    {
     "data": {
      "text/plain": [
       "55"
      ]
     },
     "execution_count": 53,
     "metadata": {},
     "output_type": "execute_result"
    }
   ],
   "source": [
    "len(merged_oddeaths_oprates2016)"
   ]
  },
  {
   "cell_type": "code",
   "execution_count": 54,
   "metadata": {},
   "outputs": [
    {
     "data": {
      "text/plain": [
       "56"
      ]
     },
     "execution_count": 54,
     "metadata": {},
     "output_type": "execute_result"
    }
   ],
   "source": [
    "len(merged_oddeaths_oprates2015)"
   ]
  },
  {
   "cell_type": "code",
   "execution_count": 55,
   "metadata": {},
   "outputs": [
    {
     "data": {
      "text/plain": [
       "51"
      ]
     },
     "execution_count": 55,
     "metadata": {},
     "output_type": "execute_result"
    }
   ],
   "source": [
    "#dropna for fields with missing column values for 2016\n",
    "merged_oddeaths_oprates2016 = merged_oddeaths_oprates2016.dropna(axis=0, how='any')\n",
    "len(merged_oddeaths_oprates2016)"
   ]
  },
  {
   "cell_type": "code",
   "execution_count": 56,
   "metadata": {},
   "outputs": [
    {
     "data": {
      "text/plain": [
       "51"
      ]
     },
     "execution_count": 56,
     "metadata": {},
     "output_type": "execute_result"
    }
   ],
   "source": [
    "#dropna for fields with missing column values for 2015\n",
    "merged_oddeaths_oprates2015 = merged_oddeaths_oprates2015.dropna(axis=0, how='any')\n",
    "len(merged_oddeaths_oprates2015)"
   ]
  },
  {
   "cell_type": "code",
   "execution_count": 88,
   "metadata": {},
   "outputs": [
    {
     "data": {
      "image/png": "[encoded data removed]",
      "text/plain": [
       "<Figure size 432x288 with 1 Axes>"
      ]
     },
     "metadata": {},
     "output_type": "display_data"
    }
   ],
   "source": [
    "#Scatter Plot Example comparing the average State Opioid Prescribeing Rates vs Drug Deaths for 2016\n",
    "merged_oddeaths_oprates2016.plot.scatter(x=\"Opioid Prescribing Rate\", y='Drug Deaths', color='aqua', \n",
    "                                           grid=True, alpha=0.5, edgecolors = 'black', label='States')\n",
    "#Add title to our scatter plot along with an x-axis and y-axis title\n",
    "plt.text(21,15,'*Prescribing rates calculated from individual physicians')\n",
    "plt.title(\"State Opioid Prescribing Rates vs. Drug Deaths for 2016\")\n",
    "plt.xlabel(\"Opioid Prescribing Rates\")\n",
    "plt.ylabel(\"Drug Deaths\")\n",
    "plt.savefig(\"../Presentation/graphs/opioidprescribedrates_versus_drugdeaths_16.png\")\n",
    "\n",
    "plt.show()\n"
   ]
  },
  {
   "cell_type": "code",
   "execution_count": 58,
   "metadata": {},
   "outputs": [],
   "source": [
    "\n",
    "#sns.regplot(x='Opioid Prescribing Rate',y='Drug Deaths',data=merged_oddeaths_oprates2015)"
   ]
  },
  {
   "cell_type": "code",
   "execution_count": 90,
   "metadata": {},
   "outputs": [
    {
     "data": {
      "image/png": "[encoded data removed]",
      "text/plain": [
       "<Figure size 432x288 with 1 Axes>"
      ]
     },
     "metadata": {},
     "output_type": "display_data"
    }
   ],
   "source": [
    "#Scatter Plot Example comparing the average State Opioid Prescribeing Rates vs Drug Deaths for 2015\n",
    "merged_oddeaths_oprates2015.plot.scatter(x=\"Opioid Prescribing Rate\", y='Drug Deaths', color='blue', \n",
    "                                           grid=True, alpha=0.5, edgecolors = 'black', label='States')\n",
    "#Add title to our scatter plot along with an x-axis and y-axis title\n",
    "plt.title(\"State Opioid Prescribing Rates vs. Drug Deaths for 2015\")\n",
    "plt.xlabel(\"Opioid Prescribing Rates\")\n",
    "plt.ylabel(\"Drug Deaths\")\n",
    "\n",
    "plt.savefig(\"../Presentation/graphs/opioidprescribedrates_versus_drugdeaths_15.png\")\n",
    "\n",
    "plt.show()"
   ]
  },
  {
   "cell_type": "code",
   "execution_count": 60,
   "metadata": {},
   "outputs": [
    {
     "data": {
      "text/plain": [
       "7.641563209303478"
      ]
     },
     "execution_count": 60,
     "metadata": {},
     "output_type": "execute_result"
    }
   ],
   "source": [
    "average_opprescribed_16 = merged_oddeaths_oprates2016[\"Opioid Prescribing Rate\"].mean()\n",
    "average_opprescribed_16"
   ]
  },
  {
   "cell_type": "code",
   "execution_count": 61,
   "metadata": {},
   "outputs": [
    {
     "data": {
      "text/plain": [
       "13.404359172423975"
      ]
     },
     "execution_count": 61,
     "metadata": {},
     "output_type": "execute_result"
    }
   ],
   "source": [
    "average_opprescribed_15 = merged_oddeaths_oprates2015[\"Opioid Prescribing Rate\"].mean()\n",
    "average_opprescribed_15"
   ]
  },
  {
   "cell_type": "code",
   "execution_count": null,
   "metadata": {},
   "outputs": [],
   "source": []
  }
 ],
 "metadata": {
  "kernelspec": {
   "display_name": "Python 3",
   "language": "python",
   "name": "python3"
  },
  "language_info": {
   "codemirror_mode": {
    "name": "ipython",
    "version": 3
   },
   "file_extension": ".py",
   "mimetype": "text/x-python",
   "name": "python",
   "nbconvert_exporter": "python",
   "pygments_lexer": "ipython3",
   "version": "3.7.1"
  }
 },
 "nbformat": 4,
 "nbformat_minor": 2
}

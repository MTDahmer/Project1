{
 "cells": [
  {
   "cell_type": "code",
   "execution_count": 2,
   "metadata": {},
   "outputs": [],
   "source": [
    "import pandas as pd\n",
    "import csv\n",
    "import matplotlib.pyplot as plt\n",
    "import os\n",
    "import sys\n",
    "import numpy as np\n",
    "import seaborn as sns\n",
    "\n",
    "csv0 = '../Presentation/clean/clean_od15.csv'\n",
    "clean_od_2015 = pd.read_csv(csv0)\n",
    "\n",
    "csv1 = '../Presentation/clean/clean_od16.csv'\n",
    "clean_od_2016 = pd.read_csv(csv1)\n",
    "\n",
    "csv2 = '../Presentation/clean/op_final_15.csv'\n",
    "op_final_15 = pd.read_csv(csv2)\n",
    "\n",
    "csv3 = '../Presentation/clean/op_final_16.csv'\n",
    "op_final_16 = pd.read_csv(csv3)\n",
    "\n",
    "csv4 = '../Presentation/clean/PAC_Scores_2015.csv'\n",
    "PAC_Scores_2015 = pd.read_csv(csv4)\n",
    "\n",
    "csv5 = '../Presentation/clean/PAC_Scores_2016_f.csv'\n",
    "PAC_Scores_2016 = pd.read_csv(csv5)\n",
    "\n",
    "csv6 = '../Presentation/clean/PAC_Scores_2016_f.csv'\n",
    "PAC_Scores_2016 = pd.read_csv(csv6)\n",
    "\n",
    "csv7 = '../Presentation/clean/op_pac_final_15.csv'\n",
    "op_pac_final_15 = pd.read_csv(csv7)\n",
    "\n",
    "csv8 = '../Presentation/clean/op_pac_final_16.csv'\n",
    "op_pac_final_16 = pd.read_csv(csv8)\n",
    "\n",
    "csv9 = '../Presentation/clean/state_op_final_15.csv'\n",
    "state_op_final_15 = pd.read_csv(csv9)\n",
    "\n",
    "csv10 = '../Presentation/clean/state_op_final_16.csv'\n",
    "state_op_final_16 = pd.read_csv(csv10)\n",
    "\n",
    "csv11 = '../Presentation/Clean/physician_ratings_bypac_15'\n",
    "phys_ratings15_pac = pd.read_csv(csv11)\n",
    "\n",
    "csv12 = '../Presentation/Clean/physician_ratings_bypac_16'\n",
    "phys_ratings16_pac = pd.read_csv(csv12)"
   ]
  },
  {
   "cell_type": "code",
   "execution_count": 3,
   "metadata": {},
   "outputs": [],
   "source": [
    "output1 = '../Presentation/Clean/merged_ratings_prescribed_15'\n",
    "output2 = '../Presentation/Clean/merged_ratings_prescribed_16'"
   ]
  },
  {
   "cell_type": "code",
   "execution_count": 4,
   "metadata": {},
   "outputs": [
    {
     "data": {
      "text/html": [
       "<div>\n",
       "<style scoped>\n",
       "    .dataframe tbody tr th:only-of-type {\n",
       "        vertical-align: middle;\n",
       "    }\n",
       "\n",
       "    .dataframe tbody tr th {\n",
       "        vertical-align: top;\n",
       "    }\n",
       "\n",
       "    .dataframe thead th {\n",
       "        text-align: right;\n",
       "    }\n",
       "</style>\n",
       "<table border=\"1\" class=\"dataframe\">\n",
       "  <thead>\n",
       "    <tr style=\"text-align: right;\">\n",
       "      <th></th>\n",
       "      <th>Group PAC ID</th>\n",
       "      <th>Measure Performance Rate</th>\n",
       "      <th>Year</th>\n",
       "      <th>State</th>\n",
       "    </tr>\n",
       "  </thead>\n",
       "  <tbody>\n",
       "    <tr>\n",
       "      <th>0</th>\n",
       "      <td>42105678</td>\n",
       "      <td>65.875</td>\n",
       "      <td>2015</td>\n",
       "      <td>PA</td>\n",
       "    </tr>\n",
       "    <tr>\n",
       "      <th>1</th>\n",
       "      <td>42111981</td>\n",
       "      <td>60.750</td>\n",
       "      <td>2015</td>\n",
       "      <td>MN</td>\n",
       "    </tr>\n",
       "    <tr>\n",
       "      <th>2</th>\n",
       "      <td>42128548</td>\n",
       "      <td>65.125</td>\n",
       "      <td>2015</td>\n",
       "      <td>TX</td>\n",
       "    </tr>\n",
       "    <tr>\n",
       "      <th>3</th>\n",
       "      <td>143378117</td>\n",
       "      <td>67.375</td>\n",
       "      <td>2015</td>\n",
       "      <td>NC</td>\n",
       "    </tr>\n",
       "    <tr>\n",
       "      <th>4</th>\n",
       "      <td>244133494</td>\n",
       "      <td>65.625</td>\n",
       "      <td>2015</td>\n",
       "      <td>MA</td>\n",
       "    </tr>\n",
       "  </tbody>\n",
       "</table>\n",
       "</div>"
      ],
      "text/plain": [
       "   Group PAC ID  Measure Performance Rate  Year State\n",
       "0      42105678                    65.875  2015    PA\n",
       "1      42111981                    60.750  2015    MN\n",
       "2      42128548                    65.125  2015    TX\n",
       "3     143378117                    67.375  2015    NC\n",
       "4     244133494                    65.625  2015    MA"
      ]
     },
     "execution_count": 4,
     "metadata": {},
     "output_type": "execute_result"
    }
   ],
   "source": [
    "PAC_Scores_2015.head()"
   ]
  },
  {
   "cell_type": "code",
   "execution_count": 5,
   "metadata": {},
   "outputs": [],
   "source": [
    "#rename the PAC ID column to match with op_pac_final\n",
    "PAC_Scores_2015 = PAC_Scores_2015.rename(columns={\"Group PAC ID\":\"PAC ID\"})\n",
    "#rename the PAC ID column for the 2016 file as well\n",
    "PAC_Scores_2016 = PAC_Scores_2016.rename(columns={\"Group PAC ID\":\"PAC ID\"})"
   ]
  },
  {
   "cell_type": "code",
   "execution_count": 6,
   "metadata": {},
   "outputs": [
    {
     "data": {
      "text/html": [
       "<div>\n",
       "<style scoped>\n",
       "    .dataframe tbody tr th:only-of-type {\n",
       "        vertical-align: middle;\n",
       "    }\n",
       "\n",
       "    .dataframe tbody tr th {\n",
       "        vertical-align: top;\n",
       "    }\n",
       "\n",
       "    .dataframe thead th {\n",
       "        text-align: right;\n",
       "    }\n",
       "</style>\n",
       "<table border=\"1\" class=\"dataframe\">\n",
       "  <thead>\n",
       "    <tr style=\"text-align: right;\">\n",
       "      <th></th>\n",
       "      <th>PAC ID</th>\n",
       "      <th>Measure Performance Rate</th>\n",
       "      <th>Year</th>\n",
       "      <th>State</th>\n",
       "    </tr>\n",
       "  </thead>\n",
       "  <tbody>\n",
       "    <tr>\n",
       "      <th>0</th>\n",
       "      <td>42105678</td>\n",
       "      <td>65.875</td>\n",
       "      <td>2015</td>\n",
       "      <td>PA</td>\n",
       "    </tr>\n",
       "    <tr>\n",
       "      <th>1</th>\n",
       "      <td>42111981</td>\n",
       "      <td>60.750</td>\n",
       "      <td>2015</td>\n",
       "      <td>MN</td>\n",
       "    </tr>\n",
       "    <tr>\n",
       "      <th>2</th>\n",
       "      <td>42128548</td>\n",
       "      <td>65.125</td>\n",
       "      <td>2015</td>\n",
       "      <td>TX</td>\n",
       "    </tr>\n",
       "    <tr>\n",
       "      <th>3</th>\n",
       "      <td>143378117</td>\n",
       "      <td>67.375</td>\n",
       "      <td>2015</td>\n",
       "      <td>NC</td>\n",
       "    </tr>\n",
       "    <tr>\n",
       "      <th>4</th>\n",
       "      <td>244133494</td>\n",
       "      <td>65.625</td>\n",
       "      <td>2015</td>\n",
       "      <td>MA</td>\n",
       "    </tr>\n",
       "  </tbody>\n",
       "</table>\n",
       "</div>"
      ],
      "text/plain": [
       "      PAC ID  Measure Performance Rate  Year State\n",
       "0   42105678                    65.875  2015    PA\n",
       "1   42111981                    60.750  2015    MN\n",
       "2   42128548                    65.125  2015    TX\n",
       "3  143378117                    67.375  2015    NC\n",
       "4  244133494                    65.625  2015    MA"
      ]
     },
     "execution_count": 6,
     "metadata": {},
     "output_type": "execute_result"
    }
   ],
   "source": [
    "PAC_Scores_2015.head()"
   ]
  },
  {
   "cell_type": "code",
   "execution_count": 7,
   "metadata": {},
   "outputs": [
    {
     "data": {
      "text/html": [
       "<div>\n",
       "<style scoped>\n",
       "    .dataframe tbody tr th:only-of-type {\n",
       "        vertical-align: middle;\n",
       "    }\n",
       "\n",
       "    .dataframe tbody tr th {\n",
       "        vertical-align: top;\n",
       "    }\n",
       "\n",
       "    .dataframe thead th {\n",
       "        text-align: right;\n",
       "    }\n",
       "</style>\n",
       "<table border=\"1\" class=\"dataframe\">\n",
       "  <thead>\n",
       "    <tr style=\"text-align: right;\">\n",
       "      <th></th>\n",
       "      <th>PAC ID</th>\n",
       "      <th>Measure Performance Rate</th>\n",
       "    </tr>\n",
       "  </thead>\n",
       "  <tbody>\n",
       "    <tr>\n",
       "      <th>0</th>\n",
       "      <td>42105678</td>\n",
       "      <td>65.875</td>\n",
       "    </tr>\n",
       "    <tr>\n",
       "      <th>1</th>\n",
       "      <td>42111981</td>\n",
       "      <td>60.750</td>\n",
       "    </tr>\n",
       "    <tr>\n",
       "      <th>2</th>\n",
       "      <td>42128548</td>\n",
       "      <td>65.125</td>\n",
       "    </tr>\n",
       "    <tr>\n",
       "      <th>3</th>\n",
       "      <td>143378117</td>\n",
       "      <td>67.375</td>\n",
       "    </tr>\n",
       "    <tr>\n",
       "      <th>4</th>\n",
       "      <td>244133494</td>\n",
       "      <td>65.625</td>\n",
       "    </tr>\n",
       "  </tbody>\n",
       "</table>\n",
       "</div>"
      ],
      "text/plain": [
       "      PAC ID  Measure Performance Rate\n",
       "0   42105678                    65.875\n",
       "1   42111981                    60.750\n",
       "2   42128548                    65.125\n",
       "3  143378117                    67.375\n",
       "4  244133494                    65.625"
      ]
     },
     "execution_count": 7,
     "metadata": {},
     "output_type": "execute_result"
    }
   ],
   "source": [
    "#clean PAC '15 scores to only include PAC ID for merge\n",
    "pac_ratings_15 = PAC_Scores_2015[[\"PAC ID\",\"Measure Performance Rate\"]]\n",
    "#clean PAC '16 scores to only include PAC ID of merge\n",
    "pac_ratings_16 = PAC_Scores_2016[[\"PAC ID\",\"Measure Performance Rate\"]]\n",
    "\n",
    "\n",
    "pac_ratings_15.head()"
   ]
  },
  {
   "cell_type": "code",
   "execution_count": 8,
   "metadata": {},
   "outputs": [],
   "source": [
    "#pac_ratings_15.sort_values(\"Measure Performance Rate\", ascending=False)"
   ]
  },
  {
   "cell_type": "code",
   "execution_count": 9,
   "metadata": {},
   "outputs": [
    {
     "data": {
      "text/plain": [
       "PAC ID                        int64\n",
       "Measure Performance Rate    float64\n",
       "dtype: object"
      ]
     },
     "execution_count": 9,
     "metadata": {},
     "output_type": "execute_result"
    }
   ],
   "source": [
    "pac_ratings_15.dtypes"
   ]
  },
  {
   "cell_type": "code",
   "execution_count": 10,
   "metadata": {},
   "outputs": [
    {
     "data": {
      "text/html": [
       "<div>\n",
       "<style scoped>\n",
       "    .dataframe tbody tr th:only-of-type {\n",
       "        vertical-align: middle;\n",
       "    }\n",
       "\n",
       "    .dataframe tbody tr th {\n",
       "        vertical-align: top;\n",
       "    }\n",
       "\n",
       "    .dataframe thead th {\n",
       "        text-align: right;\n",
       "    }\n",
       "</style>\n",
       "<table border=\"1\" class=\"dataframe\">\n",
       "  <thead>\n",
       "    <tr style=\"text-align: right;\">\n",
       "      <th></th>\n",
       "      <th>PAC ID</th>\n",
       "      <th>Total Claim Count</th>\n",
       "      <th>Opioid Claim Count</th>\n",
       "      <th>Opioid Prescribing Rate</th>\n",
       "      <th>State</th>\n",
       "    </tr>\n",
       "  </thead>\n",
       "  <tbody>\n",
       "    <tr>\n",
       "      <th>0</th>\n",
       "      <td>42100190.0</td>\n",
       "      <td>241.0</td>\n",
       "      <td>68.0</td>\n",
       "      <td>28.22</td>\n",
       "      <td>MI</td>\n",
       "    </tr>\n",
       "    <tr>\n",
       "      <th>1</th>\n",
       "      <td>42100273.0</td>\n",
       "      <td>232.0</td>\n",
       "      <td>22.0</td>\n",
       "      <td>9.48</td>\n",
       "      <td>TX</td>\n",
       "    </tr>\n",
       "    <tr>\n",
       "      <th>2</th>\n",
       "      <td>42101156.0</td>\n",
       "      <td>620.0</td>\n",
       "      <td>38.0</td>\n",
       "      <td>6.13</td>\n",
       "      <td>NV</td>\n",
       "    </tr>\n",
       "    <tr>\n",
       "      <th>3</th>\n",
       "      <td>42101164.0</td>\n",
       "      <td>336.0</td>\n",
       "      <td>56.0</td>\n",
       "      <td>16.67</td>\n",
       "      <td>MI</td>\n",
       "    </tr>\n",
       "    <tr>\n",
       "      <th>4</th>\n",
       "      <td>42101446.0</td>\n",
       "      <td>682.0</td>\n",
       "      <td>228.0</td>\n",
       "      <td>33.43</td>\n",
       "      <td>IL</td>\n",
       "    </tr>\n",
       "  </tbody>\n",
       "</table>\n",
       "</div>"
      ],
      "text/plain": [
       "       PAC ID  Total Claim Count  Opioid Claim Count  Opioid Prescribing Rate  \\\n",
       "0  42100190.0              241.0                68.0                    28.22   \n",
       "1  42100273.0              232.0                22.0                     9.48   \n",
       "2  42101156.0              620.0                38.0                     6.13   \n",
       "3  42101164.0              336.0                56.0                    16.67   \n",
       "4  42101446.0              682.0               228.0                    33.43   \n",
       "\n",
       "  State  \n",
       "0    MI  \n",
       "1    TX  \n",
       "2    NV  \n",
       "3    MI  \n",
       "4    IL  "
      ]
     },
     "execution_count": 10,
     "metadata": {},
     "output_type": "execute_result"
    }
   ],
   "source": [
    "op_pac_final_15.head()"
   ]
  },
  {
   "cell_type": "code",
   "execution_count": 11,
   "metadata": {},
   "outputs": [],
   "source": [
    "#change the PAC ID data type from a float to int64 to match for 2015\n",
    "op_pac_final_15[\"PAC ID\"] = op_pac_final_15[\"PAC ID\"].astype(np.int64)\n",
    "#change the PAC ID data type from a float to int64 to match for 2016\n",
    "op_pac_final_16[\"PAC ID\"] = op_pac_final_16[\"PAC ID\"].astype(np.int64)"
   ]
  },
  {
   "cell_type": "code",
   "execution_count": 12,
   "metadata": {},
   "outputs": [
    {
     "data": {
      "text/plain": [
       "PAC ID                       int64\n",
       "Total Claim Count          float64\n",
       "Opioid Claim Count         float64\n",
       "Opioid Prescribing Rate    float64\n",
       "State                       object\n",
       "dtype: object"
      ]
     },
     "execution_count": 12,
     "metadata": {},
     "output_type": "execute_result"
    }
   ],
   "source": [
    "op_pac_final_15.dtypes"
   ]
  },
  {
   "cell_type": "code",
   "execution_count": 13,
   "metadata": {},
   "outputs": [
    {
     "data": {
      "text/html": [
       "<div>\n",
       "<style scoped>\n",
       "    .dataframe tbody tr th:only-of-type {\n",
       "        vertical-align: middle;\n",
       "    }\n",
       "\n",
       "    .dataframe tbody tr th {\n",
       "        vertical-align: top;\n",
       "    }\n",
       "\n",
       "    .dataframe thead th {\n",
       "        text-align: right;\n",
       "    }\n",
       "</style>\n",
       "<table border=\"1\" class=\"dataframe\">\n",
       "  <thead>\n",
       "    <tr style=\"text-align: right;\">\n",
       "      <th></th>\n",
       "      <th>PAC ID</th>\n",
       "      <th>Total Claim Count</th>\n",
       "      <th>Opioid Claim Count</th>\n",
       "      <th>Opioid Prescribing Rate</th>\n",
       "      <th>State</th>\n",
       "    </tr>\n",
       "  </thead>\n",
       "  <tbody>\n",
       "    <tr>\n",
       "      <th>0</th>\n",
       "      <td>42100190</td>\n",
       "      <td>241.0</td>\n",
       "      <td>68.0</td>\n",
       "      <td>28.22</td>\n",
       "      <td>MI</td>\n",
       "    </tr>\n",
       "    <tr>\n",
       "      <th>1</th>\n",
       "      <td>42100273</td>\n",
       "      <td>232.0</td>\n",
       "      <td>22.0</td>\n",
       "      <td>9.48</td>\n",
       "      <td>TX</td>\n",
       "    </tr>\n",
       "    <tr>\n",
       "      <th>2</th>\n",
       "      <td>42101156</td>\n",
       "      <td>620.0</td>\n",
       "      <td>38.0</td>\n",
       "      <td>6.13</td>\n",
       "      <td>NV</td>\n",
       "    </tr>\n",
       "    <tr>\n",
       "      <th>3</th>\n",
       "      <td>42101164</td>\n",
       "      <td>336.0</td>\n",
       "      <td>56.0</td>\n",
       "      <td>16.67</td>\n",
       "      <td>MI</td>\n",
       "    </tr>\n",
       "    <tr>\n",
       "      <th>4</th>\n",
       "      <td>42101446</td>\n",
       "      <td>682.0</td>\n",
       "      <td>228.0</td>\n",
       "      <td>33.43</td>\n",
       "      <td>IL</td>\n",
       "    </tr>\n",
       "  </tbody>\n",
       "</table>\n",
       "</div>"
      ],
      "text/plain": [
       "     PAC ID  Total Claim Count  Opioid Claim Count  Opioid Prescribing Rate  \\\n",
       "0  42100190              241.0                68.0                    28.22   \n",
       "1  42100273              232.0                22.0                     9.48   \n",
       "2  42101156              620.0                38.0                     6.13   \n",
       "3  42101164              336.0                56.0                    16.67   \n",
       "4  42101446              682.0               228.0                    33.43   \n",
       "\n",
       "  State  \n",
       "0    MI  \n",
       "1    TX  \n",
       "2    NV  \n",
       "3    MI  \n",
       "4    IL  "
      ]
     },
     "execution_count": 13,
     "metadata": {},
     "output_type": "execute_result"
    }
   ],
   "source": [
    "op_pac_final_15.head()"
   ]
  },
  {
   "cell_type": "code",
   "execution_count": 14,
   "metadata": {},
   "outputs": [
    {
     "data": {
      "text/html": [
       "<div>\n",
       "<style scoped>\n",
       "    .dataframe tbody tr th:only-of-type {\n",
       "        vertical-align: middle;\n",
       "    }\n",
       "\n",
       "    .dataframe tbody tr th {\n",
       "        vertical-align: top;\n",
       "    }\n",
       "\n",
       "    .dataframe thead th {\n",
       "        text-align: right;\n",
       "    }\n",
       "</style>\n",
       "<table border=\"1\" class=\"dataframe\">\n",
       "  <thead>\n",
       "    <tr style=\"text-align: right;\">\n",
       "      <th></th>\n",
       "      <th>PAC ID</th>\n",
       "      <th>Total Claim Count</th>\n",
       "      <th>Opioid Claim Count</th>\n",
       "      <th>Opioid Prescribing Rate</th>\n",
       "      <th>State</th>\n",
       "      <th>Measure Performance Rate</th>\n",
       "    </tr>\n",
       "  </thead>\n",
       "  <tbody>\n",
       "    <tr>\n",
       "      <th>0</th>\n",
       "      <td>42100190</td>\n",
       "      <td>241.0</td>\n",
       "      <td>68.0</td>\n",
       "      <td>28.22</td>\n",
       "      <td>MI</td>\n",
       "      <td>NaN</td>\n",
       "    </tr>\n",
       "    <tr>\n",
       "      <th>1</th>\n",
       "      <td>42100273</td>\n",
       "      <td>232.0</td>\n",
       "      <td>22.0</td>\n",
       "      <td>9.48</td>\n",
       "      <td>TX</td>\n",
       "      <td>NaN</td>\n",
       "    </tr>\n",
       "    <tr>\n",
       "      <th>2</th>\n",
       "      <td>42101156</td>\n",
       "      <td>620.0</td>\n",
       "      <td>38.0</td>\n",
       "      <td>6.13</td>\n",
       "      <td>NV</td>\n",
       "      <td>NaN</td>\n",
       "    </tr>\n",
       "    <tr>\n",
       "      <th>3</th>\n",
       "      <td>42101164</td>\n",
       "      <td>336.0</td>\n",
       "      <td>56.0</td>\n",
       "      <td>16.67</td>\n",
       "      <td>MI</td>\n",
       "      <td>NaN</td>\n",
       "    </tr>\n",
       "    <tr>\n",
       "      <th>4</th>\n",
       "      <td>42101446</td>\n",
       "      <td>682.0</td>\n",
       "      <td>228.0</td>\n",
       "      <td>33.43</td>\n",
       "      <td>IL</td>\n",
       "      <td>NaN</td>\n",
       "    </tr>\n",
       "  </tbody>\n",
       "</table>\n",
       "</div>"
      ],
      "text/plain": [
       "     PAC ID  Total Claim Count  Opioid Claim Count  Opioid Prescribing Rate  \\\n",
       "0  42100190              241.0                68.0                    28.22   \n",
       "1  42100273              232.0                22.0                     9.48   \n",
       "2  42101156              620.0                38.0                     6.13   \n",
       "3  42101164              336.0                56.0                    16.67   \n",
       "4  42101446              682.0               228.0                    33.43   \n",
       "\n",
       "  State  Measure Performance Rate  \n",
       "0    MI                       NaN  \n",
       "1    TX                       NaN  \n",
       "2    NV                       NaN  \n",
       "3    MI                       NaN  \n",
       "4    IL                       NaN  "
      ]
     },
     "execution_count": 14,
     "metadata": {},
     "output_type": "execute_result"
    }
   ],
   "source": [
    "#merge our pac '15 data with our 2015 Opioid data by PAC\n",
    "merged_pac_15 = op_pac_final_15.merge(pac_ratings_15, on=\"PAC ID\", how=\"outer\")\n",
    "merged_pac_15.head()"
   ]
  },
  {
   "cell_type": "code",
   "execution_count": 15,
   "metadata": {},
   "outputs": [
    {
     "data": {
      "text/html": [
       "<div>\n",
       "<style scoped>\n",
       "    .dataframe tbody tr th:only-of-type {\n",
       "        vertical-align: middle;\n",
       "    }\n",
       "\n",
       "    .dataframe tbody tr th {\n",
       "        vertical-align: top;\n",
       "    }\n",
       "\n",
       "    .dataframe thead th {\n",
       "        text-align: right;\n",
       "    }\n",
       "</style>\n",
       "<table border=\"1\" class=\"dataframe\">\n",
       "  <thead>\n",
       "    <tr style=\"text-align: right;\">\n",
       "      <th></th>\n",
       "      <th>PAC ID</th>\n",
       "      <th>Total Claim Count</th>\n",
       "      <th>Opioid Claim Count</th>\n",
       "      <th>Opioid Prescribing Rate</th>\n",
       "      <th>State</th>\n",
       "      <th>Measure Performance Rate</th>\n",
       "    </tr>\n",
       "  </thead>\n",
       "  <tbody>\n",
       "    <tr>\n",
       "      <th>0</th>\n",
       "      <td>42100190</td>\n",
       "      <td>241.0</td>\n",
       "      <td>68.0</td>\n",
       "      <td>28.22</td>\n",
       "      <td>MI</td>\n",
       "      <td>NaN</td>\n",
       "    </tr>\n",
       "    <tr>\n",
       "      <th>1</th>\n",
       "      <td>42100273</td>\n",
       "      <td>232.0</td>\n",
       "      <td>22.0</td>\n",
       "      <td>9.48</td>\n",
       "      <td>TX</td>\n",
       "      <td>NaN</td>\n",
       "    </tr>\n",
       "    <tr>\n",
       "      <th>2</th>\n",
       "      <td>42101156</td>\n",
       "      <td>620.0</td>\n",
       "      <td>38.0</td>\n",
       "      <td>6.13</td>\n",
       "      <td>NV</td>\n",
       "      <td>NaN</td>\n",
       "    </tr>\n",
       "    <tr>\n",
       "      <th>3</th>\n",
       "      <td>42101164</td>\n",
       "      <td>336.0</td>\n",
       "      <td>56.0</td>\n",
       "      <td>16.67</td>\n",
       "      <td>MI</td>\n",
       "      <td>NaN</td>\n",
       "    </tr>\n",
       "    <tr>\n",
       "      <th>4</th>\n",
       "      <td>42101446</td>\n",
       "      <td>682.0</td>\n",
       "      <td>228.0</td>\n",
       "      <td>33.43</td>\n",
       "      <td>IL</td>\n",
       "      <td>NaN</td>\n",
       "    </tr>\n",
       "  </tbody>\n",
       "</table>\n",
       "</div>"
      ],
      "text/plain": [
       "     PAC ID  Total Claim Count  Opioid Claim Count  Opioid Prescribing Rate  \\\n",
       "0  42100190              241.0                68.0                    28.22   \n",
       "1  42100273              232.0                22.0                     9.48   \n",
       "2  42101156              620.0                38.0                     6.13   \n",
       "3  42101164              336.0                56.0                    16.67   \n",
       "4  42101446              682.0               228.0                    33.43   \n",
       "\n",
       "  State  Measure Performance Rate  \n",
       "0    MI                       NaN  \n",
       "1    TX                       NaN  \n",
       "2    NV                       NaN  \n",
       "3    MI                       NaN  \n",
       "4    IL                       NaN  "
      ]
     },
     "execution_count": 15,
     "metadata": {},
     "output_type": "execute_result"
    }
   ],
   "source": [
    "merged_pac_15.head()"
   ]
  },
  {
   "cell_type": "code",
   "execution_count": 16,
   "metadata": {},
   "outputs": [
    {
     "data": {
      "text/plain": [
       "14853"
      ]
     },
     "execution_count": 16,
     "metadata": {},
     "output_type": "execute_result"
    }
   ],
   "source": [
    "len(op_pac_final_15)"
   ]
  },
  {
   "cell_type": "code",
   "execution_count": 17,
   "metadata": {},
   "outputs": [
    {
     "data": {
      "text/plain": [
       "15282"
      ]
     },
     "execution_count": 17,
     "metadata": {},
     "output_type": "execute_result"
    }
   ],
   "source": [
    "len(merged_pac_15)"
   ]
  },
  {
   "cell_type": "code",
   "execution_count": 18,
   "metadata": {},
   "outputs": [
    {
     "data": {
      "text/html": [
       "<div>\n",
       "<style scoped>\n",
       "    .dataframe tbody tr th:only-of-type {\n",
       "        vertical-align: middle;\n",
       "    }\n",
       "\n",
       "    .dataframe tbody tr th {\n",
       "        vertical-align: top;\n",
       "    }\n",
       "\n",
       "    .dataframe thead th {\n",
       "        text-align: right;\n",
       "    }\n",
       "</style>\n",
       "<table border=\"1\" class=\"dataframe\">\n",
       "  <thead>\n",
       "    <tr style=\"text-align: right;\">\n",
       "      <th></th>\n",
       "      <th>PAC ID</th>\n",
       "      <th>Total Claim Count</th>\n",
       "      <th>Opioid Claim Count</th>\n",
       "      <th>Opioid Prescribing Rate</th>\n",
       "      <th>State</th>\n",
       "      <th>Measure Performance Rate</th>\n",
       "    </tr>\n",
       "  </thead>\n",
       "  <tbody>\n",
       "  </tbody>\n",
       "</table>\n",
       "</div>"
      ],
      "text/plain": [
       "Empty DataFrame\n",
       "Columns: [PAC ID, Total Claim Count, Opioid Claim Count, Opioid Prescribing Rate, State, Measure Performance Rate]\n",
       "Index: []"
      ]
     },
     "execution_count": 18,
     "metadata": {},
     "output_type": "execute_result"
    }
   ],
   "source": [
    "#drop NA values from our file\n",
    "merged_pac_15clean = merged_pac_15.dropna(axis=0, how='any')\n",
    "merged_pac_15clean.head()"
   ]
  },
  {
   "cell_type": "code",
   "execution_count": 19,
   "metadata": {},
   "outputs": [
    {
     "data": {
      "text/html": [
       "<div>\n",
       "<style scoped>\n",
       "    .dataframe tbody tr th:only-of-type {\n",
       "        vertical-align: middle;\n",
       "    }\n",
       "\n",
       "    .dataframe tbody tr th {\n",
       "        vertical-align: top;\n",
       "    }\n",
       "\n",
       "    .dataframe thead th {\n",
       "        text-align: right;\n",
       "    }\n",
       "</style>\n",
       "<table border=\"1\" class=\"dataframe\">\n",
       "  <thead>\n",
       "    <tr style=\"text-align: right;\">\n",
       "      <th></th>\n",
       "      <th>PAC ID</th>\n",
       "      <th>Total Claim Count</th>\n",
       "      <th>Opioid Claim Count</th>\n",
       "      <th>Opioid Prescribing Rate</th>\n",
       "      <th>State</th>\n",
       "      <th>Measure Performance Rate</th>\n",
       "    </tr>\n",
       "  </thead>\n",
       "  <tbody>\n",
       "    <tr>\n",
       "      <th>0</th>\n",
       "      <td>42100190</td>\n",
       "      <td>241.0</td>\n",
       "      <td>77.0</td>\n",
       "      <td>31.95</td>\n",
       "      <td>MI</td>\n",
       "      <td>NaN</td>\n",
       "    </tr>\n",
       "    <tr>\n",
       "      <th>1</th>\n",
       "      <td>42102618</td>\n",
       "      <td>491.0</td>\n",
       "      <td>226.0</td>\n",
       "      <td>46.03</td>\n",
       "      <td>CA</td>\n",
       "      <td>NaN</td>\n",
       "    </tr>\n",
       "    <tr>\n",
       "      <th>2</th>\n",
       "      <td>42104168</td>\n",
       "      <td>5891.0</td>\n",
       "      <td>216.0</td>\n",
       "      <td>3.67</td>\n",
       "      <td>MN</td>\n",
       "      <td>NaN</td>\n",
       "    </tr>\n",
       "    <tr>\n",
       "      <th>3</th>\n",
       "      <td>42115404</td>\n",
       "      <td>9227.0</td>\n",
       "      <td>30.0</td>\n",
       "      <td>0.33</td>\n",
       "      <td>KY</td>\n",
       "      <td>NaN</td>\n",
       "    </tr>\n",
       "    <tr>\n",
       "      <th>4</th>\n",
       "      <td>42120784</td>\n",
       "      <td>30441.0</td>\n",
       "      <td>988.0</td>\n",
       "      <td>3.25</td>\n",
       "      <td>GA</td>\n",
       "      <td>NaN</td>\n",
       "    </tr>\n",
       "  </tbody>\n",
       "</table>\n",
       "</div>"
      ],
      "text/plain": [
       "     PAC ID  Total Claim Count  Opioid Claim Count  Opioid Prescribing Rate  \\\n",
       "0  42100190              241.0                77.0                    31.95   \n",
       "1  42102618              491.0               226.0                    46.03   \n",
       "2  42104168             5891.0               216.0                     3.67   \n",
       "3  42115404             9227.0                30.0                     0.33   \n",
       "4  42120784            30441.0               988.0                     3.25   \n",
       "\n",
       "  State  Measure Performance Rate  \n",
       "0    MI                       NaN  \n",
       "1    CA                       NaN  \n",
       "2    MN                       NaN  \n",
       "3    KY                       NaN  \n",
       "4    GA                       NaN  "
      ]
     },
     "execution_count": 19,
     "metadata": {},
     "output_type": "execute_result"
    }
   ],
   "source": [
    "#merge our pac '16 data with our 2016 Opioid data by PAC\n",
    "merged_pac_16 = op_pac_final_16.merge(pac_ratings_15, on=\"PAC ID\", how=\"outer\")\n",
    "merged_pac_16.head()"
   ]
  },
  {
   "cell_type": "code",
   "execution_count": 20,
   "metadata": {},
   "outputs": [
    {
     "data": {
      "text/html": [
       "<div>\n",
       "<style scoped>\n",
       "    .dataframe tbody tr th:only-of-type {\n",
       "        vertical-align: middle;\n",
       "    }\n",
       "\n",
       "    .dataframe tbody tr th {\n",
       "        vertical-align: top;\n",
       "    }\n",
       "\n",
       "    .dataframe thead th {\n",
       "        text-align: right;\n",
       "    }\n",
       "</style>\n",
       "<table border=\"1\" class=\"dataframe\">\n",
       "  <thead>\n",
       "    <tr style=\"text-align: right;\">\n",
       "      <th></th>\n",
       "      <th>PAC ID</th>\n",
       "      <th>Total Claim Count</th>\n",
       "      <th>Opioid Claim Count</th>\n",
       "      <th>Opioid Prescribing Rate</th>\n",
       "      <th>State</th>\n",
       "      <th>Measure Performance Rate</th>\n",
       "    </tr>\n",
       "  </thead>\n",
       "  <tbody>\n",
       "  </tbody>\n",
       "</table>\n",
       "</div>"
      ],
      "text/plain": [
       "Empty DataFrame\n",
       "Columns: [PAC ID, Total Claim Count, Opioid Claim Count, Opioid Prescribing Rate, State, Measure Performance Rate]\n",
       "Index: []"
      ]
     },
     "execution_count": 20,
     "metadata": {},
     "output_type": "execute_result"
    }
   ],
   "source": [
    "#drop NA values from our file\n",
    "merged_pac_16clean = merged_pac_16.dropna(axis=0, how='any')\n",
    "merged_pac_16clean.head()"
   ]
  },
  {
   "cell_type": "code",
   "execution_count": 21,
   "metadata": {},
   "outputs": [
    {
     "data": {
      "text/html": [
       "<div>\n",
       "<style scoped>\n",
       "    .dataframe tbody tr th:only-of-type {\n",
       "        vertical-align: middle;\n",
       "    }\n",
       "\n",
       "    .dataframe tbody tr th {\n",
       "        vertical-align: top;\n",
       "    }\n",
       "\n",
       "    .dataframe thead th {\n",
       "        text-align: right;\n",
       "    }\n",
       "</style>\n",
       "<table border=\"1\" class=\"dataframe\">\n",
       "  <thead>\n",
       "    <tr style=\"text-align: right;\">\n",
       "      <th></th>\n",
       "      <th>PAC ID</th>\n",
       "      <th>Measure Performance Rate</th>\n",
       "      <th>Year</th>\n",
       "    </tr>\n",
       "  </thead>\n",
       "  <tbody>\n",
       "    <tr>\n",
       "      <th>0</th>\n",
       "      <td>42100117</td>\n",
       "      <td>47.29</td>\n",
       "      <td>2015</td>\n",
       "    </tr>\n",
       "    <tr>\n",
       "      <th>1</th>\n",
       "      <td>42100190</td>\n",
       "      <td>85.00</td>\n",
       "      <td>2015</td>\n",
       "    </tr>\n",
       "    <tr>\n",
       "      <th>2</th>\n",
       "      <td>42100323</td>\n",
       "      <td>64.60</td>\n",
       "      <td>2015</td>\n",
       "    </tr>\n",
       "    <tr>\n",
       "      <th>3</th>\n",
       "      <td>42100968</td>\n",
       "      <td>100.00</td>\n",
       "      <td>2015</td>\n",
       "    </tr>\n",
       "    <tr>\n",
       "      <th>4</th>\n",
       "      <td>42101156</td>\n",
       "      <td>86.00</td>\n",
       "      <td>2015</td>\n",
       "    </tr>\n",
       "  </tbody>\n",
       "</table>\n",
       "</div>"
      ],
      "text/plain": [
       "     PAC ID  Measure Performance Rate  Year\n",
       "0  42100117                     47.29  2015\n",
       "1  42100190                     85.00  2015\n",
       "2  42100323                     64.60  2015\n",
       "3  42100968                    100.00  2015\n",
       "4  42101156                     86.00  2015"
      ]
     },
     "execution_count": 21,
     "metadata": {},
     "output_type": "execute_result"
    }
   ],
   "source": [
    "#In this exercise we are seeing if our phys_ratings data grouped by PAC ID is able to merge, this data took different measurements than the group ratings above\n",
    "phys_ratings15_pac.head()"
   ]
  },
  {
   "cell_type": "code",
   "execution_count": 22,
   "metadata": {},
   "outputs": [
    {
     "data": {
      "text/html": [
       "<div>\n",
       "<style scoped>\n",
       "    .dataframe tbody tr th:only-of-type {\n",
       "        vertical-align: middle;\n",
       "    }\n",
       "\n",
       "    .dataframe tbody tr th {\n",
       "        vertical-align: top;\n",
       "    }\n",
       "\n",
       "    .dataframe thead th {\n",
       "        text-align: right;\n",
       "    }\n",
       "</style>\n",
       "<table border=\"1\" class=\"dataframe\">\n",
       "  <thead>\n",
       "    <tr style=\"text-align: right;\">\n",
       "      <th></th>\n",
       "      <th>PAC ID</th>\n",
       "      <th>Measure Performance Rate</th>\n",
       "    </tr>\n",
       "  </thead>\n",
       "  <tbody>\n",
       "    <tr>\n",
       "      <th>0</th>\n",
       "      <td>42100117</td>\n",
       "      <td>47.29</td>\n",
       "    </tr>\n",
       "    <tr>\n",
       "      <th>1</th>\n",
       "      <td>42100190</td>\n",
       "      <td>85.00</td>\n",
       "    </tr>\n",
       "    <tr>\n",
       "      <th>2</th>\n",
       "      <td>42100323</td>\n",
       "      <td>64.60</td>\n",
       "    </tr>\n",
       "    <tr>\n",
       "      <th>3</th>\n",
       "      <td>42100968</td>\n",
       "      <td>100.00</td>\n",
       "    </tr>\n",
       "    <tr>\n",
       "      <th>4</th>\n",
       "      <td>42101156</td>\n",
       "      <td>86.00</td>\n",
       "    </tr>\n",
       "  </tbody>\n",
       "</table>\n",
       "</div>"
      ],
      "text/plain": [
       "     PAC ID  Measure Performance Rate\n",
       "0  42100117                     47.29\n",
       "1  42100190                     85.00\n",
       "2  42100323                     64.60\n",
       "3  42100968                    100.00\n",
       "4  42101156                     86.00"
      ]
     },
     "execution_count": 22,
     "metadata": {},
     "output_type": "execute_result"
    }
   ],
   "source": [
    "#Drop the Year column for merge of 2015 data\n",
    "phys_ratings15_pac = phys_ratings15_pac.drop(columns=[\"Year\"])\n",
    "phys_ratings15_pac.head()"
   ]
  },
  {
   "cell_type": "code",
   "execution_count": 23,
   "metadata": {},
   "outputs": [
    {
     "data": {
      "text/html": [
       "<div>\n",
       "<style scoped>\n",
       "    .dataframe tbody tr th:only-of-type {\n",
       "        vertical-align: middle;\n",
       "    }\n",
       "\n",
       "    .dataframe tbody tr th {\n",
       "        vertical-align: top;\n",
       "    }\n",
       "\n",
       "    .dataframe thead th {\n",
       "        text-align: right;\n",
       "    }\n",
       "</style>\n",
       "<table border=\"1\" class=\"dataframe\">\n",
       "  <thead>\n",
       "    <tr style=\"text-align: right;\">\n",
       "      <th></th>\n",
       "      <th>PAC ID</th>\n",
       "      <th>Total Claim Count</th>\n",
       "      <th>Opioid Claim Count</th>\n",
       "      <th>Opioid Prescribing Rate</th>\n",
       "      <th>State</th>\n",
       "      <th>Measure Performance Rate</th>\n",
       "    </tr>\n",
       "  </thead>\n",
       "  <tbody>\n",
       "    <tr>\n",
       "      <th>0</th>\n",
       "      <td>42100190</td>\n",
       "      <td>241.0</td>\n",
       "      <td>68.0</td>\n",
       "      <td>28.22</td>\n",
       "      <td>MI</td>\n",
       "      <td>85.0</td>\n",
       "    </tr>\n",
       "    <tr>\n",
       "      <th>1</th>\n",
       "      <td>42100273</td>\n",
       "      <td>232.0</td>\n",
       "      <td>22.0</td>\n",
       "      <td>9.48</td>\n",
       "      <td>TX</td>\n",
       "      <td>NaN</td>\n",
       "    </tr>\n",
       "    <tr>\n",
       "      <th>2</th>\n",
       "      <td>42101156</td>\n",
       "      <td>620.0</td>\n",
       "      <td>38.0</td>\n",
       "      <td>6.13</td>\n",
       "      <td>NV</td>\n",
       "      <td>86.0</td>\n",
       "    </tr>\n",
       "    <tr>\n",
       "      <th>3</th>\n",
       "      <td>42101164</td>\n",
       "      <td>336.0</td>\n",
       "      <td>56.0</td>\n",
       "      <td>16.67</td>\n",
       "      <td>MI</td>\n",
       "      <td>NaN</td>\n",
       "    </tr>\n",
       "    <tr>\n",
       "      <th>4</th>\n",
       "      <td>42101446</td>\n",
       "      <td>682.0</td>\n",
       "      <td>228.0</td>\n",
       "      <td>33.43</td>\n",
       "      <td>IL</td>\n",
       "      <td>NaN</td>\n",
       "    </tr>\n",
       "  </tbody>\n",
       "</table>\n",
       "</div>"
      ],
      "text/plain": [
       "     PAC ID  Total Claim Count  Opioid Claim Count  Opioid Prescribing Rate  \\\n",
       "0  42100190              241.0                68.0                    28.22   \n",
       "1  42100273              232.0                22.0                     9.48   \n",
       "2  42101156              620.0                38.0                     6.13   \n",
       "3  42101164              336.0                56.0                    16.67   \n",
       "4  42101446              682.0               228.0                    33.43   \n",
       "\n",
       "  State  Measure Performance Rate  \n",
       "0    MI                      85.0  \n",
       "1    TX                       NaN  \n",
       "2    NV                      86.0  \n",
       "3    MI                       NaN  \n",
       "4    IL                       NaN  "
      ]
     },
     "execution_count": 23,
     "metadata": {},
     "output_type": "execute_result"
    }
   ],
   "source": [
    "#merge the phy_ratings for 2015 by PAC with our Opioid Prescriber data from 2015\n",
    "new_merged_2015 = op_pac_final_15.merge(phys_ratings15_pac, on=\"PAC ID\", how=\"outer\")\n",
    "new_merged_2015.head()"
   ]
  },
  {
   "cell_type": "code",
   "execution_count": 24,
   "metadata": {},
   "outputs": [
    {
     "data": {
      "text/html": [
       "<div>\n",
       "<style scoped>\n",
       "    .dataframe tbody tr th:only-of-type {\n",
       "        vertical-align: middle;\n",
       "    }\n",
       "\n",
       "    .dataframe tbody tr th {\n",
       "        vertical-align: top;\n",
       "    }\n",
       "\n",
       "    .dataframe thead th {\n",
       "        text-align: right;\n",
       "    }\n",
       "</style>\n",
       "<table border=\"1\" class=\"dataframe\">\n",
       "  <thead>\n",
       "    <tr style=\"text-align: right;\">\n",
       "      <th></th>\n",
       "      <th>PAC ID</th>\n",
       "      <th>Total Claim Count</th>\n",
       "      <th>Opioid Claim Count</th>\n",
       "      <th>Opioid Prescribing Rate</th>\n",
       "      <th>State</th>\n",
       "      <th>Measure Performance Rate</th>\n",
       "    </tr>\n",
       "  </thead>\n",
       "  <tbody>\n",
       "    <tr>\n",
       "      <th>0</th>\n",
       "      <td>42100190</td>\n",
       "      <td>241.0</td>\n",
       "      <td>68.0</td>\n",
       "      <td>28.22</td>\n",
       "      <td>MI</td>\n",
       "      <td>85.0</td>\n",
       "    </tr>\n",
       "    <tr>\n",
       "      <th>2</th>\n",
       "      <td>42101156</td>\n",
       "      <td>620.0</td>\n",
       "      <td>38.0</td>\n",
       "      <td>6.13</td>\n",
       "      <td>NV</td>\n",
       "      <td>86.0</td>\n",
       "    </tr>\n",
       "    <tr>\n",
       "      <th>6</th>\n",
       "      <td>42102618</td>\n",
       "      <td>496.0</td>\n",
       "      <td>231.0</td>\n",
       "      <td>46.57</td>\n",
       "      <td>CA</td>\n",
       "      <td>100.0</td>\n",
       "    </tr>\n",
       "    <tr>\n",
       "      <th>9</th>\n",
       "      <td>42104929</td>\n",
       "      <td>11309.0</td>\n",
       "      <td>346.0</td>\n",
       "      <td>3.06</td>\n",
       "      <td>FL</td>\n",
       "      <td>100.0</td>\n",
       "    </tr>\n",
       "    <tr>\n",
       "      <th>20</th>\n",
       "      <td>42200099</td>\n",
       "      <td>2141.0</td>\n",
       "      <td>67.0</td>\n",
       "      <td>3.13</td>\n",
       "      <td>FL</td>\n",
       "      <td>100.0</td>\n",
       "    </tr>\n",
       "  </tbody>\n",
       "</table>\n",
       "</div>"
      ],
      "text/plain": [
       "      PAC ID  Total Claim Count  Opioid Claim Count  Opioid Prescribing Rate  \\\n",
       "0   42100190              241.0                68.0                    28.22   \n",
       "2   42101156              620.0                38.0                     6.13   \n",
       "6   42102618              496.0               231.0                    46.57   \n",
       "9   42104929            11309.0               346.0                     3.06   \n",
       "20  42200099             2141.0                67.0                     3.13   \n",
       "\n",
       "   State  Measure Performance Rate  \n",
       "0     MI                      85.0  \n",
       "2     NV                      86.0  \n",
       "6     CA                     100.0  \n",
       "9     FL                     100.0  \n",
       "20    FL                     100.0  "
      ]
     },
     "execution_count": 24,
     "metadata": {},
     "output_type": "execute_result"
    }
   ],
   "source": [
    "#Important to note that the measure performance rates are ratings from Medicare from the data set that has physican ratings\n",
    "#Whereas the data set we were trying to merged above was a different data set from patient ratings by Groups(PAC IDs)\n",
    "#When we developed our opioid prescriber data frame , we used the PAC IDs from the Medicare Physican Ratings data sets, not the grouped data set\n",
    "#drop NA values from our new merged file \n",
    "new_merged_2015clean = new_merged_2015.dropna(axis=0, how='any')\n",
    "new_merged_2015clean.head()"
   ]
  },
  {
   "cell_type": "code",
   "execution_count": 25,
   "metadata": {},
   "outputs": [
    {
     "data": {
      "text/plain": [
       "3961"
      ]
     },
     "execution_count": 25,
     "metadata": {},
     "output_type": "execute_result"
    }
   ],
   "source": [
    "#Check the length of the new data set\n",
    "len(new_merged_2015clean)"
   ]
  },
  {
   "cell_type": "code",
   "execution_count": 26,
   "metadata": {},
   "outputs": [],
   "source": [
    "#export file\n",
    "new_merged_2015clean.to_csv(output1, encoding=\"utf-8\", index=False)"
   ]
  },
  {
   "cell_type": "code",
   "execution_count": 27,
   "metadata": {},
   "outputs": [
    {
     "data": {
      "text/html": [
       "<div>\n",
       "<style scoped>\n",
       "    .dataframe tbody tr th:only-of-type {\n",
       "        vertical-align: middle;\n",
       "    }\n",
       "\n",
       "    .dataframe tbody tr th {\n",
       "        vertical-align: top;\n",
       "    }\n",
       "\n",
       "    .dataframe thead th {\n",
       "        text-align: right;\n",
       "    }\n",
       "</style>\n",
       "<table border=\"1\" class=\"dataframe\">\n",
       "  <thead>\n",
       "    <tr style=\"text-align: right;\">\n",
       "      <th></th>\n",
       "      <th>PAC ID</th>\n",
       "      <th>Measure Performance Rate</th>\n",
       "      <th>Year</th>\n",
       "    </tr>\n",
       "  </thead>\n",
       "  <tbody>\n",
       "    <tr>\n",
       "      <th>0</th>\n",
       "      <td>42100117</td>\n",
       "      <td>42.22</td>\n",
       "      <td>2016</td>\n",
       "    </tr>\n",
       "    <tr>\n",
       "      <th>1</th>\n",
       "      <td>42100133</td>\n",
       "      <td>68.50</td>\n",
       "      <td>2016</td>\n",
       "    </tr>\n",
       "    <tr>\n",
       "      <th>2</th>\n",
       "      <td>42100190</td>\n",
       "      <td>96.00</td>\n",
       "      <td>2016</td>\n",
       "    </tr>\n",
       "    <tr>\n",
       "      <th>3</th>\n",
       "      <td>42100273</td>\n",
       "      <td>1.00</td>\n",
       "      <td>2016</td>\n",
       "    </tr>\n",
       "    <tr>\n",
       "      <th>4</th>\n",
       "      <td>42100323</td>\n",
       "      <td>73.83</td>\n",
       "      <td>2016</td>\n",
       "    </tr>\n",
       "  </tbody>\n",
       "</table>\n",
       "</div>"
      ],
      "text/plain": [
       "     PAC ID  Measure Performance Rate  Year\n",
       "0  42100117                     42.22  2016\n",
       "1  42100133                     68.50  2016\n",
       "2  42100190                     96.00  2016\n",
       "3  42100273                      1.00  2016\n",
       "4  42100323                     73.83  2016"
      ]
     },
     "execution_count": 27,
     "metadata": {},
     "output_type": "execute_result"
    }
   ],
   "source": [
    "#In this exercise we are seeing if our 2016 phys_ratings data grouped by PAC ID is able to merge, this data took different measurements than the group ratings above\n",
    "phys_ratings16_pac.head()"
   ]
  },
  {
   "cell_type": "code",
   "execution_count": 28,
   "metadata": {},
   "outputs": [
    {
     "data": {
      "text/html": [
       "<div>\n",
       "<style scoped>\n",
       "    .dataframe tbody tr th:only-of-type {\n",
       "        vertical-align: middle;\n",
       "    }\n",
       "\n",
       "    .dataframe tbody tr th {\n",
       "        vertical-align: top;\n",
       "    }\n",
       "\n",
       "    .dataframe thead th {\n",
       "        text-align: right;\n",
       "    }\n",
       "</style>\n",
       "<table border=\"1\" class=\"dataframe\">\n",
       "  <thead>\n",
       "    <tr style=\"text-align: right;\">\n",
       "      <th></th>\n",
       "      <th>PAC ID</th>\n",
       "      <th>Measure Performance Rate</th>\n",
       "    </tr>\n",
       "  </thead>\n",
       "  <tbody>\n",
       "    <tr>\n",
       "      <th>0</th>\n",
       "      <td>42100117</td>\n",
       "      <td>42.22</td>\n",
       "    </tr>\n",
       "    <tr>\n",
       "      <th>1</th>\n",
       "      <td>42100133</td>\n",
       "      <td>68.50</td>\n",
       "    </tr>\n",
       "    <tr>\n",
       "      <th>2</th>\n",
       "      <td>42100190</td>\n",
       "      <td>96.00</td>\n",
       "    </tr>\n",
       "    <tr>\n",
       "      <th>3</th>\n",
       "      <td>42100273</td>\n",
       "      <td>1.00</td>\n",
       "    </tr>\n",
       "    <tr>\n",
       "      <th>4</th>\n",
       "      <td>42100323</td>\n",
       "      <td>73.83</td>\n",
       "    </tr>\n",
       "  </tbody>\n",
       "</table>\n",
       "</div>"
      ],
      "text/plain": [
       "     PAC ID  Measure Performance Rate\n",
       "0  42100117                     42.22\n",
       "1  42100133                     68.50\n",
       "2  42100190                     96.00\n",
       "3  42100273                      1.00\n",
       "4  42100323                     73.83"
      ]
     },
     "execution_count": 28,
     "metadata": {},
     "output_type": "execute_result"
    }
   ],
   "source": [
    "#Drop the Year column for merge of 2016 data\n",
    "phys_ratings16_pac = phys_ratings16_pac.drop(columns=[\"Year\"])\n",
    "phys_ratings16_pac.head()"
   ]
  },
  {
   "cell_type": "code",
   "execution_count": 29,
   "metadata": {},
   "outputs": [
    {
     "data": {
      "text/html": [
       "<div>\n",
       "<style scoped>\n",
       "    .dataframe tbody tr th:only-of-type {\n",
       "        vertical-align: middle;\n",
       "    }\n",
       "\n",
       "    .dataframe tbody tr th {\n",
       "        vertical-align: top;\n",
       "    }\n",
       "\n",
       "    .dataframe thead th {\n",
       "        text-align: right;\n",
       "    }\n",
       "</style>\n",
       "<table border=\"1\" class=\"dataframe\">\n",
       "  <thead>\n",
       "    <tr style=\"text-align: right;\">\n",
       "      <th></th>\n",
       "      <th>PAC ID</th>\n",
       "      <th>Total Claim Count</th>\n",
       "      <th>Opioid Claim Count</th>\n",
       "      <th>Opioid Prescribing Rate</th>\n",
       "      <th>State</th>\n",
       "      <th>Measure Performance Rate</th>\n",
       "    </tr>\n",
       "  </thead>\n",
       "  <tbody>\n",
       "    <tr>\n",
       "      <th>0</th>\n",
       "      <td>42100190</td>\n",
       "      <td>241.0</td>\n",
       "      <td>77.0</td>\n",
       "      <td>31.95</td>\n",
       "      <td>MI</td>\n",
       "      <td>96.0</td>\n",
       "    </tr>\n",
       "    <tr>\n",
       "      <th>1</th>\n",
       "      <td>42102618</td>\n",
       "      <td>491.0</td>\n",
       "      <td>226.0</td>\n",
       "      <td>46.03</td>\n",
       "      <td>CA</td>\n",
       "      <td>100.0</td>\n",
       "    </tr>\n",
       "    <tr>\n",
       "      <th>2</th>\n",
       "      <td>42104168</td>\n",
       "      <td>5891.0</td>\n",
       "      <td>216.0</td>\n",
       "      <td>3.67</td>\n",
       "      <td>MN</td>\n",
       "      <td>NaN</td>\n",
       "    </tr>\n",
       "    <tr>\n",
       "      <th>3</th>\n",
       "      <td>42115404</td>\n",
       "      <td>9227.0</td>\n",
       "      <td>30.0</td>\n",
       "      <td>0.33</td>\n",
       "      <td>KY</td>\n",
       "      <td>100.0</td>\n",
       "    </tr>\n",
       "    <tr>\n",
       "      <th>4</th>\n",
       "      <td>42120784</td>\n",
       "      <td>30441.0</td>\n",
       "      <td>988.0</td>\n",
       "      <td>3.25</td>\n",
       "      <td>GA</td>\n",
       "      <td>NaN</td>\n",
       "    </tr>\n",
       "  </tbody>\n",
       "</table>\n",
       "</div>"
      ],
      "text/plain": [
       "     PAC ID  Total Claim Count  Opioid Claim Count  Opioid Prescribing Rate  \\\n",
       "0  42100190              241.0                77.0                    31.95   \n",
       "1  42102618              491.0               226.0                    46.03   \n",
       "2  42104168             5891.0               216.0                     3.67   \n",
       "3  42115404             9227.0                30.0                     0.33   \n",
       "4  42120784            30441.0               988.0                     3.25   \n",
       "\n",
       "  State  Measure Performance Rate  \n",
       "0    MI                      96.0  \n",
       "1    CA                     100.0  \n",
       "2    MN                       NaN  \n",
       "3    KY                     100.0  \n",
       "4    GA                       NaN  "
      ]
     },
     "execution_count": 29,
     "metadata": {},
     "output_type": "execute_result"
    }
   ],
   "source": [
    "#merge the phy_ratings for 2016 by PAC with our Opioid Prescriber data from 2016\n",
    "new_merged_2016 = op_pac_final_16.merge(phys_ratings16_pac, on=\"PAC ID\", how=\"outer\")\n",
    "new_merged_2016.head()"
   ]
  },
  {
   "cell_type": "code",
   "execution_count": 30,
   "metadata": {
    "scrolled": true
   },
   "outputs": [
    {
     "data": {
      "text/html": [
       "<div>\n",
       "<style scoped>\n",
       "    .dataframe tbody tr th:only-of-type {\n",
       "        vertical-align: middle;\n",
       "    }\n",
       "\n",
       "    .dataframe tbody tr th {\n",
       "        vertical-align: top;\n",
       "    }\n",
       "\n",
       "    .dataframe thead th {\n",
       "        text-align: right;\n",
       "    }\n",
       "</style>\n",
       "<table border=\"1\" class=\"dataframe\">\n",
       "  <thead>\n",
       "    <tr style=\"text-align: right;\">\n",
       "      <th></th>\n",
       "      <th>PAC ID</th>\n",
       "      <th>Total Claim Count</th>\n",
       "      <th>Opioid Claim Count</th>\n",
       "      <th>Opioid Prescribing Rate</th>\n",
       "      <th>State</th>\n",
       "      <th>Measure Performance Rate</th>\n",
       "    </tr>\n",
       "  </thead>\n",
       "  <tbody>\n",
       "    <tr>\n",
       "      <th>0</th>\n",
       "      <td>42100190</td>\n",
       "      <td>241.0</td>\n",
       "      <td>77.0</td>\n",
       "      <td>31.95</td>\n",
       "      <td>MI</td>\n",
       "      <td>96.00</td>\n",
       "    </tr>\n",
       "    <tr>\n",
       "      <th>1</th>\n",
       "      <td>42102618</td>\n",
       "      <td>491.0</td>\n",
       "      <td>226.0</td>\n",
       "      <td>46.03</td>\n",
       "      <td>CA</td>\n",
       "      <td>100.00</td>\n",
       "    </tr>\n",
       "    <tr>\n",
       "      <th>3</th>\n",
       "      <td>42115404</td>\n",
       "      <td>9227.0</td>\n",
       "      <td>30.0</td>\n",
       "      <td>0.33</td>\n",
       "      <td>KY</td>\n",
       "      <td>100.00</td>\n",
       "    </tr>\n",
       "    <tr>\n",
       "      <th>5</th>\n",
       "      <td>42123713</td>\n",
       "      <td>4353.0</td>\n",
       "      <td>114.0</td>\n",
       "      <td>2.62</td>\n",
       "      <td>MN</td>\n",
       "      <td>45.67</td>\n",
       "    </tr>\n",
       "    <tr>\n",
       "      <th>8</th>\n",
       "      <td>42209470</td>\n",
       "      <td>6638.0</td>\n",
       "      <td>136.0</td>\n",
       "      <td>2.05</td>\n",
       "      <td>WI</td>\n",
       "      <td>95.00</td>\n",
       "    </tr>\n",
       "  </tbody>\n",
       "</table>\n",
       "</div>"
      ],
      "text/plain": [
       "     PAC ID  Total Claim Count  Opioid Claim Count  Opioid Prescribing Rate  \\\n",
       "0  42100190              241.0                77.0                    31.95   \n",
       "1  42102618              491.0               226.0                    46.03   \n",
       "3  42115404             9227.0                30.0                     0.33   \n",
       "5  42123713             4353.0               114.0                     2.62   \n",
       "8  42209470             6638.0               136.0                     2.05   \n",
       "\n",
       "  State  Measure Performance Rate  \n",
       "0    MI                     96.00  \n",
       "1    CA                    100.00  \n",
       "3    KY                    100.00  \n",
       "5    MN                     45.67  \n",
       "8    WI                     95.00  "
      ]
     },
     "execution_count": 30,
     "metadata": {},
     "output_type": "execute_result"
    }
   ],
   "source": [
    "#Important to note that the measure performance rates are ratings from Medicare from the data set that has physican ratings\n",
    "#Whereas the data set we were trying to merged above was a different data set from patient ratings by Groups(PAC IDs)\n",
    "#When we developed our opioid prescriber data frame , we used the PAC IDs from the Medicare Physican Ratings data sets, not the grouped data set\n",
    "#drop NA values from our new merged file \n",
    "new_merged_2016clean = new_merged_2016.dropna(axis=0, how='any')\n",
    "new_merged_2016clean.head()"
   ]
  },
  {
   "cell_type": "code",
   "execution_count": 31,
   "metadata": {},
   "outputs": [
    {
     "data": {
      "text/plain": [
       "4550"
      ]
     },
     "execution_count": 31,
     "metadata": {},
     "output_type": "execute_result"
    }
   ],
   "source": [
    "len(new_merged_2016clean)"
   ]
  },
  {
   "cell_type": "code",
   "execution_count": 32,
   "metadata": {},
   "outputs": [],
   "source": [
    "#export file\n",
    "new_merged_2016clean.to_csv(output2, encoding=\"utf-8\",index=False)"
   ]
  },
  {
   "cell_type": "code",
   "execution_count": 33,
   "metadata": {},
   "outputs": [
    {
     "data": {
      "image/png": "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\n",
      "text/plain": [
       "<Figure size 432x288 with 1 Axes>"
      ]
     },
     "metadata": {
      "needs_background": "light"
     },
     "output_type": "display_data"
    }
   ],
   "source": [
    "#Scatter Plot Example\n",
    "new_merged_2016clean.plot.scatter(x=\"Measure Performance Rate\", y='Opioid Prescribing Rate', color='LightCoral', \n",
    "                                           grid=True, alpha=0.5, edgecolors = 'black', label='PAC Group')\n",
    "#Add title to our scatter plot along with an x-axis and y-axis title\n",
    "plt.title(\"Opioid Prescribing Rate vs. Performance Rate\")\n",
    "plt.xlabel(\"Performance Rate\")\n",
    "plt.ylabel(\"Opioid Prescribing Rate\")\n",
    "\n",
    "plt.show()"
   ]
  },
  {
   "cell_type": "code",
   "execution_count": null,
   "metadata": {},
   "outputs": [],
   "source": []
  },
  {
   "cell_type": "code",
   "execution_count": 34,
   "metadata": {},
   "outputs": [
    {
     "data": {
      "text/html": [
       "<div>\n",
       "<style scoped>\n",
       "    .dataframe tbody tr th:only-of-type {\n",
       "        vertical-align: middle;\n",
       "    }\n",
       "\n",
       "    .dataframe tbody tr th {\n",
       "        vertical-align: top;\n",
       "    }\n",
       "\n",
       "    .dataframe thead th {\n",
       "        text-align: right;\n",
       "    }\n",
       "</style>\n",
       "<table border=\"1\" class=\"dataframe\">\n",
       "  <thead>\n",
       "    <tr style=\"text-align: right;\">\n",
       "      <th></th>\n",
       "      <th>Opioid Claim Count</th>\n",
       "    </tr>\n",
       "    <tr>\n",
       "      <th>State</th>\n",
       "      <th></th>\n",
       "    </tr>\n",
       "  </thead>\n",
       "  <tbody>\n",
       "    <tr>\n",
       "      <th>AK</th>\n",
       "      <td>433.0</td>\n",
       "    </tr>\n",
       "    <tr>\n",
       "      <th>AL</th>\n",
       "      <td>64247.0</td>\n",
       "    </tr>\n",
       "    <tr>\n",
       "      <th>AR</th>\n",
       "      <td>30750.0</td>\n",
       "    </tr>\n",
       "    <tr>\n",
       "      <th>AZ</th>\n",
       "      <td>43630.0</td>\n",
       "    </tr>\n",
       "    <tr>\n",
       "      <th>CA</th>\n",
       "      <td>179709.0</td>\n",
       "    </tr>\n",
       "  </tbody>\n",
       "</table>\n",
       "</div>"
      ],
      "text/plain": [
       "       Opioid Claim Count\n",
       "State                    \n",
       "AK                  433.0\n",
       "AL                64247.0\n",
       "AR                30750.0\n",
       "AZ                43630.0\n",
       "CA               179709.0"
      ]
     },
     "execution_count": 34,
     "metadata": {},
     "output_type": "execute_result"
    }
   ],
   "source": [
    "#Analyze information grouped by state doing a sum of Opioid Claim Count 2016\n",
    "state_opclaims_16 = pd.DataFrame(new_merged_2016.groupby([\"State\"])[\"Opioid Claim Count\"].sum())\n",
    "state_opclaims_16.head()"
   ]
  },
  {
   "cell_type": "code",
   "execution_count": 35,
   "metadata": {},
   "outputs": [
    {
     "data": {
      "text/html": [
       "<div>\n",
       "<style scoped>\n",
       "    .dataframe tbody tr th:only-of-type {\n",
       "        vertical-align: middle;\n",
       "    }\n",
       "\n",
       "    .dataframe tbody tr th {\n",
       "        vertical-align: top;\n",
       "    }\n",
       "\n",
       "    .dataframe thead th {\n",
       "        text-align: right;\n",
       "    }\n",
       "</style>\n",
       "<table border=\"1\" class=\"dataframe\">\n",
       "  <thead>\n",
       "    <tr style=\"text-align: right;\">\n",
       "      <th></th>\n",
       "      <th>Opioid Claim Count</th>\n",
       "    </tr>\n",
       "    <tr>\n",
       "      <th>State</th>\n",
       "      <th></th>\n",
       "    </tr>\n",
       "  </thead>\n",
       "  <tbody>\n",
       "    <tr>\n",
       "      <th>AK</th>\n",
       "      <td>1560.0</td>\n",
       "    </tr>\n",
       "    <tr>\n",
       "      <th>AL</th>\n",
       "      <td>145984.0</td>\n",
       "    </tr>\n",
       "    <tr>\n",
       "      <th>AP</th>\n",
       "      <td>21.0</td>\n",
       "    </tr>\n",
       "    <tr>\n",
       "      <th>AR</th>\n",
       "      <td>52842.0</td>\n",
       "    </tr>\n",
       "    <tr>\n",
       "      <th>AZ</th>\n",
       "      <td>50874.0</td>\n",
       "    </tr>\n",
       "  </tbody>\n",
       "</table>\n",
       "</div>"
      ],
      "text/plain": [
       "       Opioid Claim Count\n",
       "State                    \n",
       "AK                 1560.0\n",
       "AL               145984.0\n",
       "AP                   21.0\n",
       "AR                52842.0\n",
       "AZ                50874.0"
      ]
     },
     "execution_count": 35,
     "metadata": {},
     "output_type": "execute_result"
    }
   ],
   "source": [
    "#Analyze information grouped by state doing a sum of Opioid Claim Count 2015\n",
    "state_opclaims_15 = pd.DataFrame(new_merged_2015.groupby([\"State\"])[\"Opioid Claim Count\"].sum())\n",
    "state_opclaims_15.head()"
   ]
  },
  {
   "cell_type": "code",
   "execution_count": 36,
   "metadata": {},
   "outputs": [
    {
     "data": {
      "text/html": [
       "<div>\n",
       "<style scoped>\n",
       "    .dataframe tbody tr th:only-of-type {\n",
       "        vertical-align: middle;\n",
       "    }\n",
       "\n",
       "    .dataframe tbody tr th {\n",
       "        vertical-align: top;\n",
       "    }\n",
       "\n",
       "    .dataframe thead th {\n",
       "        text-align: right;\n",
       "    }\n",
       "</style>\n",
       "<table border=\"1\" class=\"dataframe\">\n",
       "  <thead>\n",
       "    <tr style=\"text-align: right;\">\n",
       "      <th></th>\n",
       "      <th>Year</th>\n",
       "      <th>State</th>\n",
       "      <th>Year.1</th>\n",
       "      <th>Month</th>\n",
       "      <th>Total Deaths</th>\n",
       "      <th>Drug Deaths</th>\n",
       "    </tr>\n",
       "  </thead>\n",
       "  <tbody>\n",
       "    <tr>\n",
       "      <th>0</th>\n",
       "      <td>2016</td>\n",
       "      <td>AK</td>\n",
       "      <td>2016</td>\n",
       "      <td>January</td>\n",
       "      <td>4213</td>\n",
       "      <td>126</td>\n",
       "    </tr>\n",
       "    <tr>\n",
       "      <th>1</th>\n",
       "      <td>2016</td>\n",
       "      <td>AK</td>\n",
       "      <td>2016</td>\n",
       "      <td>February</td>\n",
       "      <td>4198</td>\n",
       "      <td>128</td>\n",
       "    </tr>\n",
       "    <tr>\n",
       "      <th>2</th>\n",
       "      <td>2016</td>\n",
       "      <td>AK</td>\n",
       "      <td>2016</td>\n",
       "      <td>March</td>\n",
       "      <td>4230</td>\n",
       "      <td>125</td>\n",
       "    </tr>\n",
       "    <tr>\n",
       "      <th>3</th>\n",
       "      <td>2016</td>\n",
       "      <td>AK</td>\n",
       "      <td>2016</td>\n",
       "      <td>April</td>\n",
       "      <td>4262</td>\n",
       "      <td>132</td>\n",
       "    </tr>\n",
       "    <tr>\n",
       "      <th>4</th>\n",
       "      <td>2016</td>\n",
       "      <td>AK</td>\n",
       "      <td>2016</td>\n",
       "      <td>May</td>\n",
       "      <td>4241</td>\n",
       "      <td>140</td>\n",
       "    </tr>\n",
       "  </tbody>\n",
       "</table>\n",
       "</div>"
      ],
      "text/plain": [
       "   Year State  Year.1     Month  Total Deaths  Drug Deaths\n",
       "0  2016    AK    2016   January          4213          126\n",
       "1  2016    AK    2016  February          4198          128\n",
       "2  2016    AK    2016     March          4230          125\n",
       "3  2016    AK    2016     April          4262          132\n",
       "4  2016    AK    2016       May          4241          140"
      ]
     },
     "execution_count": 36,
     "metadata": {},
     "output_type": "execute_result"
    }
   ],
   "source": [
    "#Compare info with OD Death for 16\n",
    "clean_od_2016.head()"
   ]
  },
  {
   "cell_type": "code",
   "execution_count": 37,
   "metadata": {},
   "outputs": [
    {
     "data": {
      "text/html": [
       "<div>\n",
       "<style scoped>\n",
       "    .dataframe tbody tr th:only-of-type {\n",
       "        vertical-align: middle;\n",
       "    }\n",
       "\n",
       "    .dataframe tbody tr th {\n",
       "        vertical-align: top;\n",
       "    }\n",
       "\n",
       "    .dataframe thead th {\n",
       "        text-align: right;\n",
       "    }\n",
       "</style>\n",
       "<table border=\"1\" class=\"dataframe\">\n",
       "  <thead>\n",
       "    <tr style=\"text-align: right;\">\n",
       "      <th></th>\n",
       "      <th>Drug Deaths</th>\n",
       "    </tr>\n",
       "    <tr>\n",
       "      <th>State</th>\n",
       "      <th></th>\n",
       "    </tr>\n",
       "  </thead>\n",
       "  <tbody>\n",
       "    <tr>\n",
       "      <th>AK</th>\n",
       "      <td>1594</td>\n",
       "    </tr>\n",
       "    <tr>\n",
       "      <th>AL</th>\n",
       "      <td>8324</td>\n",
       "    </tr>\n",
       "    <tr>\n",
       "      <th>AR</th>\n",
       "      <td>4513</td>\n",
       "    </tr>\n",
       "    <tr>\n",
       "      <th>AZ</th>\n",
       "      <td>16403</td>\n",
       "    </tr>\n",
       "    <tr>\n",
       "      <th>CA</th>\n",
       "      <td>57154</td>\n",
       "    </tr>\n",
       "  </tbody>\n",
       "</table>\n",
       "</div>"
      ],
      "text/plain": [
       "       Drug Deaths\n",
       "State             \n",
       "AK            1594\n",
       "AL            8324\n",
       "AR            4513\n",
       "AZ           16403\n",
       "CA           57154"
      ]
     },
     "execution_count": 37,
     "metadata": {},
     "output_type": "execute_result"
    }
   ],
   "source": [
    "#Create data frame for state OD deaths 2016\n",
    "state_od_2016 = pd.DataFrame(clean_od_2016.groupby([\"State\"])[\"Drug Deaths\"].sum())\n",
    "state_od_2016.head()"
   ]
  },
  {
   "cell_type": "code",
   "execution_count": 38,
   "metadata": {},
   "outputs": [
    {
     "data": {
      "text/html": [
       "<div>\n",
       "<style scoped>\n",
       "    .dataframe tbody tr th:only-of-type {\n",
       "        vertical-align: middle;\n",
       "    }\n",
       "\n",
       "    .dataframe tbody tr th {\n",
       "        vertical-align: top;\n",
       "    }\n",
       "\n",
       "    .dataframe thead th {\n",
       "        text-align: right;\n",
       "    }\n",
       "</style>\n",
       "<table border=\"1\" class=\"dataframe\">\n",
       "  <thead>\n",
       "    <tr style=\"text-align: right;\">\n",
       "      <th></th>\n",
       "      <th>Drug Deaths</th>\n",
       "    </tr>\n",
       "    <tr>\n",
       "      <th>State</th>\n",
       "      <th></th>\n",
       "    </tr>\n",
       "  </thead>\n",
       "  <tbody>\n",
       "    <tr>\n",
       "      <th>AK</th>\n",
       "      <td>1472</td>\n",
       "    </tr>\n",
       "    <tr>\n",
       "      <th>AL</th>\n",
       "      <td>8818</td>\n",
       "    </tr>\n",
       "    <tr>\n",
       "      <th>AR</th>\n",
       "      <td>4616</td>\n",
       "    </tr>\n",
       "    <tr>\n",
       "      <th>AZ</th>\n",
       "      <td>14590</td>\n",
       "    </tr>\n",
       "    <tr>\n",
       "      <th>CA</th>\n",
       "      <td>56001</td>\n",
       "    </tr>\n",
       "  </tbody>\n",
       "</table>\n",
       "</div>"
      ],
      "text/plain": [
       "       Drug Deaths\n",
       "State             \n",
       "AK            1472\n",
       "AL            8818\n",
       "AR            4616\n",
       "AZ           14590\n",
       "CA           56001"
      ]
     },
     "execution_count": 38,
     "metadata": {},
     "output_type": "execute_result"
    }
   ],
   "source": [
    "#Create data frame for state OD deaths 2015\n",
    "state_od_2015 = pd.DataFrame(clean_od_2015.groupby([\"State\"])[\"Drug Deaths\"].sum())\n",
    "state_od_2015.head()"
   ]
  },
  {
   "cell_type": "code",
   "execution_count": 39,
   "metadata": {},
   "outputs": [
    {
     "data": {
      "text/html": [
       "<div>\n",
       "<style scoped>\n",
       "    .dataframe tbody tr th:only-of-type {\n",
       "        vertical-align: middle;\n",
       "    }\n",
       "\n",
       "    .dataframe tbody tr th {\n",
       "        vertical-align: top;\n",
       "    }\n",
       "\n",
       "    .dataframe thead th {\n",
       "        text-align: right;\n",
       "    }\n",
       "</style>\n",
       "<table border=\"1\" class=\"dataframe\">\n",
       "  <thead>\n",
       "    <tr style=\"text-align: right;\">\n",
       "      <th></th>\n",
       "      <th>Opioid Claim Count</th>\n",
       "      <th>Drug Deaths</th>\n",
       "    </tr>\n",
       "    <tr>\n",
       "      <th>State</th>\n",
       "      <th></th>\n",
       "      <th></th>\n",
       "    </tr>\n",
       "  </thead>\n",
       "  <tbody>\n",
       "    <tr>\n",
       "      <th>AK</th>\n",
       "      <td>433.0</td>\n",
       "      <td>1594.0</td>\n",
       "    </tr>\n",
       "    <tr>\n",
       "      <th>AL</th>\n",
       "      <td>64247.0</td>\n",
       "      <td>8324.0</td>\n",
       "    </tr>\n",
       "    <tr>\n",
       "      <th>AR</th>\n",
       "      <td>30750.0</td>\n",
       "      <td>4513.0</td>\n",
       "    </tr>\n",
       "    <tr>\n",
       "      <th>AZ</th>\n",
       "      <td>43630.0</td>\n",
       "      <td>16403.0</td>\n",
       "    </tr>\n",
       "    <tr>\n",
       "      <th>CA</th>\n",
       "      <td>179709.0</td>\n",
       "      <td>57154.0</td>\n",
       "    </tr>\n",
       "  </tbody>\n",
       "</table>\n",
       "</div>"
      ],
      "text/plain": [
       "       Opioid Claim Count  Drug Deaths\n",
       "State                                 \n",
       "AK                  433.0       1594.0\n",
       "AL                64247.0       8324.0\n",
       "AR                30750.0       4513.0\n",
       "AZ                43630.0      16403.0\n",
       "CA               179709.0      57154.0"
      ]
     },
     "execution_count": 39,
     "metadata": {},
     "output_type": "execute_result"
    }
   ],
   "source": [
    "#create a data frame that merges 2016 OD Deaths and State OP Claims\n",
    "merged_oddeaths_opclaims2016 = state_opclaims_16.merge(state_od_2016, on=\"State\", how=\"outer\")\n",
    "merged_oddeaths_opclaims2016.head()\n"
   ]
  },
  {
   "cell_type": "code",
   "execution_count": 40,
   "metadata": {},
   "outputs": [
    {
     "data": {
      "text/html": [
       "<div>\n",
       "<style scoped>\n",
       "    .dataframe tbody tr th:only-of-type {\n",
       "        vertical-align: middle;\n",
       "    }\n",
       "\n",
       "    .dataframe tbody tr th {\n",
       "        vertical-align: top;\n",
       "    }\n",
       "\n",
       "    .dataframe thead th {\n",
       "        text-align: right;\n",
       "    }\n",
       "</style>\n",
       "<table border=\"1\" class=\"dataframe\">\n",
       "  <thead>\n",
       "    <tr style=\"text-align: right;\">\n",
       "      <th></th>\n",
       "      <th>Opioid Claim Count</th>\n",
       "      <th>Drug Deaths</th>\n",
       "    </tr>\n",
       "    <tr>\n",
       "      <th>State</th>\n",
       "      <th></th>\n",
       "      <th></th>\n",
       "    </tr>\n",
       "  </thead>\n",
       "  <tbody>\n",
       "    <tr>\n",
       "      <th>AK</th>\n",
       "      <td>1560.0</td>\n",
       "      <td>1472.0</td>\n",
       "    </tr>\n",
       "    <tr>\n",
       "      <th>AL</th>\n",
       "      <td>145984.0</td>\n",
       "      <td>8818.0</td>\n",
       "    </tr>\n",
       "    <tr>\n",
       "      <th>AP</th>\n",
       "      <td>21.0</td>\n",
       "      <td>NaN</td>\n",
       "    </tr>\n",
       "    <tr>\n",
       "      <th>AR</th>\n",
       "      <td>52842.0</td>\n",
       "      <td>4616.0</td>\n",
       "    </tr>\n",
       "    <tr>\n",
       "      <th>AZ</th>\n",
       "      <td>50874.0</td>\n",
       "      <td>14590.0</td>\n",
       "    </tr>\n",
       "  </tbody>\n",
       "</table>\n",
       "</div>"
      ],
      "text/plain": [
       "       Opioid Claim Count  Drug Deaths\n",
       "State                                 \n",
       "AK                 1560.0       1472.0\n",
       "AL               145984.0       8818.0\n",
       "AP                   21.0          NaN\n",
       "AR                52842.0       4616.0\n",
       "AZ                50874.0      14590.0"
      ]
     },
     "execution_count": 40,
     "metadata": {},
     "output_type": "execute_result"
    }
   ],
   "source": [
    "#create a data frame that merges 2015 OD Deaths and State OP Claims\n",
    "merged_oddeaths_opclaims2015 = state_opclaims_15.merge(state_od_2015, on=\"State\", how=\"outer\")\n",
    "merged_oddeaths_opclaims2015.head()"
   ]
  },
  {
   "cell_type": "code",
   "execution_count": 41,
   "metadata": {},
   "outputs": [
    {
     "data": {
      "text/plain": [
       "55"
      ]
     },
     "execution_count": 41,
     "metadata": {},
     "output_type": "execute_result"
    }
   ],
   "source": [
    "len(merged_oddeaths_opclaims2016)"
   ]
  },
  {
   "cell_type": "code",
   "execution_count": 42,
   "metadata": {},
   "outputs": [
    {
     "data": {
      "text/plain": [
       "56"
      ]
     },
     "execution_count": 42,
     "metadata": {},
     "output_type": "execute_result"
    }
   ],
   "source": [
    "len(merged_oddeaths_opclaims2015)"
   ]
  },
  {
   "cell_type": "code",
   "execution_count": 43,
   "metadata": {},
   "outputs": [],
   "source": [
    "#drop NA values from our 2016 Opioid Claim and OD Deaths Charts\n",
    "merged_oddeaths_opclaims2016 = merged_oddeaths_opclaims2016.dropna(axis = 0 , how='any')"
   ]
  },
  {
   "cell_type": "code",
   "execution_count": 44,
   "metadata": {},
   "outputs": [],
   "source": [
    "#drop NA values from our 2015 Opioid Claim and OD Deaths Charts\n",
    "merged_oddeaths_opclaims2015 = merged_oddeaths_opclaims2015.dropna(axis = 0 , how='any')"
   ]
  },
  {
   "cell_type": "code",
   "execution_count": 45,
   "metadata": {},
   "outputs": [
    {
     "data": {
      "text/plain": [
       "51"
      ]
     },
     "execution_count": 45,
     "metadata": {},
     "output_type": "execute_result"
    }
   ],
   "source": [
    "len(merged_oddeaths_opclaims2016)"
   ]
  },
  {
   "cell_type": "code",
   "execution_count": 46,
   "metadata": {},
   "outputs": [
    {
     "data": {
      "text/plain": [
       "51"
      ]
     },
     "execution_count": 46,
     "metadata": {},
     "output_type": "execute_result"
    }
   ],
   "source": [
    "len(merged_oddeaths_opclaims2015)"
   ]
  },
  {
   "cell_type": "code",
   "execution_count": 47,
   "metadata": {},
   "outputs": [
    {
     "name": "stderr",
     "output_type": "stream",
     "text": [
      "C:\\Users\\omarc\\Anaconda3\\lib\\site-packages\\scipy\\stats\\stats.py:1713: FutureWarning: Using a non-tuple sequence for multidimensional indexing is deprecated; use `arr[tuple(seq)]` instead of `arr[seq]`. In the future this will be interpreted as an array index, `arr[np.array(seq)]`, which will result either in an error or a different result.\n",
      "  return np.add.reduce(sorted[indexer] * weights, axis=axis) / sumval\n"
     ]
    },
    {
     "data": {
<<<<<<< HEAD
      "image/png": "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\n",
=======
      "image/png": "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\n",
>>>>>>> fd55e43727b9150913f10b13767ff508d37502ca
      "text/plain": [
       "<Figure size 432x288 with 1 Axes>"
      ]
     },
     "metadata": {
      "needs_background": "light"
     },
     "output_type": "display_data"
    }
   ],
   "source": [
    "#Scatter Plot Example for our 2016 data comparint State Opioid Claim Counts vs. Drug Deaths\n",
    "merged_oddeaths_opclaims2016.plot.scatter(x=\"Opioid Claim Count\", y='Drug Deaths', color='LightCoral', \n",
    "                                           grid=True, alpha=0.5, edgecolors = 'black', label='States')\n",
    "#Add title to our scatter plot along with an x-axis and y-axis title\n",
    "#plt.title(\"State Opioid Claim Counts vs. Drug Deaths for 2016\")\n",
    "#plt.xlabel(\"Opioid Claim Count\")\n",
    "#plt.ylabel(\"Drug Deaths\")\n",
    "\n",
    "#plt.savefig(\"../Presentation/graphs/opioidclaims_versus_drugdeaths_16.png\")\n",
    "\n",
    "#plt.show()\n",
    "sns.set_style('darkgrid')\n",
    "plt.title(\"State Opioid Claim Counts vs. Drug Deaths for 2016\")\n",
    "sns.regplot(x='Opioid Claim Count',y='Drug Deaths',data=merged_oddeaths_opclaims2016)\n",
    "plt.savefig(\"../Presentation/graphs/opioidclaims_versus_drugdeaths_16.png\")\n"
   ]
  },
  {
   "cell_type": "code",
<<<<<<< HEAD
   "execution_count": 48,
=======
   "execution_count": 47,
>>>>>>> fd55e43727b9150913f10b13767ff508d37502ca
   "metadata": {},
   "outputs": [
    {
     "data": {
<<<<<<< HEAD
      "image/png": "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\n",
=======
      "image/png": "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\n",
>>>>>>> fd55e43727b9150913f10b13767ff508d37502ca
      "text/plain": [
       "<Figure size 432x288 with 1 Axes>"
      ]
     },
     "metadata": {},
     "output_type": "display_data"
    }
   ],
   "source": [
    "sns.set_style('darkgrid')\n",
    "plt.title(\"State Opioid Claim Counts vs. Drug Deaths for 2015\")\n",
    "sns.regplot(x='Opioid Claim Count',y='Drug Deaths',data=merged_oddeaths_opclaims2015)\n",
    "plt.savefig(\"../Presentation/graphs/opioidclaims_versus_drugdeaths_15.png\")"
   ]
  },
  {
   "cell_type": "code",
   "execution_count": 49,
   "metadata": {},
   "outputs": [],
   "source": [
    "#Scatter Plot Example for our 2015 data comparint State Opioid Claim Counts vs. Drug Deaths\n",
    "#merged_oddeaths_opclaims2015.plot.scatter(x=\"Opioid Claim Count\", y='Drug Deaths', color='LightCoral', \n",
    "                                           #grid=True, alpha=0.5, edgecolors = 'black', label='States')\n",
    "#Add title to our scatter plot along with an x-axis and y-axis title\n",
    "#plt.title(\"State Opioid Claim Counts vs. Drug Deaths for 2015\")\n",
    "#plt.xlabel(\"Opioid Claim Count\")\n",
    "#plt.ylabel(\"Drug Deaths\")\n",
    "\n",
    "#plt.savefig(\"../Presentation/graphs/opioidclaims_versus_drugdeaths_15.png\")\n",
    "#plt.show()"
   ]
  },
  {
   "cell_type": "code",
   "execution_count": 50,
   "metadata": {},
   "outputs": [
    {
     "data": {
      "text/html": [
       "<div>\n",
       "<style scoped>\n",
       "    .dataframe tbody tr th:only-of-type {\n",
       "        vertical-align: middle;\n",
       "    }\n",
       "\n",
       "    .dataframe tbody tr th {\n",
       "        vertical-align: top;\n",
       "    }\n",
       "\n",
       "    .dataframe thead th {\n",
       "        text-align: right;\n",
       "    }\n",
       "</style>\n",
       "<table border=\"1\" class=\"dataframe\">\n",
       "  <thead>\n",
       "    <tr style=\"text-align: right;\">\n",
       "      <th></th>\n",
       "      <th>Opioid Prescribing Rate</th>\n",
       "    </tr>\n",
       "    <tr>\n",
       "      <th>State</th>\n",
       "      <th></th>\n",
       "    </tr>\n",
       "  </thead>\n",
       "  <tbody>\n",
       "    <tr>\n",
       "      <th>AK</th>\n",
       "      <td>5.876667</td>\n",
       "    </tr>\n",
       "    <tr>\n",
       "      <th>AL</th>\n",
       "      <td>6.589167</td>\n",
       "    </tr>\n",
       "    <tr>\n",
       "      <th>AR</th>\n",
       "      <td>6.616901</td>\n",
       "    </tr>\n",
       "    <tr>\n",
       "      <th>AZ</th>\n",
       "      <td>8.041884</td>\n",
       "    </tr>\n",
       "    <tr>\n",
       "      <th>CA</th>\n",
       "      <td>7.689108</td>\n",
       "    </tr>\n",
       "  </tbody>\n",
       "</table>\n",
       "</div>"
      ],
      "text/plain": [
       "       Opioid Prescribing Rate\n",
       "State                         \n",
       "AK                    5.876667\n",
       "AL                    6.589167\n",
       "AR                    6.616901\n",
       "AZ                    8.041884\n",
       "CA                    7.689108"
      ]
     },
     "execution_count": 50,
     "metadata": {},
     "output_type": "execute_result"
    }
   ],
   "source": [
    "#Analyze information grouped by state doing and grabbing the mean prescribed rates 2016\n",
    "state_prescribedrates_16 = pd.DataFrame(new_merged_2016.groupby([\"State\"])[\"Opioid Prescribing Rate\"].mean())\n",
    "state_prescribedrates_16.head()"
   ]
  },
  {
   "cell_type": "code",
   "execution_count": 51,
   "metadata": {},
   "outputs": [
    {
     "data": {
      "text/html": [
       "<div>\n",
       "<style scoped>\n",
       "    .dataframe tbody tr th:only-of-type {\n",
       "        vertical-align: middle;\n",
       "    }\n",
       "\n",
       "    .dataframe tbody tr th {\n",
       "        vertical-align: top;\n",
       "    }\n",
       "\n",
       "    .dataframe thead th {\n",
       "        text-align: right;\n",
       "    }\n",
       "</style>\n",
       "<table border=\"1\" class=\"dataframe\">\n",
       "  <thead>\n",
       "    <tr style=\"text-align: right;\">\n",
       "      <th></th>\n",
       "      <th>Opioid Prescribing Rate</th>\n",
       "    </tr>\n",
       "    <tr>\n",
       "      <th>State</th>\n",
       "      <th></th>\n",
       "    </tr>\n",
       "  </thead>\n",
       "  <tbody>\n",
       "    <tr>\n",
       "      <th>AK</th>\n",
       "      <td>15.743929</td>\n",
       "    </tr>\n",
       "    <tr>\n",
       "      <th>AL</th>\n",
       "      <td>12.365728</td>\n",
       "    </tr>\n",
       "    <tr>\n",
       "      <th>AP</th>\n",
       "      <td>20.390000</td>\n",
       "    </tr>\n",
       "    <tr>\n",
       "      <th>AR</th>\n",
       "      <td>13.359554</td>\n",
       "    </tr>\n",
       "    <tr>\n",
       "      <th>AZ</th>\n",
       "      <td>14.224116</td>\n",
       "    </tr>\n",
       "  </tbody>\n",
       "</table>\n",
       "</div>"
      ],
      "text/plain": [
       "       Opioid Prescribing Rate\n",
       "State                         \n",
       "AK                   15.743929\n",
       "AL                   12.365728\n",
       "AP                   20.390000\n",
       "AR                   13.359554\n",
       "AZ                   14.224116"
      ]
     },
     "execution_count": 51,
     "metadata": {},
     "output_type": "execute_result"
    }
   ],
   "source": [
    "#Analyze information grouped by state doing and grabbing the mean prescribed rates 2015\n",
    "state_prescribedrates_15 = pd.DataFrame(new_merged_2015.groupby([\"State\"])[\"Opioid Prescribing Rate\"].mean())\n",
    "state_prescribedrates_15.head()"
   ]
  },
  {
   "cell_type": "code",
   "execution_count": 52,
   "metadata": {},
   "outputs": [
    {
     "data": {
      "text/html": [
       "<div>\n",
       "<style scoped>\n",
       "    .dataframe tbody tr th:only-of-type {\n",
       "        vertical-align: middle;\n",
       "    }\n",
       "\n",
       "    .dataframe tbody tr th {\n",
       "        vertical-align: top;\n",
       "    }\n",
       "\n",
       "    .dataframe thead th {\n",
       "        text-align: right;\n",
       "    }\n",
       "</style>\n",
       "<table border=\"1\" class=\"dataframe\">\n",
       "  <thead>\n",
       "    <tr style=\"text-align: right;\">\n",
       "      <th></th>\n",
       "      <th>Opioid Prescribing Rate</th>\n",
       "      <th>Drug Deaths</th>\n",
       "    </tr>\n",
       "    <tr>\n",
       "      <th>State</th>\n",
       "      <th></th>\n",
       "      <th></th>\n",
       "    </tr>\n",
       "  </thead>\n",
       "  <tbody>\n",
       "    <tr>\n",
       "      <th>AK</th>\n",
       "      <td>5.876667</td>\n",
       "      <td>1594.0</td>\n",
       "    </tr>\n",
       "    <tr>\n",
       "      <th>AL</th>\n",
       "      <td>6.589167</td>\n",
       "      <td>8324.0</td>\n",
       "    </tr>\n",
       "    <tr>\n",
       "      <th>AR</th>\n",
       "      <td>6.616901</td>\n",
       "      <td>4513.0</td>\n",
       "    </tr>\n",
       "    <tr>\n",
       "      <th>AZ</th>\n",
       "      <td>8.041884</td>\n",
       "      <td>16403.0</td>\n",
       "    </tr>\n",
       "    <tr>\n",
       "      <th>CA</th>\n",
       "      <td>7.689108</td>\n",
       "      <td>57154.0</td>\n",
       "    </tr>\n",
       "  </tbody>\n",
       "</table>\n",
       "</div>"
      ],
      "text/plain": [
       "       Opioid Prescribing Rate  Drug Deaths\n",
       "State                                      \n",
       "AK                    5.876667       1594.0\n",
       "AL                    6.589167       8324.0\n",
       "AR                    6.616901       4513.0\n",
       "AZ                    8.041884      16403.0\n",
       "CA                    7.689108      57154.0"
      ]
     },
     "execution_count": 52,
     "metadata": {},
     "output_type": "execute_result"
    }
   ],
   "source": [
    "#merge this information with the OD Deaths by state for 2016\n",
    "merged_oddeaths_oprates2016 = state_prescribedrates_16.merge(state_od_2016, on=\"State\", how=\"outer\")\n",
    "merged_oddeaths_oprates2016.head()"
   ]
  },
  {
   "cell_type": "code",
   "execution_count": 53,
   "metadata": {},
   "outputs": [
    {
     "data": {
      "text/html": [
       "<div>\n",
       "<style scoped>\n",
       "    .dataframe tbody tr th:only-of-type {\n",
       "        vertical-align: middle;\n",
       "    }\n",
       "\n",
       "    .dataframe tbody tr th {\n",
       "        vertical-align: top;\n",
       "    }\n",
       "\n",
       "    .dataframe thead th {\n",
       "        text-align: right;\n",
       "    }\n",
       "</style>\n",
       "<table border=\"1\" class=\"dataframe\">\n",
       "  <thead>\n",
       "    <tr style=\"text-align: right;\">\n",
       "      <th></th>\n",
       "      <th>Opioid Prescribing Rate</th>\n",
       "      <th>Drug Deaths</th>\n",
       "    </tr>\n",
       "    <tr>\n",
       "      <th>State</th>\n",
       "      <th></th>\n",
       "      <th></th>\n",
       "    </tr>\n",
       "  </thead>\n",
       "  <tbody>\n",
       "    <tr>\n",
       "      <th>AK</th>\n",
       "      <td>15.743929</td>\n",
       "      <td>1472.0</td>\n",
       "    </tr>\n",
       "    <tr>\n",
       "      <th>AL</th>\n",
       "      <td>12.365728</td>\n",
       "      <td>8818.0</td>\n",
       "    </tr>\n",
       "    <tr>\n",
       "      <th>AP</th>\n",
       "      <td>20.390000</td>\n",
       "      <td>NaN</td>\n",
       "    </tr>\n",
       "    <tr>\n",
       "      <th>AR</th>\n",
       "      <td>13.359554</td>\n",
       "      <td>4616.0</td>\n",
       "    </tr>\n",
       "    <tr>\n",
       "      <th>AZ</th>\n",
       "      <td>14.224116</td>\n",
       "      <td>14590.0</td>\n",
       "    </tr>\n",
       "  </tbody>\n",
       "</table>\n",
       "</div>"
      ],
      "text/plain": [
       "       Opioid Prescribing Rate  Drug Deaths\n",
       "State                                      \n",
       "AK                   15.743929       1472.0\n",
       "AL                   12.365728       8818.0\n",
       "AP                   20.390000          NaN\n",
       "AR                   13.359554       4616.0\n",
       "AZ                   14.224116      14590.0"
      ]
     },
     "execution_count": 53,
     "metadata": {},
     "output_type": "execute_result"
    }
   ],
   "source": [
    "#merge this information with the OD Deaths by state for 2015\n",
    "merged_oddeaths_oprates2015 = state_prescribedrates_15.merge(state_od_2015, on=\"State\", how=\"outer\")\n",
    "merged_oddeaths_oprates2015.head()"
   ]
  },
  {
   "cell_type": "code",
   "execution_count": 54,
   "metadata": {},
   "outputs": [
    {
     "data": {
      "text/plain": [
       "55"
      ]
     },
     "execution_count": 54,
     "metadata": {},
     "output_type": "execute_result"
    }
   ],
   "source": [
    "len(merged_oddeaths_oprates2016)"
   ]
  },
  {
   "cell_type": "code",
   "execution_count": 55,
   "metadata": {},
   "outputs": [
    {
     "data": {
      "text/plain": [
       "56"
      ]
     },
     "execution_count": 55,
     "metadata": {},
     "output_type": "execute_result"
    }
   ],
   "source": [
    "len(merged_oddeaths_oprates2015)"
   ]
  },
  {
   "cell_type": "code",
   "execution_count": 56,
   "metadata": {},
   "outputs": [
    {
     "data": {
      "text/plain": [
       "51"
      ]
     },
     "execution_count": 56,
     "metadata": {},
     "output_type": "execute_result"
    }
   ],
   "source": [
    "#dropna for fields with missing column values for 2016\n",
    "merged_oddeaths_oprates2016 = merged_oddeaths_oprates2016.dropna(axis=0, how='any')\n",
    "len(merged_oddeaths_oprates2016)"
   ]
  },
  {
   "cell_type": "code",
   "execution_count": 57,
   "metadata": {},
   "outputs": [
    {
     "data": {
      "text/plain": [
       "51"
      ]
     },
     "execution_count": 57,
     "metadata": {},
     "output_type": "execute_result"
    }
   ],
   "source": [
    "#dropna for fields with missing column values for 2015\n",
    "merged_oddeaths_oprates2015 = merged_oddeaths_oprates2015.dropna(axis=0, how='any')\n",
    "len(merged_oddeaths_oprates2015)"
   ]
  },
  {
   "cell_type": "code",
<<<<<<< HEAD
   "execution_count": 69,
=======
   "execution_count": 57,
>>>>>>> fd55e43727b9150913f10b13767ff508d37502ca
   "metadata": {},
   "outputs": [
    {
     "data": {
      "image/png": "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\n",
      "text/plain": [
       "<Figure size 432x288 with 1 Axes>"
      ]
     },
     "metadata": {},
     "output_type": "display_data"
    }
   ],
   "source": [
    "#Scatter Plot Example comparing the average State Opioid Prescribeing Rates vs Drug Deaths for 2016\n",
    "ax = merged_oddeaths_oprates2016.plot.scatter(x=\"Opioid Prescribing Rate\", y='Drug Deaths', color='aqua', \n",
    "                                           grid=True, alpha=0.5, edgecolors = 'black', label='2016 States')\n",
    "#Add title to our scatter plot along with an x-axis and y-axis title\n",
    "plt.text(21,15,'*Prescribing rates calculated from individual physicians')\n",
    "plt.title(\"State Opioid Prescribing Rates vs. Drug Deaths for 2016\")\n",
    "plt.xlabel(\"Opioid Prescribing Rates\")\n",
    "plt.ylabel(\"Drug Deaths\")\n",
    "plt.savefig(\"../Presentation/graphs/opioidprescribedrates_versus_drugdeaths_16.png\")\n",
    "\n",
    "plt.show()\n"
   ]
  },
  {
   "cell_type": "code",
   "execution_count": 70,
   "metadata": {},
   "outputs": [],
   "source": [
    "\n",
    "#sns.regplot(x='Opioid Prescribing Rate',y='Drug Deaths',data=merged_oddeaths_oprates2015)"
   ]
  },
  {
   "cell_type": "code",
<<<<<<< HEAD
   "execution_count": 71,
=======
   "execution_count": 59,
>>>>>>> fd55e43727b9150913f10b13767ff508d37502ca
   "metadata": {},
   "outputs": [
    {
     "data": {
      "image/png": "iVBORw0KGgoAAAANSUhEUgAAAZAAAAESCAYAAADTx4MfAAAABHNCSVQICAgIfAhkiAAAAAlwSFlzAAALEgAACxIB0t1+/AAAADl0RVh0U29mdHdhcmUAbWF0cGxvdGxpYiB2ZXJzaW9uIDMuMC4yLCBodHRwOi8vbWF0cGxvdGxpYi5vcmcvOIA7rQAAIABJREFUeJzt3Xl8TNf/+PHXZE8miZHyCaqItVRRjbXE1paPIvUptdfSor61RGtXpKQISiv6sbao2oWutFqfqlJFW4pYWkVsEWu2yTaZOb8//DLNvoxJMpO8n49HH+XOmXvfc8zc9z3n3HuORimlEEIIIQrJoaQDEEIIYZ8kgQghhLCIJBAhhBAWkQQihBDCIpJAhBBCWEQSiBBCCItIAimAEydOMGjQILp37063bt147bXX+Ouvv8yvDxs2jHv37uW7n4KWy+rq1auMHz+eZ599lh49etCrVy927NhRoPdOnz6dn3/+Oc8ymzdvZtWqVTm+9tRTT3Ht2rVs2wcNGkTHjh0JDAzkxRdf5IUXXmDy5MkkJSUVKC5rOXXqFGPHjgVgypQpfPTRRzmWCwwMJC4uzirHDAsLo2XLlgQGBhIYGEiPHj3o2LEj8+bNI7+74uPj43nllVesEoe11atXj+7du5s/03/+8x82btxYpMecMmUKbdu2Nddl165dmTlzJrdv336o/e7fv58PPvgAgJ07dzJy5EiL92U0Ghk1ahSdO3fm008/tXg/J0+epG/fvgQGBtK9e3c+//zzTPF2796dzp07M3bsWBISEjK9NyoqirZt22Y6f/zvf/+jefPm5roLDAzM9r4ip0SeUlJSVPPmzdXp06fN2z777DPVrl07lZaWppRSqm7duuru3bv57qug5TK6evWqCggIUDt37lQmk0kppdTNmzfVwIED1aJFiwq1L0s0adJEXb16Ndv2gQMHqj179pj/bjKZ1JgxY9T8+fOLPKbcTJ48Wa1Zs6bIj7N06VL1zjvvZNoWExOjAgIC1IEDB/J879WrV1WTJk2KMjyLZf1+3r17V/Xu3Vt99NFHRXbMrP9mJpNJLV++XPXo0cP8+7JExn+j8PBwNWLECIv3df36ddWwYcOHisdkMql27dqpQ4cOKaWUioqKUi1btlSXLl1Sd+/eNf9ZKaUWLFigZs2aZX7vrl27VIcOHbL9+yxatEgtX77c4piswal405X9SUpKIj4+nsTERPO2Hj164OnpidFo5O233wZg8ODBrFq1inPnzrFy5UpSU1O5d+8eL774IkFBQUydOjVTOQcHB2bPnk1UVBQGg4EXXniB119/PdvxV61aRbdu3ejZs6d5m6+vL0uWLKFTp04MGjSIgwcP8s0332Aymbhx4wa+vr7Mnz8fX19fBg0axIABA+jSpQvff/89y5Ytw2QyodVqmTp1Ko0aNSIsLIz79+8zc+ZMfv31V+bMmYNGo+HJJ5/EZDIVqJ40Gg0tWrTgwIEDADRs2JBOnTpx7tw5Fi1ahIeHB++++y4xMTEYjUYGDRpEr1690Ov1TJ06lcjISBwcHHjiiSeYPXs2Dg4O7Nixg7Vr1+Lg4ED58uUJDQ3lypUrvPvuu3h4eKDX65k0aRKhoaF89dVXAPz22298++23JCQk8MwzzzB58mScnJyoV68ehw8fZv/+/Xz33Xc4ODgQGRmJm5sboaGh1KpVi8jISKZNm0ZsbCwVK1ZEKWW+Es/PnTt3SE5Oply5cgDs2LGDrVu3YjAYiI2NZfjw4fTv35+pU6eSnJxMYGAgO3fu5PLly4Wul3QHDx4kNDSUL7/8EoC4uDg6derE999/z9dff82WLVtwdnbG1dWV2bNnU7t27QL9W6bz8fFhypQpjB07lqFDh7Js2TJOnDjBrVu3qFevHtWrVzd/b4BM3yNL61Kj0fD666+za9cuDh06REBAAL///juLFi0iKSkJBwcHRo8eTYcOHUhMTCQ4OJjIyEhiYmLQarUsWrSI+Ph4tmzZgtFoxMvLi+rVq3P79m1GjBhBVFQUjo6OvPfee9SqVYu9e/eyfPlyNBoNjo6OTJo0iWbNmpnjSUhI4LXXXiMtLY3//Oc/hIWFcevWLRYsWEBSUhLOzs4EBQUREBDAzp072bFjB0lJSXh6erJhwwbzflJTU3njjTdo3bo1AJUqVcLHx4ebN29y8uRJnnzySWrUqAFAv379CAwMZNasWdy6dYvvv/+ejz76iC5dumSqq+PHj+Pk5MTu3bvx9PRk/PjxmWIvFiWavuzExx9/rBo1aqQ6duyoJkyYoLZv364SExPNr6dfGZhMJjVw4EDzlcTNmzdV/fr1zVcNGa8gBg0apPbt26eUUio5OVkNGjRIff3119mO3a1bN/XDDz/kGFfPnj3V3r17VXh4uGrSpIm6ePGiUkqphQsXqjFjxiil/mkpXLhwQbVu3VpduXJFKaXUzz//rJ555hkVHx9vvlpLSUlRrVu3Vj///LNSSqkvv/xS1a1bt0AtkJiYGDVgwADz1WrdunXVrl27lFJKGQwG1bVrV3MrLi4uTv373/9Wx48fV7t27VLDhg1TSimVlpampk+fri5fvqzOnj2rWrRooW7cuKGUUmrt2rVqxowZ6pdfflGPP/64unbtmlJKqV9++UW98MILSqkHV7M9e/ZUer1epaSkqIEDB6qNGzdmqvvw8HD19NNPq6ioKKWUUrNnz1aTJk1SSin18ssvm8tfuHBBNW7cWIWHh2f77EuXLlUtWrRQPXr0UM8995xq3ry5GjJkiLk+EhIS1Msvv6zu3bunlFLq+PHj5lZHxhaIJfWSkclkUh06dFAnT55USim1ceNG9dZbb6m0tDT1xBNPqOjoaKXUgyvYLVu2ZPscWeXUQtbr9ebtS5cuVZ07d1YGg8FcDxlbYhn/XtC6zK3VOGbMGLV69WoVExOjnn/+efN38ObNmyogIEBdv35d7dmzR82ZM8f8nhkzZqjZs2dniyU8PFz5+/ub62/OnDlq6tSpSimlOnXqpI4fP66UUuqnn35SYWFh2WLJ+G9279491apVK3XixAmllFJ//vmnat68ubpy5YoKDw9XzZo1U/Hx8XnU8gNbtmxR7dq1U0lJSWrlypVqxowZ5tcMBoOqW7dutv1k/fd544031J49e5TJZFLHjh1TzZs3N3+vi4u0QApg6NCh9O7dm2PHjnHs2DFWr17N6tWr2bFjB15eXuZyGo2GFStWsH//fr766iv+/vtvlFLZxgUSExM5duwYsbGx5n7axMREzp07R9euXbMdPy0tLce4UlNT0Wg0ADzzzDP4+fkB8PLLLxMYGJip7C+//ELLli157LHHAGjVqhU+Pj6cPn3aXObPP//EycmJVq1aAdCtWzfz1WVOFixYwPLly839/h06dMjUv+/v7w/A5cuXuXLlCtOmTTO/lpyczJkzZ2jbti1Llixh0KBBtG7dmsGDB1O9enXWrl1LmzZtqFy5MgBDhgwB4MiRI1SuXJlHH300x5gCAwPx8PAAHrQUf/zxR/r375+pzBNPPEGlSpUAaNCgAd999x2xsbGcPHnS3Mddq1YtWrZsmetnT++rT01NZc6cOVy4cIGOHTsCoNVqWbFiBT/++COXL1/m3LlzmVqw6Sypl4w0Gg0vvfQSu3bt4sknn2Tnzp1MmjQJR0dHunTpQt++fWnfvj1t2rShXbt2uX6WvKR/v1xdXQFo0qQJTk55nzYKW5e5Hdfd3Z0TJ05w+/Zt3njjjUyvnT9/ni5duvDYY4+xYcMGIiMjOXr0KE899VSO+2vUqJG5/urXr893330HwAsvvMDo0aNp164dzzzzDMOHD88zrpMnT1KtWjUaN24MQJ06dWjatClHjx5Fo9FQr149PD0989zHqlWr+OSTT1izZg1ubm6YTCZzPWeUsbWZk2XLlpn/7O/vz1NPPcWhQ4d46aWX8nyfNUkCycdvv/3G8ePHee211+jQoQMdOnTgzTffpFu3bhw6dChTszIxMZGePXvy7LPP4u/vz0svvcT333+fbWDVZDKhlGLLli24u7sDcO/ePfOPNKOnnnqKI0eO8Oyzz2baHh0dzbVr13jyySc5dOgQjo6Omfaf8e/p27J+SZVS2ZJT1ljzOllMmjQpW7M6o/QTeXpXQsZBwzt37uDl5YWrqyvfffcdR44c4ZdffmHo0KHMnj0bR0fHTPEmJydz/fr1TPvNScbPrZTKMX43NzfznzUaDUop8/syfv6sdZgTFxcXZsyYwUsvvcSCBQt4++23uXnzJn369OHll1/m6aefpkuXLvzwww/Z3mtJvaQnqXS9evWiZ8+e9O7dm/j4eJo3bw7AokWL+PPPP/n5559ZtWoVn3/+uflipTBOnTpF1apV0Wq1QOa6T6+7dAaDAcDiukynlCIiIoKBAwcSHx9PrVq12L59u/n16OhofHx82LRpE9u2bWPAgAF0794dnU6X4w0fkPl7nDHu8ePH89JLL3Ho0CF27tzJxx9/nOcNKkajMdffkbOzc57fzdTUVKZMmcKFCxfYsmULVatWBaBy5cr88ccfmT5fuXLl8txXXFwcmzZtYuTIkeZ4cvu+FyW5CysfPj4+LF++nF9//dW87fbt2yQkJFC3bl3gwY8jLS2NyMhIEhISCAoKomPHjhw5coTU1FTzOEJ6OU9PT5o0acLatWuBB1+Gfv36sW/fvmzHHzVqFHv27GHXrl3mbTdv3uTNN9+kX79++Pr6Ag9aGNHR0QBs2bKFDh06ZNpPq1atOHjwIFevXgXg8OHDREVFma+k4MFdOEopfvzxRwD27dtHbGzsw1Ug4Ofnh5ubm/lEGRUVRbdu3Th9+jSbNm1i6tSptGnThokTJ9KmTRvOnDlDixYtOHz4MLdu3TJ/poULF+Z7rK+//prU1FRSUlLYtWsXAQEBBYrR09OTpk2bsnPnTuDBnW+HDx/O8cowKxcXF2bNmsWmTZs4c+YMp0+fxsfHh//7v/+jTZs25uRhNBpxcnLCaDSilLKoXrLy9fWlUaNGzJw5k169egEPLkbatWuHTqdjyJAhBAUFcerUqQLVQ0bR0dEsWrSIYcOG5fh6+fLliYiIQClFQkKC+XM+TF0ajUY+/PBDypcvT7NmzWjSpAmRkZEcO3YMgLNnz9K5c2eio6M5ePCgOXn6+fnxv//9D6PRCPzzW8tLWloaHTt2JCkpiX79+jFr1izOnz9Pampqru9p0qQJFy9e5OTJkwD89ddfHDt2zJy48zJhwgQSEhIyJQ+ANm3a8Mcff3D58mXgwXe9U6dOee5Lq9WyceNG9u7dC8CZM2c4efIkbdu2zTcOa5IWSD78/Pz48MMPWbJkCTdv3sTV1RUvLy/mzp1LzZo1AejSpQuDBg3igw8+oH379vz73//GxcWFunXrUrt2bSIjI6lWrZq5XFhYGIsWLWLOnDl0796d1NRUunXrRo8ePbIdv3LlymzdupX333+fFStW4OTkhKurKy+//DJ9+vQxl/P19WXixIncvn2b2rVrM3v27Ez7qV27NrNmzWL06NEYjUbc3NxYsWJFpi44Z2dnPvzwQ4KDg1m8eDH169fnkUceeeg6dHFx4b///S/vvvsua9asIS0tjXHjxvH0009Tv359jh49SteuXXF3d6dy5coMGjSIcuXKMXHiRF577TUAKlasyNy5c80/stxUrVqV/v37o9free655zLdfJCf0NBQpk+fzqZNm/D19aVq1aqZWit58ff3p3v37syePdt8FdulSxc0Gg3NmzfHx8eHyMhIqlevTqNGjXjhhRfYuHFjoeslJ71792bcuHEsX74ceHDRM2rUKIYMGYKbmxuOjo6EhIQAD27ZPn36NO+++26O+xo8eDAODg7mFsNLL73EgAEDcizbo0cPfvrpJ55//nl8fX1p3ry5+cq+MHW5bt06vvjiCzQaDUajkSeffNJ8W7mPjw9Lly5lwYIFpKSkoJRiwYIFVK1alWHDhjFz5kxzi6FJkyb8+eefALRs2ZIJEyYwZ84cnnjiiRyP6+TkxLRp05gwYQJOTk5oNBrmzp2Li4tLjuXT4/nggw+YM2cOycnJaDQa5s2bh5+fH8ePH8/1fcePH+fbb7+lRo0a9OvXz7x9woQJtG3blnnz5jF27FgMBgPVqlUjNDQ0133BgwT53//+l5CQEMLCwnB0dGTJkiX4+Pjk+T5r06isfRbC7uzcuZNvv/2WlStXlnQodm358uU8//zz1KpVi/j4eHr06MHq1asLffeSkLosK6QFIsT/V6NGDcaPH4+DgwNGo5Hhw4fLCc9CUpdlg7RAhBBCWEQG0YUQQlhEEogQQgiLlOoxEJPJhNGYuYfO0VGTbZstkjitxx5iBInT2iROyzk7F+y5nVKdQIxGRUxM5ieAdTqPbNtskcRpPfYQI0ic1iZxWq5iRa/8CyFdWEIIISwkCUQIIYRFJIEIIYSwSKkeA8lJWpqBO3eiSEvLfb4bWxAdrcl3dTtbkDVOJycXypeviKNjmftqCVHmlLlf+fXr13Fz80CrrVSgyd1KiqOjA0ZjwRZzKkkZ41RKodfHcf/+bSpUqFzCkQkhilqZ68JKSUlBq/W26eRhrzQaDVqtt8237oT90Ov1REXdQK/Xl3QoIgdlrgWilJLkUYSkboW1REScYd26vRgMOpydYxg69HkaNGhQ0mGJDMpcC0QIYfv0ej3r1u3Fw2MwVaqMwMNjMGvX7pWWiI0pcy2QkpaWlsa8ee8QFRWFwZDK4MGv0qZNO65du8q77waj0WioWbMWEydONb/n2rWrTJ36Fhs2bAMgLi6Wfv3+g59fLQACAjrw8sv9Mh1nw4Z1/PrrURwcNGg0GkaMeIPHH6/P339fID4+jiZNmuYaY3j4Vl56qU+urwtR1OLiYjEYdGi1DxZM02p9iY3VERcXa14dUZQ8SSAFoNfriYuLxdu73EN/eb/9djfe3jpmzJhDbGwMQ4cOoE2bdoSFLWb48FE0berPwoVzOXBgP23btuebb75m+/YtmVYGPH/+HM8+25nx4yfleIxLly5y6NABli//CI1Gw19/nSckJJj16zezf/8+HnnkkTwTyPr1H0sCESXK27sczs4x6PXRaLW+6PXRODvH4O1drqRDExlIAsmHtfthO3R4lg4d/lmuMv121/Pnz/HUU08D0LJla44dO0Lbtu3x8vJm2bJV9Onzovk958+f5c8/zzF69Ah0uvIEBU2kQoUK5tfLl/chOvomX3/9OS1atKZOnXqsXr2e27dvsWfPVzg5OVO37uNER99k587t5ttwQ0IW8Pnn4cTFxbJo0XyCgiawcOFcrl27islkMie4lSs/5Pfff8VkMvH8813o3Ttz60eIh6XVahk69HnWrl1PbOw/vz1pfdgWSSB5yNgPm34VtHbteoKDq1v8Rfbw8AAgMVHP229PZvjwUUDmwX0PDy16fQIAzzyTfY3j6tVrUK9efZo1a8HevXt4//0FhIQsML+u0+mYP38x4eFb+fjj1bi5uTFixP/Rvn0n/v3vbjzyyCM0aNCQX389ysKFH+Dm5saCBe9y9OhhBg9+lfDwbUyYMIVdu3ZQrpyOqVNnEhsbwxtvjODTT7fx7be7WbZsFRUqVOSbb76yqB6EyE+DBg0IDq5utda/sD5JIHkoqn7Y6OibTJs2kZ49e/H8810AcHD4536GxEQ9np65T2b29NPNcHV9sL50QEAH1qxZken1a9euotVqmTZtFgDnzp1hwoRxNG3qn6lc+fI+hITMwsPDg8jIyzRs2CjT63//fYGTJ49z5sxpAIzGNGJjYwgOfpeVK5dx9+5dWrduY2EtCJE/rVYricOGSQLJQ1H0w967d5c33xzN+PGT8Pdvbt5ep049fv/9V5o29eeXX37G379ZrvuYPz+Edu060qnTc/z661Hq1auf6fW///6LXbt2EBq6BFdXVx57rBqenp44ODji4OCAyaRISEjgo49WEh7+oAUxfvwb5q6s9P9Xr16Df/3rX7zyyjBSUpJZv/5j3N09+OGHfQQHz0UpxaBBL9Ox43NUqiQPDgpR1kgCyUNR9MN+8sla4uPjWbduDevWrQHgvfeWMnp0EAsWvMvKlR9SvXoNOnR4Ntd9vP76aObNm82uXdtxd3dn8uQZmV5v164jly9fYsSIIXh4uGMyKf7v/8bh6elJvXr1+e9/P6BGDT+efLIxw4YNxN3dHS8vL+7cuQ1AjRp+zJ49gylTZhAaGsLo0SPQ6xPo2bM3Li4ueHt7M2RIf7y8vGjRohW+vpUsrg8hhP0q1WuiGwzGbPPsR0dfwde3WqH2Y827sArKHqcySXfzZiSVKlUvoYiys8X1FnIicVqXxGm5gq4HIi2QApB+WCGEyE6eRBdCCGGRMpdANBr7mCbdXkndClF2lLkE4urqil4fJye6IpA+nbuTk0tJhyKEKAZlbgzk0Ucf5fLlKyQkxJR0KHmyl5ZS1jjTF5QSQpR+ZS6BODk528ViR7Z4Z0ZO7CVOIYT1lbkuLCGEENYhCUQIIYRFJIEIIYSwiCQQIYQQFpEEIoQQwiJFdhfWiy++iJfXg/lUqlatSp8+fXj33XdxdHSkTZs2jB49GpPJRHBwMOfPn8fFxYWQkBCqV6/OiRMnClxWCCFEySiSBJKSkgLAhg0bzNsCAwMJCwvjscceY8SIEURERHD9+nVSU1PZunUrJ06cYP78+SxfvpxZs2YVuKwQQoiSUSQJ5Ny5cyQlJTFs2DDS0tIYM2YMqampVKv2YBbcNm3acPjwYW7fvk3btg9W3GvSpAmnT58mISGhwGWFEEKUnCJJIG5ubrz66qv07t2by5cvM3z4cLy9vc2va7Varl69SkJCAp6enubtjo6O2bblVTYtLQ0np9w/gqOjBp3OI8s2h2zbbJHEaT32ECNInNYmcRa9Ikkgfn5+VK9eHY1Gg5+fH15eXsTE/DN1iF6vx9vbm+TkZPR6vXm7yWTC09Mz07a8yuaVPACMRpXtKWl7eXJa4rQee4gRJE5rkzgtV9D1QIrkLqwdO3Ywf/58AKKjo0lKSsLDw4MrV66glOLgwYP4+/vTtGlTDhw4AMCJEyeoW7cunp6eODs7F6isEEKIklMkLZBevXoxdepU+vXrh0ajYe7cuTg4ODBhwgSMRiNt2rShcePGPPnkkxw6dIi+ffuilGLu3LkAvPPOOwUuK4QQomSUuSVtbbG5mBOJ03rsIUaQOK1N4rRciXZhCSGEKP0kgQghhLCIJBAhhBAWkQQihBDCIpJAhBBCWEQSiBBCCItIAhFCCGERSSBCCCEsIglECCGERSSBCCGEsIgkECGEEBaRBCKEEMIikkCEEEJYRBKIEEIIi0gCEUIIYRFJIEIIISwiCUQIIYRFJIEIIYSwiCQQIYQQFpEEIoQQwiKSQIQQQlhEEogQQgiLSAIRQghhEUkgQgghLCIJRAghhEUkgQghhLCIJBAhhBAWkQQihBDCIkWWQO7evUu7du34+++/iYyMpF+/fvTv359Zs2ZhMpkAWLZsGb169aJv376cPHkSoFBlhRBClJwiSSAGg4GZM2fi5uYGwLx58wgKCmLTpk0opdi3bx8REREcPXqU7du3s3jxYt55551ClxVCCFFynIpip6GhofTt25dVq1YBEBERQfPmzQEICAjg0KFD+Pn50aZNGzQaDVWqVMFoNHLv3r1ClfXx8ckzDkdHDTqdR5ZtDtm22SKJ03rsIUaQOK1N4ix6Vk8gO3fuxMfHh7Zt25oTiFIKjUYDgFarJT4+noSEBHQ6nfl96dsLUza/BGI0KmJiEjNt0+k8sm2zRRKn9dhDjCBxWpvEabmKFb0KVM7qCSQ8PByNRsPhw4c5e/YskydP5t69e+bX9Xo93t7eeHp6otfrM2338vLCwcGhwGWFEEKUHKuPgWzcuJFPP/2UDRs2UL9+fUJDQwkICODIkSMAHDhwAH9/f5o2bcrBgwcxmUzcuHEDk8mEj48PDRo0KHBZIYQQJadIxkCymjx5MjNmzGDx4sXUrFmTzp074+joiL+/P3369MFkMjFz5sxClxVCCFFyNEopVdJBFBWDwShjIEXMHuK0hxhB4rQ2idNyBR0DkQcJhRBCWEQSiBBCCItIAhFCCGERSSBClAC9Xk9U1I1Mt6eX5uOK0qlY7sISQvwjIuIM69btxWDQ4ewcw9Chz9OgQYNSe1xRekkLRIg8WPuKXa/Xs27dXjw8BlOlygg8PAazdu3eIm8RlNRxRekmLRAhclEUV+xxcbEYDDq0Wl8AtFpfYmN1xMXF8uijFa0RdqGPq9Vqi+y4onSTFogQOSiqK3Zv73I4O8eg10f//+NE4+wcg7d3OWuEbXPHFaWbJBAhcpDTFbvB8OCK/WFotVqGDn2exMT13LixisTE9Qwd+nyRtwJK6riidJMuLCFykPGKXav1teoVe4MGDQgOrk5cXCze3uWK7SReUscVpVe+CeSvv/4iISEBBwcHFi9ezOuvv06rVq2KIzYhSkz6FfvateuJjf1nDMRaJ12tVlsiJ/CSOq4onfJNILNmzWL69OmEhYUxfvx4Fi5cKAlElAlyxS5E3vJNIE5OTtSpUweDwUCTJk0wGo3FEZcQNkGu2IXIXb6D6BqNhrfeeouAgAB2796Nu7t7ccQlhBDCxuXbAlmyZAmnTp2iXbt2/PLLL7z//vvFEZcQQggbl28CSUxM5MKFC5w6dQqAX3/9ldGjRxd5YEIIIWxbvl1Yb731FklJSVSoUMH8nxBCCJFvC8TNzU1aHEIIIbLJNYFcunQJgAoVKvDVV1/RoEEDNBoNAH5+fsUTnRBCCJuVawKZOXOm+c9bt241/1mj0fDJJ58UbVRCCCFsXq4JZMOGDQD88MMPdOjQwbx99+7dRR+VEEIIm5drAvnhhx84fvw4X331FcePHwfAZDKxb98+unbtWmwBCiGEsE25JpDHH3+cmJgYXF1dzWMeGo2GF154odiCE0IIYbtyTSCVK1emZ8+eBAYG4uDwz92+t27dKpbAhBBC2LZ8b+NdtmwZmzZtwmAwkJycTI0aNfj666+LIzYhyiS9Xi8TOAq7kO+DhAcOHODAgQN0796d3bt34+vrWxxxCVEmRUScITh4NaGhewkOXs2Ohao0AAAgAElEQVSZM2dKOiQhcpVvAtHpdLi4uKDX66levTpJSUnFEZcQZU5RLaMrRFHJN4FUqlSJHTt24O7uznvvvUdCQkJxxCVEmRMTE1Mky+gKUVTyHQOZPXs2N2/epEuXLuzatYslS5bku1Oj0cjbb7/NpUuXcHR0ZN68eSilmDJlChqNhjp16jBr1iwcHBxYtmwZ+/fvx8nJiWnTptGoUSMiIyMLXFaI0kKn0xXZMrpCFIUCzca7detWbt++Tfv27XF2ds53pz/88AMAW7Zs4ciRI+YEEhQURIsWLZg5cyb79u2jSpUqHD16lO3btxMVFcWYMWMIDw9n3rx5BS4rRGlR1MvoCmFt+SaQadOmERAQwLFjx6hQoQLTp0/n008/zfM9zz77LO3btwfgxo0bVKhQgf3799O8eXMAAgICOHToEH5+frRp0waNRkOVKlUwGo3cu3ePiIiIApf18fHJNQ5HRw06nUeWbQ7ZttkiidN67CFGeBBn69b+NG5cn5iYGHQ6nU0mD3uqT4mzaOWbQGJiYujVqxdffPEFTZs2RSlVsB07OTF58mS+++47li5dyg8//GCejFGr1RIfH09CQgI6nc78nvTtSqkCl80rgRiNipiYxEzbdDqPbNtskcRpPfYQI2SMU4NWWx6DAZuM2/7q07bZYpwVK3oVqFy+g+gAf//9NwA3b97M9FBhfkJDQ/n222+ZMWMGKSkp5u16vR5vb288PT0z3WGi1+vx8vLKdIz8ygohhCgZ+WaD6dOnM23aNM6cOcPYsWOZMmVKvjv97LPPWLlyJQDu7u5oNBoaNmzIkSNHgAfPlvj7+9O0aVMOHjyIyWTixo0bmEwmfHx8aNCgQYHLCiGEKBkalU+fVGpqKvHx8TzyyCMF3mliYiJTp07lzp07pKWlMXz4cGrVqsWMGTMwGAzUrFmTkJAQHB0dCQsL48CBA5hMJqZOnYq/vz+XLl0qcNm8GAxG6cIqYvYQpz3ECBKntUmclitoF1auCSQmJoaZM2cSERFBuXLluH37Nq1atWLmzJl4enpaNdiiIgmk6NlDnPYQI0ic1iZxWu6hx0Dmzp3Lc889x759+9i5cyc//fQTzZo1Y/bs2VYLUgghhP3KNYFcvXqV7t27Z9rWu3dvbt68WeRBCSGEsH25JpDcHhhMv71WCCFE2ZbrcyDJyclcvnw523MfMpmiEEIIyCOBuLq6MmPGjBy3CyGEELkmkA0bNhRnHEIIIexMwR8rF0IIITKQBCKEEMIi+U6meOPGjcxvcHKifPnyBZrWXQghROmVbwIZOXIk0dHR+Pn5cfnyZdzd3UlLS2PixIkEBgYWR4xCCCFsUL5dWFWrVuWbb75h69at7N27lyeffJKvvvoq3zVBhBBClG75JpC7d++aZ70tV64cd+7cQafTFWpadyGEEKVPvl1YDRo04M0336RJkyacOHGC+vXrs3v37kLNziuEEKL0yTeBBAcHs2/fPv7++2969OhB+/btuXjxIh06dCiO+IQQQtiofPuhPvvsM+Lj4/nXv/5FTEwMn332GTVr1sTd3b044hNCCGGj8m2BpC9nq5Ti7Nmz6HQ6XnzxxSIPTAhRuuj1euLiYvH2LodWqy3pcIQV5JtA3nrrLfOflVKMHDmySAMSQpQ+ERFnWLduLwaDDmfnGIYOfZ4GDRqUdFjiIeXbhZWammr+78aNG1y7dq044hJClBJ6vZ516/bi4TGYKlVG4OExmLVr96LX60s6NPGQ8m2BdOnSBY1Gg1IKNzc3Xn311eKISwhRSsTFxWIw6NBqfQHQan2JjdURFxcrXVl2Lt8EMm7cOHniXAhhMW/vcjg7x6DXR6PV+qLXR+PsHIO3d7mSDk08pHy7sLZv314ccQghSimtVsvQoc+TmLieGzdWkZi4nqFDn5fWRymQbwskNTWVF198ET8/P/PT5++9916RByaEKD0aNGhAcHB1uQurlMk3gUyYMKE44hBClHJarVYSRymTZwI5d+4chw8f5v79+1SqVIkuXbpQo0aNYgpNiLJNnpsQti7XMZA9e/Ywbdo0KleuTNu2bdFqtYwdO5bvv/++OOMTokyKiDhDcPBqQkP3Ehy8mjNnzpR0SEJkk2sL5JNPPuHTTz/Fw8PDvK1nz56MGjWKZ599tliCE6IsyvjcRPpdS2vXric4uLq0RIRNybUF4uTklCl5AHh6euLo6FjkQQlRluX03ITB8OC5CSFsSa4tEI1Gk+N2k8mU5w4NBgPTpk3j+vXrpKamMmrUKGrXrs2UKVPQaDTUqVOHWbNm4eDgwLJly9i/fz9OTk5MmzaNRo0aERkZWeCyomwoa2MB8tyEsBe5JpALFy5kmgcLHsyFlT65Ym6++OILdDodCxcu5P79+/Ts2ZPHH3+coKAgWrRowcyZM9m3bx9VqlTh6NGjbN++naioKMaMGUN4eDjz5s0rcFlR+pXFOZTSn5tYu3Y9sbH/fO6ykDyFfck1gbz//vs5bu/bt2+eO+zSpQudO3c2/93R0ZGIiAiaN28OQEBAAIcOHcLPz482bdqg0WioUqUKRqORe/fuFaps+kqJonQqy2MB8tyEsAe5JpD0k3hhpX/RExISGDt2LEFBQYSGhpq7xLRaLfHx8SQkJKDT6TK9Lz4+HqVUgcvml0AcHTXodB5Ztjlk22aLJE7Q6++j0VTgkUeqAuDmVpWkpApAKjpdRZuI0ZqyxqnTefDoowX/nMXFXuvTVtlLnDnJ90FCS0RFRfHGG2/Qv39/unfvzsKFC82v6fV6vL298fT0zDQbp16vx8vLK9Na6/mVzY/RqIiJScy0TafzyLbNFkmcAC4odYe7d6+ZWyBK3QFcCnVMqUvrkjityxbjrFgx//MrFGAurMK6c+cOw4YNY+LEifTq1Qt40Bw/cuQIAAcOHMDf35+mTZty8OBBTCYTN27cwGQy4ePjU6iyonSTOZSEsG0apZSy5g5DQkLYs2cPNWvWNG+bPn06ISEhGAwGatasSUhICI6OjoSFhXHgwAFMJhNTp07F39+fS5cuMWPGjAKVzY/BYJQWSBErjjgf9i4sqUvrkjityxbjLGgLxOoJxJZIAil69hCnPcQIEqe1SZyWK7EuLCGEbdPr9URF3ZAVAcVDK5JBdCGEbSqLz9WIoiMtECHKCFmbXFibJBAhSoGCdEvJHFvC2qQLSwg7V9BuKZljS1ibtECEKAHWGsguTLeUPFcjrE1aIEIUM2sOZOfULRUb+6BbKqfEIHNsCWuSFogQxcjaA9kZu6Ue7D//bimtVkvlylVyTB5yi68oDGmBCFGM8moxWDJxojWnfi9sy6isrdMispMEIkQxKoqBbGt0SxV26nx5nkSAdGEJUayKaiA7r26pgijMLb7yPIlIJy0QIYqZrQxkZ+yCKkzLKCYmplAD96L0kgQiRAnQarX5nmyLcowhpy6ovn3b8tFHy7lz5194eCTk2jLS6XTyPIkAJIEIYZOsNcaQUxLKabzjvfcW4OX1CA4Oj2Ay3aBv3xdyPZ6s2S7SSQIRwsZYay343JJQ1vEOZ2dPzp6NoXXr/6NKlVro9dFs2bKexx9/PNfj2Uo3nChZMoguhI2xxpxVeQ10Z3125P79C4An5ctXK9TxHnbgXtg/SSBC2BhLHg7MKq8klPVOMKPxS+rX9yA19Z7FxxNlk3RhiTLBnh56s8YYQ353VWXtgoqMjJQxDVFosqStjZI4refq1YssXfqFzT/0lrUuHzbpnTlzhrVrH/7J8qzb7eHfHOzjuwm2GWdBl7SVFogo1fR6PStW7H7oAemSUJBbffNS2IHunI6X00B869b+FsckShdJIKJUSx8LKFeubD709jBJKLe7wRo3rg9orBuosEsyiC5KNWsMSJdFer2ev/76k8REz2wD8TExMSUcnbAV0gIRpZpWq2XUqK588IEMEBdUerdVUpI7f/xxBI2mPdWqNTAnX51Oh8FQ0lEKWyAJRJR6DRs2JDjY127uwipJGbutKlb0BRpz4sRclGqdaXoTWxv0FSVDEogoEx52QLq0yO/OrqzPj1SrFgD8wWuvPU2dOnWlDkUmkkCEKCMKMr9WTs+PuLsnSfIQOZJBdCHKgIKu4ZHXeiWy3K3ISlogQpQBeS2lm7VlkdPzIxlbL1ptAgMGdLTJhzFF8SqyFsgff/zBoEGDAIiMjKRfv37079+fWbNmYTKZAFi2bBm9evWib9++nDx5stBlhbBnxXlFX9jbmTNOlJi19aLVDpEVCAVQRC2Q1atX88UXX+Du7g7AvHnzCAoKokWLFsycOZN9+/ZRpUoVjh49yvbt24mKimLMmDGEh4cXqqwQ9qq4n/B+mPm1srZePD19uXWr7DyMKXJXJAmkWrVqhIWFMWnSJAAiIiJo3rw5AAEBARw6dAg/Pz/atGmDRqOhSpUqGI1G7t27V6iyPj4+RRG+EEWqpJ7wtnQNj6wD6wkJ8jCmeKBIEkjnzp25du2a+e9KKTSaBz8MrVZLfHw8CQkJ6HQ6c5n07YUpm18CcXTUoNN5ZNnmkG2bLZI4rcfWYtTr76PRVOCRR6oC4OZWlaSkCsTHx1GpUuUiPbZO58Gjj1Ys9HvGjevB8uUbuXNHh4tLLOPG9Sj0foqbrf2758Ze4sxJsQyiOzj8M9TyYEEbbzw9PTP1oer1ery8vApVNj9Go5LZeIuYPcRpazEmJqaRkHCRmzf/RKutyv37V0hLu4mXl7dFcRbHVPVVq9Zk2rShxMXFUq1aZQwGjU3VaU5s7d89N7YYZ0Fn4y2W23gbNGjAkSNHADhw4AD+/v40bdqUgwcPYjKZuHHjBiaTCR8fn0KVFcJWFHRAPCLiDAsWbESv92bv3kmEhw/j55/nEh9/l0uXLhX6uBERZwgOXk1o6F6Cg1dz5swZSz9CvmQFQpFVsbRAJk+ezIwZM1i8eDE1a9akc+fOODo64u/vT58+fTCZTMycObPQZYXIqKQWjSrIA3rp8aWPfdSt68OlS99gNP7Ms8+OBxTLl29k2rShBY7dWmunC2GpIksgVatWZdu2bQD4+fnx6aefZiszZswYxowZk2lbYcoKka6gJ3FrK8xJPOPdTAkJ8Tg5PYaTU21MJgNeXo9y507h7mwqzLMdQhQFeRJd2L2CPmVdFPJaezyrjHczubq6YTLdwGS6gaurzqJp5mWqelHS5El0YfdK8ko8v7XHM8r6LEatWpeAVO7c2YizcwzjxvUoVLzWWDs9K1tfO97W4ytrJIEIu1eYk7i1FfYknvVZDMD850cfrVjou3EsfbYjJyXVDVhQth5fWSQJRNi9orgSL4yHXXv8YeO0xlT1tj4gb+vxlVWSQESpYM0rcUvY+3oj+XUDZuw6KomH3uSGAdskCUSUGvmdxKX/PHd5dQNm7ToaN64HVavWtJn4RMmRBCLKBFvuP09PbM7OlSnKubDykls3IJCt66iwz6sUZXxyIVCyJIGIUs+W+89taZ2NnLoBo6JuZOs6KuzzKkUZnyhZ8hyIKPViYmIK/KxGcbLFdTayTldia8+ayHQqtkUSiCj1dDqdTZ0E0+W0zoYtJLaMclridtSornICF4B0YYkywFb7z+1lnY2sXUeWPK9iq+TGiocjCUSUCbbYf541sWm1CRYltuI4Cdr7bco5seUbK+yFJBBRZtjiSTBjYktfZ6Mw5CRoGVu+scKeyBiIECXM0oHhgkwiWdB1SsqawkyCKXInLRAh7FR+T2c/bOukNI8PyIOJ1iEJRNil0nxyK6i8ToKWdtGk1+v161Fs3fpTqe0as9UbK+yNJBBhd6Tf/4G8ToI5PQCY39xR6fWamOjJH3/8TJMmI6hWLaDUjg/Y4o0V9kYSiLArMviZWW4nwcJ20WSsV3d3Dxwc6nH+/DEqVXq6VE9cmNeNFdLKzZ8kEGFXZFbW7HI6CRa2iyZjvRoMBlxdtSQnu5KSEoPBkGBT4wPFcWKXVm7BSAIRdkUGPwuuMF00Weu1Xj1vTpz4hfv3Fe7uSTYzPlAcJ3Z7b+UWZ8tJEoiwKzL4WTgFffYla726u8fwwQdvUKVKZZvpwimuE7s9t3KLu+UkCUTYndIw+GmL/eu2Xq/FdWK311ZuSbScJIEIu1TUT5Vb+wSfcX+XL0fabP96Qer1wcOJUQWuG2vVZXGd2O21lVsSLSdJIEJkUZhugIKcHDPuD+4QH3+XqlUnZbtKLImlYgsrIuIMmzb9D73es0DJz5pdKsV5Yrf11lhOSqLlJAkkB7bYvSCKR2G6AQpycsy6v1u3/ubs2bn4+XkCma8SH320YrF9Tkukf5by5V+jXDmffLtIiqJLpThP7LY4d1peSqLlJAkki7Jy+54kyZwVtBugoCfHrPsrX74a4Mn9+xfw9W1sN/3r8M9n8fT0JTnZkG8XSVF1qRTlid3efxfF3XKSBJKBvd++V1BlJUlaoqDdAAU9OWbdX2rqPerX98Bo/JIbN47YTf86/PNZEhKicXLyyTf52dtgdGn5XRRny0kSSAb2fPteQZWVJGmpgnYDFPTkmNP+3nqrD9Wr21f/OvzzWTZuXJdpDCS3+O1pMFp+F5axqwRiMpkIDg7m/PnzuLi4EBISQvXq1a22f3u7YrJEWUiSD6sg3QCFOTnmtj97rO8GDRqwYEF9rlwp2F1Y9jIYLb8Ly9hVAvn+++9JTU1l69atnDhxgvnz57N8+XKr7d+erpgsVRaSpDUUpBugMCdHexuQzUv6+iWFKW/rn11+F5axqwTy22+/0bZtWwCaNGnC6dOnrX4Me7lislRZSJLFyR5OjiJ/8ruwjF0lkISEBDw9Pc1/d3R0JC0tDSennD+Go6Mm2731jo4O+d5vr9N5lPgtlQWJ01KtW/vTuHF9YmJi0Ol0D/UjKco4rcUeYgSJ09oKG6c1fxeFYS/1mRO7SiCenp6ZluY0mUy5Jg8Ao1ERE5OYaZtO55Ftmy0q+jg1aLXlMRh4qOPYQ33aQ4wgcVqbZXFa53dRGLZYnxUrehWonF2tid60aVMOHDgAwIkTJ6hbt24JRySEEGWXXbVAnnvuOQ4dOkTfvn1RSjF37tySDkkIIcosu0ogDg4OzJ49u6TDEEIIgZ11YQkhhLAdkkCEEEJYRKOUUiUdhBBCCPsjLRAhhBAWkQQihBDCIpJAhBBCWEQSiBBCCItIAhFCCGERSSBCCCEsIglECCGERexqKpOCMhgMTJs2jevXr5OamsqoUaPo1KmT+fW1a9eyY8cOfHx8AHjnnXeoWbNmicT64osv4uX1YObLqlWrMm/ePPNr27ZtY8uWLTg5OTFq1Cg6dOhQIjHu3LmTXbt2AZCSksLZs2c5dOgQ3t7eAISEhPD777+bp7/+73//a/5MxeWPP/5g0aJFbNiwgcjISKZMmYJGo6FOnTrMmjULB4d/rpWSk5OZOHEid+/eRavVEhoaav4uFGecZ8+eZc6cOTg6OuLi4kJoaCgVKlTIVD6v70dxxRkREcHrr79OjRo1AOjXrx9du3Y1ly2p+swY4/jx47lz5w4A169fp3HjxixZssRcVilFQECA+TM0adKEt956q0jjy+k8VLt2bZv9blpElUI7duxQISEhSiml7t27p9q1a5fp9bfeekudOnWqBCLLLDk5WQUGBub42q1bt1S3bt1USkqKiouLM/+5pAUHB6stW7Zk2ta3b1919+7dEopIqVWrVqlu3bqp3r17K6WUGjlypPrll1+UUkrNmDFD7d27N1P5jz/+WC1dulQppdRXX32l5syZUyJxDhgwQJ05c0YppdTmzZvV3LlzM5XP6/tRnHFu27ZNffTRR7mWL4n6zBpjupiYGNWjRw8VHR2dafvly5fVyJEjizyujHI6D9nqd9NSpbILq0uXLowbN878d0dHx0yvR0REsGrVKvr168fKlSuLOzyzc+fOkZSUxLBhw3jllVc4ceKE+bWTJ0/y1FNP4eLigpeXF9WqVePcuXMlFivAqVOnuHDhAn369DFvM5lMREZGMnPmTPr27cuOHTuKPa5q1aoRFhZm/ntERATNmzcHICAggJ9//jlT+YwrWwYEBHD48OESiXPx4sXUr18fAKPRiKura6byeX0/ijPO06dPs3//fgYMGMC0adNISEjIVL4k6jNrjOnCwsIYOHAg//rXvzJtj4iIIDo6mkGDBjF8+HAuXrxY5DHmdB6y1e+mpUplAtFqtXh6epKQkMDYsWMJCgrK9PoLL7xAcHAw69ev57fffuOHH34okTjd3Nx49dVX+eijj3jnnXeYMGECaWlpwIPVFzN2A2m12mw/3OK2cuVK3njjjUzbEhMTGThwIAsXLmTNmjVs2rSp2BNd586dMy0sppRCo9EAD+otPj4+U/mMdZvT68UVZ/pJ7vfff+fTTz9lyJAhmcrn9f0ozjgbNWrEpEmT2LhxI4899hgffvhhpvIlUZ9ZYwS4e/cuhw8f5j//+U+28hUrVmTEiBFs2LCBkSNHMnHixCKPMafzkK1+Ny1VKhMIQFRUFK+88gqBgYF0797dvF0pxeDBg/Hx8cHFxYV27dpx5syZEonRz8+PHj16oNFo8PPzQ6fTcfv2bSD76ot6vb7YxxUyiouL4+LFi7Rs2TLTdnd3d1555RXc3d3x9PSkZcuWJd5SytinrNfrzWM16TLWbU6vF6fdu3cza9YsVq1ala2vO6/vR3F67rnnaNiwofnPWX8vtlKf33zzDd26dcvW4wDQsGFD8ziov78/0dHRqGKYBjDrecievpsFUSoTyJ07dxg2bBgTJ06kV69emV5LSEigW7du6PV6lFIcOXLE/OMobjt27GD+/PkAREdHk5CQQMWKD9Zib9SoEb/99hspKSnEx8fz999/l+gKjMeOHaN169bZtl++fJn+/ftjNBoxGAz8/vvvPPHEEyUQ4T8aNGjAkSNHADhw4AD+/v6ZXm/atCk//vij+fWnn3662GME+Pzzz/n000/ZsGEDjz32WLbX8/p+FKdXX32VkydPAnD48OFs/762Up+HDx8mICAgx9eWLVvG+vXrgQddg1WqVDG3BIpKTuche/luFlSpnI03JCSEPXv2ZLqzqnfv3iQlJdGnTx8+++wzNmzYgIuLC61atWLs2LElEmdqaipTp07lxo0baDQaJkyYwB9//EG1atXo1KkT27ZtY+vWrSilGDlyJJ07dy6ROAHWrFmDk5OTuZtl7dq15jhXr17NN998g7OzM4GBgfTr16/Y47t27Rpvvvkm27Zt49KlS8yYMQODwUDNmjUJCQnB0dGRYcOGsWLFCoxGI5MnT+b27ds4Ozvz3nvvFduJOT3OzZs306pVKypXrmy+ymzWrBljx45l0qRJBAUFUaFChWzfj6ZNmxZrnNu2bSMiIoI5c+bg7OxMhQoVmDNnDp6eniVenxljhAdd05s3b8501Z4eY1JSEhMnTiQxMRFHR0dmzpxJrVq1ijS+nM5D06dPJyQkxCa/m5YolQlECCFE0SuVXVhCCCGKniQQIYQQFpEEIoQQwiKSQIQQQlhEEogQQgiLlMrJFEXpcfXqVRYsWEBMTAwGg4HHH3+cCRMm4OnpmWP527dv8+GHHxIcHJzj62fPnmXfvn2MHj060/bx48fTt29fWrRoYd4WFhbGV199ZX5i3GAwMH78+ExlrG3VqlW0bNmSCxcucPHiRSZMmJAtztDQUFxcXCzaf9bPFBMTQ9euXRk1alSu7zl27BheXl48/vjjFh1TlGIlNQmXEPlJSkpS3bp1UydOnDBv27lzpxoxYoTVjxUUFGSe5C7d0qVL1aZNm8x/v3DhgnrxxRetfuychIeHq4ULF1p9v1k/U0pKiurUqZO6c+dOru+ZPHmy+vHHH60ei7B/0gIRNmv//v00a9aMxo0bm7f17NmTzZs3c/XqVT788EOUUkRFRZGYmEhoaCiurq7mh8sOHTrE+++/j6urKzqdjrlz53L27Fm2bNnCkiVL2LhxI9u3b6dixYrcvXs333hiYmLw8PAAoEOHDtSsWZOaNWsybNgwZsyYQUpKCq6ursyZMwcfHx/GjRtHQkKCeYruFi1asH37djZv3ozJZKJTp06MGTMm077i4+PNU6WfOHGCwYMHk5CQwJgxY2jfvj0dO3Zkz549zJo1CxcXF65fv86tW7eYP38+TzzxBNu3b2fjxo2UK1cOZ2dnunbtmuPcUOnu379PWloarq6u3Lx5k+DgYFJSUoiJieGNN96gUqVK/PTTT0RERFC7dm3++OMP1q1bh4ODA08//TQTJkzgt99+IzQ0FCcnJ7y9vVm0aFGuLURRukgCETbr6tWrVKtWLdv2qlWrcuPGDQAee+wxQkND+fHHH1m4cCFvv/028GDOsxkzZrB582Z8fX1Zv349y5cvp3379gDEx8fzySef8OWXX6LRaHI9ya5bt47du3fj4OCAt7c3c+bMAR7McbRz507Kly9PUFAQgwYNol27dhw+fJhFixbx+uuvc+fOHdatW8fdu3e5fPkyd+/eZfXq1XzxxRe4uLgwf/589Hp9pn1NmTLFfGx3d3dWrVrFvXv36N27d7ZpOqpUqcLs2bPNMxYEBQWxZs0aPvvsM1xcXHjllVdy/Uxff/01UVFR+Pr6EhISgqenJydPnmTo0KG0aNGC33//nbCwMNauXUvbtm3p2rUrHh4ehIWFER4ejru7OxMnTuTQoUMcPHiQ5557jldffZX//e9/xMXFSQIpIySBCJvl6+trnoMpo8uXL1OlShUA8+SOTz31FHPnzjWXuX//Pp6envj6+gIPpglZvHixOYFcvHiR2rVrm8cSGjVqlGMMQ4YMyXFqlvLly1O+fHkA/vzzT1auXMmaNWtQSuHs7EydOnUYMGAAb775JmlpaQwaNIirV69Sp04d3NzcAJg2bVq2fWX09NNPo9FoeOSRR/Dy8iImJibT6+lTwVeqVInff/+dK1euUKtWLdzd3c11ktdnOmnOcdkAAAKjSURBVH36NG+++aZ5kaWKFSuyfPlyduzYgUajyTbz75UrV7h37x4jRowAHkz2d/XqVV5//XVWrFjB4MGD8fX1zbUuRekjd2EJm9WpUyd+/vnnTElk+/bt+Pj4mCcfjIiIAB5MiV6nTh1zufLly5OQkMCtW7cAOHr0qPlECQ9aLhcuXCA5ORmj0cjZs2cLFVvGWVVr1qzJhAkT2LBhA++88w6dO3fm/Pnz6PV6Vq1axfz585kzZw7VqlXj4sWLpKamAjB27Fiio6Mz7SujU6dOAQ9uDEhMTMyWZLJOBpi+/+TkZEwmU47JN6OGDRsyfPhw3nzzTUwmEx988AGBgYEsXLiQFi1amGer1Wg0KKWoWrUqlStX5uOPP2bDhg0MHDiQxo0b8+WXX9KzZ082bNhAnTp1zHNTidJPWiDCZmm1WlasWMHcuXOJiYnBaDRSr149Fi9ebC5z4MAB9u3bh8lkyrTcq0ajISQkhDFjxqDRaChXrhzz5s3jr7/+AjCPUfTt2xcfHx/zVbslJk+ebB47SE5OZvr06dSoUYMPP/yQzz77DGdnZ8aOHYuPjw/Dhw9n4MCBaDQaOnToYG4h5SQ5OZlXXnmFxMREZs+ene/ssen779+/PzqdjpSUlGxrZmTVu3dv9uzZw+bNm+nSpQvvvvsuK1eupHLlyty/fx+Axo0bs2jRIt5//32GDBnCoEGDMBqNPProo/z73/8mNTWVKVOm4OHhgbOzM7Nnzy58JQq7JJMpCrs1ZcoUunbtmusU3mVNWloaq1evNt+SO2DAAIKCgmjWrFkJRyZKK2mBCFFKODk5kZSURM+ePXF2dqZRo0bZ1psQwpqkBSKEEMIiMoguhBDCIpJAhBBCWEQSiBBCCItIAhFCCGERSSBCCCEs8v8ATSxFJG7tTAwAAAAASUVORK5CYII=\n",
      "text/plain": [
       "<Figure size 432x288 with 1 Axes>"
      ]
     },
     "metadata": {},
     "output_type": "display_data"
    }
   ],
   "source": [
    "#Scatter Plot Example comparing the average State Opioid Prescribeing Rates vs Drug Deaths for 2015\n",
    "merged_oddeaths_oprates2015.plot.scatter(x=\"Opioid Prescribing Rate\", y='Drug Deaths', color='blue', \n",
    "                                           grid=True, alpha=0.5, edgecolors = 'black', label='2015 States')\n",
    "#Add title to our scatter plot along with an x-axis and y-axis title\n",
    "plt.title(\"State Opioid Prescribing Rates vs. Drug Deaths for 2015\")\n",
    "plt.xlabel(\"Opioid Prescribing Rates\")\n",
    "plt.ylabel(\"Drug Deaths\")\n",
    "\n",
    "plt.savefig(\"../Presentation/graphs/opioidprescribedrates_versus_drugdeaths_15.png\")\n",
    "\n",
    "plt.show()"
   ]
  },
  {
   "cell_type": "code",
   "execution_count": 73,
   "metadata": {},
   "outputs": [
    {
     "data": {
      "image/png": "iVBORw0KGgoAAAANSUhEUgAAAYYAAAESCAYAAAD5d3KwAAAABHNCSVQICAgIfAhkiAAAAAlwSFlzAAALEgAACxIB0t1+/AAAADl0RVh0U29mdHdhcmUAbWF0cGxvdGxpYiB2ZXJzaW9uIDMuMC4yLCBodHRwOi8vbWF0cGxvdGxpYi5vcmcvOIA7rQAAIABJREFUeJzt3Xtcjvf/B/DXXXcnaqWtpY1okbEhOY8kaVoiScmhMQzbnIUwh8VS2GxiERs/zSGHmOM2OUXOVg6bw/CVHBIR3Z3u7u7P7w9z5dKJ5i7s9Xw8PB7u6/C53ve7++51X9d1X1cKIYQAERHRP/QquwAiInqxMBiIiEiGwUBERDIMBiIikmEwEBGRDIOBiIhkXrpgSEpKQmBgILp06QIvLy8MGjQIf//9tzR/wIABuHv3bpnjPO1yT0pJScHo0aPRsWNHdO3aFT169MD69eufat3Jkyfj4MGDpS6zevVqREVFFTuvSZMmuHbtWpHpgYGB6NChA7y9vdGtWzd07twZEyZMQE5OzlPV9bycPn0aI0aMAAAEBwfjxx9/LHY5b29vPHjw4LlsMyIiAq1atYK3tze8vb3RtWtXdOjQAbNmzUJZ38TOzMzExx9//FzqeN7q1auHLl26SM+pe/fuWLlypU63GRwcDGdnZ6mXnp6emDp1Km7fvv2vxt27dy++//57AEBsbCyGDBlS7rEKCgrw2WefoVOnTvj555/LPc6pU6cQEBAAb29vdOnSBb/88ous3i5duqBTp04YMWIEVCqVbN2bN2/C2dlZ9vtj9+7daNGihdQ7b2/vIus98ssvv6Br167w9vZGQEAATp8+Lc1bvHgxPDw84O7ujoiIiCKv4QMHDsDb21s27fz58wgMDES3bt3QvXt3nDlzptx9kYiXSF5enmjRooU4c+aMNG3Tpk3CxcVFaDQaIYQQDg4OIj09vcyxnna5x6WkpIh27dqJ2NhYodVqhRBCpKamir59+4q5c+c+01jl4ejoKFJSUopM79u3r9ixY4f0WKvViuHDh4uwsDCd11SSCRMmiKVLl+p8O/PnzxdfffWVbFpGRoZo166diI+PL3XdlJQU4ejoqMvyyu3J12d6errw8/MTP/74o862+eTPTKvVisjISNG1a1fp/VUej/+MNmzYIAYPHlzusa5fvy7ef//9f1WPVqsVLi4uIiEhQQghxM2bN0WrVq3E//73P5Geni79XwghZs+eLaZNmyatu3HjRuHq6lrk5zN37lwRGRlZ5rYvXbok2rRpI27duiWEEGLv3r3CxcVF+r+3t7fIysoSubm5ok+fPmLbtm1CCCFycnLEt99+K5o1ayY6d+4sjZednS3atGkj9u7dK4QQYufOnaJTp07l7s0jyn8fLRUnJycHmZmZyM7OlqZ17doVpqamKCgowJdffgkA6NevH6KionDu3DksXrwYarUad+/eRbdu3TBq1ChMnDhRtpyenh5CQkJw8+ZN5Ofno3Pnzhg6dGiR7UdFRcHLyws+Pj7SNGtra8ybNw9ubm4IDAzEgQMH8Ouvv0Kr1eLGjRuwtrZGWFgYrK2tERgYiD59+sDDwwNxcXFYsGABtFotqlatiokTJ6JRo0aIiIjAvXv3MHXqVBw/fhwzZsyAQqFAw4YNodVqn6pPCoUCLVu2RHx8PADg/fffh5ubG86dO4e5c+eiSpUq+Prrr5GRkYGCggIEBgaiR48eyMrKwsSJE5GcnAw9PT289957CAkJgZ6eHtavX49ly5ZBT08P1apVQ3h4OK5evYqvv/4aVapUQVZWFsaPH4/w8HBs3boVAHDixAn89ttvUKlUaNOmDSZMmAClUol69erh0KFD2Lt3L3bu3Ak9PT0kJyfD2NgY4eHhsLe3R3JyMiZNmoT79+/DysoKQgjpk3NZ7ty5g9zcXJibmwMA1q9fj5iYGOTn5+P+/fv49NNP0bt3b0ycOBG5ubnw9vZGbGwsrly58sx9eeTAgQMIDw/Hli1bAAAPHjyAm5sb4uLisG3bNqxZswYGBgYwMjJCSEgI6tSp81Q/y0csLS0RHByMESNG4JNPPsGCBQuQlJSEtLQ01KtXD7Vq1ZJeNwBkr6Py9lKhUGDo0KHYuHEjEhIS0K5dO/zxxx+YO3cucnJyoKenh2HDhsHV1RXZ2dmYPn06kpOTkZGRgapVq2Lu3LnIzMzEmjVrUFBQADMzM9SqVQu3b9/G4MGDcfPmTejr6+Obb76Bvb09fv/9d0RGRkKhUEBfXx/jx49H8+bNpXpUKhUGDRoEjUaD7t27IyIiAmlpaZg9ezZycnJgYGCAUaNGoV27doiNjcX69euRk5MDU1NTREdHS+Oo1Wp88cUX+OCDDwAA1atXh6WlJVJTU3Hq1Ck0bNgQtWvXBgD06tUL3t7emDZtGtLS0hAXF4cff/wRHh4esl4lJiZCqVRi+/btMDU1xejRo2W1P2JoaIiZM2fizTffBPDwvXnnzh2o1Wrs3LkTXl5eqFKlCgCge/fu2Lx5Mzw9PXHgwAHk5OQgLCwM8+bNk8ZLSEhAzZo14eLiAgBwc3NDjRo1nuo1Vap/HS0V7KeffhKNGjUSHTp0EEFBQWLdunUiOztbmv8oybVarejbt6+U/KmpqaJ+/fpSyj+e+IGBgWLXrl1CCCFyc3NFYGCglNSP8/LyEnv27Cm2Lh8fH/H777+LDRs2CEdHR3H58mUhhBBz5swRw4cPF0IUfrK/ePGi+OCDD8TVq1eFEEIcPHhQtGnTRmRmZkqfrvLy8sQHH3wgDh48KIQQYsuWLcLBweGp9hgyMjJEnz59pE+XDg4OYuPGjUIIIfLz84Wnp6e01/XgwQPx0UcficTERLFx40YxYMAAIYQQGo1GTJ48WVy5ckWcPXtWtGzZUty4cUMIIcSyZcvElClTxOHDh8W7774rrl27JoQQ4vDhw9KnmQkTJggfHx+RlZUl8vLyRN++fcXKlStlvd+wYYNo2rSpuHnzphBCiJCQEDF+/HghhBD+/v7S8hcvXhSNGzcWGzZsKPLc58+fL1q2bCm6du0q3N3dRYsWLUT//v2lfqhUKuHv7y/u3r0rhBAiMTFR2kt4fI+hPH15nFarFa6uruLUqVNCCCFWrlwpxo4dKzQajXjvvfekT4gbN24Ua9asKfI8nlTcHm1WVpY0ff78+aJTp04iPz9f6sPje06PP37aXpa0lzd8+HCxZMkSkZGRIT788EPpNZiamiratWsnrl+/Lnbs2CFmzJghrTNlyhQREhJSpJYNGzaIZs2aSf2bMWOGmDhxohBCCDc3N5GYmCiEEGL//v0iIiKiSC2P/8zu3r0rWrduLZKSkoQQQly4cEG0aNFCXL16VWzYsEE0b95cZGZmltLlh9asWSNcXFxETk6OWLx4sZgyZYo0Lz8/Xzg4OBQZ58mfzxdffCF27NghtFqtOHbsmGjRooX0ui6JVqsVY8eOlX4/DBgwQGzdulWan5CQILp16yZb5/H3mBBCREVFieHDh4uJEycKHx8f0a9fP9kRlfJ6qfYYAOCTTz6Bn58fjh07hmPHjmHJkiVYsmQJ1q9fDzMzM2k5hUKBRYsWYe/evdi6dSsuXboEIUSR4+7Z2dk4duwY7t+/Lx0Hzc7Oxrlz5+Dp6Vlk+xqNpti61Go1FAoFAKBNmzaws7MDAPj7+xc5Jnj48GG0atUKNWvWBAC0bt0alpaWsmODFy5cgFKpROvWrQEAXl5e0qfB4syePRuRkZHSMUlXV1fZ8fNmzZoBAK5cuYKrV69i0qRJ0rzc3Fz89ddfcHZ2xrx58xAYGIgPPvgA/fr1Q61atbBs2TK0bdsWNjY2AID+/fsDAI4cOQIbGxu8/fbbxdbk7e0tffrp2rUr9u3bh969e8uWee+991C9enUAQIMGDbBz507cv38fp06dko4h29vbo1WrViU+90fHwtVqNWbMmIGLFy+iQ4cOAICqVati0aJF2LdvH65cuYJz587J9jgfKU9fHqdQKODr64uNGzeiYcOGiI2Nxfjx46Gvrw8PDw8EBASgffv2aNu2rfTp7lk9en0ZGRkBABwdHaFUlv4WftZelrRdExMTJCUl4fbt2/jiiy9k886fPw8PDw/UrFkT0dHRSE5OxtGjR9GkSZNix2vUqJHUv/r162Pnzp0AgM6dO2PYsGFwcXFBmzZt8Omnn5Za16lTp2Bra4vGjRsDAOrWrQsnJyccPXoUCoUC9erVg6mpaaljREVFYcWKFVi6dCmMjY2h1WqlPj/u8b3D4ixYsED6f7NmzdCkSRMkJCTA19e32OWzs7MRHByM1NRULF26FAAghJBtWwhR5nY1Gg327duHFStWoHHjxoiLi8PgwYOxZ88eGBoalrpuaV6qYDhx4gQSExMxaNAguLq6wtXVFWPGjIGXlxcSEhJku3fZ2dnw8fFBx44d0axZM/j6+iIuLq7IyRytVgshBNasWQMTExMAwN27d6U33+OaNGmCI0eOoGPHjrLpt27dwrVr19CwYUMkJCRAX19fNv7jjx9Ne/LFJ4QoEjpP1lraL4Hx48cX2b193KNf0I926R8/2Xbnzh2YmZnByMgIO3fuxJEjR3D48GF88sknCAkJgb6+vqze3NxcXL9+XTZucR5/3kKIYus3NjaW/q9QKCCEkNZ7/Pk/2cPiGBoaYsqUKfD19cXs2bPx5ZdfIjU1FT179oS/vz+aNm0KDw8P7Nmzp8i65enLo/B5pEePHvDx8YGfnx8yMzPRokULAMDcuXNx4cIFHDx4EFFRUfjll1+kDyHP4vTp06hRowaqVq0KQN77R717JD8/HwDK3ctHhBD4888/0bdvX2RmZsLe3h7r1q2T5t+6dQuWlpZYtWoV1q5diz59+qBLly6wsLAo9osSgPx1/Hjdo0ePhq+vLxISEhAbG4uffvqp1C92FBQUlPg+MjAwKPW1qVarERwcjIsXL2LNmjXS4RcbGxucPHlS9vzMzc1LHevBgwdYtWoVhgwZItXz6PX+/fffY/fu3QCADh06YOTIkbhx4waGDh0Ke3t7rFixQnoP2NjYIC0tTRo3LS1N+tBUkjfffBP29vZSOHbs2BFffvklUlJSYG9vX+q6pXmpvpVkaWmJyMhIHD9+XJp2+/ZtqFQqODg4AHj4otdoNEhOToZKpcKoUaPQoUMHHDlyBGq1WjpO/2g5U1NTODo6YtmyZQAe/pB79eqFXbt2Fdn+Z599hh07dmDjxo3StNTUVIwZMwa9evWCtbU1gId7BLdu3QIArFmzBq6urrJxWrdujQMHDiAlJQUAcOjQIdy8eVP64QIPv5UihMC+ffsAALt27cL9+/f/XQMB2NnZwdjYWPoFePPmTXh5eeHMmTNYtWoVJk6ciLZt22LcuHFo27Yt/vrrL7Rs2RKHDh2SXrRr1qzBnDlzytzWtm3boFarkZeXh40bN6Jdu3ZPVaOpqSmcnJwQGxsL4OE3wQ4dOlTsJ7knGRoaYtq0aVi1ahX++usvnDlzBpaWlvj888/Rtm1bKRQKCgqgVCpRUFAAIUS5+vIka2trNGrUCFOnTkWPHj0APPyQ4eLiAgsLC/Tv3x+jRo2SfQvlad26dQtz587FgAEDip1frVo1/PnnnxBCQKVSSc/z3/SyoKAACxcuRLVq1dC8eXM4OjoiOTkZx44dAwCcPXsWnTp1wq1bt3DgwAEpFO3s7LB7924UFBQAKHyvlUaj0aBDhw7IyclBr169MG3aNJw/fx5qtbrEdRwdHXH58mWcOnUKAPD333/j2LFjUiCXJigoCCqVShYKANC2bVucPHkSV65cAfDwte7m5lbqWFWrVsXKlSvx+++/AwD++usvnDp1Cs7Ozhg5ciR++eUX/PLLLxg5ciRUKhUCAwPx4YcfYt68ebIPRm5ubti8eTOys7OhVqsRGxtb5EPok9q1a4dr165JRxuOHTsGhULxr88zvFR7DHZ2dli4cCHmzZuH1NRUGBkZwczMDKGhoXjnnXcAAB4eHggMDMT333+P9u3b46OPPoKhoSEcHBxQp04dJCcnw9bWVlouIiICc+fOxYwZM9ClSxeo1Wp4eXmha9euRbZvY2ODmJgYfPfdd1i0aBGUSiWMjIzg7++Pnj17SstZW1tj3LhxuH37NurUqYOQkBDZOHXq1MG0adMwbNgwFBQUwNjYGIsWLZIdCjMwMMDChQsxffp0fPvtt6hfvz5ef/31f91DQ0ND/PDDD/j666+xdOlSaDQajBw5Ek2bNkX9+vVx9OhReHp6wsTEBDY2NggMDIS5uTnGjRuHQYMGAQCsrKwQGhoqvXlKUqNGDfTu3RtZWVlwd3eXnbQvS3h4OCZPnoxVq1bB2toaNWrUkL2JStOsWTN06dIFISEh0qdODw8PKBQKtGjRApaWlkhOTkatWrXQqFEjdO7cGStXrnzmvhTHz88PI0eORGRkJICHH2Y+++wz9O/fH8bGxtDX18fMmTMBPPxq8pkzZ/D1118XO1a/fv2gp6cnfcL39fVFnz59il22a9eu2L9/Pz788ENYW1ujRYsW0ifxZ+nl8uXLsXnzZigUChQUFKBhw4bS16ctLS0xf/58zJ49G3l5eRBCYPbs2ahRowYGDBiAqVOnSp/wHR0dceHCBQBAq1atEBQUhBkzZuC9994rdrtKpRKTJk1CUFAQlEolFAoFQkNDSz0cYmlpie+//x4zZsxAbm4uFAoFZs2aBTs7OyQmJpa4XmJiIn777TfUrl0bvXr1kqYHBQXB2dkZs2bNwogRI5Cfnw9bW1uEh4eXOBbwMPh++OEHzJw5ExEREdDX18e8efNgaWlZZNmVK1fixo0b2Llzp3QIDXjY9w4dOuDChQvw8/NDfn4+3Nzc0K1bt1K3bWVlhYULF+Krr75CTk4ODA0NERERUewRj2ehEE8er6B/JTY2Fr/99hsWL15c2aW81CIjI/Hhhx/C3t4emZmZ6Nq1K5YsWfLM3+Yh9pKe3Uu1x0D/HbVr18bo0aOhp6eHgoICfPrpp/xFVk7sJT0r7jEQEZGMzk4+nzx5stjjsLt374avry969uyJtWvX6mrzRERUTjo5lLRkyRJs3rxZ+vrnI/n5+Zg1axbWr18PExMT9OrVC66urrCystJFGUREVA46CQZbW1tERERg/PjxsumXLl2Cra2tdKuCpk2b4vjx4/joo49KHU8IAR7wekihAHvxD/aiEHtRiL0opKdX9teSi6OTYOjUqVOxF7eoVCrZVzKrVq1a4h0IHycEkJ5e9nL/BRYWVZCRUfTK3f8i9qIQe1GIvShkZWVW9kLFqNAL3ExNTZGVlSU9zsrKkgUFERFVvgoNhkd3zczIyIBarcbx48dLvJ8KERFVjgq5jmHLli3Izs5Gz549ERwcjIEDB0IIAV9fX+k2EkRE9GJ4Ka5j0GoFzzH8g8dPC7EXhdiLQuxFoZfiHAMREb34GAxERCTDYCAiIhkGAxERyTAYiIhIhsFAREQyDAYiIpJhMBARkQyDgYiIZBgMREQkw2AgIiIZBgMREckwGIiISIbBQEREMgwGIiKSYTAQEZEMg4GIiGQYDEREJMNgICIiGQYDERHJMBiIiEiGwUBERDIMBiIikmEwEBGRDIOBiIhkGAxERCTDYCAiIhkGAxERyTAYiIhIhsFAREQyDAYiIpJhMBARkQyDgYiIZBgMREQkw2AgIiIZnQSDVqvF1KlT0bNnTwQGBiI5OVk2/8cff0T37t3h6+uLnTt36qIEIiIqJ6UuBo2Li4NarUZMTAySkpIQFhaGyMhIAMCDBw8QHR2N33//HTk5OejWrRvc3d11UQYREZWDTvYYTpw4AWdnZwCAo6Mjzpw5I80zMTHBW2+9hZycHOTk5EChUOiiBCIiKied7DGoVCqYmppKj/X19aHRaKBUPtycjY0NOnfujIKCAgwZMqTM8RQKwMKiii5Kfeno6+uxF/9gLwqxF4XYi39PJ8FgamqKrKws6bFWq5VCIT4+Hmlpadi1axcAYODAgXByckKjRo1KHE8IICMjWxelvnQsLKqwF/9gLwqxF4XYi0JWVmblWk8nh5KcnJwQHx8PAEhKSoKDg4M0z9zcHMbGxjA0NISRkRHMzMzw4MEDXZRBRETloJM9Bnd3dyQkJCAgIABCCISGhmLZsmWwtbWFm5sbDh48CH9/f+jp6cHJyQlt2rTRRRlERFQOCiGEqOwiyqLVCqSnqyq7jBcCd5MLsReF2ItC7EWhF+pQEhERvbwYDEREJMNgICIiGQYDERHJMBiIiEiGwUBERDIMBiIikmEwEBGRDIOBiIhkGAxERCTDYCAiIhkGAxERyTAYiIhIhsFAREQyDAYiIpJhMBARkQyDgYiIZBgMREQkw2AgIiIZBgMREckwGIiISIbBQEREMgwGIiKSYTAQEZEMg4GIiGQYDEREJMNgICIiGQYDERHJMBiIiEiGwUBERDIMBiIikmEwEBGRDIOBiIhkGAxERCRTZjD8/fffSExMxMmTJ9GvXz8cOnSoIuoiIqJKUmYwTJs2DYaGhoiMjMTo0aOxYMGCiqiLiIgqibLMBZRK1K1bF/n5+XB0dERBQUGZg2q1WkyfPh3nz5+HoaEhZs6ciVq1aknz9+3bh4ULFwIAGjRogGnTpkGhUPyLp0FERM9LmXsMCoUCY8eORbt27bB9+3aYmJiUOWhcXBzUajViYmIwduxYhIWFSfNUKhXmzJmDRYsWYe3atXj77bdx7969f/csiIjouVEIIURpC9y9exenT5+Gi4sLDh8+jPr168Pc3LzUQWfNmoVGjRqhc+fOAABnZ2fs378fALB//35s3LgRBgYGSElJgZ+fH3x8fEodTwgBjUb7LM/rlaWvr4eCAvYCYC8ex14UYi8KGRjol2u9Mg8lZWdn4+LFizh9+jQA4Pjx4xg2bFip66hUKpiamkqP9fX1odFooFQqce/ePRw5cgSbNm1ClSpV0KdPHzg6OsLOzq7E8YQAMjKyn/Y5vdIsLKqwF/9gLwqxF4XYi0JWVmblWq/MQ0ljx45FTk4O3njjDelfWUxNTZGVlSU91mq1UCofZpCFhQUaNmwIKysrVK1aFc2aNcPZs2fLVTwRET1/Ze4xGBsbl7mH8CQnJyfs2bMHnp6eSEpKgoODgzTv/fffx4ULF3D37l289tprOHnyJPz9/Z+9ciIi0okSg+F///sfAOCNN97A1q1b0aBBA+mbQ6Ud9gEAd3d3JCQkICAgAEIIhIaGYtmyZbC1tYWbmxvGjh2LQYMGAQA8PDxkwUFERJWrxJPPgYGBxa+gUGDFihU6LepJWq1AerqqQrf5ouLx00LsRSH2ohB7Uai85xhK3GOIjo4GAOzZsweurq7S9O3bt5drQ0RE9HIoMRj27NmDxMREbN26FYmJiQAenkTetWsXPD09K6xAIiKqWCUGw7vvvouMjAwYGRlJ5xQUCoV0bQIREb2ayrzATavVQk+v8FutaWlpePPNN3VemLwGnmN4hMdPC7EXhdiLQuxFoed+juGRBQsWYNWqVcjPz0dubi5q166Nbdu2lWtjRET04ivzArf4+HjEx8ejS5cu2L59O6ytrSuiLiIiqiRlBoOFhQUMDQ2RlZWFWrVqIScnpyLqIiKiSlJmMFSvXh3r16+HiYkJvvnmG6hUPNZPRPQqe6qTz6mpqXjttdewceNGtG7dGnXq1Kmo+v6pgSefH+GJtULsRSH2ohB7UUhnJ5+zs7MRExOD27dvo3379jAwMCjXhoiI6OVQ5qGkSZMmoWbNmrhy5QreeOMNTJ48uSLqIiKiSlJmMGRkZKBHjx5QKpVwcnJCGUeeiIjoJVdmMADApUuXAACpqamyi92IiOjVU+Zv+cmTJ2PSpEn466+/MGLECAQHB1dEXUREVEnKPPlsZ2eHH374Aa+//npF1ENERJWsxGDIyMjA1KlT8eeff8Lc3By3b99G69atMXXqVNnfcyYioldLiYeSQkND4e7ujl27diE2Nhb79+9H8+bNERISUpH1ERFRBSsxGFJSUtClSxfZND8/P6Smpuq8KCIiqjwlBkNJF7I9+rvPRET0airxHENubi6uXLlS5LoF3kSPiOjVVmIwGBkZYcqUKcVOJyKiV1eJwRAdHV2RdRAR0QuClzETEZEMg4GIiGTKvPL5xo0b8hWUSlSrVo233yYiekWVGQxDhgzBrVu3YGdnhytXrsDExAQajQbjxo2Dt7d3RdRIREQVqMxDSTVq1MCvv/6KmJgY/P7772jYsCG2bt2Kn3/+uSLqIyKiClZmMKSnp8PS0hIAYG5ujjt37sDCwoK33yYiekWVeSipQYMGGDNmDBwdHZGUlIT69etj+/btvNsqEdErSiGe4k+y7dq1C5cuXYKDgwPat2+Py5cvw8bGBiYmJhVRI7RagfR0VYVs60XHP3ReiL0oxF4UYi8KWVmZlWu9Mo8Hbdq0CZmZmXjzzTeRkZGBTZs24Z133qmwUCAioopV5qGkR3/WUwiBs2fPwsLCAt26ddN5YUREVDnKDIaxY8dK/xdCYMiQITotiIiIKleZwaBWq6X/3759G9euXdNpQUREVLnKDAYPDw8oFAoIIWBsbIyBAwdWRF1ERFRJygyGkSNHPvMVzlqtFtOnT8f58+dhaGiImTNnolatWkWWGTx4MNzc3NCrV69nq5qIiHSmzG8lrVu37pkHjYuLg1qtRkxMDMaOHYuwsLAiy3z33Xe4f//+M49NRES69VTnGLp16wY7Ozvpaudvvvmm1HVOnDgBZ2dnAICjoyPOnDkjm//rr79CoVCgXbt25a2biIh0pMxgCAoKeuZBVSoVTE1Npcf6+vrQaDRQKpW4cOECtm7divnz52PhwoVPNZ5C8fCiFQL09fXYi3+wF4XYi0Lsxb9XajCcO3cOhw4dwr1791C9enV4eHigdu3aZQ5qamqKrKws6bFWq4VS+XBTmzZtwq1bt9CvXz9cv34dBgYGePvtt0vdexACvJLxH7yqsxB7UYi9KMReFHruVz7v2LEDkyZNgo2NDZydnVG1alWMGDECcXFxZQ7q5OSE+Ph4AEBSUhIcHBykeePHj8e6desQHR0NHx8f9O/fn4eUiIheICXuMaxYsQI///wzqlQp3CXz8fFa4IVJAAAP00lEQVTBZ599ho4dO5Y6qLu7OxISEhAQEAAhBEJDQ7Fs2TLY2trCzc3t+VVPRETPXYnBoFQqZaEAPDxEpK+vX+agenp6CAkJkU2zt7cvstzw4cOftk4iIqogJR5KUigUxU7XarU6K4aIiCpfiXsMFy9elN0nCXh4r6RHN9UjIqJXU4nB8N133xU7PSAgQGfFEBFR5SsxGFq0aFGRdRAR0QuCf7iZiIhkGAxERCTDYCAiIhkGAxERyTAYiIhIhsFAREQyDAYiIpJhMBARkQyDgYiIZBgMREQkw2AgIiIZBgMREckwGIiISIbBQEREMgwGIiKSYTAQEZEMg4GIiGQYDEREJMNgICIiGQYDERHJMBiIiEiGwUBERDIMBiIikmEwEBGRDIOBiIhkGAxERCTDYCAiIhkGAxERyTAYiIhIhsFAREQyDAYiIpJhMBARkYxSF4NqtVpMnz4d58+fh6GhIWbOnIlatWpJ85cvX45t27YBAFxcXDBs2DBdlEFEROWgkz2GuLg4qNVqxMTEYOzYsQgLC5PmpaSkYPPmzVizZg1iYmJw4MABnDt3ThdlEBFROehkj+HEiRNwdnYGADg6OuLMmTPSvOrVq2Pp0qXQ19cHAGg0GhgZGZU6nkIBWFhU0UWpLx19fT324h/sRSH2ohB78e/pJBhUKhVMTU2lx/r6+tBoNFAqlTAwMIClpSWEEJg9ezYaNGgAOzu7UscTAsjIyNZFqS8dC4sq7MU/2ItC7EUh9qKQlZVZudbTyaEkU1NTZGVlSY+1Wi2UysIMysvLQ1BQELKysjBt2jRdlEBEROWkk2BwcnJCfHw8ACApKQkODg7SPCEEPv/8c9SrVw8hISHSISUiInox6ORQkru7OxISEhAQEAAhBEJDQ7Fs2TLY2tpCq9Xi6NGjUKvV2L9/PwBgzJgxaNKkiS5KISKiZ6QQQojKLqIsWq1Aerqqsst4IfD4aSH2ohB7UYi9KPRCnWMgIqKXF4OBiIhkGAxERCTDYCAiIhkGAxERyTAYiIhIhsFAREQyDAYiIpJhMBARkQyDgYiIZBgMREQkw2AgIiIZBgMREckwGIiISIbBQEREMgwGIiKSYTAQEZEMg4GIiGQYDEREJMNgICIiGQYDERHJMBiIiEiGwUBERDIMBiIikmEwEBGRDIOBiIhkGAxERCTDYCAiIhkGAxERyTAYiIhIhsFAREQyDAYiIpJhMBARkQyDgYiIZBgMREQko5Ng0Gq1mDp1Knr27InAwEAkJyfL5q9duxbdu3eHv78/9uzZo4sSiIionJS6GDQuLg5qtRoxMTFISkpCWFgYIiMjAQC3b99GdHQ0NmzYgLy8PPTu3Rtt2rSBoaGhLkohIqJnpJM9hhMnTsDZ2RkA4OjoiDNnzkjzTp06hSZNmsDQ0BBmZmawtbXFuXPndFEGERGVg072GFQqFUxNTaXH+vr60Gg0UCqVUKlUMDMzk+ZVrVoVKpWq1PH09BSwsjIrdZn/EvaiEHtRiL0oxF78OzrZYzA1NUVWVpb0WKvVQqlUFjsvKytLFhRERFS5dBIMTk5OiI+PBwAkJSXBwcFBmteoUSOcOHECeXl5yMzMxKVLl2TziYiocimEEOJ5D6rVajF9+nRcuHABQgiEhoYiPj4etra2cHNzw9q1axETEwMhBIYMGYJOnTo97xKIiKicdBIMRET08uIFbkREJMNgICIiGQYDERHJvFDBwFtpPFRWH5YvXw4/Pz/4+flhwYIFlVRlxSirF4+WGTRoEFavXl0JFVacsnqxb98++Pv7w9/fH9OnT8erfPqwrF78+OOP6N69O3x9fbFz585KqrJinTx5EoGBgUWm7969G76+vujZsyfWrl37dIOJF8hvv/0mJkyYIIQQIjExUQwdOlSal5aWJry8vEReXp548OCB9P9XUWl9uHr1qvDx8REajUYUFBSInj17irNnz1ZWqTpXWi8e+eabb0SPHj3EqlWrKrq8ClVaLzIzM0Xnzp1Fenq6EEKIqKgo6f+votJ6cf/+feHi4iLy8vJERkaGaN++fWWVWWGioqKEl5eX8PPzk01Xq9WiY8eOIiMjQ+Tl5Ynu3buLtLS0Msd7ofYYeCuNh0rrQ/Xq1bF06VLo6+tDT08PGo0GRkZGlVWqzpXWCwD49ddfoVAo0K5du8oor0KV1ovExEQ4ODggPDwcvXv3xhtvvAFLS8vKKlXnSuuFiYkJ3nrrLeTk5CAnJwcKhaKyyqwwtra2iIiIKDL90qVLsLW1hbm5OQwNDdG0aVMcP368zPF0ckuM8nret9J4WZXWBwMDA1haWkIIgdmzZ6NBgwaws7OrxGp1q7ReXLhwAVu3bsX8+fOxcOHCSqyyYpTWi3v37uHIkSPYtGkTqlSpgj59+sDR0fGVfW2U1gsAsLGxQefOnVFQUIAhQ4ZUVpkVplOnTrh27VqR6eX9vflCBQNvpfFQaX0AgLy8PEyaNAlVq1bFtGnTKqPEClNaLzZt2oRbt26hX79+uH79OgwMDPD222+/snsPpfXCwsICDRs2hJWVFQCgWbNmOHv27CsbDKX1Ij4+Hmlpadi1axcAYODAgXByckKjRo0qpdbKVN7fmy/UoSTeSuOh0voghMDnn3+OevXqISQkBPr6+pVVZoUorRfjx4/HunXrEB0dDR8fH/Tv3/+VDQWg9F68//77uHDhAu7evQuNRoOTJ0+iTp06lVWqzpXWC3NzcxgbG8PQ0BBGRkYwMzPDgwcPKqvUSmVvb4/k5GRkZGRArVbj+PHjaNKkSZnrvVB7DO7u7khISEBAQIB0K41ly5ZJt9IIDAxE7969IYTA6NGjX9lj66X1QavV4ujRo1Cr1di/fz8AYMyYMU/1w34ZlfWa+C8pqxdjx47FoEGDAAAeHh6v7AcnoOxeHDx4EP7+/tDT04OTkxPatGlT2SVXqC1btiA7Oxs9e/ZEcHAwBg4cCCEEfH19YW1tXeb6vCUGERHJvFCHkoiIqPIxGIiISIbBQEREMgwGIiKSYTAQEZHMC/V1VXp1paSkYPbs2cjIyEB+fj7effddBAUFya5efdzt27excOFCTJ8+vdj5Z8+exa5duzBs2DDZ9NGjRyMgIAAtW7aUpkVERGDr1q148803AQD5+fkYPXq0bJnnLSoqCq1atcLFixdx+fJlBAUFFakzPDwchoaG5Rr/yeeUkZEBT09PfPbZZyWuc+zYMZiZmeHdd98t1zbpP+S53smJqBg5OTnCy8tLJCUlSdNiY2PF4MGDn/u2Ro0aJQ4fPiybNn/+fNkN9i5evCi6dev23LddnA0bNog5c+Y893GffE55eXnCzc1N3Llzp8R1JkyYIPbt2/fca6FXD/cYSOf27t2L5s2bo3HjxtI0Hx8frF69GikpKVi4cCGEELh58yays7MRHh4OIyMjjBkzBmvXrkVCQgK+++47GBkZwcLCAqGhoTh79izWrFmDefPmYeXKlVi3bh2srKyQnp5eZj0ZGRmoUqUKAMDV1RXvvPMO3nnnHQwYMABTpkxBXl4ejIyMMGPGDFhaWmLkyJFQqVTIzc3FuHHj0LJlS6xbtw6rV6+GVquFm5sbhg8fLhsrMzMTnp6eAB5emduvXz+oVCoMHz4c7du3R4cOHbBjxw5MmzYNhoaGuH79OtLS0hAWFob33nsP69atw8qVK2Fubg4DAwN4enqie/fuJT6ne/fuSTdUTE1NxfTp05GXl4eMjAx88cUXqF69Ovbv348///wTderUwcmTJ7F8+XLo6emhadOmCAoKwokTJxAeHg6lUonXXnsNc+fOLXGPjl5tDAbSuZSUFNja2haZXqNGDdy4cQMAULNmTYSHh2Pfvn2YM2cOvvzySwAPbwEyZcoUrF69GtbW1vi///s/REZGon379gCAzMxMrFixAlu2bIFCoSjxl+fy5cuxfft26Onp4bXXXsOMGTMAADdv3kRsbCyqVauGUaNGITAwEC4uLjh06BDmzp2LoUOH4s6dO1i+fDnS09Nx5coVpKenY8mSJdi8eTMMDQ0RFhaGrKws2VjBwcHStk1MTBAVFYW7d+/Cz8+vyG073nrrLYSEhGDt2rWIiYnBqFGjsHTpUmzatAmGhob4+OOPS3xO27Ztw82bN2FtbY2ZM2fC1NQUp06dwieffIKWLVvijz/+QEREBJYtWwZnZ2d4enqiSpUqiIiIwIYNG2BiYoJx48YhISEBBw4cgLu7OwYOHIjdu3fjwYMHDIb/KAYD6Zy1tTVOnTpVZPqVK1fw1ltvAQBatWoFAGjSpAlCQ0OlZe7duwdTU1PpMv7mzZvj22+/lYLh8uXLqFOnjnSsvqQbpfXv3x+9evUqMr1atWqoVq0aAODChQtYvHgxli5dCiEEDAwMULduXfTp0wdjxoyBRqNBYGAgUlJSULduXRgbGwMAJk2aVGSsxzVt2hQKhQKvv/46zMzMkJGRIZtfv359AA9vqf7HH3/g6tWrsLe3h4mJidST0p7TmTNnMGbMGNSuXRsAYGVlhcjISKxfvx4KhQIajUa23tWrV3H37l0MHjwYwMMbq6WkpGDo0KFYtGgR+vXrB2tr6//kTefoIX4riXTu0b1rHg+HdevWwdLSEjVr1gQA/PnnnwCAP/74A3Xr1pWWq1atGlQqFdLS0gAAR48elX4BAg/3NC5evIjc3FwUFBTg7Nmzz1Sbnl7hW+Cdd95BUFAQoqOj8dVXX6FTp044f/48srKyEBUVhbCwMMyYMQO2tra4fPky1Go1AGDEiBG4deuWbKzHnT59GsDDE+rZ2dlFwuPJvxfwaPzc3FxotdpiQ/Vx77//Pj799FOMGTMGWq0W33//Pby9vTFnzhy0bNlS+ktuCoUCQgjUqFEDNjY2+OmnnxAdHY2+ffuicePG2LJlC3x8fBAdHY26des+/V/7olcO9xhI56pWrYpFixYhNDQUGRkZKCgoQL169fDtt99Ky8THx2PXrl3QarWYNWuWNF2hUGDmzJkYPnw4FAoFzM3NMWvWLPz9998AIJ0DCAgIgKWlpfQpuzwmTJggHZvPzc3F5MmTUbt2bSxcuBCbNm2CgYEBRowYAUtLS3z66afo27cvFAoFXF1dS70xWW5uLj7++GNkZ2cjJCSkzD8c82j83r17w8LCAnl5ebLbrhfHz88PO3bswOrVq+Hh4YGvv/4aixcvho2NDe7duwcAaNy4MebOnYvvvvsO/fv3R2BgIAoKCvD222/jo48+glqtRnBwMKpUqQIDAwOEhIQ8exPplcCb6FGlCw4Ohqen5yt9y+xnodFosGTJEumrp3369MGoUaPQvHnzSq6M/iu4x0D0glEqlcjJyYGPjw8MDAzQqFEjNGvWrLLLov8Q7jEQEZEMTz4TEZEMg4GIiGQYDEREJMNgICIiGQYDERHJ/D9BWn9Y41MgLgAAAABJRU5ErkJggg==\n",
      "text/plain": [
       "<Figure size 432x288 with 1 Axes>"
      ]
     },
     "metadata": {},
     "output_type": "display_data"
    }
   ],
   "source": [
    "#Scatter Plot Example comparing the average State Opioid Prescribeing Rates vs Drug Deaths for 2015 and 22016\n",
    "merged_oddeaths_oprates2015.plot.scatter(x=\"Opioid Prescribing Rate\", y='Drug Deaths', color='blue', \n",
    "                                           grid=True, alpha=0.5, edgecolors = 'black', label='2015', ax=ax)\n",
    "#Add title to our scatter plot along with an x-axis and y-axis title\n",
    "plt.title(\"State Opioid Prescribing Rates vs. Drug Deaths for 2015-2016\")\n",
    "plt.xlabel(\"Opioid Prescribing Rates\")\n",
    "plt.ylabel(\"Drug Deaths\")\n",
    "\n",
    "plt.savefig(\"../Presentation/graphs/opioidprescribedrates_versus_drugdeaths_combined.png\")\n",
    "\n",
    "plt.show()"
   ]
  },
  {
   "cell_type": "code",
   "execution_count": 61,
   "metadata": {},
   "outputs": [
    {
     "data": {
      "text/plain": [
       "7.641563209303478"
      ]
     },
     "execution_count": 61,
     "metadata": {},
     "output_type": "execute_result"
    }
   ],
   "source": [
    "average_opprescribed_16 = merged_oddeaths_oprates2016[\"Opioid Prescribing Rate\"].mean()\n",
    "average_opprescribed_16"
   ]
  },
  {
   "cell_type": "code",
   "execution_count": 62,
   "metadata": {},
   "outputs": [
    {
     "data": {
      "text/plain": [
       "13.404359172423975"
      ]
     },
     "execution_count": 62,
     "metadata": {},
     "output_type": "execute_result"
    }
   ],
   "source": [
    "average_opprescribed_15 = merged_oddeaths_oprates2015[\"Opioid Prescribing Rate\"].mean()\n",
    "average_opprescribed_15"
   ]
  },
  {
   "cell_type": "code",
   "execution_count": null,
   "metadata": {},
   "outputs": [],
   "source": []
  }
 ],
 "metadata": {
  "kernelspec": {
   "display_name": "Python 3",
   "language": "python",
   "name": "python3"
  },
  "language_info": {
   "codemirror_mode": {
    "name": "ipython",
    "version": 3
   },
   "file_extension": ".py",
   "mimetype": "text/x-python",
   "name": "python",
   "nbconvert_exporter": "python",
   "pygments_lexer": "ipython3",
   "version": "3.7.1"
  }
 },
 "nbformat": 4,
 "nbformat_minor": 2
}

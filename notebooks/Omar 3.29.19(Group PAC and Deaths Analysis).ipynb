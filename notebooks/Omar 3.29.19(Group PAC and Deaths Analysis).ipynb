{
 "cells": [
  {
   "cell_type": "code",
   "execution_count": 101,
   "metadata": {},
   "outputs": [],
   "source": [
    "import pandas as pd\n",
    "import csv\n",
    "import matplotlib.pyplot as plt\n",
    "import os\n",
    "import sys\n",
    "import numpy as np\n",
    "\n",
    "csv0 = '../Presentation/clean/clean_od15.csv'\n",
    "clean_od_2015 = pd.read_csv(csv0)\n",
    "\n",
    "csv1 = '../Presentation/clean/clean_od16.csv'\n",
    "clean_od_2016 = pd.read_csv(csv1)\n",
    "\n",
    "csv2 = '../Presentation/clean/op_final_15.csv'\n",
    "op_final_15 = pd.read_csv(csv2)\n",
    "\n",
    "csv3 = '../Presentation/clean/op_final_16.csv'\n",
    "op_final_16 = pd.read_csv(csv3)\n",
    "\n",
    "csv4 = '../Presentation/clean/PAC_Scores_2015.csv'\n",
    "PAC_Scores_2015 = pd.read_csv(csv4)\n",
    "\n",
    "csv5 = '../Presentation/clean/PAC_Scores_2016_f.csv'\n",
    "PAC_Scores_2016 = pd.read_csv(csv5)\n",
    "\n",
    "csv7 = '../Presentation/clean/op_pac_final_15.csv'\n",
    "op_pac_final_15 = pd.read_csv(csv7)\n",
    "\n",
    "csv8 = '../Presentation/clean/op_pac_final_16.csv'\n",
    "op_pac_final_16 = pd.read_csv(csv8)\n",
    "\n",
    "csv9 = '../Presentation/clean/state_op_final_15.csv'\n",
    "state_op_final_15 = pd.read_csv(csv9)\n",
    "\n",
    "csv10 = '../Presentation/clean/state_op_final_16.csv'\n",
    "state_op_final_16 = pd.read_csv(csv10)\n",
    "\n",
    "\n",
    "csv12 = \"../Presentation/clean/PAC_Scores_2015_group.csv\"\n",
    "PAC_group_2015 = pd.read_csv(csv12)\n",
    "\n",
    "csv13 = \"../Presentation/clean/PAC_Scores_2016_group.csv\"\n",
    "PAC_group_2016 = pd.read_csv(csv13)"
   ]
  },
  {
   "cell_type": "code",
   "execution_count": 3,
   "metadata": {},
   "outputs": [
    {
     "data": {
      "text/html": [
       "<div>\n",
       "<style scoped>\n",
       "    .dataframe tbody tr th:only-of-type {\n",
       "        vertical-align: middle;\n",
       "    }\n",
       "\n",
       "    .dataframe tbody tr th {\n",
       "        vertical-align: top;\n",
       "    }\n",
       "\n",
       "    .dataframe thead th {\n",
       "        text-align: right;\n",
       "    }\n",
       "</style>\n",
       "<table border=\"1\" class=\"dataframe\">\n",
       "  <thead>\n",
       "    <tr style=\"text-align: right;\">\n",
       "      <th></th>\n",
       "      <th>Group PAC ID</th>\n",
       "      <th>Measure Performance Rate</th>\n",
       "      <th>Year</th>\n",
       "      <th>State</th>\n",
       "      <th>Total Claim Count</th>\n",
       "      <th>Opioid Claim Count</th>\n",
       "      <th>Opioid Prescribing Rate</th>\n",
       "    </tr>\n",
       "  </thead>\n",
       "  <tbody>\n",
       "    <tr>\n",
       "      <th>0</th>\n",
       "      <td>42105678</td>\n",
       "      <td>67.625</td>\n",
       "      <td>2016</td>\n",
       "      <td>PA</td>\n",
       "      <td>612.0</td>\n",
       "      <td>25.0</td>\n",
       "      <td>4.084967</td>\n",
       "    </tr>\n",
       "    <tr>\n",
       "      <th>1</th>\n",
       "      <td>42122244</td>\n",
       "      <td>64.250</td>\n",
       "      <td>2016</td>\n",
       "      <td>CA</td>\n",
       "      <td>8843.0</td>\n",
       "      <td>457.0</td>\n",
       "      <td>5.167929</td>\n",
       "    </tr>\n",
       "    <tr>\n",
       "      <th>2</th>\n",
       "      <td>42128548</td>\n",
       "      <td>66.250</td>\n",
       "      <td>2016</td>\n",
       "      <td>TX</td>\n",
       "      <td>11588.0</td>\n",
       "      <td>1448.0</td>\n",
       "      <td>12.495685</td>\n",
       "    </tr>\n",
       "    <tr>\n",
       "      <th>3</th>\n",
       "      <td>143134270</td>\n",
       "      <td>59.250</td>\n",
       "      <td>2016</td>\n",
       "      <td>AR</td>\n",
       "      <td>18320.0</td>\n",
       "      <td>466.0</td>\n",
       "      <td>2.543668</td>\n",
       "    </tr>\n",
       "    <tr>\n",
       "      <th>4</th>\n",
       "      <td>244124212</td>\n",
       "      <td>67.875</td>\n",
       "      <td>2016</td>\n",
       "      <td>PA</td>\n",
       "      <td>40135.0</td>\n",
       "      <td>2106.0</td>\n",
       "      <td>5.247290</td>\n",
       "    </tr>\n",
       "  </tbody>\n",
       "</table>\n",
       "</div>"
      ],
      "text/plain": [
       "   Group PAC ID  Measure Performance Rate  Year State  Total Claim Count  \\\n",
       "0      42105678                    67.625  2016    PA              612.0   \n",
       "1      42122244                    64.250  2016    CA             8843.0   \n",
       "2      42128548                    66.250  2016    TX            11588.0   \n",
       "3     143134270                    59.250  2016    AR            18320.0   \n",
       "4     244124212                    67.875  2016    PA            40135.0   \n",
       "\n",
       "   Opioid Claim Count  Opioid Prescribing Rate  \n",
       "0                25.0                 4.084967  \n",
       "1               457.0                 5.167929  \n",
       "2              1448.0                12.495685  \n",
       "3               466.0                 2.543668  \n",
       "4              2106.0                 5.247290  "
      ]
     },
     "execution_count": 3,
     "metadata": {},
     "output_type": "execute_result"
    }
   ],
   "source": [
    "PAC_group_2016.head()"
   ]
  },
  {
   "cell_type": "code",
   "execution_count": 4,
   "metadata": {},
   "outputs": [
    {
     "data": {
      "text/html": [
       "<div>\n",
       "<style scoped>\n",
       "    .dataframe tbody tr th:only-of-type {\n",
       "        vertical-align: middle;\n",
       "    }\n",
       "\n",
       "    .dataframe tbody tr th {\n",
       "        vertical-align: top;\n",
       "    }\n",
       "\n",
       "    .dataframe thead th {\n",
       "        text-align: right;\n",
       "    }\n",
       "</style>\n",
       "<table border=\"1\" class=\"dataframe\">\n",
       "  <thead>\n",
       "    <tr style=\"text-align: right;\">\n",
       "      <th></th>\n",
       "      <th>Group PAC ID</th>\n",
       "      <th>Measure Performance Rate</th>\n",
       "      <th>Year</th>\n",
       "      <th>State</th>\n",
       "      <th>Total Claim Count</th>\n",
       "      <th>Opioid Claim Count</th>\n",
       "      <th>Opioid Prescribing Rate</th>\n",
       "    </tr>\n",
       "  </thead>\n",
       "  <tbody>\n",
       "    <tr>\n",
       "      <th>0</th>\n",
       "      <td>42105678</td>\n",
       "      <td>65.875</td>\n",
       "      <td>2015</td>\n",
       "      <td>PA</td>\n",
       "      <td>29587.0</td>\n",
       "      <td>782.0</td>\n",
       "      <td>2.643053</td>\n",
       "    </tr>\n",
       "    <tr>\n",
       "      <th>1</th>\n",
       "      <td>42128548</td>\n",
       "      <td>65.125</td>\n",
       "      <td>2015</td>\n",
       "      <td>TX</td>\n",
       "      <td>3331.0</td>\n",
       "      <td>114.0</td>\n",
       "      <td>3.422396</td>\n",
       "    </tr>\n",
       "    <tr>\n",
       "      <th>2</th>\n",
       "      <td>244136067</td>\n",
       "      <td>53.800</td>\n",
       "      <td>2015</td>\n",
       "      <td>MI</td>\n",
       "      <td>433.0</td>\n",
       "      <td>41.0</td>\n",
       "      <td>9.468822</td>\n",
       "    </tr>\n",
       "    <tr>\n",
       "      <th>3</th>\n",
       "      <td>244136448</td>\n",
       "      <td>55.600</td>\n",
       "      <td>2015</td>\n",
       "      <td>LA</td>\n",
       "      <td>3295.0</td>\n",
       "      <td>203.0</td>\n",
       "      <td>6.160850</td>\n",
       "    </tr>\n",
       "    <tr>\n",
       "      <th>4</th>\n",
       "      <td>244143246</td>\n",
       "      <td>66.500</td>\n",
       "      <td>2015</td>\n",
       "      <td>NC</td>\n",
       "      <td>1427.0</td>\n",
       "      <td>470.0</td>\n",
       "      <td>32.936230</td>\n",
       "    </tr>\n",
       "  </tbody>\n",
       "</table>\n",
       "</div>"
      ],
      "text/plain": [
       "   Group PAC ID  Measure Performance Rate  Year State  Total Claim Count  \\\n",
       "0      42105678                    65.875  2015    PA            29587.0   \n",
       "1      42128548                    65.125  2015    TX             3331.0   \n",
       "2     244136067                    53.800  2015    MI              433.0   \n",
       "3     244136448                    55.600  2015    LA             3295.0   \n",
       "4     244143246                    66.500  2015    NC             1427.0   \n",
       "\n",
       "   Opioid Claim Count  Opioid Prescribing Rate  \n",
       "0               782.0                 2.643053  \n",
       "1               114.0                 3.422396  \n",
       "2                41.0                 9.468822  \n",
       "3               203.0                 6.160850  \n",
       "4               470.0                32.936230  "
      ]
     },
     "execution_count": 4,
     "metadata": {},
     "output_type": "execute_result"
    }
   ],
   "source": [
    "PAC_group_2015.head()"
   ]
  },
  {
   "cell_type": "code",
   "execution_count": 62,
   "metadata": {},
   "outputs": [
    {
     "name": "stdout",
     "output_type": "stream",
     "text": [
      "254\n",
      "254\n"
     ]
    }
   ],
   "source": [
    "print(len(PAC_group_2015))\n",
    "print(PAC_group_2015[\"Group PAC ID\"].nunique())"
   ]
  },
  {
   "cell_type": "code",
   "execution_count": 5,
   "metadata": {},
   "outputs": [
    {
     "data": {
      "text/html": [
       "<div>\n",
       "<style scoped>\n",
       "    .dataframe tbody tr th:only-of-type {\n",
       "        vertical-align: middle;\n",
       "    }\n",
       "\n",
       "    .dataframe tbody tr th {\n",
       "        vertical-align: top;\n",
       "    }\n",
       "\n",
       "    .dataframe thead th {\n",
       "        text-align: right;\n",
       "    }\n",
       "</style>\n",
       "<table border=\"1\" class=\"dataframe\">\n",
       "  <thead>\n",
       "    <tr style=\"text-align: right;\">\n",
       "      <th></th>\n",
       "      <th>Year</th>\n",
       "      <th>State</th>\n",
       "      <th>Year.1</th>\n",
       "      <th>Month</th>\n",
       "      <th>Total Deaths</th>\n",
       "      <th>Drug Deaths</th>\n",
       "    </tr>\n",
       "  </thead>\n",
       "  <tbody>\n",
       "    <tr>\n",
       "      <th>0</th>\n",
       "      <td>2015</td>\n",
       "      <td>AK</td>\n",
       "      <td>2015</td>\n",
       "      <td>January</td>\n",
       "      <td>4034</td>\n",
       "      <td>126</td>\n",
       "    </tr>\n",
       "    <tr>\n",
       "      <th>1</th>\n",
       "      <td>2015</td>\n",
       "      <td>AK</td>\n",
       "      <td>2015</td>\n",
       "      <td>February</td>\n",
       "      <td>4084</td>\n",
       "      <td>127</td>\n",
       "    </tr>\n",
       "    <tr>\n",
       "      <th>2</th>\n",
       "      <td>2015</td>\n",
       "      <td>AK</td>\n",
       "      <td>2015</td>\n",
       "      <td>March</td>\n",
       "      <td>4101</td>\n",
       "      <td>125</td>\n",
       "    </tr>\n",
       "    <tr>\n",
       "      <th>3</th>\n",
       "      <td>2015</td>\n",
       "      <td>AK</td>\n",
       "      <td>2015</td>\n",
       "      <td>April</td>\n",
       "      <td>4133</td>\n",
       "      <td>126</td>\n",
       "    </tr>\n",
       "    <tr>\n",
       "      <th>4</th>\n",
       "      <td>2015</td>\n",
       "      <td>AK</td>\n",
       "      <td>2015</td>\n",
       "      <td>May</td>\n",
       "      <td>4196</td>\n",
       "      <td>125</td>\n",
       "    </tr>\n",
       "  </tbody>\n",
       "</table>\n",
       "</div>"
      ],
      "text/plain": [
       "   Year State  Year.1     Month  Total Deaths  Drug Deaths\n",
       "0  2015    AK    2015   January          4034          126\n",
       "1  2015    AK    2015  February          4084          127\n",
       "2  2015    AK    2015     March          4101          125\n",
       "3  2015    AK    2015     April          4133          126\n",
       "4  2015    AK    2015       May          4196          125"
      ]
     },
     "execution_count": 5,
     "metadata": {},
     "output_type": "execute_result"
    }
   ],
   "source": [
    "clean_od_2015.head()"
   ]
  },
  {
   "cell_type": "code",
   "execution_count": 6,
   "metadata": {},
   "outputs": [
    {
     "data": {
      "text/html": [
       "<div>\n",
       "<style scoped>\n",
       "    .dataframe tbody tr th:only-of-type {\n",
       "        vertical-align: middle;\n",
       "    }\n",
       "\n",
       "    .dataframe tbody tr th {\n",
       "        vertical-align: top;\n",
       "    }\n",
       "\n",
       "    .dataframe thead th {\n",
       "        text-align: right;\n",
       "    }\n",
       "</style>\n",
       "<table border=\"1\" class=\"dataframe\">\n",
       "  <thead>\n",
       "    <tr style=\"text-align: right;\">\n",
       "      <th></th>\n",
       "      <th>Year</th>\n",
       "      <th>State</th>\n",
       "      <th>Year.1</th>\n",
       "      <th>Month</th>\n",
       "      <th>Total Deaths</th>\n",
       "      <th>Drug Deaths</th>\n",
       "    </tr>\n",
       "  </thead>\n",
       "  <tbody>\n",
       "    <tr>\n",
       "      <th>0</th>\n",
       "      <td>2016</td>\n",
       "      <td>AK</td>\n",
       "      <td>2016</td>\n",
       "      <td>January</td>\n",
       "      <td>4213</td>\n",
       "      <td>126</td>\n",
       "    </tr>\n",
       "    <tr>\n",
       "      <th>1</th>\n",
       "      <td>2016</td>\n",
       "      <td>AK</td>\n",
       "      <td>2016</td>\n",
       "      <td>February</td>\n",
       "      <td>4198</td>\n",
       "      <td>128</td>\n",
       "    </tr>\n",
       "    <tr>\n",
       "      <th>2</th>\n",
       "      <td>2016</td>\n",
       "      <td>AK</td>\n",
       "      <td>2016</td>\n",
       "      <td>March</td>\n",
       "      <td>4230</td>\n",
       "      <td>125</td>\n",
       "    </tr>\n",
       "    <tr>\n",
       "      <th>3</th>\n",
       "      <td>2016</td>\n",
       "      <td>AK</td>\n",
       "      <td>2016</td>\n",
       "      <td>April</td>\n",
       "      <td>4262</td>\n",
       "      <td>132</td>\n",
       "    </tr>\n",
       "    <tr>\n",
       "      <th>4</th>\n",
       "      <td>2016</td>\n",
       "      <td>AK</td>\n",
       "      <td>2016</td>\n",
       "      <td>May</td>\n",
       "      <td>4241</td>\n",
       "      <td>140</td>\n",
       "    </tr>\n",
       "  </tbody>\n",
       "</table>\n",
       "</div>"
      ],
      "text/plain": [
       "   Year State  Year.1     Month  Total Deaths  Drug Deaths\n",
       "0  2016    AK    2016   January          4213          126\n",
       "1  2016    AK    2016  February          4198          128\n",
       "2  2016    AK    2016     March          4230          125\n",
       "3  2016    AK    2016     April          4262          132\n",
       "4  2016    AK    2016       May          4241          140"
      ]
     },
     "execution_count": 6,
     "metadata": {},
     "output_type": "execute_result"
    }
   ],
   "source": [
    "clean_od_2016.head()"
   ]
  },
  {
   "cell_type": "code",
   "execution_count": 27,
   "metadata": {},
   "outputs": [
    {
     "data": {
      "text/html": [
       "<div>\n",
       "<style scoped>\n",
       "    .dataframe tbody tr th:only-of-type {\n",
       "        vertical-align: middle;\n",
       "    }\n",
       "\n",
       "    .dataframe tbody tr th {\n",
       "        vertical-align: top;\n",
       "    }\n",
       "\n",
       "    .dataframe thead th {\n",
       "        text-align: right;\n",
       "    }\n",
       "</style>\n",
       "<table border=\"1\" class=\"dataframe\">\n",
       "  <thead>\n",
       "    <tr style=\"text-align: right;\">\n",
       "      <th></th>\n",
       "      <th>Drug Deaths</th>\n",
       "      <th>Total Deaths</th>\n",
       "    </tr>\n",
       "    <tr>\n",
       "      <th>State</th>\n",
       "      <th></th>\n",
       "      <th></th>\n",
       "    </tr>\n",
       "  </thead>\n",
       "  <tbody>\n",
       "    <tr>\n",
       "      <th>AK</th>\n",
       "      <td>1594</td>\n",
       "      <td>51141</td>\n",
       "    </tr>\n",
       "    <tr>\n",
       "      <th>AL</th>\n",
       "      <td>8324</td>\n",
       "      <td>608611</td>\n",
       "    </tr>\n",
       "    <tr>\n",
       "      <th>AR</th>\n",
       "      <td>4513</td>\n",
       "      <td>366574</td>\n",
       "    </tr>\n",
       "    <tr>\n",
       "      <th>AZ</th>\n",
       "      <td>16403</td>\n",
       "      <td>679217</td>\n",
       "    </tr>\n",
       "    <tr>\n",
       "      <th>CA</th>\n",
       "      <td>57154</td>\n",
       "      <td>3139581</td>\n",
       "    </tr>\n",
       "  </tbody>\n",
       "</table>\n",
       "</div>"
      ],
      "text/plain": [
       "       Drug Deaths  Total Deaths\n",
       "State                           \n",
       "AK            1594         51141\n",
       "AL            8324        608611\n",
       "AR            4513        366574\n",
       "AZ           16403        679217\n",
       "CA           57154       3139581"
      ]
     },
     "execution_count": 27,
     "metadata": {},
     "output_type": "execute_result"
    }
   ],
   "source": [
    "od_state_2016 = pd.DataFrame(clean_od_2016.groupby([\"State\"])[\"Drug Deaths\",\"Total Deaths\"].sum())\n",
    "od_state_2016.head()\n"
   ]
  },
  {
   "cell_type": "code",
   "execution_count": 28,
   "metadata": {},
   "outputs": [
    {
     "data": {
      "text/html": [
       "<div>\n",
       "<style scoped>\n",
       "    .dataframe tbody tr th:only-of-type {\n",
       "        vertical-align: middle;\n",
       "    }\n",
       "\n",
       "    .dataframe tbody tr th {\n",
       "        vertical-align: top;\n",
       "    }\n",
       "\n",
       "    .dataframe thead th {\n",
       "        text-align: right;\n",
       "    }\n",
       "</style>\n",
       "<table border=\"1\" class=\"dataframe\">\n",
       "  <thead>\n",
       "    <tr style=\"text-align: right;\">\n",
       "      <th></th>\n",
       "      <th>Drug Deaths</th>\n",
       "      <th>Total Deaths</th>\n",
       "    </tr>\n",
       "    <tr>\n",
       "      <th>State</th>\n",
       "      <th></th>\n",
       "      <th></th>\n",
       "    </tr>\n",
       "  </thead>\n",
       "  <tbody>\n",
       "    <tr>\n",
       "      <th>AK</th>\n",
       "      <td>1472</td>\n",
       "      <td>50086</td>\n",
       "    </tr>\n",
       "    <tr>\n",
       "      <th>AL</th>\n",
       "      <td>8818</td>\n",
       "      <td>607641</td>\n",
       "    </tr>\n",
       "    <tr>\n",
       "      <th>AR</th>\n",
       "      <td>4616</td>\n",
       "      <td>368117</td>\n",
       "    </tr>\n",
       "    <tr>\n",
       "      <th>AZ</th>\n",
       "      <td>14590</td>\n",
       "      <td>642297</td>\n",
       "    </tr>\n",
       "    <tr>\n",
       "      <th>CA</th>\n",
       "      <td>56001</td>\n",
       "      <td>3056952</td>\n",
       "    </tr>\n",
       "  </tbody>\n",
       "</table>\n",
       "</div>"
      ],
      "text/plain": [
       "       Drug Deaths  Total Deaths\n",
       "State                           \n",
       "AK            1472         50086\n",
       "AL            8818        607641\n",
       "AR            4616        368117\n",
       "AZ           14590        642297\n",
       "CA           56001       3056952"
      ]
     },
     "execution_count": 28,
     "metadata": {},
     "output_type": "execute_result"
    }
   ],
   "source": [
    "od_state_2015= pd.DataFrame(clean_od_2015.groupby([\"State\"])[\"Drug Deaths\",\"Total Deaths\"].sum())\n",
    "od_state_2015.head()\n"
   ]
  },
  {
   "cell_type": "code",
   "execution_count": 29,
   "metadata": {},
   "outputs": [
    {
     "data": {
      "text/html": [
       "<div>\n",
       "<style scoped>\n",
       "    .dataframe tbody tr th:only-of-type {\n",
       "        vertical-align: middle;\n",
       "    }\n",
       "\n",
       "    .dataframe tbody tr th {\n",
       "        vertical-align: top;\n",
       "    }\n",
       "\n",
       "    .dataframe thead th {\n",
       "        text-align: right;\n",
       "    }\n",
       "</style>\n",
       "<table border=\"1\" class=\"dataframe\">\n",
       "  <thead>\n",
       "    <tr style=\"text-align: right;\">\n",
       "      <th></th>\n",
       "      <th>Opioid Prescribing Rate</th>\n",
       "      <th>Measure Performance Rate</th>\n",
       "      <th>Total Claim Count</th>\n",
       "      <th>Opioid Claim Count</th>\n",
       "    </tr>\n",
       "    <tr>\n",
       "      <th>State</th>\n",
       "      <th></th>\n",
       "      <th></th>\n",
       "      <th></th>\n",
       "      <th></th>\n",
       "    </tr>\n",
       "  </thead>\n",
       "  <tbody>\n",
       "    <tr>\n",
       "      <th>AL</th>\n",
       "      <td>5.029590</td>\n",
       "      <td>60.416667</td>\n",
       "      <td>72718.0</td>\n",
       "      <td>4312.0</td>\n",
       "    </tr>\n",
       "    <tr>\n",
       "      <th>AR</th>\n",
       "      <td>2.543668</td>\n",
       "      <td>59.250000</td>\n",
       "      <td>18320.0</td>\n",
       "      <td>466.0</td>\n",
       "    </tr>\n",
       "    <tr>\n",
       "      <th>AZ</th>\n",
       "      <td>12.243259</td>\n",
       "      <td>57.617063</td>\n",
       "      <td>58469.0</td>\n",
       "      <td>7237.0</td>\n",
       "    </tr>\n",
       "    <tr>\n",
       "      <th>CA</th>\n",
       "      <td>6.521127</td>\n",
       "      <td>65.050926</td>\n",
       "      <td>183149.0</td>\n",
       "      <td>11487.0</td>\n",
       "    </tr>\n",
       "    <tr>\n",
       "      <th>CO</th>\n",
       "      <td>3.627322</td>\n",
       "      <td>63.208333</td>\n",
       "      <td>77731.0</td>\n",
       "      <td>3074.0</td>\n",
       "    </tr>\n",
       "  </tbody>\n",
       "</table>\n",
       "</div>"
      ],
      "text/plain": [
       "       Opioid Prescribing Rate  Measure Performance Rate  Total Claim Count  \\\n",
       "State                                                                         \n",
       "AL                    5.029590                 60.416667            72718.0   \n",
       "AR                    2.543668                 59.250000            18320.0   \n",
       "AZ                   12.243259                 57.617063            58469.0   \n",
       "CA                    6.521127                 65.050926           183149.0   \n",
       "CO                    3.627322                 63.208333            77731.0   \n",
       "\n",
       "       Opioid Claim Count  \n",
       "State                      \n",
       "AL                 4312.0  \n",
       "AR                  466.0  \n",
       "AZ                 7237.0  \n",
       "CA                11487.0  \n",
       "CO                 3074.0  "
      ]
     },
     "execution_count": 29,
     "metadata": {},
     "output_type": "execute_result"
    }
   ],
   "source": [
    "PAC_group_state16 = pd.DataFrame(PAC_group_2016.groupby([\"State\"])[\"Opioid Prescribing Rate\",\"Measure Performance Rate\"].mean())\n",
    "PAC_group_state16[[\"Total Claim Count\",\"Opioid Claim Count\"]] = PAC_group_2016.groupby([\"State\"])[\"Total Claim Count\",\"Opioid Claim Count\"].sum()\n",
    "PAC_group_state16.head()"
   ]
  },
  {
   "cell_type": "code",
   "execution_count": 30,
   "metadata": {},
   "outputs": [
    {
     "data": {
      "text/html": [
       "<div>\n",
       "<style scoped>\n",
       "    .dataframe tbody tr th:only-of-type {\n",
       "        vertical-align: middle;\n",
       "    }\n",
       "\n",
       "    .dataframe tbody tr th {\n",
       "        vertical-align: top;\n",
       "    }\n",
       "\n",
       "    .dataframe thead th {\n",
       "        text-align: right;\n",
       "    }\n",
       "</style>\n",
       "<table border=\"1\" class=\"dataframe\">\n",
       "  <thead>\n",
       "    <tr style=\"text-align: right;\">\n",
       "      <th></th>\n",
       "      <th>Opioid Prescribing Rate</th>\n",
       "      <th>Measure Performance Rate</th>\n",
       "      <th>Total Claim Count</th>\n",
       "      <th>Opioid Claim Count</th>\n",
       "    </tr>\n",
       "    <tr>\n",
       "      <th>State</th>\n",
       "      <th></th>\n",
       "      <th></th>\n",
       "      <th></th>\n",
       "      <th></th>\n",
       "    </tr>\n",
       "  </thead>\n",
       "  <tbody>\n",
       "    <tr>\n",
       "      <th>AK</th>\n",
       "      <td>28.169014</td>\n",
       "      <td>6.000000</td>\n",
       "      <td>142.0</td>\n",
       "      <td>40.0</td>\n",
       "    </tr>\n",
       "    <tr>\n",
       "      <th>AL</th>\n",
       "      <td>14.493353</td>\n",
       "      <td>56.500000</td>\n",
       "      <td>99324.0</td>\n",
       "      <td>7305.0</td>\n",
       "    </tr>\n",
       "    <tr>\n",
       "      <th>AR</th>\n",
       "      <td>6.806352</td>\n",
       "      <td>63.812500</td>\n",
       "      <td>954.0</td>\n",
       "      <td>66.0</td>\n",
       "    </tr>\n",
       "    <tr>\n",
       "      <th>AZ</th>\n",
       "      <td>16.973309</td>\n",
       "      <td>55.395833</td>\n",
       "      <td>363.0</td>\n",
       "      <td>61.0</td>\n",
       "    </tr>\n",
       "    <tr>\n",
       "      <th>CA</th>\n",
       "      <td>13.953721</td>\n",
       "      <td>65.172619</td>\n",
       "      <td>31084.0</td>\n",
       "      <td>3173.0</td>\n",
       "    </tr>\n",
       "  </tbody>\n",
       "</table>\n",
       "</div>"
      ],
      "text/plain": [
       "       Opioid Prescribing Rate  Measure Performance Rate  Total Claim Count  \\\n",
       "State                                                                         \n",
       "AK                   28.169014                  6.000000              142.0   \n",
       "AL                   14.493353                 56.500000            99324.0   \n",
       "AR                    6.806352                 63.812500              954.0   \n",
       "AZ                   16.973309                 55.395833              363.0   \n",
       "CA                   13.953721                 65.172619            31084.0   \n",
       "\n",
       "       Opioid Claim Count  \n",
       "State                      \n",
       "AK                   40.0  \n",
       "AL                 7305.0  \n",
       "AR                   66.0  \n",
       "AZ                   61.0  \n",
       "CA                 3173.0  "
      ]
     },
     "execution_count": 30,
     "metadata": {},
     "output_type": "execute_result"
    }
   ],
   "source": [
    "PAC_group_state15 = pd.DataFrame(PAC_group_2015.groupby([\"State\"])[\"Opioid Prescribing Rate\",\"Measure Performance Rate\"].mean())\n",
    "PAC_group_state15[[\"Total Claim Count\",\"Opioid Claim Count\"]] = PAC_group_2015.groupby([\"State\"])[\"Total Claim Count\",\"Opioid Claim Count\"].sum()\n",
    "PAC_group_state15.head()"
   ]
  },
  {
   "cell_type": "code",
   "execution_count": 67,
   "metadata": {
    "scrolled": true
   },
   "outputs": [],
   "source": [
    "#Merge our data set of pac_group_16 data with the Drug Deaths and Total Deaths of 2016\n",
    "\n",
    "merged_state_rate_deaths16 = PAC_group_state16.merge(od_state_2016, on=\"State\", how='outer')\n",
    "\n",
    "#Merge our data set of pac_group_15 data with the Drug Deaths and Total Deaths of 2015\n",
    "merged_state_rate_deaths15 = PAC_group_state15.merge(od_state_2015, on=\"State\", how='outer')"
   ]
  },
  {
   "cell_type": "code",
   "execution_count": 68,
   "metadata": {},
   "outputs": [
    {
     "data": {
      "text/html": [
       "<div>\n",
       "<style scoped>\n",
       "    .dataframe tbody tr th:only-of-type {\n",
       "        vertical-align: middle;\n",
       "    }\n",
       "\n",
       "    .dataframe tbody tr th {\n",
       "        vertical-align: top;\n",
       "    }\n",
       "\n",
       "    .dataframe thead th {\n",
       "        text-align: right;\n",
       "    }\n",
       "</style>\n",
       "<table border=\"1\" class=\"dataframe\">\n",
       "  <thead>\n",
       "    <tr style=\"text-align: right;\">\n",
       "      <th></th>\n",
       "      <th>Opioid Prescribing Rate</th>\n",
       "      <th>Measure Performance Rate</th>\n",
       "      <th>Total Claim Count</th>\n",
       "      <th>Opioid Claim Count</th>\n",
       "      <th>Drug Deaths</th>\n",
       "      <th>Total Deaths</th>\n",
       "    </tr>\n",
       "    <tr>\n",
       "      <th>State</th>\n",
       "      <th></th>\n",
       "      <th></th>\n",
       "      <th></th>\n",
       "      <th></th>\n",
       "      <th></th>\n",
       "      <th></th>\n",
       "    </tr>\n",
       "  </thead>\n",
       "  <tbody>\n",
       "    <tr>\n",
       "      <th>AL</th>\n",
       "      <td>5.029590</td>\n",
       "      <td>60.416667</td>\n",
       "      <td>72718.0</td>\n",
       "      <td>4312.0</td>\n",
       "      <td>8324</td>\n",
       "      <td>608611</td>\n",
       "    </tr>\n",
       "    <tr>\n",
       "      <th>AR</th>\n",
       "      <td>2.543668</td>\n",
       "      <td>59.250000</td>\n",
       "      <td>18320.0</td>\n",
       "      <td>466.0</td>\n",
       "      <td>4513</td>\n",
       "      <td>366574</td>\n",
       "    </tr>\n",
       "    <tr>\n",
       "      <th>AZ</th>\n",
       "      <td>12.243259</td>\n",
       "      <td>57.617063</td>\n",
       "      <td>58469.0</td>\n",
       "      <td>7237.0</td>\n",
       "      <td>16403</td>\n",
       "      <td>679217</td>\n",
       "    </tr>\n",
       "    <tr>\n",
       "      <th>CA</th>\n",
       "      <td>6.521127</td>\n",
       "      <td>65.050926</td>\n",
       "      <td>183149.0</td>\n",
       "      <td>11487.0</td>\n",
       "      <td>57154</td>\n",
       "      <td>3139581</td>\n",
       "    </tr>\n",
       "    <tr>\n",
       "      <th>CO</th>\n",
       "      <td>3.627322</td>\n",
       "      <td>63.208333</td>\n",
       "      <td>77731.0</td>\n",
       "      <td>3074.0</td>\n",
       "      <td>11137</td>\n",
       "      <td>450894</td>\n",
       "    </tr>\n",
       "  </tbody>\n",
       "</table>\n",
       "</div>"
      ],
      "text/plain": [
       "       Opioid Prescribing Rate  Measure Performance Rate  Total Claim Count  \\\n",
       "State                                                                         \n",
       "AL                    5.029590                 60.416667            72718.0   \n",
       "AR                    2.543668                 59.250000            18320.0   \n",
       "AZ                   12.243259                 57.617063            58469.0   \n",
       "CA                    6.521127                 65.050926           183149.0   \n",
       "CO                    3.627322                 63.208333            77731.0   \n",
       "\n",
       "       Opioid Claim Count  Drug Deaths  Total Deaths  \n",
       "State                                                 \n",
       "AL                 4312.0         8324        608611  \n",
       "AR                  466.0         4513        366574  \n",
       "AZ                 7237.0        16403        679217  \n",
       "CA                11487.0        57154       3139581  \n",
       "CO                 3074.0        11137        450894  "
      ]
     },
     "execution_count": 68,
     "metadata": {},
     "output_type": "execute_result"
    }
   ],
   "source": [
    "#Show our new 16 data by state\n",
    "merged_state_rate_deaths16.head()"
   ]
  },
  {
   "cell_type": "code",
   "execution_count": 69,
   "metadata": {},
   "outputs": [
    {
     "data": {
      "text/plain": [
       "52"
      ]
     },
     "execution_count": 69,
     "metadata": {},
     "output_type": "execute_result"
    }
   ],
   "source": [
    "len(merged_state_rate_deaths16)"
   ]
  },
  {
   "cell_type": "code",
   "execution_count": 70,
   "metadata": {},
   "outputs": [
    {
     "data": {
      "text/html": [
       "<div>\n",
       "<style scoped>\n",
       "    .dataframe tbody tr th:only-of-type {\n",
       "        vertical-align: middle;\n",
       "    }\n",
       "\n",
       "    .dataframe tbody tr th {\n",
       "        vertical-align: top;\n",
       "    }\n",
       "\n",
       "    .dataframe thead th {\n",
       "        text-align: right;\n",
       "    }\n",
       "</style>\n",
       "<table border=\"1\" class=\"dataframe\">\n",
       "  <thead>\n",
       "    <tr style=\"text-align: right;\">\n",
       "      <th></th>\n",
       "      <th>Opioid Prescribing Rate</th>\n",
       "      <th>Measure Performance Rate</th>\n",
       "      <th>Total Claim Count</th>\n",
       "      <th>Opioid Claim Count</th>\n",
       "      <th>Drug Deaths</th>\n",
       "      <th>Total Deaths</th>\n",
       "    </tr>\n",
       "    <tr>\n",
       "      <th>State</th>\n",
       "      <th></th>\n",
       "      <th></th>\n",
       "      <th></th>\n",
       "      <th></th>\n",
       "      <th></th>\n",
       "      <th></th>\n",
       "    </tr>\n",
       "  </thead>\n",
       "  <tbody>\n",
       "    <tr>\n",
       "      <th>AK</th>\n",
       "      <td>28.169014</td>\n",
       "      <td>6.000000</td>\n",
       "      <td>142.0</td>\n",
       "      <td>40.0</td>\n",
       "      <td>1472</td>\n",
       "      <td>50086</td>\n",
       "    </tr>\n",
       "    <tr>\n",
       "      <th>AL</th>\n",
       "      <td>14.493353</td>\n",
       "      <td>56.500000</td>\n",
       "      <td>99324.0</td>\n",
       "      <td>7305.0</td>\n",
       "      <td>8818</td>\n",
       "      <td>607641</td>\n",
       "    </tr>\n",
       "    <tr>\n",
       "      <th>AR</th>\n",
       "      <td>6.806352</td>\n",
       "      <td>63.812500</td>\n",
       "      <td>954.0</td>\n",
       "      <td>66.0</td>\n",
       "      <td>4616</td>\n",
       "      <td>368117</td>\n",
       "    </tr>\n",
       "    <tr>\n",
       "      <th>AZ</th>\n",
       "      <td>16.973309</td>\n",
       "      <td>55.395833</td>\n",
       "      <td>363.0</td>\n",
       "      <td>61.0</td>\n",
       "      <td>14590</td>\n",
       "      <td>642297</td>\n",
       "    </tr>\n",
       "    <tr>\n",
       "      <th>CA</th>\n",
       "      <td>13.953721</td>\n",
       "      <td>65.172619</td>\n",
       "      <td>31084.0</td>\n",
       "      <td>3173.0</td>\n",
       "      <td>56001</td>\n",
       "      <td>3056952</td>\n",
       "    </tr>\n",
       "  </tbody>\n",
       "</table>\n",
       "</div>"
      ],
      "text/plain": [
       "       Opioid Prescribing Rate  Measure Performance Rate  Total Claim Count  \\\n",
       "State                                                                         \n",
       "AK                   28.169014                  6.000000              142.0   \n",
       "AL                   14.493353                 56.500000            99324.0   \n",
       "AR                    6.806352                 63.812500              954.0   \n",
       "AZ                   16.973309                 55.395833              363.0   \n",
       "CA                   13.953721                 65.172619            31084.0   \n",
       "\n",
       "       Opioid Claim Count  Drug Deaths  Total Deaths  \n",
       "State                                                 \n",
       "AK                   40.0         1472         50086  \n",
       "AL                 7305.0         8818        607641  \n",
       "AR                   66.0         4616        368117  \n",
       "AZ                   61.0        14590        642297  \n",
       "CA                 3173.0        56001       3056952  "
      ]
     },
     "execution_count": 70,
     "metadata": {},
     "output_type": "execute_result"
    }
   ],
   "source": [
    "#Show our new 15 data by state\n",
    "merged_state_rate_deaths15.head()"
   ]
  },
  {
   "cell_type": "code",
   "execution_count": 71,
   "metadata": {},
   "outputs": [
    {
     "data": {
      "text/plain": [
       "52"
      ]
     },
     "execution_count": 71,
     "metadata": {},
     "output_type": "execute_result"
    }
   ],
   "source": [
    "len(merged_state_rate_deaths15)"
   ]
  },
  {
   "cell_type": "code",
   "execution_count": 72,
   "metadata": {},
   "outputs": [
    {
     "data": {
      "text/html": [
       "<div>\n",
       "<style scoped>\n",
       "    .dataframe tbody tr th:only-of-type {\n",
       "        vertical-align: middle;\n",
       "    }\n",
       "\n",
       "    .dataframe tbody tr th {\n",
       "        vertical-align: top;\n",
       "    }\n",
       "\n",
       "    .dataframe thead th {\n",
       "        text-align: right;\n",
       "    }\n",
       "</style>\n",
       "<table border=\"1\" class=\"dataframe\">\n",
       "  <thead>\n",
       "    <tr style=\"text-align: right;\">\n",
       "      <th></th>\n",
       "      <th>Opioid Prescribing Rate</th>\n",
       "      <th>Measure Performance Rate</th>\n",
       "      <th>Total Claim Count</th>\n",
       "      <th>Opioid Claim Count</th>\n",
       "      <th>Drug Deaths</th>\n",
       "      <th>Total Deaths</th>\n",
       "    </tr>\n",
       "    <tr>\n",
       "      <th>State</th>\n",
       "      <th></th>\n",
       "      <th></th>\n",
       "      <th></th>\n",
       "      <th></th>\n",
       "      <th></th>\n",
       "      <th></th>\n",
       "    </tr>\n",
       "  </thead>\n",
       "  <tbody>\n",
       "    <tr>\n",
       "      <th>AL</th>\n",
       "      <td>5.029590</td>\n",
       "      <td>60.416667</td>\n",
       "      <td>72718.0</td>\n",
       "      <td>4312.0</td>\n",
       "      <td>8324</td>\n",
       "      <td>608611</td>\n",
       "    </tr>\n",
       "    <tr>\n",
       "      <th>AR</th>\n",
       "      <td>2.543668</td>\n",
       "      <td>59.250000</td>\n",
       "      <td>18320.0</td>\n",
       "      <td>466.0</td>\n",
       "      <td>4513</td>\n",
       "      <td>366574</td>\n",
       "    </tr>\n",
       "    <tr>\n",
       "      <th>AZ</th>\n",
       "      <td>12.243259</td>\n",
       "      <td>57.617063</td>\n",
       "      <td>58469.0</td>\n",
       "      <td>7237.0</td>\n",
       "      <td>16403</td>\n",
       "      <td>679217</td>\n",
       "    </tr>\n",
       "    <tr>\n",
       "      <th>CA</th>\n",
       "      <td>6.521127</td>\n",
       "      <td>65.050926</td>\n",
       "      <td>183149.0</td>\n",
       "      <td>11487.0</td>\n",
       "      <td>57154</td>\n",
       "      <td>3139581</td>\n",
       "    </tr>\n",
       "    <tr>\n",
       "      <th>CO</th>\n",
       "      <td>3.627322</td>\n",
       "      <td>63.208333</td>\n",
       "      <td>77731.0</td>\n",
       "      <td>3074.0</td>\n",
       "      <td>11137</td>\n",
       "      <td>450894</td>\n",
       "    </tr>\n",
       "  </tbody>\n",
       "</table>\n",
       "</div>"
      ],
      "text/plain": [
       "       Opioid Prescribing Rate  Measure Performance Rate  Total Claim Count  \\\n",
       "State                                                                         \n",
       "AL                    5.029590                 60.416667            72718.0   \n",
       "AR                    2.543668                 59.250000            18320.0   \n",
       "AZ                   12.243259                 57.617063            58469.0   \n",
       "CA                    6.521127                 65.050926           183149.0   \n",
       "CO                    3.627322                 63.208333            77731.0   \n",
       "\n",
       "       Opioid Claim Count  Drug Deaths  Total Deaths  \n",
       "State                                                 \n",
       "AL                 4312.0         8324        608611  \n",
       "AR                  466.0         4513        366574  \n",
       "AZ                 7237.0        16403        679217  \n",
       "CA                11487.0        57154       3139581  \n",
       "CO                 3074.0        11137        450894  "
      ]
     },
     "execution_count": 72,
     "metadata": {},
     "output_type": "execute_result"
    }
   ],
   "source": [
    "#Drop any columns with null values. Expecting this to drop our data from 52 states/territories\n",
    "#Drop values from 2016 data\n",
    "merged_state_rate_deaths16 = merged_state_rate_deaths16.dropna(axis=0 , how='any')\n",
    "merged_state_rate_deaths16.head()"
   ]
  },
  {
   "cell_type": "code",
   "execution_count": 74,
   "metadata": {},
   "outputs": [
    {
     "data": {
      "text/plain": [
       "8.266271753130914"
      ]
     },
     "execution_count": 74,
     "metadata": {},
     "output_type": "execute_result"
    }
   ],
   "source": [
    "group_avgprescriberate_16 = merged_state_rate_deaths16[\"Opioid Prescribing Rate\"].mean()\n",
    "group_avgprescriberate_16"
   ]
  },
  {
   "cell_type": "code",
   "execution_count": 75,
   "metadata": {},
   "outputs": [
    {
     "data": {
      "text/plain": [
       "44"
      ]
     },
     "execution_count": 75,
     "metadata": {},
     "output_type": "execute_result"
    }
   ],
   "source": [
    "len(merged_state_rate_deaths16)"
   ]
  },
  {
   "cell_type": "code",
   "execution_count": 76,
   "metadata": {},
   "outputs": [
    {
     "data": {
      "text/html": [
       "<div>\n",
       "<style scoped>\n",
       "    .dataframe tbody tr th:only-of-type {\n",
       "        vertical-align: middle;\n",
       "    }\n",
       "\n",
       "    .dataframe tbody tr th {\n",
       "        vertical-align: top;\n",
       "    }\n",
       "\n",
       "    .dataframe thead th {\n",
       "        text-align: right;\n",
       "    }\n",
       "</style>\n",
       "<table border=\"1\" class=\"dataframe\">\n",
       "  <thead>\n",
       "    <tr style=\"text-align: right;\">\n",
       "      <th></th>\n",
       "      <th>Opioid Prescribing Rate</th>\n",
       "      <th>Measure Performance Rate</th>\n",
       "      <th>Total Claim Count</th>\n",
       "      <th>Opioid Claim Count</th>\n",
       "      <th>Drug Deaths</th>\n",
       "      <th>Total Deaths</th>\n",
       "    </tr>\n",
       "    <tr>\n",
       "      <th>State</th>\n",
       "      <th></th>\n",
       "      <th></th>\n",
       "      <th></th>\n",
       "      <th></th>\n",
       "      <th></th>\n",
       "      <th></th>\n",
       "    </tr>\n",
       "  </thead>\n",
       "  <tbody>\n",
       "    <tr>\n",
       "      <th>AK</th>\n",
       "      <td>28.169014</td>\n",
       "      <td>6.000000</td>\n",
       "      <td>142.0</td>\n",
       "      <td>40.0</td>\n",
       "      <td>1472</td>\n",
       "      <td>50086</td>\n",
       "    </tr>\n",
       "    <tr>\n",
       "      <th>AL</th>\n",
       "      <td>14.493353</td>\n",
       "      <td>56.500000</td>\n",
       "      <td>99324.0</td>\n",
       "      <td>7305.0</td>\n",
       "      <td>8818</td>\n",
       "      <td>607641</td>\n",
       "    </tr>\n",
       "    <tr>\n",
       "      <th>AR</th>\n",
       "      <td>6.806352</td>\n",
       "      <td>63.812500</td>\n",
       "      <td>954.0</td>\n",
       "      <td>66.0</td>\n",
       "      <td>4616</td>\n",
       "      <td>368117</td>\n",
       "    </tr>\n",
       "    <tr>\n",
       "      <th>AZ</th>\n",
       "      <td>16.973309</td>\n",
       "      <td>55.395833</td>\n",
       "      <td>363.0</td>\n",
       "      <td>61.0</td>\n",
       "      <td>14590</td>\n",
       "      <td>642297</td>\n",
       "    </tr>\n",
       "    <tr>\n",
       "      <th>CA</th>\n",
       "      <td>13.953721</td>\n",
       "      <td>65.172619</td>\n",
       "      <td>31084.0</td>\n",
       "      <td>3173.0</td>\n",
       "      <td>56001</td>\n",
       "      <td>3056952</td>\n",
       "    </tr>\n",
       "  </tbody>\n",
       "</table>\n",
       "</div>"
      ],
      "text/plain": [
       "       Opioid Prescribing Rate  Measure Performance Rate  Total Claim Count  \\\n",
       "State                                                                         \n",
       "AK                   28.169014                  6.000000              142.0   \n",
       "AL                   14.493353                 56.500000            99324.0   \n",
       "AR                    6.806352                 63.812500              954.0   \n",
       "AZ                   16.973309                 55.395833              363.0   \n",
       "CA                   13.953721                 65.172619            31084.0   \n",
       "\n",
       "       Opioid Claim Count  Drug Deaths  Total Deaths  \n",
       "State                                                 \n",
       "AK                   40.0         1472         50086  \n",
       "AL                 7305.0         8818        607641  \n",
       "AR                   66.0         4616        368117  \n",
       "AZ                   61.0        14590        642297  \n",
       "CA                 3173.0        56001       3056952  "
      ]
     },
     "execution_count": 76,
     "metadata": {},
     "output_type": "execute_result"
    }
   ],
   "source": [
    "#Drop values from 2015 data\n",
    "merged_state_rate_deaths15 = merged_state_rate_deaths15.dropna(axis=0 , how='any')\n",
    "merged_state_rate_deaths15.head()"
   ]
  },
  {
   "cell_type": "code",
   "execution_count": 77,
   "metadata": {},
   "outputs": [
    {
     "data": {
      "text/plain": [
       "10.31463253372905"
      ]
     },
     "execution_count": 77,
     "metadata": {},
     "output_type": "execute_result"
    }
   ],
   "source": [
    "group_avgprescriberate_15 = merged_state_rate_deaths15[\"Opioid Prescribing Rate\"].mean()\n",
    "group_avgprescriberate_15"
   ]
  },
  {
   "cell_type": "code",
   "execution_count": 78,
   "metadata": {},
   "outputs": [
    {
     "data": {
      "text/plain": [
       "46"
      ]
     },
     "execution_count": 78,
     "metadata": {},
     "output_type": "execute_result"
    }
   ],
   "source": [
    "len(merged_state_rate_deaths15)"
   ]
  },
  {
   "cell_type": "code",
   "execution_count": 79,
   "metadata": {
    "scrolled": true
   },
   "outputs": [
    {
     "data": {
      "image/png": "[encoded data removed]",
      "text/plain": [
       "<Figure size 432x288 with 1 Axes>"
      ]
     },
     "metadata": {
      "needs_background": "light"
     },
     "output_type": "display_data"
    }
   ],
   "source": [
    "#Plot Opioid Claim Counts of Group PAC by State vs Drug Deaths for 2016\n",
    "merged_state_rate_deaths16.plot.scatter(x=\"Opioid Claim Count\", y='Drug Deaths', color='Blue', \n",
    "                                           grid=True, alpha=0.5, edgecolors = 'black', label='States')\n",
    "#Add title to our scatter plot along with an x-axis and y-axis title\n",
    "plt.title(\"2016 Opioid Claim Counts by State vs Drug Deaths\")\n",
    "plt.xlabel(\"Opioid Claim Count\")\n",
    "plt.ylabel(\"Drug Deaths\")\n",
    "\n",
    "\n",
    "plt.show()\n"
   ]
  },
  {
   "cell_type": "code",
   "execution_count": 80,
   "metadata": {},
   "outputs": [
    {
     "data": {
      "image/png": "[encoded data removed]",
      "text/plain": [
       "<Figure size 432x288 with 1 Axes>"
      ]
     },
     "metadata": {
      "needs_background": "light"
     },
     "output_type": "display_data"
    }
   ],
   "source": [
    "#Plot Opioid Claim Counts of Group PAC by State vs Drug Deaths for 2015\n",
    "merged_state_rate_deaths15.plot.scatter(x=\"Opioid Claim Count\", y='Drug Deaths', color='Green', \n",
    "                                           grid=True, alpha=0.5, edgecolors = 'black', label='States')\n",
    "#Add title to our scatter plot along with an x-axis and y-axis title\n",
    "plt.title(\"2015 Opioid Claim Counts by State vs Drug Deaths\")\n",
    "plt.xlabel(\"Opioid Claim Count\")\n",
    "plt.ylabel(\"Drug Deaths\")\n",
    "\n",
    "plt.show()\n"
   ]
  },
  {
   "cell_type": "code",
   "execution_count": 91,
   "metadata": {},
   "outputs": [
    {
     "data": {
      "image/png": "[encoded data removed]",
      "text/plain": [
       "<Figure size 432x288 with 1 Axes>"
      ]
     },
     "metadata": {
      "needs_background": "light"
     },
     "output_type": "display_data"
    }
   ],
   "source": [
    "#Combined Plot of  Opioid Claim Counts for Group PAC by State vs Drug Deaths for 2015 & 2016\n",
    "#Plot Opioid Claim Counts of Group PAC by State vs Drug Deaths for 2016\n",
    "ax = merged_state_rate_deaths16.plot.scatter(x=\"Opioid Claim Count\", y='Drug Deaths', color='Blue', \n",
    "                                           grid=True, alpha=0.5, edgecolors = 'black', label='2016')\n",
    "#Plot Opioid Claim Counts of Group PAC by State vs Drug Deaths for 2015\n",
    "merged_state_rate_deaths15.plot.scatter(x=\"Opioid Claim Count\", y='Drug Deaths', color='Green', \n",
    "                                           grid=True, alpha=0.5, edgecolors = 'black', label='2015', ax=ax)\n",
    "\n",
    "#Add title to our scatter plot along with an x-axis and y-axis title\n",
    "plt.title(\"Opioid Claim Counts by State vs Drug Deaths(2015-2016)\")\n",
    "plt.xlabel(\"Opioid Claim Count\")\n",
    "plt.ylabel(\"Drug Deaths\")\n",
    "\n",
    "plt.savefig(\"../Presentation/graphs/opioid_claims_drug_deaths\")\n",
    "\n",
    "plt.show()\n"
   ]
  },
  {
   "cell_type": "code",
   "execution_count": 93,
   "metadata": {},
   "outputs": [
    {
     "data": {
      "image/png": "[encoded data removed]",
      "text/plain": [
       "<Figure size 432x288 with 1 Axes>"
      ]
     },
     "metadata": {
      "needs_background": "light"
     },
     "output_type": "display_data"
    }
   ],
   "source": [
    "#Plot our Average Performance Rates of Group PACs by State vs Drug Deaths for 2016\n",
    "merged_state_rate_deaths16.plot.scatter(x=\"Measure Performance Rate\", y='Drug Deaths', color='Blue', \n",
    "                                           grid=True, alpha=0.5, edgecolors = 'black', label='States')\n",
    "#Add title to our scatter plot along with an x-axis and y-axis title\n",
    "plt.title(\"2016 Group PAC Ratings vs Drug Deaths by State\")\n",
    "plt.xlabel(\"Performance Rate\")\n",
    "plt.ylabel(\"Drug Deaths\")\n",
    "\n",
    "plt.show()\n"
   ]
  },
  {
   "cell_type": "code",
   "execution_count": 83,
   "metadata": {},
   "outputs": [
    {
     "data": {
      "image/png": "[encoded data removed]",
      "text/plain": [
       "<Figure size 432x288 with 1 Axes>"
      ]
     },
     "metadata": {
      "needs_background": "light"
     },
     "output_type": "display_data"
    }
   ],
   "source": [
    "#Plot our Average Performance Rates of Group PACs by State vs Drug Deaths for 2015\n",
    "merged_state_rate_deaths15.plot.scatter(x=\"Measure Performance Rate\", y='Drug Deaths', color='Green', \n",
    "                                           grid=True, alpha=0.5, edgecolors = 'black', label='States')\n",
    "#Add title to our scatter plot along with an x-axis and y-axis title\n",
    "plt.title(\"2015 Group PAC Ratings vs Drug Deaths by State\")\n",
    "plt.xlabel(\"Performance Rate\")\n",
    "plt.ylabel(\"Drug Deaths\")\n",
    "\n",
    "plt.show()\n"
   ]
  },
  {
   "cell_type": "code",
   "execution_count": 96,
   "metadata": {},
   "outputs": [
    {
     "data": {
      "image/png": "[encoded data removed]",
      "text/plain": [
       "<Figure size 432x288 with 1 Axes>"
      ]
     },
     "metadata": {
      "needs_background": "light"
     },
     "output_type": "display_data"
    }
   ],
   "source": [
    "#Combined Plot for  Average Group PAC Ratings State vs Drug Deaths for 2015 & 2016\n",
    "#Plot Avg Ratings for Group PAC by State vs Drug Deaths for 2016\n",
    "ax = merged_state_rate_deaths16.plot.scatter(x=\"Measure Performance Rate\", y='Drug Deaths', color='Blue', \n",
    "                                           grid=True, alpha=0.5, edgecolors = 'black', label='2016')\n",
    "#Plot our Average Performance Rates of Group PACs by State vs Drug Deaths for 2015\n",
    "merged_state_rate_deaths15.plot.scatter(x=\"Measure Performance Rate\", y='Drug Deaths', color='Green', \n",
    "                                           grid=True, alpha=0.5, edgecolors = 'black', label='2015', ax=ax)\n",
    "#Add title to our scatter plot along with an x-axis and y-axis title\n",
    "plt.title(\"Avg Group Performance Ratings by State vs Drug Deaths(2015-2016)\")\n",
    "plt.xlabel(\"Performance Rating\")\n",
    "plt.ylabel(\"Drug Deaths\")\n",
    "\n",
    "plt.savefig(\"../Presentation/graphs/performance_ratings_vs_drugdeaths\")\n",
    "\n",
    "plt.show()\n"
   ]
  },
  {
   "cell_type": "code",
   "execution_count": 84,
   "metadata": {},
   "outputs": [
    {
     "data": {
      "image/png": "[encoded data removed]",
      "text/plain": [
       "<Figure size 432x288 with 1 Axes>"
      ]
     },
     "metadata": {
      "needs_background": "light"
     },
     "output_type": "display_data"
    }
   ],
   "source": [
    "#Plot our Average Prescribed Rates of Group PACs by State vs Drug Deaths for 2016\n",
    "merged_state_rate_deaths16.plot.scatter(x=\"Opioid Prescribing Rate\", y='Drug Deaths', color='Blue', \n",
    "                                           grid=True, alpha=0.5, edgecolors = 'black', label='States')\n",
    "#Add title to our scatter plot along with an x-axis and y-axis title\n",
    "plt.title(\"2016 Group Opioid Prescribe Rates vs Drug Deaths by State\")\n",
    "plt.xlabel(\"Opioid Prescribing Rate\")\n",
    "plt.ylabel(\"Drug Deaths\")\n",
    "\n",
    "plt.show()\n"
   ]
  },
  {
   "cell_type": "code",
   "execution_count": 85,
   "metadata": {},
   "outputs": [
    {
     "data": {
      "image/png": "[encoded data removed]",
      "text/plain": [
       "<Figure size 432x288 with 1 Axes>"
      ]
     },
     "metadata": {
      "needs_background": "light"
     },
     "output_type": "display_data"
    }
   ],
   "source": [
    "#Plot our Average Prescribed Rates of Group PACs by State vs Drug Deaths for 2015\n",
    "merged_state_rate_deaths15.plot.scatter(x=\"Opioid Prescribing Rate\", y='Drug Deaths', color='Green', \n",
    "                                           grid=True, alpha=0.5, edgecolors = 'black', label='States')\n",
    "#Add title to our scatter plot along with an x-axis and y-axis title\n",
    "plt.title(\"2015 Group Opioid Prescribe Rates vs Drug Deaths by State\")\n",
    "plt.xlabel(\"Opioid Prescribing Rate\")\n",
    "plt.ylabel(\"Drug Deaths\")\n",
    "\n",
    "plt.show()"
   ]
  },
  {
   "cell_type": "code",
   "execution_count": 98,
   "metadata": {},
   "outputs": [
    {
     "data": {
      "image/png": "[encoded data removed]",
      "text/plain": [
       "<Figure size 432x288 with 1 Axes>"
      ]
     },
     "metadata": {
      "needs_background": "light"
     },
     "output_type": "display_data"
    }
   ],
   "source": [
    "#combined plot comparing Average Opioid Prescibed Rates of Group PACs by State vs Drug Deaths for 2015-2016\n",
    "#Plot our Average Prescribed Rates of Group PACs by State vs Drug Deaths for 2016\n",
    "ax = merged_state_rate_deaths16.plot.scatter(x=\"Opioid Prescribing Rate\", y='Drug Deaths', color='Blue', \n",
    "                                           grid=True, alpha=0.5, edgecolors = 'black', label='2016')\n",
    "#Plot our Average Prescribed Rates of Group PACs by State vs Drug Deaths for 2015\n",
    "merged_state_rate_deaths15.plot.scatter(x=\"Opioid Prescribing Rate\", y='Drug Deaths', color='Green', \n",
    "                                           grid=True, alpha=0.5, edgecolors = 'black', label='2015', ax=ax)\n",
    "#Add title to our scatter plot along with an x-axis and y-axis title\n",
    "plt.title(\"Avg Group Opioid Prescribe Rates by State vs Drug Deaths(2015-2016)\")\n",
    "plt.xlabel(\"Opioid Prescribe Rates\")\n",
    "plt.ylabel(\"Drug Deaths\")\n",
    "\n",
    "plt.savefig(\"../Presentation/graphs/opioid_prescriberates_vs_drugdeaths\")\n",
    "\n",
    "plt.show()\n"
   ]
  },
  {
   "cell_type": "code",
   "execution_count": 86,
   "metadata": {},
   "outputs": [
    {
     "data": {
      "text/html": [
       "<div>\n",
       "<style scoped>\n",
       "    .dataframe tbody tr th:only-of-type {\n",
       "        vertical-align: middle;\n",
       "    }\n",
       "\n",
       "    .dataframe tbody tr th {\n",
       "        vertical-align: top;\n",
       "    }\n",
       "\n",
       "    .dataframe thead th {\n",
       "        text-align: right;\n",
       "    }\n",
       "</style>\n",
       "<table border=\"1\" class=\"dataframe\">\n",
       "  <thead>\n",
       "    <tr style=\"text-align: right;\">\n",
       "      <th></th>\n",
       "      <th>Group PAC ID</th>\n",
       "      <th>Measure Performance Rate</th>\n",
       "      <th>Year</th>\n",
       "      <th>State</th>\n",
       "      <th>Total Claim Count</th>\n",
       "      <th>Opioid Claim Count</th>\n",
       "      <th>Opioid Prescribing Rate</th>\n",
       "    </tr>\n",
       "  </thead>\n",
       "  <tbody>\n",
       "    <tr>\n",
       "      <th>0</th>\n",
       "      <td>42105678</td>\n",
       "      <td>65.875</td>\n",
       "      <td>2015</td>\n",
       "      <td>PA</td>\n",
       "      <td>29587.0</td>\n",
       "      <td>782.0</td>\n",
       "      <td>2.643053</td>\n",
       "    </tr>\n",
       "    <tr>\n",
       "      <th>1</th>\n",
       "      <td>42128548</td>\n",
       "      <td>65.125</td>\n",
       "      <td>2015</td>\n",
       "      <td>TX</td>\n",
       "      <td>3331.0</td>\n",
       "      <td>114.0</td>\n",
       "      <td>3.422396</td>\n",
       "    </tr>\n",
       "    <tr>\n",
       "      <th>2</th>\n",
       "      <td>244136067</td>\n",
       "      <td>53.800</td>\n",
       "      <td>2015</td>\n",
       "      <td>MI</td>\n",
       "      <td>433.0</td>\n",
       "      <td>41.0</td>\n",
       "      <td>9.468822</td>\n",
       "    </tr>\n",
       "    <tr>\n",
       "      <th>3</th>\n",
       "      <td>244136448</td>\n",
       "      <td>55.600</td>\n",
       "      <td>2015</td>\n",
       "      <td>LA</td>\n",
       "      <td>3295.0</td>\n",
       "      <td>203.0</td>\n",
       "      <td>6.160850</td>\n",
       "    </tr>\n",
       "    <tr>\n",
       "      <th>4</th>\n",
       "      <td>244143246</td>\n",
       "      <td>66.500</td>\n",
       "      <td>2015</td>\n",
       "      <td>NC</td>\n",
       "      <td>1427.0</td>\n",
       "      <td>470.0</td>\n",
       "      <td>32.936230</td>\n",
       "    </tr>\n",
       "  </tbody>\n",
       "</table>\n",
       "</div>"
      ],
      "text/plain": [
       "   Group PAC ID  Measure Performance Rate  Year State  Total Claim Count  \\\n",
       "0      42105678                    65.875  2015    PA            29587.0   \n",
       "1      42128548                    65.125  2015    TX             3331.0   \n",
       "2     244136067                    53.800  2015    MI              433.0   \n",
       "3     244136448                    55.600  2015    LA             3295.0   \n",
       "4     244143246                    66.500  2015    NC             1427.0   \n",
       "\n",
       "   Opioid Claim Count  Opioid Prescribing Rate  \n",
       "0               782.0                 2.643053  \n",
       "1               114.0                 3.422396  \n",
       "2                41.0                 9.468822  \n",
       "3               203.0                 6.160850  \n",
       "4               470.0                32.936230  "
      ]
     },
     "execution_count": 86,
     "metadata": {},
     "output_type": "execute_result"
    }
   ],
   "source": [
    "#Begin to analyse performance data of group PACs and their Opioid Prescribed Rates\n",
    "PAC_group_2015.head()"
   ]
  },
  {
   "cell_type": "code",
   "execution_count": 87,
   "metadata": {},
   "outputs": [
    {
     "data": {
      "image/png": "[encoded data removed]",
      "text/plain": [
       "<Figure size 432x288 with 1 Axes>"
      ]
     },
     "metadata": {
      "needs_background": "light"
     },
     "output_type": "display_data"
    }
   ],
   "source": [
    "#Plot our  Prescribed Rates of Group PACs  vs Performance Rates for 2015\n",
    "PAC_group_2015.plot.scatter(x=\"Opioid Prescribing Rate\", y='Measure Performance Rate', color='Green', \n",
    "                                           grid=True, alpha=0.5, edgecolors = 'black', label='Group PAC')\n",
    "#Add title to our scatter plot along with an x-axis and y-axis title\n",
    "plt.title(\"2015 Group PAC Prescribe Rates vs. Performance Rates\")\n",
    "plt.xlabel(\"Opioid Prescribe Rate\")\n",
    "plt.ylabel(\"Performance Rate\")\n",
    "\n",
    "plt.show()"
   ]
  },
  {
   "cell_type": "code",
   "execution_count": 88,
   "metadata": {},
   "outputs": [
    {
     "data": {
      "image/png": "[encoded data removed]",
      "text/plain": [
       "<Figure size 432x288 with 1 Axes>"
      ]
     },
     "metadata": {
      "needs_background": "light"
     },
     "output_type": "display_data"
    }
   ],
   "source": [
    "#Plot our  Prescribed Rates of Group PACs  vs Performance Rates for 2016\n",
    "PAC_group_2016.plot.scatter(x=\"Opioid Prescribing Rate\", y='Measure Performance Rate', color='Blue', \n",
    "                                           grid=True, alpha=0.5, edgecolors = 'black', label='Group PAC')\n",
    "#Add title to our scatter plot along with an x-axis and y-axis title\n",
    "plt.title(\"2016 Group PAC Prescribe Rates vs. Performance Rates\")\n",
    "plt.xlabel(\"Opioid Prescribe Rate\")\n",
    "plt.ylabel(\"Performance Rate\")\n",
    "\n",
    "plt.show()"
   ]
  },
  {
   "cell_type": "code",
   "execution_count": 100,
   "metadata": {},
   "outputs": [
    {
     "data": {
      "image/png": "[encoded data removed]",
      "text/plain": [
       "<Figure size 432x288 with 1 Axes>"
      ]
     },
     "metadata": {
      "needs_background": "light"
     },
     "output_type": "display_data"
    }
   ],
   "source": [
    "#combined plot comparing Average Opioid Prescibed Rates of Group PACs by State vs Performance for 2015-2016\n",
    "#Plot our Average Prescribed Rates of Group PACs by State vs Performance for 2016\n",
    "ax = merged_state_rate_deaths16.plot.scatter(x=\"Opioid Prescribing Rate\", y='Measure Performance Rate', color='Blue', \n",
    "                                           grid=True, alpha=0.5, edgecolors = 'black', label='2016')\n",
    "#Plot our Average Prescribed Rates of Group PACs by State vs Performance for 2015\n",
    "merged_state_rate_deaths15.plot.scatter(x=\"Opioid Prescribing Rate\", y='Measure Performance Rate', color='Green', \n",
    "                                           grid=True, alpha=0.5, edgecolors = 'black', label='2015', ax=ax)\n",
    "#Add title to our scatter plot along with an x-axis and y-axis title\n",
    "plt.title(\"Avg Group Opioid Prescribe Rates by State vs Performance Rate(2015-2016)\")\n",
    "plt.xlabel(\"Opioid Prescribe Rates\")\n",
    "plt.ylabel(\"Performance Rate\")\n",
    "\n",
    "plt.savefig(\"../Presentation/graphs/state_opioid_prescriberates_vs_performance\")\n",
    "\n",
    "plt.show()\n"
   ]
  },
  {
   "cell_type": "code",
   "execution_count": null,
   "metadata": {},
   "outputs": [],
   "source": []
  }
 ],
 "metadata": {
  "kernelspec": {
   "display_name": "Python 3",
   "language": "python",
   "name": "python3"
  },
  "language_info": {
   "codemirror_mode": {
    "name": "ipython",
    "version": 3
   },
   "file_extension": ".py",
   "mimetype": "text/x-python",
   "name": "python",
   "nbconvert_exporter": "python",
   "pygments_lexer": "ipython3",
   "version": "3.7.1"
  }
 },
 "nbformat": 4,
 "nbformat_minor": 2
}

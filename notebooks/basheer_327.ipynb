{
 "cells": [
  {
   "cell_type": "code",
   "execution_count": 12,
   "metadata": {},
   "outputs": [],
   "source": [
    "import pandas as pd\n",
    "import csv\n",
    "import matplotlib.pyplot as plt\n",
    "import os\n",
    "import sys\n",
    "import numpy as np\n",
    "\n",
    "csv0 = '../Presentation/clean/clean_od15.csv'\n",
    "clean_od_2015 = pd.read_csv(csv0)\n",
    "\n",
    "csv1 = '../Presentation/clean/clean_od16.csv'\n",
    "clean_od_2016 = pd.read_csv(csv1)\n",
    "\n",
    "csv2 = '../Presentation/clean/op_final_15.csv'\n",
    "op_final_15 = pd.read_csv(csv2)\n",
    "\n",
    "csv3 = '../Presentation/clean/op_final_16.csv'\n",
    "op_final_16 = pd.read_csv(csv3)\n",
    "\n",
    "csv4 = '../Presentation/clean/PAC_Scores_2015.csv'\n",
    "PAC_Scores_2015 = pd.read_csv(csv4)\n",
    "\n",
    "csv5 = '../Presentation/clean/PAC_Scores_2016_f.csv'\n",
    "PAC_Scores_2016 = pd.read_csv(csv5)\n",
    "\n",
    "csv6 = '../Presentation/clean/PAC_Scores_2016_f.csv'\n",
    "PAC_Scores_2016 = pd.read_csv(csv6)\n",
    "\n",
    "csv7 = '../Presentation/clean/op_pac_final_15.csv'\n",
    "op_pac_final_15 = pd.read_csv(csv7)\n",
    "\n",
    "csv8 = '../Presentation/clean/op_pac_final_16.csv'\n",
    "op_pac_final_16 = pd.read_csv(csv8)\n",
    "\n",
    "csv9 = '../Presentation/clean/state_op_final_15.csv'\n",
    "state_op_final_15 = pd.read_csv(csv9)\n",
    "\n",
    "csv10 = '../Presentation/clean/state_op_final_16.csv'\n",
    "state_op_final_16 = pd.read_csv(csv10)"
   ]
  },
  {
   "cell_type": "code",
   "execution_count": 17,
   "metadata": {},
   "outputs": [
    {
     "data": {
      "text/html": [
       "<div>\n",
       "<style scoped>\n",
       "    .dataframe tbody tr th:only-of-type {\n",
       "        vertical-align: middle;\n",
       "    }\n",
       "\n",
       "    .dataframe tbody tr th {\n",
       "        vertical-align: top;\n",
       "    }\n",
       "\n",
       "    .dataframe thead th {\n",
       "        text-align: right;\n",
       "    }\n",
       "</style>\n",
       "<table border=\"1\" class=\"dataframe\">\n",
       "  <thead>\n",
       "    <tr style=\"text-align: right;\">\n",
       "      <th></th>\n",
       "      <th>PAC ID</th>\n",
       "      <th>Total Claim Count</th>\n",
       "      <th>Opioid Claim Count</th>\n",
       "      <th>Opioid Prescribing Rate</th>\n",
       "      <th>State</th>\n",
       "    </tr>\n",
       "  </thead>\n",
       "  <tbody>\n",
       "    <tr>\n",
       "      <th>0</th>\n",
       "      <td>42100190.0</td>\n",
       "      <td>241.0</td>\n",
       "      <td>68.0</td>\n",
       "      <td>28.22</td>\n",
       "      <td>MI</td>\n",
       "    </tr>\n",
       "    <tr>\n",
       "      <th>1</th>\n",
       "      <td>42100273.0</td>\n",
       "      <td>232.0</td>\n",
       "      <td>22.0</td>\n",
       "      <td>9.48</td>\n",
       "      <td>TX</td>\n",
       "    </tr>\n",
       "    <tr>\n",
       "      <th>2</th>\n",
       "      <td>42101156.0</td>\n",
       "      <td>620.0</td>\n",
       "      <td>38.0</td>\n",
       "      <td>6.13</td>\n",
       "      <td>NV</td>\n",
       "    </tr>\n",
       "  </tbody>\n",
       "</table>\n",
       "</div>"
      ],
      "text/plain": [
       "       PAC ID  Total Claim Count  Opioid Claim Count  Opioid Prescribing Rate  \\\n",
       "0  42100190.0              241.0                68.0                    28.22   \n",
       "1  42100273.0              232.0                22.0                     9.48   \n",
       "2  42101156.0              620.0                38.0                     6.13   \n",
       "\n",
       "  State  \n",
       "0    MI  \n",
       "1    TX  \n",
       "2    NV  "
      ]
     },
     "execution_count": 17,
     "metadata": {},
     "output_type": "execute_result"
    }
   ],
   "source": [
    "op_pac_final_15.head(3)"
   ]
  },
  {
   "cell_type": "code",
   "execution_count": 18,
   "metadata": {},
   "outputs": [
    {
     "name": "stdout",
     "output_type": "stream",
     "text": [
      "<class 'pandas.core.frame.DataFrame'>\n",
      "RangeIndex: 14853 entries, 0 to 14852\n",
      "Data columns (total 5 columns):\n",
      "PAC ID                     14853 non-null float64\n",
      "Total Claim Count          14853 non-null float64\n",
      "Opioid Claim Count         14853 non-null float64\n",
      "Opioid Prescribing Rate    14853 non-null float64\n",
      "State                      14853 non-null object\n",
      "dtypes: float64(4), object(1)\n",
      "memory usage: 580.3+ KB\n"
     ]
    }
   ],
   "source": [
    "op_pac_final_15.info()"
   ]
  },
  {
   "cell_type": "code",
   "execution_count": 15,
   "metadata": {},
   "outputs": [
    {
     "data": {
      "text/html": [
       "<div>\n",
       "<style scoped>\n",
       "    .dataframe tbody tr th:only-of-type {\n",
       "        vertical-align: middle;\n",
       "    }\n",
       "\n",
       "    .dataframe tbody tr th {\n",
       "        vertical-align: top;\n",
       "    }\n",
       "\n",
       "    .dataframe thead th {\n",
       "        text-align: right;\n",
       "    }\n",
       "</style>\n",
       "<table border=\"1\" class=\"dataframe\">\n",
       "  <thead>\n",
       "    <tr style=\"text-align: right;\">\n",
       "      <th></th>\n",
       "      <th>Group PAC ID</th>\n",
       "      <th>Measure Performance Rate</th>\n",
       "      <th>Year</th>\n",
       "      <th>State</th>\n",
       "    </tr>\n",
       "  </thead>\n",
       "  <tbody>\n",
       "    <tr>\n",
       "      <th>0</th>\n",
       "      <td>42105678</td>\n",
       "      <td>65.875</td>\n",
       "      <td>2015</td>\n",
       "      <td>PA</td>\n",
       "    </tr>\n",
       "    <tr>\n",
       "      <th>1</th>\n",
       "      <td>42111981</td>\n",
       "      <td>60.750</td>\n",
       "      <td>2015</td>\n",
       "      <td>MN</td>\n",
       "    </tr>\n",
       "    <tr>\n",
       "      <th>2</th>\n",
       "      <td>42128548</td>\n",
       "      <td>65.125</td>\n",
       "      <td>2015</td>\n",
       "      <td>TX</td>\n",
       "    </tr>\n",
       "  </tbody>\n",
       "</table>\n",
       "</div>"
      ],
      "text/plain": [
       "   Group PAC ID  Measure Performance Rate  Year State\n",
       "0      42105678                    65.875  2015    PA\n",
       "1      42111981                    60.750  2015    MN\n",
       "2      42128548                    65.125  2015    TX"
      ]
     },
     "execution_count": 15,
     "metadata": {},
     "output_type": "execute_result"
    }
   ],
   "source": [
    "PAC_Scores_2015.head(3)"
   ]
  },
  {
   "cell_type": "code",
   "execution_count": 19,
   "metadata": {},
   "outputs": [
    {
     "name": "stdout",
     "output_type": "stream",
     "text": [
      "<class 'pandas.core.frame.DataFrame'>\n",
      "RangeIndex: 429 entries, 0 to 428\n",
      "Data columns (total 4 columns):\n",
      "Group PAC ID                429 non-null int64\n",
      "Measure Performance Rate    429 non-null float64\n",
      "Year                        429 non-null int64\n",
      "State                       429 non-null object\n",
      "dtypes: float64(1), int64(2), object(1)\n",
      "memory usage: 13.5+ KB\n"
     ]
    }
   ],
   "source": [
    "PAC_Scores_2015.info()"
   ]
  }
 ],
 "metadata": {
  "kernelspec": {
   "display_name": "Python 3",
   "language": "python",
   "name": "python3"
  },
  "language_info": {
   "codemirror_mode": {
    "name": "ipython",
    "version": 3
   },
   "file_extension": ".py",
   "mimetype": "text/x-python",
   "name": "python",
   "nbconvert_exporter": "python",
   "pygments_lexer": "ipython3",
   "version": "3.7.1"
  }
 },
 "nbformat": 4,
 "nbformat_minor": 2
}

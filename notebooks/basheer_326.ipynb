{
 "cells": [
  {
   "cell_type": "code",
   "execution_count": 30,
   "metadata": {},
   "outputs": [],
   "source": [
    "import pandas as pd\n",
    "import csv\n",
    "import matplotlib.pyplot as plt\n",
    "import os\n",
    "import sys\n",
    "import numpy as np\n",
    "\n",
    "csv1 = '../Presentation/clean/cleaned_overdose.csv'\n",
    "csv2 = '../Presentation/clean/op_final_15.csv'\n",
    "csv3 = '../Presentation/clean/op_final_16.csv'\n",
    "csv4 = '../Presentation/clean/pcgroup_15.csv'\n",
    "csv5 = '../Presentation/clean/pcgroup_16.csv'\n",
    "\n",
    "clean_od = pd.read_csv(csv1)\n",
    "op_final_15 = pd.read_csv(csv2)\n",
    "op_final_16 = pd.read_csv(csv3)\n",
    "pcgroup_15 = pd.read_csv(csv4)\n",
    "pcgroup_16 = pd.read_csv(csv5)"
   ]
  },
  {
   "cell_type": "code",
   "execution_count": 95,
   "metadata": {},
   "outputs": [
    {
     "data": {
      "text/html": [
       "<div>\n",
       "<style scoped>\n",
       "    .dataframe tbody tr th:only-of-type {\n",
       "        vertical-align: middle;\n",
       "    }\n",
       "\n",
       "    .dataframe tbody tr th {\n",
       "        vertical-align: top;\n",
       "    }\n",
       "\n",
       "    .dataframe thead th {\n",
       "        text-align: right;\n",
       "    }\n",
       "</style>\n",
       "<table border=\"1\" class=\"dataframe\">\n",
       "  <thead>\n",
       "    <tr style=\"text-align: right;\">\n",
       "      <th></th>\n",
       "      <th>Group Name</th>\n",
       "      <th>Group PAC ID</th>\n",
       "      <th>State</th>\n",
       "      <th>Measure Title</th>\n",
       "      <th>Measure Performance Rate</th>\n",
       "      <th>Year</th>\n",
       "    </tr>\n",
       "  </thead>\n",
       "  <tbody>\n",
       "    <tr>\n",
       "      <th>0</th>\n",
       "      <td>HERITAGE VALLEY MEDICAL GROUP INC</td>\n",
       "      <td>42105678</td>\n",
       "      <td>PA</td>\n",
       "      <td>Getting timely care, appointments, and informa...</td>\n",
       "      <td>63.0</td>\n",
       "      <td>2015</td>\n",
       "    </tr>\n",
       "    <tr>\n",
       "      <th>1</th>\n",
       "      <td>HERITAGE VALLEY MEDICAL GROUP INC</td>\n",
       "      <td>42105678</td>\n",
       "      <td>PA</td>\n",
       "      <td>Between visit communication.</td>\n",
       "      <td>49.0</td>\n",
       "      <td>2015</td>\n",
       "    </tr>\n",
       "    <tr>\n",
       "      <th>2</th>\n",
       "      <td>HERITAGE VALLEY MEDICAL GROUP INC</td>\n",
       "      <td>42105678</td>\n",
       "      <td>PA</td>\n",
       "      <td>Attention to patient medication cost.</td>\n",
       "      <td>27.0</td>\n",
       "      <td>2015</td>\n",
       "    </tr>\n",
       "    <tr>\n",
       "      <th>3</th>\n",
       "      <td>HERITAGE VALLEY MEDICAL GROUP INC</td>\n",
       "      <td>42105678</td>\n",
       "      <td>PA</td>\n",
       "      <td>How well clinicians communicate.</td>\n",
       "      <td>86.0</td>\n",
       "      <td>2015</td>\n",
       "    </tr>\n",
       "    <tr>\n",
       "      <th>4</th>\n",
       "      <td>HERITAGE VALLEY MEDICAL GROUP INC</td>\n",
       "      <td>42105678</td>\n",
       "      <td>PA</td>\n",
       "      <td>Patients' rating of clinicians.</td>\n",
       "      <td>83.0</td>\n",
       "      <td>2015</td>\n",
       "    </tr>\n",
       "  </tbody>\n",
       "</table>\n",
       "</div>"
      ],
      "text/plain": [
       "                          Group Name  Group PAC ID State  \\\n",
       "0  HERITAGE VALLEY MEDICAL GROUP INC      42105678    PA   \n",
       "1  HERITAGE VALLEY MEDICAL GROUP INC      42105678    PA   \n",
       "2  HERITAGE VALLEY MEDICAL GROUP INC      42105678    PA   \n",
       "3  HERITAGE VALLEY MEDICAL GROUP INC      42105678    PA   \n",
       "4  HERITAGE VALLEY MEDICAL GROUP INC      42105678    PA   \n",
       "\n",
       "                                       Measure Title  \\\n",
       "0  Getting timely care, appointments, and informa...   \n",
       "1                       Between visit communication.   \n",
       "2              Attention to patient medication cost.   \n",
       "3                   How well clinicians communicate.   \n",
       "4                    Patients' rating of clinicians.   \n",
       "\n",
       "   Measure Performance Rate  Year  \n",
       "0                      63.0  2015  \n",
       "1                      49.0  2015  \n",
       "2                      27.0  2015  \n",
       "3                      86.0  2015  \n",
       "4                      83.0  2015  "
      ]
     },
     "execution_count": 95,
     "metadata": {},
     "output_type": "execute_result"
    }
   ],
   "source": [
    "pcgroup_15.head()"
   ]
  },
  {
   "cell_type": "code",
   "execution_count": 97,
   "metadata": {},
   "outputs": [
    {
     "data": {
      "text/plain": [
       "429"
      ]
     },
     "execution_count": 97,
     "metadata": {},
     "output_type": "execute_result"
    }
   ],
   "source": [
    "uniq = pcgroup_15['Group PAC ID'].nunique()\n",
    "uniq"
   ]
  },
  {
   "cell_type": "code",
   "execution_count": 35,
   "metadata": {},
   "outputs": [
    {
     "data": {
      "text/html": [
       "<div>\n",
       "<style scoped>\n",
       "    .dataframe tbody tr th:only-of-type {\n",
       "        vertical-align: middle;\n",
       "    }\n",
       "\n",
       "    .dataframe tbody tr th {\n",
       "        vertical-align: top;\n",
       "    }\n",
       "\n",
       "    .dataframe thead th {\n",
       "        text-align: right;\n",
       "    }\n",
       "</style>\n",
       "<table border=\"1\" class=\"dataframe\">\n",
       "  <thead>\n",
       "    <tr style=\"text-align: right;\">\n",
       "      <th></th>\n",
       "      <th>Group PAC ID</th>\n",
       "      <th>State</th>\n",
       "    </tr>\n",
       "  </thead>\n",
       "  <tbody>\n",
       "    <tr>\n",
       "      <th>0</th>\n",
       "      <td>42105678</td>\n",
       "      <td>PA</td>\n",
       "    </tr>\n",
       "    <tr>\n",
       "      <th>8</th>\n",
       "      <td>42111981</td>\n",
       "      <td>MN</td>\n",
       "    </tr>\n",
       "    <tr>\n",
       "      <th>16</th>\n",
       "      <td>42128548</td>\n",
       "      <td>TX</td>\n",
       "    </tr>\n",
       "    <tr>\n",
       "      <th>24</th>\n",
       "      <td>143378117</td>\n",
       "      <td>NC</td>\n",
       "    </tr>\n",
       "    <tr>\n",
       "      <th>32</th>\n",
       "      <td>244133494</td>\n",
       "      <td>MA</td>\n",
       "    </tr>\n",
       "  </tbody>\n",
       "</table>\n",
       "</div>"
      ],
      "text/plain": [
       "    Group PAC ID State\n",
       "0       42105678    PA\n",
       "8       42111981    MN\n",
       "16      42128548    TX\n",
       "24     143378117    NC\n",
       "32     244133494    MA"
      ]
     },
     "execution_count": 35,
     "metadata": {},
     "output_type": "execute_result"
    }
   ],
   "source": [
    "#get states of PAC IDs\n",
    "PAC_state = pcgroup_15[['Group PAC ID', 'State']].copy()\n",
    "PAC_state = PAC_state.drop_duplicates()\n",
    "PAC_state.head(5)\n"
   ]
  },
  {
   "cell_type": "code",
   "execution_count": 10,
   "metadata": {},
   "outputs": [
    {
     "data": {
      "text/html": [
       "<div>\n",
       "<style scoped>\n",
       "    .dataframe tbody tr th:only-of-type {\n",
       "        vertical-align: middle;\n",
       "    }\n",
       "\n",
       "    .dataframe tbody tr th {\n",
       "        vertical-align: top;\n",
       "    }\n",
       "\n",
       "    .dataframe thead th {\n",
       "        text-align: right;\n",
       "    }\n",
       "</style>\n",
       "<table border=\"1\" class=\"dataframe\">\n",
       "  <thead>\n",
       "    <tr style=\"text-align: right;\">\n",
       "      <th></th>\n",
       "      <th>Measure Performance Rate</th>\n",
       "      <th>Year</th>\n",
       "    </tr>\n",
       "    <tr>\n",
       "      <th>Group PAC ID</th>\n",
       "      <th></th>\n",
       "      <th></th>\n",
       "    </tr>\n",
       "  </thead>\n",
       "  <tbody>\n",
       "    <tr>\n",
       "      <th>42105678</th>\n",
       "      <td>65.875</td>\n",
       "      <td>2015</td>\n",
       "    </tr>\n",
       "    <tr>\n",
       "      <th>42111981</th>\n",
       "      <td>60.750</td>\n",
       "      <td>2015</td>\n",
       "    </tr>\n",
       "    <tr>\n",
       "      <th>42128548</th>\n",
       "      <td>65.125</td>\n",
       "      <td>2015</td>\n",
       "    </tr>\n",
       "  </tbody>\n",
       "</table>\n",
       "</div>"
      ],
      "text/plain": [
       "              Measure Performance Rate  Year\n",
       "Group PAC ID                                \n",
       "42105678                        65.875  2015\n",
       "42111981                        60.750  2015\n",
       "42128548                        65.125  2015"
      ]
     },
     "execution_count": 10,
     "metadata": {},
     "output_type": "execute_result"
    }
   ],
   "source": [
    "#mean scores for PAC_ID \n",
    "PAC_Scores = pd.DataFrame(pcgroup_15.groupby(['Group PAC ID']).mean())\n",
    "PAC_Scores.head(3)\n",
    "#429 rows"
   ]
  },
  {
   "cell_type": "code",
   "execution_count": 74,
   "metadata": {},
   "outputs": [
    {
     "data": {
      "text/html": [
       "<div>\n",
       "<style scoped>\n",
       "    .dataframe tbody tr th:only-of-type {\n",
       "        vertical-align: middle;\n",
       "    }\n",
       "\n",
       "    .dataframe tbody tr th {\n",
       "        vertical-align: top;\n",
       "    }\n",
       "\n",
       "    .dataframe thead th {\n",
       "        text-align: right;\n",
       "    }\n",
       "</style>\n",
       "<table border=\"1\" class=\"dataframe\">\n",
       "  <thead>\n",
       "    <tr style=\"text-align: right;\">\n",
       "      <th></th>\n",
       "      <th>Group PAC ID</th>\n",
       "      <th>Measure Performance Rate</th>\n",
       "      <th>Year</th>\n",
       "      <th>State</th>\n",
       "    </tr>\n",
       "  </thead>\n",
       "  <tbody>\n",
       "    <tr>\n",
       "      <th>0</th>\n",
       "      <td>42105678</td>\n",
       "      <td>65.875</td>\n",
       "      <td>2015</td>\n",
       "      <td>PA</td>\n",
       "    </tr>\n",
       "    <tr>\n",
       "      <th>1</th>\n",
       "      <td>42111981</td>\n",
       "      <td>60.750</td>\n",
       "      <td>2015</td>\n",
       "      <td>MN</td>\n",
       "    </tr>\n",
       "    <tr>\n",
       "      <th>2</th>\n",
       "      <td>42128548</td>\n",
       "      <td>65.125</td>\n",
       "      <td>2015</td>\n",
       "      <td>TX</td>\n",
       "    </tr>\n",
       "    <tr>\n",
       "      <th>3</th>\n",
       "      <td>143378117</td>\n",
       "      <td>67.375</td>\n",
       "      <td>2015</td>\n",
       "      <td>NC</td>\n",
       "    </tr>\n",
       "    <tr>\n",
       "      <th>4</th>\n",
       "      <td>244133494</td>\n",
       "      <td>65.625</td>\n",
       "      <td>2015</td>\n",
       "      <td>MA</td>\n",
       "    </tr>\n",
       "  </tbody>\n",
       "</table>\n",
       "</div>"
      ],
      "text/plain": [
       "   Group PAC ID  Measure Performance Rate  Year State\n",
       "0      42105678                    65.875  2015    PA\n",
       "1      42111981                    60.750  2015    MN\n",
       "2      42128548                    65.125  2015    TX\n",
       "3     143378117                    67.375  2015    NC\n",
       "4     244133494                    65.625  2015    MA"
      ]
     },
     "execution_count": 74,
     "metadata": {},
     "output_type": "execute_result"
    }
   ],
   "source": [
    "PAC_Scores_2015 = pd.merge(PAC_Scores, PAC_state, on=\"Group PAC ID\",how='outer')\n",
    "PAC_Scores_2015.head()\n"
   ]
  },
  {
   "cell_type": "code",
   "execution_count": 75,
   "metadata": {},
   "outputs": [],
   "source": [
    "# Export PAC_Scores_2015 as a CSV, without the Pandas index, but with the header\n",
    "PAC_Scores_2015.to_csv(\"../Presentation/clean/PAC_Scores_2015.csv\", index=False, header=True)"
   ]
  },
  {
   "cell_type": "code",
   "execution_count": 79,
   "metadata": {},
   "outputs": [
    {
     "name": "stdout",
     "output_type": "stream",
     "text": [
      "<class 'pandas.core.frame.DataFrame'>\n",
      "Int64Index: 429 entries, 0 to 428\n",
      "Data columns (total 4 columns):\n",
      "Group PAC ID                429 non-null int64\n",
      "Measure Performance Rate    429 non-null float64\n",
      "Year                        429 non-null int64\n",
      "State                       429 non-null object\n",
      "dtypes: float64(1), int64(2), object(1)\n",
      "memory usage: 16.8+ KB\n"
     ]
    }
   ],
   "source": [
    "PAC_Scores_2015.info()"
   ]
  },
  {
   "cell_type": "code",
   "execution_count": 76,
   "metadata": {},
   "outputs": [
    {
     "data": {
      "text/html": [
       "<div>\n",
       "<style scoped>\n",
       "    .dataframe tbody tr th:only-of-type {\n",
       "        vertical-align: middle;\n",
       "    }\n",
       "\n",
       "    .dataframe tbody tr th {\n",
       "        vertical-align: top;\n",
       "    }\n",
       "\n",
       "    .dataframe thead th {\n",
       "        text-align: right;\n",
       "    }\n",
       "</style>\n",
       "<table border=\"1\" class=\"dataframe\">\n",
       "  <thead>\n",
       "    <tr style=\"text-align: right;\">\n",
       "      <th></th>\n",
       "      <th>Group Name</th>\n",
       "      <th>Group PAC ID</th>\n",
       "      <th>State</th>\n",
       "      <th>Measure Title</th>\n",
       "      <th>Measure Performance Rate</th>\n",
       "      <th>Year</th>\n",
       "    </tr>\n",
       "  </thead>\n",
       "  <tbody>\n",
       "    <tr>\n",
       "      <th>0</th>\n",
       "      <td>HERITAGE VALLEY MEDICAL GROUP INC</td>\n",
       "      <td>42105678</td>\n",
       "      <td>PA</td>\n",
       "      <td>Getting timely care, appointments, and informa...</td>\n",
       "      <td>64.0</td>\n",
       "      <td>2016</td>\n",
       "    </tr>\n",
       "    <tr>\n",
       "      <th>1</th>\n",
       "      <td>HERITAGE VALLEY MEDICAL GROUP INC</td>\n",
       "      <td>42105678</td>\n",
       "      <td>PA</td>\n",
       "      <td>Between visit communication.</td>\n",
       "      <td>53.0</td>\n",
       "      <td>2016</td>\n",
       "    </tr>\n",
       "  </tbody>\n",
       "</table>\n",
       "</div>"
      ],
      "text/plain": [
       "                          Group Name  Group PAC ID State  \\\n",
       "0  HERITAGE VALLEY MEDICAL GROUP INC      42105678    PA   \n",
       "1  HERITAGE VALLEY MEDICAL GROUP INC      42105678    PA   \n",
       "\n",
       "                                       Measure Title  \\\n",
       "0  Getting timely care, appointments, and informa...   \n",
       "1                       Between visit communication.   \n",
       "\n",
       "   Measure Performance Rate  Year  \n",
       "0                      64.0  2016  \n",
       "1                      53.0  2016  "
      ]
     },
     "execution_count": 76,
     "metadata": {},
     "output_type": "execute_result"
    }
   ],
   "source": [
    "pcgroup_16.head(2)"
   ]
  },
  {
   "cell_type": "code",
   "execution_count": 78,
   "metadata": {},
   "outputs": [
    {
     "name": "stdout",
     "output_type": "stream",
     "text": [
      "<class 'pandas.core.frame.DataFrame'>\n",
      "RangeIndex: 3808 entries, 0 to 3807\n",
      "Data columns (total 6 columns):\n",
      "Group Name                  3808 non-null object\n",
      "Group PAC ID                3808 non-null int64\n",
      "State                       3808 non-null object\n",
      "Measure Title               3808 non-null object\n",
      "Measure Performance Rate    3518 non-null float64\n",
      "Year                        3808 non-null int64\n",
      "dtypes: float64(1), int64(2), object(3)\n",
      "memory usage: 178.6+ KB\n"
     ]
    }
   ],
   "source": [
    "pcgroup_16.info()"
   ]
  },
  {
   "cell_type": "code",
   "execution_count": 101,
   "metadata": {},
   "outputs": [
    {
     "data": {
      "text/plain": [
       "476"
      ]
     },
     "execution_count": 101,
     "metadata": {},
     "output_type": "execute_result"
    }
   ],
   "source": [
    "pcgroup_16['Group PAC ID'].nunique()"
   ]
  },
  {
   "cell_type": "code",
   "execution_count": 107,
   "metadata": {},
   "outputs": [
    {
     "data": {
      "text/html": [
       "<div>\n",
       "<style scoped>\n",
       "    .dataframe tbody tr th:only-of-type {\n",
       "        vertical-align: middle;\n",
       "    }\n",
       "\n",
       "    .dataframe tbody tr th {\n",
       "        vertical-align: top;\n",
       "    }\n",
       "\n",
       "    .dataframe thead th {\n",
       "        text-align: right;\n",
       "    }\n",
       "</style>\n",
       "<table border=\"1\" class=\"dataframe\">\n",
       "  <thead>\n",
       "    <tr style=\"text-align: right;\">\n",
       "      <th></th>\n",
       "      <th>Group PAC ID</th>\n",
       "      <th>State</th>\n",
       "    </tr>\n",
       "  </thead>\n",
       "  <tbody>\n",
       "    <tr>\n",
       "      <th>0</th>\n",
       "      <td>42105678</td>\n",
       "      <td>PA</td>\n",
       "    </tr>\n",
       "    <tr>\n",
       "      <th>8</th>\n",
       "      <td>42122244</td>\n",
       "      <td>CA</td>\n",
       "    </tr>\n",
       "    <tr>\n",
       "      <th>16</th>\n",
       "      <td>42128548</td>\n",
       "      <td>TX</td>\n",
       "    </tr>\n",
       "    <tr>\n",
       "      <th>24</th>\n",
       "      <td>143116053</td>\n",
       "      <td>MO</td>\n",
       "    </tr>\n",
       "    <tr>\n",
       "      <th>32</th>\n",
       "      <td>143134270</td>\n",
       "      <td>AR</td>\n",
       "    </tr>\n",
       "  </tbody>\n",
       "</table>\n",
       "</div>"
      ],
      "text/plain": [
       "    Group PAC ID State\n",
       "0       42105678    PA\n",
       "8       42122244    CA\n",
       "16      42128548    TX\n",
       "24     143116053    MO\n",
       "32     143134270    AR"
      ]
     },
     "execution_count": 107,
     "metadata": {},
     "output_type": "execute_result"
    }
   ],
   "source": [
    "PAC_state_16 = pcgroup_16[['Group PAC ID', 'State']].copy()\n",
    "PAC_state_16 = PAC_state_16.drop_duplicates()\n",
    "PAC_state_16.head(5)"
   ]
  },
  {
   "cell_type": "code",
   "execution_count": 108,
   "metadata": {},
   "outputs": [
    {
     "name": "stdout",
     "output_type": "stream",
     "text": [
      "<class 'pandas.core.frame.DataFrame'>\n",
      "Int64Index: 476 entries, 0 to 3800\n",
      "Data columns (total 2 columns):\n",
      "Group PAC ID    476 non-null int64\n",
      "State           476 non-null object\n",
      "dtypes: int64(1), object(1)\n",
      "memory usage: 11.2+ KB\n"
     ]
    },
    {
     "data": {
      "text/plain": [
       "476"
      ]
     },
     "execution_count": 108,
     "metadata": {},
     "output_type": "execute_result"
    }
   ],
   "source": [
    "PAC_state_16.info()\n",
    "PAC_state_16['Group PAC ID'].nunique()"
   ]
  },
  {
   "cell_type": "code",
   "execution_count": 121,
   "metadata": {},
   "outputs": [
    {
     "data": {
      "text/html": [
       "<div>\n",
       "<style scoped>\n",
       "    .dataframe tbody tr th:only-of-type {\n",
       "        vertical-align: middle;\n",
       "    }\n",
       "\n",
       "    .dataframe tbody tr th {\n",
       "        vertical-align: top;\n",
       "    }\n",
       "\n",
       "    .dataframe thead th {\n",
       "        text-align: right;\n",
       "    }\n",
       "</style>\n",
       "<table border=\"1\" class=\"dataframe\">\n",
       "  <thead>\n",
       "    <tr style=\"text-align: right;\">\n",
       "      <th></th>\n",
       "      <th>Measure Performance Rate</th>\n",
       "      <th>Year</th>\n",
       "    </tr>\n",
       "    <tr>\n",
       "      <th>Group PAC ID</th>\n",
       "      <th></th>\n",
       "      <th></th>\n",
       "    </tr>\n",
       "  </thead>\n",
       "  <tbody>\n",
       "    <tr>\n",
       "      <th>42105678</th>\n",
       "      <td>67.625</td>\n",
       "      <td>2016</td>\n",
       "    </tr>\n",
       "    <tr>\n",
       "      <th>42122244</th>\n",
       "      <td>64.250</td>\n",
       "      <td>2016</td>\n",
       "    </tr>\n",
       "    <tr>\n",
       "      <th>42128548</th>\n",
       "      <td>66.250</td>\n",
       "      <td>2016</td>\n",
       "    </tr>\n",
       "    <tr>\n",
       "      <th>143116053</th>\n",
       "      <td>65.375</td>\n",
       "      <td>2016</td>\n",
       "    </tr>\n",
       "    <tr>\n",
       "      <th>143134270</th>\n",
       "      <td>59.250</td>\n",
       "      <td>2016</td>\n",
       "    </tr>\n",
       "  </tbody>\n",
       "</table>\n",
       "</div>"
      ],
      "text/plain": [
       "              Measure Performance Rate  Year\n",
       "Group PAC ID                                \n",
       "42105678                        67.625  2016\n",
       "42122244                        64.250  2016\n",
       "42128548                        66.250  2016\n",
       "143116053                       65.375  2016\n",
       "143134270                       59.250  2016"
      ]
     },
     "execution_count": 121,
     "metadata": {},
     "output_type": "execute_result"
    }
   ],
   "source": [
    "#mean scores for PAC_ID \n",
    "PAC_Scores_16 = pd.DataFrame(pcgroup_16.groupby(['Group PAC ID']).mean())\n",
    "PAC_Scores_16.head()\n"
   ]
  },
  {
   "cell_type": "code",
   "execution_count": 122,
   "metadata": {},
   "outputs": [
    {
     "name": "stdout",
     "output_type": "stream",
     "text": [
      "<class 'pandas.core.frame.DataFrame'>\n",
      "Int64Index: 476 entries, 42105678 to 9931359601\n",
      "Data columns (total 2 columns):\n",
      "Measure Performance Rate    476 non-null float64\n",
      "Year                        476 non-null int64\n",
      "dtypes: float64(1), int64(1)\n",
      "memory usage: 11.2 KB\n"
     ]
    }
   ],
   "source": [
    "PAC_Scores_16.info()"
   ]
  },
  {
   "cell_type": "code",
   "execution_count": 123,
   "metadata": {},
   "outputs": [
    {
     "data": {
      "text/html": [
       "<div>\n",
       "<style scoped>\n",
       "    .dataframe tbody tr th:only-of-type {\n",
       "        vertical-align: middle;\n",
       "    }\n",
       "\n",
       "    .dataframe tbody tr th {\n",
       "        vertical-align: top;\n",
       "    }\n",
       "\n",
       "    .dataframe thead th {\n",
       "        text-align: right;\n",
       "    }\n",
       "</style>\n",
       "<table border=\"1\" class=\"dataframe\">\n",
       "  <thead>\n",
       "    <tr style=\"text-align: right;\">\n",
       "      <th></th>\n",
       "      <th>Group PAC ID</th>\n",
       "      <th>Measure Performance Rate</th>\n",
       "      <th>Year</th>\n",
       "      <th>State</th>\n",
       "    </tr>\n",
       "  </thead>\n",
       "  <tbody>\n",
       "    <tr>\n",
       "      <th>0</th>\n",
       "      <td>42105678</td>\n",
       "      <td>67.625</td>\n",
       "      <td>2016</td>\n",
       "      <td>PA</td>\n",
       "    </tr>\n",
       "    <tr>\n",
       "      <th>1</th>\n",
       "      <td>42122244</td>\n",
       "      <td>64.250</td>\n",
       "      <td>2016</td>\n",
       "      <td>CA</td>\n",
       "    </tr>\n",
       "    <tr>\n",
       "      <th>2</th>\n",
       "      <td>42128548</td>\n",
       "      <td>66.250</td>\n",
       "      <td>2016</td>\n",
       "      <td>TX</td>\n",
       "    </tr>\n",
       "    <tr>\n",
       "      <th>3</th>\n",
       "      <td>143116053</td>\n",
       "      <td>65.375</td>\n",
       "      <td>2016</td>\n",
       "      <td>MO</td>\n",
       "    </tr>\n",
       "    <tr>\n",
       "      <th>4</th>\n",
       "      <td>143134270</td>\n",
       "      <td>59.250</td>\n",
       "      <td>2016</td>\n",
       "      <td>AR</td>\n",
       "    </tr>\n",
       "  </tbody>\n",
       "</table>\n",
       "</div>"
      ],
      "text/plain": [
       "   Group PAC ID  Measure Performance Rate  Year State\n",
       "0      42105678                    67.625  2016    PA\n",
       "1      42122244                    64.250  2016    CA\n",
       "2      42128548                    66.250  2016    TX\n",
       "3     143116053                    65.375  2016    MO\n",
       "4     143134270                    59.250  2016    AR"
      ]
     },
     "execution_count": 123,
     "metadata": {},
     "output_type": "execute_result"
    }
   ],
   "source": [
    "PAC_Scores_2016 = pd.merge(PAC_Scores_16, PAC_state_16, on=\"Group PAC ID\",how='outer')\n",
    "PAC_Scores_2016 = PAC_Scores_2016_f.dropna(axis=0, how='any')\n",
    "PAC_Scores_2016_f.head()"
   ]
  },
  {
   "cell_type": "code",
   "execution_count": 124,
   "metadata": {},
   "outputs": [
    {
     "name": "stdout",
     "output_type": "stream",
     "text": [
      "<class 'pandas.core.frame.DataFrame'>\n",
      "Int64Index: 476 entries, 0 to 475\n",
      "Data columns (total 4 columns):\n",
      "Group PAC ID                476 non-null int64\n",
      "Measure Performance Rate    476 non-null float64\n",
      "Year                        476 non-null int64\n",
      "State                       476 non-null object\n",
      "dtypes: float64(1), int64(2), object(1)\n",
      "memory usage: 18.6+ KB\n"
     ]
    }
   ],
   "source": [
    "PAC_Scores_2016_f.info()"
   ]
  },
  {
   "cell_type": "code",
   "execution_count": null,
   "metadata": {},
   "outputs": [],
   "source": [
    "PAC_Scores_2016_f.to_csv(\"../Presentation/clean/PAC_Scores_2016.csv\", index=False, header=True)"
   ]
  }
 ],
 "metadata": {
  "kernelspec": {
   "display_name": "Python 3",
   "language": "python",
   "name": "python3"
  },
  "language_info": {
   "codemirror_mode": {
    "name": "ipython",
    "version": 3
   },
   "file_extension": ".py",
   "mimetype": "text/x-python",
   "name": "python",
   "nbconvert_exporter": "python",
   "pygments_lexer": "ipython3",
   "version": "3.7.1"
  }
 },
 "nbformat": 4,
 "nbformat_minor": 2
}

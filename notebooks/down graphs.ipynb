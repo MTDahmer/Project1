{
 "cells": [
  {
   "cell_type": "code",
   "execution_count": 49,
   "metadata": {},
   "outputs": [],
   "source": [
    "import pandas as pd\n",
    "import csv\n",
    "import matplotlib.pyplot as plt\n",
    "import os\n",
    "import sys\n",
    "import numpy as np\n",
    "\n",
    "csv1 = '../Presentation/clean/merged_ratings_prescribed_15'\n",
    "csv2 = '../Presentation/clean/merged_ratings_prescribed_16'\n",
    "csv6 = '../Presentation/clean/clean_od16.csv'\n",
    "csv7 = '../Presentation/clean/clean_od15.csv'\n",
    "\n",
    "op_final_15 = pd.read_csv(csv1)\n",
    "op_final_16 = pd.read_csv(csv2)\n",
    "clean_od15 = pd.read_csv(csv7)\n",
    "clean_od16 = pd.read_csv(csv6)"
   ]
  },
  {
   "cell_type": "code",
   "execution_count": 50,
   "metadata": {},
   "outputs": [
    {
     "name": "stdout",
     "output_type": "stream",
     "text": [
      "1191836\n"
     ]
    }
   ],
   "source": [
    "tester1 = clean_od15.groupby(clean_od15['State']).sum()\n",
    "grapher1 = pd.DataFrame(tester1)\n",
    "grapher1 = grapher1.sort_values('Drug Deaths' , ascending = False)\n",
    "grapher1\n",
    "od15_total = grapher1['Drug Deaths'].sum()\n",
    "print(od15_total)"
   ]
  },
  {
   "cell_type": "code",
   "execution_count": 51,
   "metadata": {},
   "outputs": [
    {
     "name": "stdout",
     "output_type": "stream",
     "text": [
      "1378686\n"
     ]
    }
   ],
   "source": [
    "tester2 = clean_od16.groupby(clean_od16['State']).sum()\n",
    "grapher2 = pd.DataFrame(tester2)\n",
    "grapher2 = grapher2.sort_values('Drug Deaths' , ascending = False)\n",
    "od16_total = grapher2['Drug Deaths'].sum()\n",
    "print(od16_total)"
   ]
  },
  {
   "cell_type": "code",
   "execution_count": 52,
   "metadata": {},
   "outputs": [
    {
     "data": {
      "image/png": "[encoded data removed]",
      "text/plain": [
       "<Figure size 432x288 with 1 Axes>"
      ]
     },
     "metadata": {
      "needs_background": "light"
     },
     "output_type": "display_data"
    }
   ],
   "source": [
    "fig , ax = plt.subplots()\n",
    "ind = [2015 , 2016]\n",
    "width = .5\n",
    "ax.set_xticks(ind)\n",
    "ax.set_xticklabels([2015 , 2016])\n",
    "ax.set_ylim([1000000, 1500000])\n",
    "ax.set_ylabel('Number of Drug Deaths')\n",
    "ax.set_title('Drug Deaths 2015-2016')\n",
    "colors = ['blue' , 'red']\n",
    "hieghts = [od15_total , od16_total]\n",
    "ind = [2015 , 2016]\n",
    "width = .5\n",
    "\n",
    "plt.bar(ind , hieghts, width  = width, color = colors)\n",
    "#plt.xticks([200000, 400000] , [2015,2016])\n",
    "plt.show\n",
    "plt.savefig(fname = '../Presentation/graphs/drug_deaths_national.png' )"
   ]
  },
  {
   "cell_type": "code",
   "execution_count": 53,
   "metadata": {},
   "outputs": [
    {
     "name": "stdout",
     "output_type": "stream",
     "text": [
      "844531.0\n"
     ]
    }
   ],
   "source": [
    "claimer = op_final_15.groupby(op_final_15['State']).sum()\n",
    "claimer\n",
    "claim15_total = claimer['Opioid Claim Count'].sum()\n",
    "print(claim15_total)"
   ]
  },
  {
   "cell_type": "code",
   "execution_count": 54,
   "metadata": {},
   "outputs": [
    {
     "name": "stdout",
     "output_type": "stream",
     "text": [
      "1193293.0\n"
     ]
    }
   ],
   "source": [
    "claimer2 = op_final_16.groupby(op_final_16['State']).sum()\n",
    "claimer2\n",
    "claim16_total = claimer2['Opioid Claim Count'].sum()\n",
    "print(claim16_total)"
   ]
  },
  {
   "cell_type": "code",
   "execution_count": 55,
   "metadata": {
    "scrolled": true
   },
   "outputs": [
    {
     "data": {
      "image/png": "[encoded data removed]",
      "text/plain": [
       "<Figure size 432x288 with 1 Axes>"
      ]
     },
     "metadata": {
      "needs_background": "light"
     },
     "output_type": "display_data"
    }
   ],
   "source": [
    "fig , ax = plt.subplots()\n",
    "ind = [2015 , 2016]\n",
    "width = .5\n",
    "ax.set_xticks(ind)\n",
    "ax.set_xticklabels([2015 , 2016])\n",
    "#ax.set_ylim([70000, 130000])\n",
    "ax.set_ylabel('Number of Opioid Claims')\n",
    "ax.set_title('Opioid Claims 2015-2016')\n",
    "colors = ['blue' , 'red']\n",
    "hieghts = [claim15_total , claim16_total]\n",
    "\n",
    "plt.bar(ind , hieghts, width  = width, color = colors)\n",
    "#plt.xticks([200000, 400000] , [2015,2016])\n",
    "plt.show\n",
    "plt.savefig(fname = '../Presentation/graphs/opioid_claims_national.png' )"
   ]
  },
  {
   "cell_type": "code",
   "execution_count": 56,
   "metadata": {},
   "outputs": [
    {
     "name": "stdout",
     "output_type": "stream",
     "text": [
      "7.188888513320408\n"
     ]
    }
   ],
   "source": [
    "claimer3 = op_final_15.groupby(op_final_15['State']).mean()\n",
    "claimer3\n",
    "claim1_total = claimer3['Opioid Prescribing Rate'].mean()\n",
    "print(claim1_total)"
   ]
  },
  {
   "cell_type": "code",
   "execution_count": 57,
   "metadata": {},
   "outputs": [
    {
     "name": "stdout",
     "output_type": "stream",
     "text": [
      "7.596441278894313\n"
     ]
    }
   ],
   "source": [
    "claimer4 = op_final_16.groupby(op_final_16['State']).mean()\n",
    "claimer4\n",
    "claim2_total = claimer4['Opioid Prescribing Rate'].mean()\n",
    "print(claim2_total)"
   ]
  },
  {
   "cell_type": "code",
   "execution_count": 58,
   "metadata": {},
   "outputs": [
    {
     "data": {
      "image/png": "[encoded data removed]",
      "text/plain": [
       "<Figure size 432x288 with 1 Axes>"
      ]
     },
     "metadata": {
      "needs_background": "light"
     },
     "output_type": "display_data"
    }
   ],
   "source": [
    "fig , ax = plt.subplots()\n",
    "ind = [2015 , 2016]\n",
    "width = .5\n",
    "ax.set_xticks(ind)\n",
    "ax.set_xticklabels([2015 , 2016])\n",
    "ax.set_ylabel('Opioid Claims per 100 Prescriptions')\n",
    "ax.set_title('Opioid Claim Rate 2015-2016')\n",
    "colors = ['blue' , 'red']\n",
    "hieghts = [claim1_total , claim2_total]\n",
    "ind = [2015 , 2016]\n",
    "width = .5\n",
    "\n",
    "plt.bar(ind , hieghts, width  = width, color = colors)\n",
    "#plt.xticks([200000, 400000] , [2015,2016])\n",
    "plt.show\n",
    "plt.savefig(fname = '../Presentation/graphs/opioid_rate_national.png' )"
   ]
  }
 ],
 "metadata": {
  "kernelspec": {
   "display_name": "Python 3",
   "language": "python",
   "name": "python3"
  },
  "language_info": {
   "codemirror_mode": {
    "name": "ipython",
    "version": 3
   },
   "file_extension": ".py",
   "mimetype": "text/x-python",
   "name": "python",
   "nbconvert_exporter": "python",
   "pygments_lexer": "ipython3",
   "version": "3.7.1"
  }
 },
 "nbformat": 4,
 "nbformat_minor": 2
}

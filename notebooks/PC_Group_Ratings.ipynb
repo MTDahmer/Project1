{
 "cells": [
  {
   "cell_type": "code",
   "execution_count": 1,
   "metadata": {},
   "outputs": [],
   "source": [
    "import pandas as pd\n",
    "import csv\n",
    "import matplotlib.pyplot as plt"
   ]
  },
  {
   "cell_type": "code",
   "execution_count": 2,
   "metadata": {},
   "outputs": [],
   "source": [
    "group_file = \"../Presentation/Clean/pcgroup_merged.csv\"\n",
    "\n",
    "pc_groupdf = pd.read_csv(group_file)"
   ]
  },
  {
   "cell_type": "code",
   "execution_count": 3,
   "metadata": {},
   "outputs": [
    {
     "data": {
      "text/html": [
       "<div>\n",
       "<style scoped>\n",
       "    .dataframe tbody tr th:only-of-type {\n",
       "        vertical-align: middle;\n",
       "    }\n",
       "\n",
       "    .dataframe tbody tr th {\n",
       "        vertical-align: top;\n",
       "    }\n",
       "\n",
       "    .dataframe thead th {\n",
       "        text-align: right;\n",
       "    }\n",
       "</style>\n",
       "<table border=\"1\" class=\"dataframe\">\n",
       "  <thead>\n",
       "    <tr style=\"text-align: right;\">\n",
       "      <th></th>\n",
       "      <th>Group Name</th>\n",
       "      <th>Group PAC ID</th>\n",
       "      <th>Measure Performance Rate</th>\n",
       "      <th>Measure Title</th>\n",
       "      <th>State</th>\n",
       "      <th>Year</th>\n",
       "    </tr>\n",
       "  </thead>\n",
       "  <tbody>\n",
       "    <tr>\n",
       "      <th>0</th>\n",
       "      <td>HERITAGE VALLEY MEDICAL GROUP INC</td>\n",
       "      <td>42105678</td>\n",
       "      <td>64.0</td>\n",
       "      <td>Getting timely care, appointments, and informa...</td>\n",
       "      <td>PA</td>\n",
       "      <td>2016</td>\n",
       "    </tr>\n",
       "    <tr>\n",
       "      <th>1</th>\n",
       "      <td>HERITAGE VALLEY MEDICAL GROUP INC</td>\n",
       "      <td>42105678</td>\n",
       "      <td>53.0</td>\n",
       "      <td>Between visit communication.</td>\n",
       "      <td>PA</td>\n",
       "      <td>2016</td>\n",
       "    </tr>\n",
       "    <tr>\n",
       "      <th>2</th>\n",
       "      <td>HERITAGE VALLEY MEDICAL GROUP INC</td>\n",
       "      <td>42105678</td>\n",
       "      <td>27.0</td>\n",
       "      <td>Attention to patient medicine cost.</td>\n",
       "      <td>PA</td>\n",
       "      <td>2016</td>\n",
       "    </tr>\n",
       "    <tr>\n",
       "      <th>3</th>\n",
       "      <td>HERITAGE VALLEY MEDICAL GROUP INC</td>\n",
       "      <td>42105678</td>\n",
       "      <td>89.0</td>\n",
       "      <td>How well clinicians communicate.</td>\n",
       "      <td>PA</td>\n",
       "      <td>2016</td>\n",
       "    </tr>\n",
       "    <tr>\n",
       "      <th>4</th>\n",
       "      <td>HERITAGE VALLEY MEDICAL GROUP INC</td>\n",
       "      <td>42105678</td>\n",
       "      <td>87.0</td>\n",
       "      <td>Patients' rating of clinicians.</td>\n",
       "      <td>PA</td>\n",
       "      <td>2016</td>\n",
       "    </tr>\n",
       "  </tbody>\n",
       "</table>\n",
       "</div>"
      ],
      "text/plain": [
       "                          Group Name  Group PAC ID  Measure Performance Rate  \\\n",
       "0  HERITAGE VALLEY MEDICAL GROUP INC      42105678                      64.0   \n",
       "1  HERITAGE VALLEY MEDICAL GROUP INC      42105678                      53.0   \n",
       "2  HERITAGE VALLEY MEDICAL GROUP INC      42105678                      27.0   \n",
       "3  HERITAGE VALLEY MEDICAL GROUP INC      42105678                      89.0   \n",
       "4  HERITAGE VALLEY MEDICAL GROUP INC      42105678                      87.0   \n",
       "\n",
       "                                       Measure Title State  Year  \n",
       "0  Getting timely care, appointments, and informa...    PA  2016  \n",
       "1                       Between visit communication.    PA  2016  \n",
       "2                Attention to patient medicine cost.    PA  2016  \n",
       "3                   How well clinicians communicate.    PA  2016  \n",
       "4                    Patients' rating of clinicians.    PA  2016  "
      ]
     },
     "execution_count": 3,
     "metadata": {},
     "output_type": "execute_result"
    }
   ],
   "source": [
    "pc_groupdf.head()"
   ]
  },
  {
   "cell_type": "code",
   "execution_count": 10,
   "metadata": {},
   "outputs": [],
   "source": [
    "avg_rating = pc_groupdf.groupby(\"Group PAC ID\")[[\"Measure Performance Rate\"]].mean()"
   ]
  },
  {
   "cell_type": "code",
   "execution_count": 11,
   "metadata": {},
   "outputs": [
    {
     "data": {
      "text/html": [
       "<div>\n",
       "<style scoped>\n",
       "    .dataframe tbody tr th:only-of-type {\n",
       "        vertical-align: middle;\n",
       "    }\n",
       "\n",
       "    .dataframe tbody tr th {\n",
       "        vertical-align: top;\n",
       "    }\n",
       "\n",
       "    .dataframe thead th {\n",
       "        text-align: right;\n",
       "    }\n",
       "</style>\n",
       "<table border=\"1\" class=\"dataframe\">\n",
       "  <thead>\n",
       "    <tr style=\"text-align: right;\">\n",
       "      <th></th>\n",
       "      <th>Measure Performance Rate</th>\n",
       "    </tr>\n",
       "    <tr>\n",
       "      <th>Group PAC ID</th>\n",
       "      <th></th>\n",
       "    </tr>\n",
       "  </thead>\n",
       "  <tbody>\n",
       "    <tr>\n",
       "      <th>42105678</th>\n",
       "      <td>66.7500</td>\n",
       "    </tr>\n",
       "    <tr>\n",
       "      <th>42111981</th>\n",
       "      <td>60.7500</td>\n",
       "    </tr>\n",
       "    <tr>\n",
       "      <th>42122244</th>\n",
       "      <td>64.2500</td>\n",
       "    </tr>\n",
       "    <tr>\n",
       "      <th>42128548</th>\n",
       "      <td>65.6875</td>\n",
       "    </tr>\n",
       "    <tr>\n",
       "      <th>143116053</th>\n",
       "      <td>65.3750</td>\n",
       "    </tr>\n",
       "  </tbody>\n",
       "</table>\n",
       "</div>"
      ],
      "text/plain": [
       "              Measure Performance Rate\n",
       "Group PAC ID                          \n",
       "42105678                       66.7500\n",
       "42111981                       60.7500\n",
       "42122244                       64.2500\n",
       "42128548                       65.6875\n",
       "143116053                      65.3750"
      ]
     },
     "execution_count": 11,
     "metadata": {},
     "output_type": "execute_result"
    }
   ],
   "source": [
    "avg_rating.head()"
   ]
  },
  {
   "cell_type": "code",
   "execution_count": null,
   "metadata": {},
   "outputs": [],
   "source": []
  }
 ],
 "metadata": {
  "kernelspec": {
   "display_name": "Python 3",
   "language": "python",
   "name": "python3"
  },
  "language_info": {
   "codemirror_mode": {
    "name": "ipython",
    "version": 3
   },
   "file_extension": ".py",
   "mimetype": "text/x-python",
   "name": "python",
   "nbconvert_exporter": "python",
   "pygments_lexer": "ipython3",
   "version": "3.7.1"
  }
 },
 "nbformat": 4,
 "nbformat_minor": 2
}

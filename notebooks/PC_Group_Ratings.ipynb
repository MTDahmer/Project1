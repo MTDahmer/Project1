{
 "cells": [
  {
   "cell_type": "code",
   "execution_count": 1,
   "metadata": {},
   "outputs": [],
   "source": [
    "import pandas as pd\n",
    "import csv\n",
    "import matplotlib.pyplot as plt"
   ]
  },
  {
   "cell_type": "code",
   "execution_count": 9,
   "metadata": {},
   "outputs": [],
   "source": [
    "group_file = \"../Presentation/Clean/pcgroup_merged.csv\"\n",
    "group_15 = \"../Presentation/Clean/pcgroup_15.csv\"\n",
    "group_16 = \"../Presentation/Clean/pcgroup_16.csv\"\n",
    "opioid_15 = \"../Presentation/Clean/op_final_15.csv\"\n",
    "opioid_16 = \"../Presentation/Clean/op_final_16.csv\"\n",
    "\n",
    "\n",
    "\n",
    "\n",
    "pc_groupdf = pd.read_csv(group_file)\n",
    "pc_group15df = pd.read_csv(group_15)\n",
    "pc_group16df = pd.read_csv(group_16)\n",
    "opioid_15df = pd.read_csv(opioid_15)\n",
    "opioid_16df = pd.read_csv(opioid_16)"
   ]
  },
  {
   "cell_type": "code",
   "execution_count": 4,
   "metadata": {},
   "outputs": [],
   "source": [
    "#pc_groupdf.head()"
   ]
  },
  {
   "cell_type": "code",
   "execution_count": 5,
   "metadata": {},
   "outputs": [],
   "source": [
    "#avg_rating = pc_groupdf.groupby(\"Group PAC ID\")[[\"Measure Performance Rate\"]].mean()"
   ]
  },
  {
   "cell_type": "code",
   "execution_count": 6,
   "metadata": {},
   "outputs": [],
   "source": [
    "#avg_rating.head()"
   ]
  },
  {
   "cell_type": "code",
   "execution_count": 10,
   "metadata": {},
   "outputs": [
    {
     "data": {
      "text/html": [
       "<div>\n",
       "<style scoped>\n",
       "    .dataframe tbody tr th:only-of-type {\n",
       "        vertical-align: middle;\n",
       "    }\n",
       "\n",
       "    .dataframe tbody tr th {\n",
       "        vertical-align: top;\n",
       "    }\n",
       "\n",
       "    .dataframe thead th {\n",
       "        text-align: right;\n",
       "    }\n",
       "</style>\n",
       "<table border=\"1\" class=\"dataframe\">\n",
       "  <thead>\n",
       "    <tr style=\"text-align: right;\">\n",
       "      <th></th>\n",
       "      <th>NPI</th>\n",
       "      <th>Provider Last Name</th>\n",
       "      <th>Provider First Name</th>\n",
       "      <th>Zip Code</th>\n",
       "      <th>State</th>\n",
       "      <th>Specialty</th>\n",
       "      <th>Total Claim Count</th>\n",
       "      <th>Opioid Claim Count</th>\n",
       "      <th>Opioid Prescribing Rate</th>\n",
       "      <th>PAC ID</th>\n",
       "      <th>Year</th>\n",
       "    </tr>\n",
       "  </thead>\n",
       "  <tbody>\n",
       "    <tr>\n",
       "      <th>0</th>\n",
       "      <td>1003000407</td>\n",
       "      <td>GIRARDI</td>\n",
       "      <td>DAVID</td>\n",
       "      <td>15825.0</td>\n",
       "      <td>PA</td>\n",
       "      <td>Family Practice</td>\n",
       "      <td>1388.0</td>\n",
       "      <td>26.0</td>\n",
       "      <td>1.873199</td>\n",
       "      <td>2.769664e+09</td>\n",
       "      <td>2015.0</td>\n",
       "    </tr>\n",
       "    <tr>\n",
       "      <th>1</th>\n",
       "      <td>1003002932</td>\n",
       "      <td>GALUSKA</td>\n",
       "      <td>MICHAEL</td>\n",
       "      <td>92055.0</td>\n",
       "      <td>CA</td>\n",
       "      <td>Emergency Medicine</td>\n",
       "      <td>97.0</td>\n",
       "      <td>20.0</td>\n",
       "      <td>20.618557</td>\n",
       "      <td>9.739345e+09</td>\n",
       "      <td>2015.0</td>\n",
       "    </tr>\n",
       "    <tr>\n",
       "      <th>2</th>\n",
       "      <td>1003003856</td>\n",
       "      <td>SANTIAGO</td>\n",
       "      <td>CYNTHIA</td>\n",
       "      <td>11776.0</td>\n",
       "      <td>NY</td>\n",
       "      <td>Family Practice</td>\n",
       "      <td>2741.0</td>\n",
       "      <td>28.0</td>\n",
       "      <td>1.021525</td>\n",
       "      <td>6.305813e+09</td>\n",
       "      <td>2015.0</td>\n",
       "    </tr>\n",
       "    <tr>\n",
       "      <th>3</th>\n",
       "      <td>1003006503</td>\n",
       "      <td>JEGEDE</td>\n",
       "      <td>OLUGBEMIGA</td>\n",
       "      <td>48503.0</td>\n",
       "      <td>MI</td>\n",
       "      <td>Internal Medicine</td>\n",
       "      <td>1606.0</td>\n",
       "      <td>86.0</td>\n",
       "      <td>5.354919</td>\n",
       "      <td>1.951572e+09</td>\n",
       "      <td>2015.0</td>\n",
       "    </tr>\n",
       "    <tr>\n",
       "      <th>4</th>\n",
       "      <td>1003007295</td>\n",
       "      <td>UZOWULU</td>\n",
       "      <td>OBINNA</td>\n",
       "      <td>78261.0</td>\n",
       "      <td>TX</td>\n",
       "      <td>Family Practice</td>\n",
       "      <td>237.0</td>\n",
       "      <td>21.0</td>\n",
       "      <td>8.860759</td>\n",
       "      <td>5.395939e+09</td>\n",
       "      <td>2015.0</td>\n",
       "    </tr>\n",
       "  </tbody>\n",
       "</table>\n",
       "</div>"
      ],
      "text/plain": [
       "          NPI Provider Last Name Provider First Name  Zip Code State  \\\n",
       "0  1003000407            GIRARDI               DAVID   15825.0    PA   \n",
       "1  1003002932            GALUSKA             MICHAEL   92055.0    CA   \n",
       "2  1003003856           SANTIAGO             CYNTHIA   11776.0    NY   \n",
       "3  1003006503             JEGEDE          OLUGBEMIGA   48503.0    MI   \n",
       "4  1003007295            UZOWULU              OBINNA   78261.0    TX   \n",
       "\n",
       "            Specialty  Total Claim Count  Opioid Claim Count  \\\n",
       "0     Family Practice             1388.0                26.0   \n",
       "1  Emergency Medicine               97.0                20.0   \n",
       "2     Family Practice             2741.0                28.0   \n",
       "3   Internal Medicine             1606.0                86.0   \n",
       "4     Family Practice              237.0                21.0   \n",
       "\n",
       "   Opioid Prescribing Rate        PAC ID    Year  \n",
       "0                 1.873199  2.769664e+09  2015.0  \n",
       "1                20.618557  9.739345e+09  2015.0  \n",
       "2                 1.021525  6.305813e+09  2015.0  \n",
       "3                 5.354919  1.951572e+09  2015.0  \n",
       "4                 8.860759  5.395939e+09  2015.0  "
      ]
     },
     "execution_count": 10,
     "metadata": {},
     "output_type": "execute_result"
    }
   ],
   "source": [
    "opioid_15df.head()"
   ]
  },
  {
   "cell_type": "code",
   "execution_count": 27,
   "metadata": {},
   "outputs": [],
   "source": [
    "opioid_15df[\"PAC ID\"] =  opioid_15df[\"PAC ID\"].astype(float).astype(int)"
   ]
  },
  {
   "cell_type": "code",
   "execution_count": 28,
   "metadata": {},
   "outputs": [
    {
     "data": {
      "text/plain": [
       "NPI                          int64\n",
       "Provider Last Name          object\n",
       "Provider First Name         object\n",
       "Zip Code                   float64\n",
       "State                       object\n",
       "Specialty                   object\n",
       "Total Claim Count          float64\n",
       "Opioid Claim Count         float64\n",
       "Opioid Prescribing Rate    float64\n",
       "PAC ID                       int32\n",
       "Year                       float64\n",
       "dtype: object"
      ]
     },
     "execution_count": 28,
     "metadata": {},
     "output_type": "execute_result"
    }
   ],
   "source": [
    "opioid_15df.dtypes"
   ]
  },
  {
   "cell_type": "code",
   "execution_count": 29,
   "metadata": {},
   "outputs": [],
   "source": [
    "opioid_15_pac = pd.DataFrame(opioid_15df.groupby([\"PAC ID\"])[\"Total Claim Count\"].sum())\n",
    "#opioid_15_pac[\"PAC ID\"] = opioid_15_pac[\"PAC ID\"]"
   ]
  },
  {
   "cell_type": "code",
   "execution_count": 31,
   "metadata": {},
   "outputs": [
    {
     "data": {
      "text/html": [
       "<div>\n",
       "<style scoped>\n",
       "    .dataframe tbody tr th:only-of-type {\n",
       "        vertical-align: middle;\n",
       "    }\n",
       "\n",
       "    .dataframe tbody tr th {\n",
       "        vertical-align: top;\n",
       "    }\n",
       "\n",
       "    .dataframe thead th {\n",
       "        text-align: right;\n",
       "    }\n",
       "</style>\n",
       "<table border=\"1\" class=\"dataframe\">\n",
       "  <thead>\n",
       "    <tr style=\"text-align: right;\">\n",
       "      <th></th>\n",
       "      <th>Total Claim Count</th>\n",
       "    </tr>\n",
       "    <tr>\n",
       "      <th>PAC ID</th>\n",
       "      <th></th>\n",
       "    </tr>\n",
       "  </thead>\n",
       "  <tbody>\n",
       "    <tr>\n",
       "      <th>-2147483648</th>\n",
       "      <td>34157478.0</td>\n",
       "    </tr>\n",
       "    <tr>\n",
       "      <th>42100190</th>\n",
       "      <td>241.0</td>\n",
       "    </tr>\n",
       "    <tr>\n",
       "      <th>42100273</th>\n",
       "      <td>232.0</td>\n",
       "    </tr>\n",
       "    <tr>\n",
       "      <th>42101156</th>\n",
       "      <td>620.0</td>\n",
       "    </tr>\n",
       "    <tr>\n",
       "      <th>42101164</th>\n",
       "      <td>336.0</td>\n",
       "    </tr>\n",
       "  </tbody>\n",
       "</table>\n",
       "</div>"
      ],
      "text/plain": [
       "             Total Claim Count\n",
       "PAC ID                        \n",
       "-2147483648         34157478.0\n",
       " 42100190                241.0\n",
       " 42100273                232.0\n",
       " 42101156                620.0\n",
       " 42101164                336.0"
      ]
     },
     "execution_count": 31,
     "metadata": {},
     "output_type": "execute_result"
    }
   ],
   "source": [
    "opioid_15_pac.head()"
   ]
  },
  {
   "cell_type": "code",
   "execution_count": 11,
   "metadata": {},
   "outputs": [
    {
     "data": {
      "text/html": [
       "<div>\n",
       "<style scoped>\n",
       "    .dataframe tbody tr th:only-of-type {\n",
       "        vertical-align: middle;\n",
       "    }\n",
       "\n",
       "    .dataframe tbody tr th {\n",
       "        vertical-align: top;\n",
       "    }\n",
       "\n",
       "    .dataframe thead th {\n",
       "        text-align: right;\n",
       "    }\n",
       "</style>\n",
       "<table border=\"1\" class=\"dataframe\">\n",
       "  <thead>\n",
       "    <tr style=\"text-align: right;\">\n",
       "      <th></th>\n",
       "      <th>Group Name</th>\n",
       "      <th>Group PAC ID</th>\n",
       "      <th>State</th>\n",
       "      <th>Measure Title</th>\n",
       "      <th>Measure Performance Rate</th>\n",
       "      <th>Year</th>\n",
       "    </tr>\n",
       "  </thead>\n",
       "  <tbody>\n",
       "    <tr>\n",
       "      <th>0</th>\n",
       "      <td>HERITAGE VALLEY MEDICAL GROUP INC</td>\n",
       "      <td>42105678</td>\n",
       "      <td>PA</td>\n",
       "      <td>Getting timely care, appointments, and informa...</td>\n",
       "      <td>63.0</td>\n",
       "      <td>2015</td>\n",
       "    </tr>\n",
       "    <tr>\n",
       "      <th>1</th>\n",
       "      <td>HERITAGE VALLEY MEDICAL GROUP INC</td>\n",
       "      <td>42105678</td>\n",
       "      <td>PA</td>\n",
       "      <td>Between visit communication.</td>\n",
       "      <td>49.0</td>\n",
       "      <td>2015</td>\n",
       "    </tr>\n",
       "    <tr>\n",
       "      <th>2</th>\n",
       "      <td>HERITAGE VALLEY MEDICAL GROUP INC</td>\n",
       "      <td>42105678</td>\n",
       "      <td>PA</td>\n",
       "      <td>Attention to patient medication cost.</td>\n",
       "      <td>27.0</td>\n",
       "      <td>2015</td>\n",
       "    </tr>\n",
       "    <tr>\n",
       "      <th>3</th>\n",
       "      <td>HERITAGE VALLEY MEDICAL GROUP INC</td>\n",
       "      <td>42105678</td>\n",
       "      <td>PA</td>\n",
       "      <td>How well clinicians communicate.</td>\n",
       "      <td>86.0</td>\n",
       "      <td>2015</td>\n",
       "    </tr>\n",
       "    <tr>\n",
       "      <th>4</th>\n",
       "      <td>HERITAGE VALLEY MEDICAL GROUP INC</td>\n",
       "      <td>42105678</td>\n",
       "      <td>PA</td>\n",
       "      <td>Patients' rating of clinicians.</td>\n",
       "      <td>83.0</td>\n",
       "      <td>2015</td>\n",
       "    </tr>\n",
       "  </tbody>\n",
       "</table>\n",
       "</div>"
      ],
      "text/plain": [
       "                          Group Name  Group PAC ID  State  \\\n",
       "0  HERITAGE VALLEY MEDICAL GROUP INC      42105678     PA   \n",
       "1  HERITAGE VALLEY MEDICAL GROUP INC      42105678     PA   \n",
       "2  HERITAGE VALLEY MEDICAL GROUP INC      42105678     PA   \n",
       "3  HERITAGE VALLEY MEDICAL GROUP INC      42105678     PA   \n",
       "4  HERITAGE VALLEY MEDICAL GROUP INC      42105678     PA   \n",
       "\n",
       "                                       Measure Title  \\\n",
       "0  Getting timely care, appointments, and informa...   \n",
       "1                       Between visit communication.   \n",
       "2              Attention to patient medication cost.   \n",
       "3                   How well clinicians communicate.   \n",
       "4                    Patients' rating of clinicians.   \n",
       "\n",
       "   Measure Performance Rate  Year  \n",
       "0                      63.0  2015  \n",
       "1                      49.0  2015  \n",
       "2                      27.0  2015  \n",
       "3                      86.0  2015  \n",
       "4                      83.0  2015  "
      ]
     },
     "execution_count": 11,
     "metadata": {},
     "output_type": "execute_result"
    }
   ],
   "source": [
    "pc_group15df.head()\n"
   ]
  },
  {
   "cell_type": "code",
   "execution_count": 26,
   "metadata": {},
   "outputs": [
    {
     "data": {
      "text/plain": [
       "Group Name                   object\n",
       "Group PAC ID                  int64\n",
       " State                       object\n",
       "Measure Title                object\n",
       "Measure Performance Rate    float64\n",
       "Year                          int64\n",
       "dtype: object"
      ]
     },
     "execution_count": 26,
     "metadata": {},
     "output_type": "execute_result"
    }
   ],
   "source": [
    "pc_group15df.dtypes"
   ]
  },
  {
   "cell_type": "code",
   "execution_count": 16,
   "metadata": {},
   "outputs": [],
   "source": [
    "pc_group_pac15 = pd.DataFrame(pc_group15df.groupby([\"Group PAC ID\"]).mean())"
   ]
  },
  {
   "cell_type": "code",
   "execution_count": 18,
   "metadata": {},
   "outputs": [
    {
     "data": {
      "text/html": [
       "<div>\n",
       "<style scoped>\n",
       "    .dataframe tbody tr th:only-of-type {\n",
       "        vertical-align: middle;\n",
       "    }\n",
       "\n",
       "    .dataframe tbody tr th {\n",
       "        vertical-align: top;\n",
       "    }\n",
       "\n",
       "    .dataframe thead th {\n",
       "        text-align: right;\n",
       "    }\n",
       "</style>\n",
       "<table border=\"1\" class=\"dataframe\">\n",
       "  <thead>\n",
       "    <tr style=\"text-align: right;\">\n",
       "      <th></th>\n",
       "      <th>Measure Performance Rate</th>\n",
       "      <th>Year</th>\n",
       "    </tr>\n",
       "    <tr>\n",
       "      <th>Group PAC ID</th>\n",
       "      <th></th>\n",
       "      <th></th>\n",
       "    </tr>\n",
       "  </thead>\n",
       "  <tbody>\n",
       "    <tr>\n",
       "      <th>42105678</th>\n",
       "      <td>65.875</td>\n",
       "      <td>2015</td>\n",
       "    </tr>\n",
       "    <tr>\n",
       "      <th>42111981</th>\n",
       "      <td>60.750</td>\n",
       "      <td>2015</td>\n",
       "    </tr>\n",
       "    <tr>\n",
       "      <th>42128548</th>\n",
       "      <td>65.125</td>\n",
       "      <td>2015</td>\n",
       "    </tr>\n",
       "    <tr>\n",
       "      <th>143378117</th>\n",
       "      <td>67.375</td>\n",
       "      <td>2015</td>\n",
       "    </tr>\n",
       "    <tr>\n",
       "      <th>244133494</th>\n",
       "      <td>65.625</td>\n",
       "      <td>2015</td>\n",
       "    </tr>\n",
       "  </tbody>\n",
       "</table>\n",
       "</div>"
      ],
      "text/plain": [
       "              Measure Performance Rate  Year\n",
       "Group PAC ID                                \n",
       "42105678                        65.875  2015\n",
       "42111981                        60.750  2015\n",
       "42128548                        65.125  2015\n",
       "143378117                       67.375  2015\n",
       "244133494                       65.625  2015"
      ]
     },
     "execution_count": 18,
     "metadata": {},
     "output_type": "execute_result"
    }
   ],
   "source": [
    "pc_group_pac15.head()"
   ]
  },
  {
   "cell_type": "code",
   "execution_count": null,
   "metadata": {},
   "outputs": [],
   "source": []
  }
 ],
 "metadata": {
  "kernelspec": {
   "display_name": "Python 3",
   "language": "python",
   "name": "python3"
  },
  "language_info": {
   "codemirror_mode": {
    "name": "ipython",
    "version": 3
   },
   "file_extension": ".py",
   "mimetype": "text/x-python",
   "name": "python",
   "nbconvert_exporter": "python",
   "pygments_lexer": "ipython3",
   "version": "3.7.1"
  }
 },
 "nbformat": 4,
 "nbformat_minor": 2
}

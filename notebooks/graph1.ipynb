{
 "cells": [
  {
   "cell_type": "code",
   "execution_count": 1,
   "metadata": {},
   "outputs": [],
   "source": [
    "import pandas as pd\n",
    "import csv\n",
    "import matplotlib.pyplot as plt\n",
    "import os\n",
    "import sys\n",
    "import seaborn as sns\n",
    "import numpy as np\n",
    "csv1 = '../Presentation/clean/cleaned_overdose.csv'\n",
    "csv2 = '../Presentation/clean/op_final_15.csv'\n",
    "csv3 = '../Presentation/clean/op_final_16.csv'\n",
    "csv4 = '../Presentation/clean/pcgroup_15.csv'\n",
    "csv5 = '../Presentation/clean/pcgroup_16.csv'\n",
    "csv6 = '../Presentation/clean/clean_od16.csv'\n",
    "csv7 = '../Presentation/clean/clean_od15.csv'\n",
    "\n",
    "clean_od = pd.read_csv(csv1)\n",
    "op_final_15 = pd.read_csv(csv2)\n",
    "op_final_16 = pd.read_csv(csv3)\n",
    "pcgroup_15 = pd.read_csv(csv4)\n",
    "pcgroup_16 = pd.read_csv(csv5)\n",
    "clean_od15 = pd.read_csv(csv7)\n",
    "clean_od16 = pd.read_csv(csv6)"
   ]
  },
  {
   "cell_type": "code",
   "execution_count": null,
   "metadata": {},
   "outputs": [],
   "source": []
  },
  {
   "cell_type": "code",
   "execution_count": 9,
   "metadata": {},
   "outputs": [
    {
     "name": "stdout",
     "output_type": "stream",
     "text": [
      "50\n"
     ]
    }
   ],
   "source": [
    "claimer2 = op_final_16.groupby(op_final_16['State']).sum()\n",
    "claimer2 = claimer2.drop(['NPI' , 'Zip Code' , 'PAC ID' , 'Opioid Prescribing Rate' ,'Year'] , axis = 1)\n",
    "#includes us territories\n",
    "claimer2\n",
    "claimer2_20 = claimer2.head(50)\n",
    "print(len(claimer2_20))"
   ]
  },
  {
   "cell_type": "code",
   "execution_count": 3,
   "metadata": {},
   "outputs": [
    {
     "name": "stdout",
     "output_type": "stream",
     "text": [
      "       Total Claim Count  Opioid Claim Count\n",
      "State                                       \n",
      "AK               22583.0              1560.0\n",
      "AL             1924680.0            145984.0\n",
      "AP                 103.0                21.0\n",
      "AR              742127.0             52842.0\n",
      "AZ              661498.0             50874.0\n",
      "CA             3486417.0            226791.0\n",
      "CO              579588.0             37298.0\n",
      "CT              180382.0              8906.0\n",
      "DC               16207.0               749.0\n",
      "DE               24076.0              2085.0\n",
      "FL             5026933.0            271470.0\n",
      "GA             1678738.0            111087.0\n",
      "GU               11389.0               280.0\n",
      "HI              170597.0              5768.0\n",
      "IA              170818.0              7873.0\n",
      "ID               60229.0              7704.0\n",
      "IL             1425373.0             76488.0\n",
      "IN              518564.0             32977.0\n",
      "KS              454044.0             29651.0\n",
      "KY              783345.0             61180.0\n",
      "LA             1664395.0             91480.0\n",
      "MA              694769.0             31119.0\n",
      "MD              416369.0             19852.0\n",
      "ME               30113.0              2505.0\n",
      "MI             1854242.0            148823.0\n",
      "MN              322988.0             18462.0\n",
      "MO             2029779.0            118593.0\n",
      "MS              416444.0             22552.0\n",
      "MT               26480.0              2442.0\n",
      "NC             1240553.0             75170.0\n",
      "ND               47710.0              1677.0\n",
      "NE              156353.0              9380.0\n",
      "NH               50290.0              2616.0\n",
      "NJ              636814.0             42106.0\n",
      "NM              272505.0             16513.0\n",
      "NV              296533.0             23610.0\n",
      "NY             2038263.0             64783.0\n",
      "OH             1520495.0             90532.0\n",
      "OK              586269.0             40484.0\n",
      "OR              417782.0             29659.0\n",
      "PA             3345082.0            153862.0\n",
      "PR               55643.0              1339.0\n",
      "RI              124186.0              4262.0\n",
      "SC              660593.0             52783.0\n",
      "SD               62806.0              3917.0\n",
      "TN             1231413.0             74594.0\n",
      "TX             3271139.0            201316.0\n",
      "UT               54622.0              4174.0\n",
      "VA              650459.0             40742.0\n",
      "VT                2387.0                81.0\n"
     ]
    }
   ],
   "source": [
    "claimer = op_final_15.groupby(op_final_15['State']).sum()\n",
    "claimer = claimer.drop(['NPI' , 'Zip Code' , 'PAC ID' ,'Opioid Prescribing Rate' , 'Year'] , axis = 1)\n",
    "#includes us territories\n",
    "claimer\n",
    "claimer_20 = claimer.head(50)\n",
    "print(claimer_20)\n"
   ]
  },
  {
   "cell_type": "code",
   "execution_count": 4,
   "metadata": {},
   "outputs": [
    {
     "name": "stdout",
     "output_type": "stream",
     "text": [
      "       Year.1  Total Deaths  Drug Deaths\n",
      "State                                   \n",
      "CA      24180       3056952        56001\n",
      "OH      24180       1416465        36893\n",
      "FL      24180       2318771        36892\n",
      "PA      24180       1605327        36077\n",
      "TX      24180       2289797        30794\n",
      "MI      24180       1134047        23417\n",
      "IL      24180       1253456        21218\n",
      "NY      24180       1181726        19990\n",
      "MA      24180        701311        17638\n",
      "NC      24180       1069879        17006\n",
      "TN      24180        838607        16367\n",
      "NJ      24180        857584        15849\n",
      "GA      24180        955205        15499\n",
      "AZ      24180        642297        14590\n",
      "IN      24180        759639        14427\n",
      "KY      24180        550060        14286\n",
      "MD      24180        566202        14101\n",
      "MO      24180        744471        13090\n",
      "WA      24180        643835        12643\n",
      "VA      24180        774031        11819\n",
      "CO      24180        441445        11091\n",
      "WI      24180        614301        10378\n",
      "LA      24180        530372         9800\n",
      "OK      24180        457525         8944\n",
      "AL      24180        607641         8818\n",
      "SC      24180        551089         8692\n",
      "CT      24180        366126         8451\n",
      "WV      24180        265538         8230\n",
      "UT      24180        212365         7433\n",
      "NV      24180        277736         7342\n",
      "MN      24180        512376         6669\n",
      "NM      24180        204766         6291\n",
      "OR      24180        422629         6129\n",
      "NH      24180        139941         4896\n",
      "AR      24180        368117         4616\n",
      "KS      24180        307848         3926\n",
      "MS      24180        367785         3907\n",
      "RI      24180        123866         3517\n",
      "IA      24180        353743         3471\n",
      "ME      24180        168991         2940\n",
      "ID      24180        153781         2570\n",
      "DE      24180        103231         2391\n",
      "HI      24180        133348         1884\n",
      "NE      24180        201792         1547\n",
      "MT      24180        116009         1527\n",
      "AK      24180         50086         1472\n",
      "DC      24180         68282         1447\n",
      "WY      24180         53812         1229\n",
      "VT      24180         68864         1094\n",
      "ND      24180         83522          799\n"
     ]
    }
   ],
   "source": [
    "tester1 = clean_od15.groupby(clean_od15['State']).sum()\n",
    "grapher1 = pd.DataFrame(tester1)\n",
    "#grapher2 = grapher2.drop(labels = 'Year.1' , axis = 1)\n",
    "grapher1 = grapher1.drop(labels = 'Year' , axis = 1)\n",
    "grapher1 = grapher1.drop(labels = 'US' , axis = 0)\n",
    "grapher1 = grapher1.sort_values('Drug Deaths' , ascending = False)\n",
    "grapher1_20 = grapher1.head(50)\n",
    "print(grapher1_20)"
   ]
  },
  {
   "cell_type": "code",
   "execution_count": 14,
   "metadata": {},
   "outputs": [
    {
     "name": "stdout",
     "output_type": "stream",
     "text": [
      "       Total Deaths  Drug Deaths\n",
      "State                           \n",
      "CA          3139581        57154\n",
      "FL          2360692        48380\n",
      "PA          1586270        45980\n",
      "OH          1415504        45503\n",
      "TX          2308662        32557\n",
      "IL          1240690        26227\n",
      "NY          1169431        24820\n",
      "MI          1123841        24245\n",
      "MA           686740        23951\n",
      "NC          1082087        21361\n",
      "MD           568857        20291\n",
      "NJ           846797        20055\n",
      "TN           845502        18632\n",
      "AZ           679217        16403\n",
      "IN           755967        16365\n",
      "KY           559117        16155\n",
      "GA           969526        15538\n",
      "MO           735070        14478\n",
      "VA           775307        14327\n",
      "WA           656102        13830\n",
      "WI           612995        11926\n",
      "LA           526179        11393\n",
      "CO           450894        11137\n",
      "CT           362773        10776\n",
      "WV           262060         9617\n",
      "SC           558101         9569\n",
      "OK           455459         8913\n",
      "NV           291104         8457\n",
      "UT           219344         8333\n",
      "AL           608611         8324\n",
      "MN           512281         7668\n",
      "OR           426884         6002\n",
      "NM           209960         5881\n",
      "NH           139496         5256\n",
      "AR           366574         4513\n",
      "RI           120927         3978\n",
      "MS           369589         3933\n",
      "ME           167830         3796\n",
      "KS           304518         3774\n",
      "IA           347398         3725\n",
      "DE           103860         2724\n",
      "ID           157810         2623\n",
      "DC            69250         2586\n",
      "HI           131591         2294\n",
      "AK            51141         1594\n",
      "MT           118846         1477\n",
      "NE           196435         1425\n",
      "VT            68688         1363\n",
      "WY            52723         1138\n",
      "ND            80487          828\n",
      "        Year  Year.1  Total Deaths  Drug Deaths\n",
      "State                                          \n",
      "AK     24192   24192         51141         1594\n",
      "AL     24192   24192        608611         8324\n",
      "AR     24192   24192        366574         4513\n",
      "AZ     24192   24192        679217        16403\n",
      "CA     24192   24192       3139581        57154\n",
      "CO     24192   24192        450894        11137\n",
      "CT     24192   24192        362773        10776\n",
      "DC     24192   24192         69250         2586\n",
      "DE     24192   24192        103860         2724\n",
      "FL     24192   24192       2360692        48380\n",
      "GA     24192   24192        969526        15538\n",
      "HI     24192   24192        131591         2294\n",
      "IA     24192   24192        347398         3725\n",
      "ID     24192   24192        157810         2623\n",
      "IL     24192   24192       1240690        26227\n",
      "IN     24192   24192        755967        16365\n",
      "KS     24192   24192        304518         3774\n",
      "KY     24192   24192        559117        16155\n",
      "LA     24192   24192        526179        11393\n",
      "MA     24192   24192        686740        23951\n",
      "MD     24192   24192        568857        20291\n",
      "ME     24192   24192        167830         3796\n",
      "MI     24192   24192       1123841        24245\n",
      "MN     24192   24192        512281         7668\n",
      "MO     24192   24192        735070        14478\n",
      "MS     24192   24192        369589         3933\n",
      "MT     24192   24192        118846         1477\n",
      "NC     24192   24192       1082087        21361\n",
      "ND     24192   24192         80487          828\n",
      "NE     24192   24192        196435         1425\n",
      "NH     24192   24192        139496         5256\n",
      "NJ     24192   24192        846797        20055\n",
      "NM     24192   24192        209960         5881\n",
      "NV     24192   24192        291104         8457\n",
      "NY     24192   24192       1169431        24820\n",
      "OH     24192   24192       1415504        45503\n",
      "OK     24192   24192        455459         8913\n",
      "OR     24192   24192        426884         6002\n",
      "PA     24192   24192       1586270        45980\n",
      "RI     24192   24192        120927         3978\n",
      "SC     24192   24192        558101         9569\n",
      "SD     24192   24192         94162          809\n",
      "TN     24192   24192        845502        18632\n",
      "TX     24192   24192       2308662        32557\n",
      "US     24192   24192      32586196       696602\n",
      "UT     24192   24192        219344         8333\n",
      "VA     24192   24192        775307        14327\n",
      "VT     24192   24192         68688         1363\n",
      "WA     24192   24192        656102        13830\n",
      "WI     24192   24192        612995        11926\n",
      "WV     24192   24192        262060         9617\n",
      "WY     24192   24192         52723         1138\n",
      "     Year State  Year.1      Month  Total Deaths  Drug Deaths\n",
      "0    2016    AK    2016    January          4213          126\n",
      "1    2016    AK    2016   February          4198          128\n",
      "2    2016    AK    2016      March          4230          125\n",
      "3    2016    AK    2016      April          4262          132\n",
      "4    2016    AK    2016        May          4241          140\n",
      "5    2016    AK    2016       June          4261          138\n",
      "6    2016    AK    2016       July          4269          143\n",
      "7    2016    AK    2016     August          4276          138\n",
      "8    2016    AK    2016  September          4256          131\n",
      "9    2016    AK    2016    October          4291          131\n",
      "10   2016    AK    2016   November          4289          133\n",
      "11   2016    AK    2016   December          4355          129\n",
      "12   2016    AL    2016    January         50534          706\n",
      "13   2016    AL    2016   February         50555          710\n",
      "14   2016    AL    2016      March         50348          681\n",
      "15   2016    AL    2016      April         50391          676\n",
      "16   2016    AL    2016        May         50511          654\n",
      "17   2016    AL    2016       June         50613          674\n",
      "18   2016    AL    2016       July         50683          681\n",
      "19   2016    AL    2016     August         50756          685\n",
      "20   2016    AL    2016  September         50810          695\n",
      "21   2016    AL    2016    October         50869          704\n",
      "22   2016    AL    2016   November         51110          718\n",
      "23   2016    AL    2016   December         51431          740\n",
      "24   2016    AR    2016    January         30624          378\n",
      "25   2016    AR    2016   February         30413          379\n",
      "26   2016    AR    2016      March         30421          363\n",
      "27   2016    AR    2016      April         30489          372\n",
      "28   2016    AR    2016        May         30361          376\n",
      "29   2016    AR    2016       June         30434          369\n",
      "..    ...   ...     ...        ...           ...          ...\n",
      "594  2016    WI    2016       July         51026         1004\n",
      "595  2016    WI    2016     August         51239         1054\n",
      "596  2016    WI    2016  September         51256         1056\n",
      "597  2016    WI    2016    October         51210         1062\n",
      "598  2016    WI    2016   November         51336         1066\n",
      "599  2016    WI    2016   December         51650         1079\n",
      "600  2016    WV    2016    January         21943          731\n",
      "601  2016    WV    2016   February         21824          755\n",
      "602  2016    WV    2016      March         21804          757\n",
      "603  2016    WV    2016      April         21727          764\n",
      "604  2016    WV    2016        May         21717          779\n",
      "605  2016    WV    2016       June         21817          804\n",
      "606  2016    WV    2016       July         21830          809\n",
      "607  2016    WV    2016     August         21807          821\n",
      "608  2016    WV    2016  September         21845          838\n",
      "609  2016    WV    2016    October         21840          824\n",
      "610  2016    WV    2016   November         21916          856\n",
      "611  2016    WV    2016   December         21990          879\n",
      "612  2016    WY    2016    January          4445           94\n",
      "613  2016    WY    2016   February          4454           90\n",
      "614  2016    WY    2016      March          4422           98\n",
      "615  2016    WY    2016      April          4379           93\n",
      "616  2016    WY    2016        May          4404           94\n",
      "617  2016    WY    2016       June          4430          101\n",
      "618  2016    WY    2016       July          4387           99\n",
      "619  2016    WY    2016     August          4395           95\n",
      "620  2016    WY    2016  September          4358           93\n",
      "621  2016    WY    2016    October          4365           94\n",
      "622  2016    WY    2016   November          4337           94\n",
      "623  2016    WY    2016   December          4347           93\n",
      "\n",
      "[624 rows x 6 columns]\n"
     ]
    }
   ],
   "source": [
    "tester2 = clean_od16.groupby(clean_od16['State']).sum()\n",
    "grapher2 = pd.DataFrame(tester2)\n",
    "grapher2 = grapher2.drop(labels = 'Year.1' , axis = 1)\n",
    "grapher2 = grapher2.drop(labels = 'Year' , axis = 1)\n",
    "grapher2 = grapher2.drop(labels = 'US' , axis = 0)\n",
    "grapher2 = grapher2.sort_values('Drug Deaths' , ascending = False)\n",
    "grapher2_20 = grapher2.head(50)\n",
    "print(grapher2_20)\n",
    "print(tester2)\n",
    "print(clean_od16)"
   ]
  },
  {
   "cell_type": "code",
   "execution_count": 15,
   "metadata": {},
   "outputs": [
    {
     "data": {
      "image/png": "[encoded data removed]",
      "text/plain": [
       "<Figure size 432x288 with 1 Axes>"
      ]
     },
     "metadata": {
      "needs_background": "light"
     },
     "output_type": "display_data"
    },
    {
     "data": {
      "text/plain": [
       "<Figure size 2880x720 with 0 Axes>"
      ]
     },
     "metadata": {},
     "output_type": "display_data"
    },
    {
     "data": {
      "text/plain": [
       "<Figure size 432x288 with 0 Axes>"
      ]
     },
     "metadata": {},
     "output_type": "display_data"
    }
   ],
   "source": [
    "plt.scatter( claimer_20['Opioid Claim Count'] , grapher1_20['Drug Deaths'])\n",
    "plt.figure(figsize=(40,10))\n",
    "plt.show()\n",
    "plt.savefig('../Presentation/graphs/Claim_vs_StateDeath.png')"
   ]
  },
  {
   "cell_type": "code",
   "execution_count": 7,
   "metadata": {},
   "outputs": [
    {
     "ename": "ValueError",
     "evalue": "x and y must be the same size",
     "output_type": "error",
     "traceback": [
      "\u001b[1;31m---------------------------------------------------------------------------\u001b[0m",
      "\u001b[1;31mValueError\u001b[0m                                Traceback (most recent call last)",
      "\u001b[1;32m<ipython-input-7-a2048526fcaf>\u001b[0m in \u001b[0;36m<module>\u001b[1;34m\u001b[0m\n\u001b[1;32m----> 1\u001b[1;33m \u001b[0mplt\u001b[0m\u001b[1;33m.\u001b[0m\u001b[0mscatter\u001b[0m\u001b[1;33m(\u001b[0m \u001b[0mclaimer2_20\u001b[0m\u001b[1;33m[\u001b[0m\u001b[1;34m'Opioid Claim Count'\u001b[0m\u001b[1;33m]\u001b[0m \u001b[1;33m,\u001b[0m \u001b[0mgrapher2_20\u001b[0m\u001b[1;33m[\u001b[0m\u001b[1;34m'Drug Deaths'\u001b[0m\u001b[1;33m]\u001b[0m\u001b[1;33m)\u001b[0m\u001b[1;33m\u001b[0m\u001b[1;33m\u001b[0m\u001b[0m\n\u001b[0m\u001b[0;32m      2\u001b[0m \u001b[0mplt\u001b[0m\u001b[1;33m.\u001b[0m\u001b[0mfigure\u001b[0m\u001b[1;33m(\u001b[0m\u001b[0mfigsize\u001b[0m\u001b[1;33m=\u001b[0m\u001b[1;33m(\u001b[0m\u001b[1;36m40\u001b[0m\u001b[1;33m,\u001b[0m\u001b[1;36m10\u001b[0m\u001b[1;33m)\u001b[0m\u001b[1;33m)\u001b[0m\u001b[1;33m\u001b[0m\u001b[1;33m\u001b[0m\u001b[0m\n\u001b[0;32m      3\u001b[0m \u001b[0mplt\u001b[0m\u001b[1;33m.\u001b[0m\u001b[0mshow\u001b[0m\u001b[1;33m(\u001b[0m\u001b[1;33m)\u001b[0m\u001b[1;33m\u001b[0m\u001b[1;33m\u001b[0m\u001b[0m\n\u001b[0;32m      4\u001b[0m \u001b[1;31m#plt.savefig('../Presentation/graphs/Claim_vs_StateDeath.png')\u001b[0m\u001b[1;33m\u001b[0m\u001b[1;33m\u001b[0m\u001b[1;33m\u001b[0m\u001b[0m\n",
      "\u001b[1;32m~\\Anaconda3\\lib\\site-packages\\matplotlib\\pyplot.py\u001b[0m in \u001b[0;36mscatter\u001b[1;34m(x, y, s, c, marker, cmap, norm, vmin, vmax, alpha, linewidths, verts, edgecolors, data, **kwargs)\u001b[0m\n\u001b[0;32m   2862\u001b[0m         \u001b[0mvmin\u001b[0m\u001b[1;33m=\u001b[0m\u001b[0mvmin\u001b[0m\u001b[1;33m,\u001b[0m \u001b[0mvmax\u001b[0m\u001b[1;33m=\u001b[0m\u001b[0mvmax\u001b[0m\u001b[1;33m,\u001b[0m \u001b[0malpha\u001b[0m\u001b[1;33m=\u001b[0m\u001b[0malpha\u001b[0m\u001b[1;33m,\u001b[0m \u001b[0mlinewidths\u001b[0m\u001b[1;33m=\u001b[0m\u001b[0mlinewidths\u001b[0m\u001b[1;33m,\u001b[0m\u001b[1;33m\u001b[0m\u001b[1;33m\u001b[0m\u001b[0m\n\u001b[0;32m   2863\u001b[0m         verts=verts, edgecolors=edgecolors, **({\"data\": data} if data\n\u001b[1;32m-> 2864\u001b[1;33m         is not None else {}), **kwargs)\n\u001b[0m\u001b[0;32m   2865\u001b[0m     \u001b[0msci\u001b[0m\u001b[1;33m(\u001b[0m\u001b[0m__ret\u001b[0m\u001b[1;33m)\u001b[0m\u001b[1;33m\u001b[0m\u001b[1;33m\u001b[0m\u001b[0m\n\u001b[0;32m   2866\u001b[0m     \u001b[1;32mreturn\u001b[0m \u001b[0m__ret\u001b[0m\u001b[1;33m\u001b[0m\u001b[1;33m\u001b[0m\u001b[0m\n",
      "\u001b[1;32m~\\Anaconda3\\lib\\site-packages\\matplotlib\\__init__.py\u001b[0m in \u001b[0;36minner\u001b[1;34m(ax, data, *args, **kwargs)\u001b[0m\n\u001b[0;32m   1808\u001b[0m                         \u001b[1;34m\"the Matplotlib list!)\"\u001b[0m \u001b[1;33m%\u001b[0m \u001b[1;33m(\u001b[0m\u001b[0mlabel_namer\u001b[0m\u001b[1;33m,\u001b[0m \u001b[0mfunc\u001b[0m\u001b[1;33m.\u001b[0m\u001b[0m__name__\u001b[0m\u001b[1;33m)\u001b[0m\u001b[1;33m,\u001b[0m\u001b[1;33m\u001b[0m\u001b[1;33m\u001b[0m\u001b[0m\n\u001b[0;32m   1809\u001b[0m                         RuntimeWarning, stacklevel=2)\n\u001b[1;32m-> 1810\u001b[1;33m             \u001b[1;32mreturn\u001b[0m \u001b[0mfunc\u001b[0m\u001b[1;33m(\u001b[0m\u001b[0max\u001b[0m\u001b[1;33m,\u001b[0m \u001b[1;33m*\u001b[0m\u001b[0margs\u001b[0m\u001b[1;33m,\u001b[0m \u001b[1;33m**\u001b[0m\u001b[0mkwargs\u001b[0m\u001b[1;33m)\u001b[0m\u001b[1;33m\u001b[0m\u001b[1;33m\u001b[0m\u001b[0m\n\u001b[0m\u001b[0;32m   1811\u001b[0m \u001b[1;33m\u001b[0m\u001b[0m\n\u001b[0;32m   1812\u001b[0m         inner.__doc__ = _add_data_doc(inner.__doc__,\n",
      "\u001b[1;32m~\\Anaconda3\\lib\\site-packages\\matplotlib\\axes\\_axes.py\u001b[0m in \u001b[0;36mscatter\u001b[1;34m(self, x, y, s, c, marker, cmap, norm, vmin, vmax, alpha, linewidths, verts, edgecolors, **kwargs)\u001b[0m\n\u001b[0;32m   4180\u001b[0m         \u001b[0my\u001b[0m \u001b[1;33m=\u001b[0m \u001b[0mnp\u001b[0m\u001b[1;33m.\u001b[0m\u001b[0mma\u001b[0m\u001b[1;33m.\u001b[0m\u001b[0mravel\u001b[0m\u001b[1;33m(\u001b[0m\u001b[0my\u001b[0m\u001b[1;33m)\u001b[0m\u001b[1;33m\u001b[0m\u001b[1;33m\u001b[0m\u001b[0m\n\u001b[0;32m   4181\u001b[0m         \u001b[1;32mif\u001b[0m \u001b[0mx\u001b[0m\u001b[1;33m.\u001b[0m\u001b[0msize\u001b[0m \u001b[1;33m!=\u001b[0m \u001b[0my\u001b[0m\u001b[1;33m.\u001b[0m\u001b[0msize\u001b[0m\u001b[1;33m:\u001b[0m\u001b[1;33m\u001b[0m\u001b[1;33m\u001b[0m\u001b[0m\n\u001b[1;32m-> 4182\u001b[1;33m             \u001b[1;32mraise\u001b[0m \u001b[0mValueError\u001b[0m\u001b[1;33m(\u001b[0m\u001b[1;34m\"x and y must be the same size\"\u001b[0m\u001b[1;33m)\u001b[0m\u001b[1;33m\u001b[0m\u001b[1;33m\u001b[0m\u001b[0m\n\u001b[0m\u001b[0;32m   4183\u001b[0m \u001b[1;33m\u001b[0m\u001b[0m\n\u001b[0;32m   4184\u001b[0m         \u001b[1;32mif\u001b[0m \u001b[0ms\u001b[0m \u001b[1;32mis\u001b[0m \u001b[1;32mNone\u001b[0m\u001b[1;33m:\u001b[0m\u001b[1;33m\u001b[0m\u001b[1;33m\u001b[0m\u001b[0m\n",
      "\u001b[1;31mValueError\u001b[0m: x and y must be the same size"
     ]
    },
    {
     "data": {
      "image/png": "[encoded data removed]",
      "text/plain": [
       "<Figure size 432x288 with 1 Axes>"
      ]
     },
     "metadata": {
      "needs_background": "light"
     },
     "output_type": "display_data"
    }
   ],
   "source": [
    "plt.scatter( claimer2_20['Opioid Claim Count'] , grapher2_20['Drug Deaths'])\n",
    "plt.figure(figsize=(40,10))\n",
    "plt.show()\n",
    "#plt.savefig('../Presentation/graphs/Claim_vs_StateDeath.png')"
   ]
  }
 ],
 "metadata": {
  "kernelspec": {
   "display_name": "Python 3",
   "language": "python",
   "name": "python3"
  },
  "language_info": {
   "codemirror_mode": {
    "name": "ipython",
    "version": 3
   },
   "file_extension": ".py",
   "mimetype": "text/x-python",
   "name": "python",
   "nbconvert_exporter": "python",
   "pygments_lexer": "ipython3",
   "version": "3.7.1"
  }
 },
 "nbformat": 4,
 "nbformat_minor": 2
}
